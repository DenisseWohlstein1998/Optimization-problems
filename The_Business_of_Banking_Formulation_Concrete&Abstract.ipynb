{
  "cells": [
    {
      "cell_type": "code",
      "source": [
        "import tensorflow as tf\n",
        "import pandas as pd\n",
        "import numpy as np\n",
        "import matplotlib.pyplot as plt\n",
        "\n",
        "import os\n",
        "\n",
        "from google.colab import drive\n",
        "drive.mount('/content/drive')"
      ],
      "metadata": {
        "id": "5O-zJvj80aar",
        "colab": {
          "base_uri": "https://localhost:8080/"
        },
        "outputId": "ecf1f51e-ffe6-4a12-ac04-f9058bbd329f"
      },
      "execution_count": null,
      "outputs": [
        {
          "output_type": "stream",
          "name": "stdout",
          "text": [
            "Mounted at /content/drive\n"
          ]
        }
      ],
      "id": "5O-zJvj80aar"
    },
    {
      "cell_type": "code",
      "source": [
        "os.getcwd()"
      ],
      "metadata": {
        "id": "62iX_ng6C2b9",
        "colab": {
          "base_uri": "https://localhost:8080/",
          "height": 35
        },
        "outputId": "e7d20ed6-467d-462f-e045-bfd47328ce89"
      },
      "execution_count": null,
      "outputs": [
        {
          "output_type": "execute_result",
          "data": {
            "text/plain": [
              "'/content'"
            ],
            "application/vnd.google.colaboratory.intrinsic+json": {
              "type": "string"
            }
          },
          "metadata": {},
          "execution_count": 3
        }
      ],
      "id": "62iX_ng6C2b9"
    },
    {
      "cell_type": "code",
      "source": [
        "images_path = '/content/drive/My Drive/DSO_570_Fall_2023/10_Intro_to_Optimization_Concrete_Formulation_and_CVXPY_The_Business_of_Banking_II/Images/'"
      ],
      "metadata": {
        "id": "QpQCPlxAC9g_"
      },
      "execution_count": null,
      "outputs": [],
      "id": "QpQCPlxAC9g_"
    },
    {
      "cell_type": "markdown",
      "id": "2b2a2398",
      "metadata": {
        "id": "2b2a2398"
      },
      "source": [
        "## Verbal Interpretation of an Optimal Planning for Regulated Banks\n",
        "<br>\n",
        "<font size=\"+1\">\n",
        "    <ul>\n",
        "        <li><b>Verbal Formulation/Description</b></li>\n",
        "        <br>\n",
        "        <li>As a starting point, we reduce a bank to its core activity, that is, <b>transforming short-term deposits into long-term loans.</b></li>\n",
        "        <br>\n",
        "        <li>This implies the balance sheet positions are <b>deposits</b>, D, and <b>loans</b>, L.</li>\n",
        "        <br>\n",
        "        <li>Loans may default, and deposits are exposed to early withdrawal.</li>\n",
        "        <br>\n",
        "        <ul>\n",
        "            <li>In order to buffer against possible losses due to defaults, banks hold <b>capital</b>, C - which could be capital raised from selling bonds or selling equity, as well as buying financial instruments that hedge losses.</li>\n",
        "            <br>\n",
        "            <li>In order to buffer against possible early withdrawls on the deposits, the bank holds <b>reserves</b>, R - which could be less risky investments.</li>\n",
        "            <br>\n",
        "        </ul>\n",
        "        <li>Together, the assets (<b>loans</b> and <b>reserves</b>) and liabilities (<b>deposits</b> and <b>capital</b>) make up this idealized bank's balance sheet.</li>\n",
        "        <br>\n",
        "        <li>In other words, total assets equal total liabilities</li>\n",
        "        <br>\n",
        "        <li><img src=\"Images/Bank_Simple_Balance_Sheet.png\" width=\"300\"></li>\n",
        "        <br>\n",
        "        <li><img src=\"https://cdn.corporatefinanceinstitute.com/assets/bank-balance-sheet.png\" width=\"500\"></li>\n",
        "        <br>\n",
        "        $\\rule{800pt}{10pt}$\n",
        "        <br>\n",
        "        <li>Banks operating under Basel III regulation have to maintain four key ratios above some parameters, which vary per-constraint and per-bank:</li>\n",
        "        <br>\n",
        "        <ol>\n",
        "            <li>a <b>capital ratio</b>, CR,</li>\n",
        "            <br>\n",
        "            <ul>\n",
        "                <li>which prevents your loans from being too large relative to your capital in order to hedge against defaults,</li>\n",
        "                <br>\n",
        "                <li>the <b>capital ratio</b> is defined as the ratio of capital to loans, and must stay above $0.3$,</li>\n",
        "                <br>\n",
        "            </ul>\n",
        "            <br>\n",
        "            <li>a <b>leverage ratio</b>, LR,</li>\n",
        "            <br>\n",
        "            <ul>\n",
        "                <li>which prevents your capital from from dropping too far below the total assets, i.e. prevents insolvency from asset value risk,</li>\n",
        "                <br>\n",
        "                <li>the <b>leverage ratio</b> is defined as the ratio of capital to total assets (which we can assume is $1$ by normalization), and must stay above $0.1$,</li>\n",
        "                <br>\n",
        "            </ul>\n",
        "            <li>a <b>liquidity coverage ratio</b>, LCR,</li>\n",
        "            <br>\n",
        "            <ul>\n",
        "                <li>which prevents early withdrawal of deposits, i.e. a run on the bank, and ensures you have enough reserves to handle early withdrawal,</li>\n",
        "                <br>\n",
        "                <li>the <b>liquidity coverage ratio</b> is defined as the ratio of reserves to deposits, and must stay above $0.25$,</li>\n",
        "                <br>\n",
        "            </ul>\n",
        "            <li>a <b>net stable funding ratio</b>, NSFR,</li>\n",
        "            <br>\n",
        "            <ul>\n",
        "                <li>which ensures loans will still be able to be made in the future, because not all the assets have been lent out, i.e. discourages over-lending,</li>\n",
        "                <br>\n",
        "                <li>the <b>net stable funding ratio</b> is defined as the ratio of some number ($0.3$) times deposits plus capital to loans; if that number is one, then the numerator is the total liabilities of the bank, and must stay above $0.7$.</li>\n",
        "                <br>\n",
        "            </ul>\n",
        "        </ol>\n",
        "        <br>\n",
        "        $\\rule{800pt}{10pt}$\n",
        "        <br>\n",
        "        <font color=\"blue\"><li style=\"color:blue\">We will also assume that the assets (liabilities) are in relative terms, that is, we normalize the total assets (total liabilities), which implies the total assets (total liabilities) sum to one.</li></font>\n",
        "        <br>\n",
        "        <ul style=\"color:blue\">\n",
        "            <font color=\"blue\"><li>In other words, the sum of deposits and capital is one and the sum of loans and reserves is one.</li>\n",
        "            <br>\n",
        "            <li>Equivalently, we can say that capital is one minus deposits and reserves is one minus loans.</li>\n",
        "            <br>\n",
        "            <li><b>This implies once we know the loans and deposits, we know the reserves and capital, and hence the whole balance sheet decomposition.</b></li>\n",
        "            <br>\n",
        "            <li>This is done for simplicity and convenience to help simplify the relations of the balance sheet variables.</li></font>\n",
        "            <br>\n",
        "        </ul>\n",
        "        <li>The minimum ratio parameters are computed for each bank and depend on the likelihood (probability) of default of its loans, that is, the riskiness of its loans, as well as the probability of early withdrawals on deposits - <b>this is where ML and predictive analytics is used.</b> </li>\n",
        "        <br>\n",
        "        <li>These numbers are defined in a way that attempts to prevent assets dropping too low, or liabilities becoming too costly.</li>\n",
        "        <br>\n",
        "        $\\rule{800pt}{10pt}$\n",
        "        <br>\n",
        "        <li>A reasonable assumption is that when designing a business strategy, a bank will seek to <b>maximize the income coming from its products</b>, in this instance, the bank's products are the deposits and loans.</li>\n",
        "        <br>\n",
        "        <ul>\n",
        "            <li>Loans and deposits are products, and products earn revenue, and the revenue is coming from the bank's role as an intermediary.</li>\n",
        "            <br>\n",
        "            <li>Banks make money on loans, represented by some margin ( $3\\%$ ), from the interest they receive for bearing default (and prepayment) risk.</li>\n",
        "            <br>\n",
        "            <li>Banks make money on deposits, represented by some margin ( $2\\%$ ), from service charges and fees.</li>\n",
        "            <br>\n",
        "            <li>These fees vary based on the service, ranging from account fees (which can consist of monthly maintenance charges, minimum balance fees, overdraft fees, non-sufficient funds charges), safe deposit box fees, and late fees.</li>\n",
        "            <br>\n",
        "        </ul>\n",
        "        <font color=\"red\"><li style=\"color:red\">The above verbal description of the problem is verbose, we will now try to make it succinct.</li></font>\n",
        "        <br>\n",
        "        $\\rule{800pt}{10pt}$\n",
        "        <br>\n",
        "        <font color=\"red\"><li style=\"color:red\">What's our <b>objective</b>, <b>constraints</b>, <b>decision variables</b>, and <b>feasible region</b>?</li></font>\n",
        "        <br>\n",
        "        <ul style=\"color:red\">\n",
        "            <font color=\"red\"><li><b>objective</b> - the bank wants to maximize its income, which is the total income generated from loans on the balance sheet with their margin of $3\\%$, and from deposits on the balance sheet with their margin of $2\\%$,</li>\n",
        "            <br>\n",
        "            <li><b>constraints</b> - these are the rules imposed by Basel III regulations and by the balance sheet</li>\n",
        "            <br>\n",
        "            <ol>\n",
        "                <li><b>capital ratio</b> - is defined as the ratio of capital to loans, and must stay above $0.3$,</li>\n",
        "                <br>\n",
        "                <li><b>leverage ratio</b> - is defined as the ratio of capital to total assets (which we can assume is $1$ by normalization), and must stay above $0.1$,</li>\n",
        "                <br>\n",
        "                <li><b>liquidity coverage ratio</b> - is defined as the ratio of reserves to deposits, and must stay above $0.25$,</li>\n",
        "                <br>\n",
        "                <li><b>net stable funding ratio</b> - is defined as the ratio of some number ($0.3$) times deposits plus capital to loans; if that number is one, then the numerator is the total liabilities of the bank, and must stay above $0.7$,</li>\n",
        "                <br>\n",
        "                <li><b>balance sheet relationship</b> - total assets (loans and reserves) equals total liabilities (deposits and capital), and the sum of deposits and capital is one and the sum of loans and reserves is one; equivalently, we can say that capital is one minus deposits and reserves is one minus loans,</li></font>\n",
        "                <br>\n",
        "            </ol>\n",
        "            <li><b>decision variables</b> - these control the business strategy of the bank; particularly, they are the variables that compose the bank's balance sheet</li>\n",
        "            <br>\n",
        "            <ul>\n",
        "                <li><b>deposits</b> - which also controls the capital through the relationship: <i>capital is one minus deposits</i>, </li>\n",
        "                <br>\n",
        "                <li><b>loans</b> - which also controls the reserves through the relationship: <i>reserves is one minus loans</i>, </li>\n",
        "                <br>\n",
        "            </ul>\n",
        "            <li><b>feasible region</b> - the set of all possible decision variables that don't violate the constraints.</li>\n",
        "            <br>\n",
        "        </ul>\n",
        "        <font color=\"red\"><li style=\"color:blue\"><b>GOAL: Find the optimal decisions regarding the balance sheet proportions that maximizes a bank's income coming from its products, subject to meeting the balance-sheet constraints set by the Basel III regulations.</b></li></font>\n",
        "        <br>\n",
        "    </ul>\n",
        "</font>\n",
        "\n",
        "$\\square$"
      ]
    },
    {
      "cell_type": "markdown",
      "id": "0d780b19",
      "metadata": {
        "id": "0d780b19"
      },
      "source": [
        "## Concrete Analytical Interpretation of an Optimal Planning for Regulated Banks\n",
        "<br>\n",
        "<font size=\"+1\">\n",
        "    <ul>\n",
        "        <li>What's our <b>objective</b>, <b>constraints</b>, <b>decision variables</b>, and <b>feasible region</b>?</li>\n",
        "        <br>\n",
        "        <ul>\n",
        "            <li><b>objective</b> - the bank wants to maximize its income, which is the total income generated from loans on the balance sheet with their margin of $3\\%$, and from deposits on the balance sheet with their margin of $2\\%$,</li>\n",
        "            <br>\n",
        "            <ul>\n",
        "                <font color=\"red\"><li style=\"color:red\">$$\\text{maximize: } \\ g(D, L) = \\boxed{0.02 D + 0.03 L}, $$ where $g(D,L)$ is is the objective function we wish to maximize (total income) that depends on the decision variables $D$ and $L$</li></font>\n",
        "                <br>\n",
        "            </ul>\n",
        "            <li><b>constraints</b> - these are the rules imposed by Basel III regulations and by the balance sheet</li>\n",
        "            <br>\n",
        "            <ol>\n",
        "                <li><b>capital ratio</b> - is defined as the ratio of capital to loans, and must stay above $0.3$,</li>\n",
        "                <br>\n",
        "                <ul>\n",
        "                    <font color=\"red\"><li style=\"color:red\">$$\\frac{C}{L} \\geq 0.3$$</li></font>\n",
        "                    <br>\n",
        "                </ul>\n",
        "                <li><b>leverage ratio</b> - is defined as the ratio of capital to total assets (which we can assume is $1$ by normalization), and must stay above $0.1$,</li>\n",
        "                <br>\n",
        "                <ul>\n",
        "                    <font color=\"red\"><li style=\"color:red\">$$\\frac{C}{L+R} \\geq 0.1$$</li></font>\n",
        "                    <br>\n",
        "                </ul>\n",
        "                <li><b>liquidity coverage ratio</b> - is defined as the ratio of reserves to deposits, and must stay above $0.25$,</li>\n",
        "                <br>\n",
        "                <ul>\n",
        "                    <font color=\"red\"><li style=\"color:red\">$$\\frac{R}{D} \\geq 0.25$$</li></font>\n",
        "                    <br>\n",
        "                </ul>\n",
        "                <li><b>net stable funding ratio</b> - is defined as the ratio of some number ($0.3$) times deposits plus capital to loans; if that number is one, then the numerator is the total liabilities of the bank, and must stay above $0.7$,</li>\n",
        "                <br>\n",
        "                <ul>\n",
        "                    <font color=\"red\"><li style=\"color:red\">$$\\frac{0.3 D + C}{L} \\geq 0.7$$</li></font>\n",
        "                    <br>\n",
        "                </ul>\n",
        "                <li><b>balance sheet relationship</b> - total assets (loans and reserves) equals total liabilities (deposits and capital), and the sum of deposits and capital is one and the sum of loans and reserves is one; equivalently, we can say that capital is one minus deposits and reserves is one minus loans,</li>\n",
        "                <br>\n",
        "                <ul>\n",
        "                    <font color=\"red\"><li style=\"color:red\">$$L+R = D+C,\\\\$$\n",
        "                        $$D+C = 1 \\iff C = C(D) = 1 - D,\\\\$$\n",
        "                        $$L+R = 1 \\iff R = R(L) = 1 - L$$</li></font>\n",
        "                    <br>\n",
        "                </ul>\n",
        "            </ol>\n",
        "            <font color=\"red\"><li style=\"color:red\">The balance sheet relationships allow us to rewrite the four ratio constraints in terms of deposits and loans.</li></font>\n",
        "            <br>\n",
        "            <ol>\n",
        "                <font color=\"red\"><li style=\"color:red\">$$\\frac{C(D)}{L} \\geq 0.3 \\iff 1-D \\geq 0.3L \\iff \\boxed{D + 0.3L \\leq 1}$$</li>\n",
        "                <br>\n",
        "                <li style=\"color:red\">$$\\frac{C(D)}{L+R(L)} \\geq 0.1 \\iff \\frac{1-D}{1} \\geq 0.1 \\iff \\boxed{D \\leq 0.9}$$</li>\n",
        "                <br>\n",
        "                <li style=\"color:red\">$$\\frac{R(L)}{D} \\geq 0.25 \\iff 1-L \\geq 0.25D \\iff \\boxed{0.25D + L \\leq 1}$$</li>\n",
        "                <br>\n",
        "                <li style=\"color:red\">$$\\frac{0.3 D + C(D)}{L} \\geq 0.7 \\iff 0.3D + 1 - D \\geq 0.7L \\iff \\boxed{0.7D + 0.7L \\leq 1}$$</li></font>\n",
        "                <br>\n",
        "            </ol>\n",
        "            <li><b>decision variables</b> - these control the business strategy of the bank; particularly, they are the variables that compose the bank's balance sheet</li>\n",
        "            <br>\n",
        "            <font color=\"red\"><li style=\"color:red\">$$L, \\ \\underbrace{R}_{R(L)}, \\ D, \\ \\underbrace{C}_{C(D)} \\implies \\boxed{L, \\ D}$$</li></font>\n",
        "        <br>\n",
        "            <ul>\n",
        "                <li><b>deposits</b> - which also controls the capital through the relationship: <i>capital is one minus deposits</i>, </li>\n",
        "                <br>\n",
        "                <font color=\"red\"><li style=\"color:red\">$$D$$</li></font>\n",
        "        <br>\n",
        "                <li><b>loans</b> - which also controls the reserves through the relationship: <i>reserves is one minus loans</i>, </li>\n",
        "                <br>\n",
        "                <font color=\"red\"><li style=\"color:red\">$$L$$</li></font>\n",
        "        <br>\n",
        "            </ul>\n",
        "            <li><b>feasible region</b> - the set of all possible decision variables that don't violate the constraints.</li>\n",
        "            <br>\n",
        "            <font color=\"red\"><li style=\"color:red\">$$(D, L) \\text{ satisfying the above constraints}$$</li></font>\n",
        "        <br>\n",
        "        </ul>\n",
        "        <br>\n",
        "        <li>This illustrates the power of concrete mathematical formulations!</li>\n",
        "        <br>\n",
        "    </ul>\n",
        "</font>\n",
        "\n",
        "$\\square$"
      ]
    },
    {
      "cell_type": "markdown",
      "id": "c7bbb9af",
      "metadata": {
        "id": "c7bbb9af"
      },
      "source": [
        "$\\rule{800pt}{10pt}$"
      ]
    },
    {
      "cell_type": "markdown",
      "id": "0358d34c",
      "metadata": {
        "id": "0358d34c"
      },
      "source": [
        "<br>\n",
        "<font size=\"+1\">\n",
        "    <ul>\n",
        "        <li>Collecting our formulation from above, we get the following optimization problem, which represents an optimal business strategy for a company involved in banking activity that is regulated by Basel III.</li>\n",
        "        <br>\n",
        "        <li>\\begin{align}\n",
        "              \\text{maximize: }  \\ & g(D, L) =  & 0.02 D + 0.03 L & \\\\ \\\\\n",
        "              \\text{subject to: } \\ & f_1(D, L) = & D + 0.3L  \\leq 1 & \\\\\n",
        "                                    & f_2(D, L) = & D  \\leq 0.9 & \\\\\n",
        "                                    & f_3(D, L) = & 0.25 D + L   \\leq 1 & \\\\\n",
        "                                    & f_4(D, L) = & 0.7 D + 0.7 L  \\leq 1 & \\\\\n",
        "                                     \\end{align}</li>\n",
        "        <br>\n",
        "        <li>Solving this optimization problem yields optimal decision variables  \n",
        "            $$(D^*, L^*).$$</li>\n",
        "        <br>\n",
        "    </ul>\n",
        "</font>"
      ]
    },
    {
      "cell_type": "markdown",
      "id": "06d3cf0c",
      "metadata": {
        "id": "06d3cf0c"
      },
      "source": [
        "## Abstract Analytical Interpretation of an Optimal Planning for Regulated Banks\n",
        "<br>\n",
        "<br>\n",
        "<font size=\"+1\" style=\"color:green\">\n",
        "    <ul>\n",
        "        <font color=\"green\"><li>Recall, in the abstraction stage, you are to identify patterns in the concrete formulation and rewrite the formulation into one that can be scaled to <b>arbitrary data</b>.</li>\n",
        "        <br>\n",
        "        <li>This step requires you to <i>mathematize</i> the problem by using abstract variables, index notation, and summation notation.</li></font>\n",
        "        <br>\n",
        "    </ul>\n",
        "</font>\n",
        "<br>\n",
        "<font size=\"+1\">\n",
        "    <ul>\n",
        "        <li>What's our <b>objective</b>, <b>constraints</b>, <b>decision variables</b>, and <b>feasible region</b>?</li>\n",
        "        <br>\n",
        "        <ul>\n",
        "            <li><b>objective</b> - the bank wants to maximize its income, which is the total income generated from loans on the balance sheet with their margin of $m_L\\%$, and from deposits on the balance sheet with their margin of $m_D\\%$,</li>\n",
        "            <br>\n",
        "            <ul>\n",
        "                <font color=\"red\"><li style=\"color:red\">$$\\text{maximize: } \\ g(D, L; m_D, m_L) = \\boxed{m_D D + m_L L}, $$ where $g(D,L; m_D, m_L)$ is is the objective function we wish to maximize (total income) that depends on the decision variables $D$ and $L$ and depends on the <b>fixed, arbitrary</b> data $m_D, m_L$ representing the margin rates for the bank products</li></font>\n",
        "                <br>\n",
        "            </ul>\n",
        "            <li><b>constraints</b> - these are the rules imposed by Basel III regulations and by the balance sheet</li>\n",
        "            <br>\n",
        "            <ol>\n",
        "                <li><b>capital ratio</b> - is defined as the ratio of capital to loans, and must stay above $r_1$,</li>\n",
        "                <br>\n",
        "                <ul>\n",
        "                    <font color=\"red\"><li style=\"color:red\">$$\\frac{C}{L} \\geq r_1$$</li></font>\n",
        "                    <br>\n",
        "                </ul>\n",
        "                <li><b>leverage ratio</b> - is defined as the ratio of capital to total assets (which we can assume is $1$ by normalization), and must stay above $r_2$,</li>\n",
        "                <br>\n",
        "                <ul>\n",
        "                    <font color=\"red\"><li style=\"color:red\">$$\\frac{C}{L+R} \\geq r_2$$</li></font>\n",
        "                    <br>\n",
        "                </ul>\n",
        "                <li><b>liquidity coverage ratio</b> - is defined as the ratio of reserves to deposits, and must stay above $r_3$,</li>\n",
        "                <br>\n",
        "                <ul>\n",
        "                    <font color=\"red\"><li style=\"color:red\">$$\\frac{R}{D} \\geq r_3$$</li></font>\n",
        "                    <br>\n",
        "                </ul>\n",
        "                <li><b>net stable funding ratio</b> - is defined as the ratio of some number ($\\alpha$) times deposits plus capital to loans; if that number is one, then the numerator is the total liabilities of the bank, and must stay above $r_4$,</li>\n",
        "                <br>\n",
        "                <ul>\n",
        "                    <font color=\"red\"><li style=\"color:red\">$$\\frac{\\alpha D + C}{L} \\geq r_4$$</li></font>\n",
        "                    <br>\n",
        "                </ul>\n",
        "                <li><b>balance sheet relationship</b> - total assets (loans and reserves) equals total liabilities (deposits and capital), and the sum of deposits and capital is one and the sum of loans and reserves is one; equivalently, we can say that capital is one minus deposits and reserves is one minus loans,</li>\n",
        "                <br>\n",
        "                <ul>\n",
        "                    <font color=\"red\"><li style=\"color:red\">$$L+R = D+C,\\\\$$\n",
        "                        $$D+C = 1 \\iff C = C(D) = 1 - D,\\\\$$\n",
        "                        $$L+R = 1 \\iff R = R(L) = 1 - L$$</li></font>\n",
        "                    <br>\n",
        "                </ul>\n",
        "            </ol>\n",
        "            <font color=\"red\"><li style=\"color:red\">The balance sheet relationships allow us to rewrite the four ratio constraints in terms of deposits and loans.</li></font>\n",
        "            <br>\n",
        "            <ol>\n",
        "                <font color=\"red\"><li style=\"color:red\">$$\\frac{C(D)}{L} \\geq r_1 \\iff 1-D \\geq r_1 L \\iff \\boxed{D + r_1 L \\leq 1}$$</li>\n",
        "                <br>\n",
        "                <li style=\"color:red\">$$\\frac{C(D)}{L+R(L)} \\geq r_2 \\iff \\frac{1-D}{1} \\geq r_2 \\iff \\boxed{D \\leq 1-r_2}$$</li>\n",
        "                <br>\n",
        "                <li style=\"color:red\">$$\\frac{R(L)}{D} \\geq r_3 \\iff 1-L \\geq r_3 D \\iff \\boxed{r_3 D + L \\leq 1}$$</li>\n",
        "                <br>\n",
        "                <li style=\"color:red\">$$\\frac{\\alpha D + C(D)}{L} \\geq r_4 \\iff \\alpha D + 1 - D \\geq r_4 L \\iff \\boxed{(1-\\alpha)D + r_4 L \\leq 1}$$</li></font>\n",
        "                <br>\n",
        "            </ol>\n",
        "            <li><b>decision variables</b> - these control the business strategy of the bank; particularly, they are the variables that compose the bank's balance sheet</li>\n",
        "            <br>\n",
        "            <font color=\"red\"><li style=\"color:red\">$$L, \\ \\underbrace{R}_{R(L)}, \\ D, \\ \\underbrace{C}_{C(D)} \\implies \\boxed{L, \\ D}$$</li></font>\n",
        "        <br>\n",
        "            <ul>\n",
        "                <li><b>deposits</b> - which also controls the capital through the relationship: <i>capital is one minus deposits</i>, </li>\n",
        "                <br>\n",
        "                <font color=\"red\"><li style=\"color:red\">$$D$$</li></font>\n",
        "        <br>\n",
        "                <li><b>loans</b> - which also controls the reserves through the relationship: <i>reserves is one minus loans</i>, </li>\n",
        "                <br>\n",
        "                <font color=\"red\"><li style=\"color:red\">$$L$$</li></font>\n",
        "        <br>\n",
        "            </ul>\n",
        "            <li><b>feasible region</b> - the set of all possible decision variables that don't violate the constraints.</li>\n",
        "            <br>\n",
        "            <font color=\"red\"><li style=\"color:red\">$$(D, L) \\text{ satisfying the above constraints}$$</li></font>\n",
        "        <br>\n",
        "        </ul>\n",
        "        <br>\n",
        "        <li>This illustrates the power of abstract mathematical formulations!</li>\n",
        "        <br>\n",
        "    </ul>\n",
        "</font>\n",
        "\n",
        "$\\square$"
      ]
    },
    {
      "cell_type": "markdown",
      "id": "69ab64e8",
      "metadata": {
        "id": "69ab64e8"
      },
      "source": [
        "<br>\n",
        "<font size=\"+1\">\n",
        "    <ul>\n",
        "        <li>Collecting our formulation from above, we get the following optimization problem, which represents an optimal business strategy for a company involved in banking activity that is regulated by Basel III.</li>\n",
        "        <br>\n",
        "        <li>\\begin{align}\n",
        "              \\text{maximize: }  \\ & g(D, L; m_D, m_L) =  & m_D D + m_L L & \\\\ \\\\\n",
        "              \\text{subject to: } \\ & f_1(D, L; r_1) = & D + r_1 L  \\leq 1 & \\\\\n",
        "                                    & f_2(D, L; r_2) = & D  \\leq 1-r_2 & \\\\\n",
        "                                    & f_3(D, L; r_3) = & r_3 D + L   \\leq 1 & \\\\\n",
        "                                    & f_4(D, L; \\alpha, r_4) = & (1-\\alpha) D + r_4 L  \\leq 1 & \\\\\n",
        "                                     \\end{align}</li>\n",
        "        <br>\n",
        "        <li>Solving this optimization problem yields optimal decision variables that depend on data $(m_D, m_L, r_1, r_2, r_3, r_4, \\alpha), \\\\$\n",
        "            $$\\left(D^*, \\quad L^*\\right) = \\left(D^*(m_D, m_L, r_1, r_2, r_3, r_4, \\alpha), \\quad L^*(m_D, m_L, r_1, r_2, r_3, r_4, \\alpha)\\right).$$</li>\n",
        "        <br>\n",
        "    </ul>\n",
        "</font>\n",
        "\n",
        "$\\square$"
      ]
    },
    {
      "cell_type": "markdown",
      "id": "c3f48ba0",
      "metadata": {
        "id": "c3f48ba0"
      },
      "source": [
        "## Graphical Interpretation of an Optimal Planning for Regulated Banks\n",
        "<br>\n",
        "<font size=\"+1\">\n",
        "    <ul>\n",
        "        <li>Because our formulation doesn't have parameters that are dependent on the size of the balance sheet, we are allowed to work with proportions of the balance sheet size and we can normalize the total assets and total liabilities to one. </li>\n",
        "        <br>\n",
        "        <li>This impled the following relations\n",
        "        $$\n",
        "        R(L) = 1 - L,\n",
        "        $$ and\n",
        "            $$\n",
        "            C(D) = 1 - D,\\\\\n",
        "            $$\n",
        "            which allowed us to remove two of the four variables from $L, R, D, \\text{ and } C$.\n",
        "        </li>\n",
        "        <br>\n",
        "        <li>This means the bank's decision (control) variables are only the amount of loans, $L$, and deposits, $D$, they keep on their balance sheet.</li>\n",
        "        <br>\n",
        "        <li>Since there are only two decision variables, we can plot the <b>feasible set</b> that encodes the constraints in $(D, L)$ space.</li>\n",
        "        <br>\n",
        "    </ul>\n",
        "</font>\n",
        "\n",
        "$\\square$"
      ]
    },
    {
      "cell_type": "code",
      "source": [
        "tf.keras.preprocessing.image.load_img(os.path.join(images_path, 'Basel_III_Constraints.png'))"
      ],
      "metadata": {
        "colab": {
          "base_uri": "https://localhost:8080/",
          "height": 269
        },
        "id": "aokW3zW5j9n5",
        "outputId": "d440c11d-0cf2-4475-b278-0d65f54ab37f"
      },
      "id": "aokW3zW5j9n5",
      "execution_count": null,
      "outputs": [
        {
          "output_type": "execute_result",
          "data": {
            "text/plain": [
              "<PIL.Image.Image image mode=RGB size=375x252>"
            ],
            "image/png": "[encoded data removed]"
          },
          "metadata": {},
          "execution_count": 5
        }
      ]
    },
    {
      "cell_type": "markdown",
      "id": "ea8d1c65",
      "metadata": {
        "id": "ea8d1c65"
      },
      "source": [
        "<br>\n",
        "<font size=\"+1\">\n",
        "    <ul>\n",
        "        <li>In fact, any business strategy employed by a bank can be plotted in the $(D, L)$ space.</li>\n",
        "        <br>\n",
        "        <li>For example, if the bank functions as a <i>commercial bank</i>, then its business strategy can be represented as one of the corners of the feasible set at point $2$ which corresponds to having a balance sheet consisting of $90\\%$ loans and $10\\%$ reserves on the asset side, and $50\\%$ deposits and $50\\%$ capital on the liabilities side.</li>\n",
        "        <br>\n",
        "    </ul>\n",
        "</font>\n",
        "\n",
        "$\\square$"
      ]
    },
    {
      "cell_type": "code",
      "source": [
        "tf.keras.preprocessing.image.load_img(os.path.join(images_path, 'Potential_Business_Model_Solutions.png'))"
      ],
      "metadata": {
        "colab": {
          "base_uri": "https://localhost:8080/",
          "height": 762
        },
        "id": "Raslf4tckH30",
        "outputId": "1c7fcfa6-2a69-452e-85cd-155b0e0b97d8"
      },
      "id": "Raslf4tckH30",
      "execution_count": null,
      "outputs": [
        {
          "output_type": "execute_result",
          "data": {
            "text/plain": [
              "<PIL.Image.Image image mode=RGB size=612x745>"
            ],
            "image/png": "[encoded data removed]"
          },
          "metadata": {},
          "execution_count": 4
        }
      ]
    },
    {
      "cell_type": "markdown",
      "id": "1428b87c",
      "metadata": {
        "id": "1428b87c"
      },
      "source": [
        "<br>\n",
        "<font size=\"+1\">\n",
        "    <ul>\n",
        "        <li>The best solution that satisfies all the constraints corresponds to one of the vertices on the feasible set.</li>\n",
        "        <br>\n",
        "        <li>This observation is a general fact in linear optimization</li>\n",
        "        <br>\n",
        "        <li>To find an optimal solution of a linear optimization problem, it suffices to restrict your search to vertices of the feasible region.</li>\n",
        "        <br>\n",
        "        <li>This geometric insight is the basis of an algorithm used to find optimal solutions known as the <i><a href=\"https://en.wikipedia.org/wiki/Simplex_algorithm#:~:text=The%20simplex%20algorithm%20begins%20at,form%20maximize%20subject%20to%20and\">simplex method</a></i>, which goes from one vertex of the feasible region to an adjacent one with a better objective value until it reaches an <a href=\"https://optimization.cbe.cornell.edu/index.php?title=Simplex_algorithm\">optimal solution</a>.</li>\n",
        "        <br>\n",
        "    </ul>\n",
        "</font>\n",
        "\n",
        "$\\square$"
      ]
    },
    {
      "cell_type": "code",
      "source": [],
      "metadata": {
        "id": "tSCgegFpOkk6"
      },
      "id": "tSCgegFpOkk6",
      "execution_count": null,
      "outputs": []
    },
    {
      "cell_type": "markdown",
      "metadata": {
        "id": "28ef6f45"
      },
      "source": [
        "## Two Decision Variables - Concrete Formulation\n",
        "<br>\n",
        "<font size=\"+1\">\n",
        "    <ul>\n",
        "    </ul>\n",
        "</font>"
      ],
      "id": "28ef6f45"
    },
    {
      "cell_type": "markdown",
      "metadata": {
        "id": "c1b10be7"
      },
      "source": [
        "<br>\n",
        "<font size=\"+1\">\n",
        "    <ul>\n",
        "        <li>Recall our optimization formulation which represents an optimal business strategy for a company involved in banking activities that is regulated by Basel III.</li>\n",
        "        <br>\n",
        "        <li>\\begin{align}\n",
        "              \\text{maximize: }  \\ & g(D, L) =  & 0.02 D + 0.03 L & \\\\ \\\\\n",
        "              \\text{subject to: } \\ & f_1(D, L) = & D + 0.3L  \\leq 1 & \\\\\n",
        "                                    & f_2(D, L) = & D  \\leq 0.9 & \\\\\n",
        "                                    & f_3(D, L) = & 0.25 D + L   \\leq 1 & \\\\\n",
        "                                    & f_4(D, L) = & 0.7 D + 0.7 L  \\leq 1 & \\\\\n",
        "                                     \\end{align}</li>\n",
        "        <br>\n",
        "        <li>Solving this optimization problem yields optimal decision variables  \n",
        "            $$(D^*, L^*).$$</li>\n",
        "        <br>\n",
        "    </ul>\n",
        "</font>\n",
        "\n",
        "$\\square$"
      ],
      "id": "c1b10be7"
    },
    {
      "cell_type": "code",
      "execution_count": null,
      "metadata": {
        "id": "77e7958a"
      },
      "outputs": [],
      "source": [
        "import cvxpy as cp"
      ],
      "id": "77e7958a"
    },
    {
      "cell_type": "code",
      "execution_count": null,
      "metadata": {
        "id": "d5cead75"
      },
      "outputs": [],
      "source": [
        "# loans, reserves, deposits, capital\n",
        "\n",
        "loans = cp.Variable(1)\n",
        "reserves = cp.Variable(1)\n",
        "deposits = cp.Variable(1)\n",
        "capital = cp.Variable(1)"
      ],
      "id": "d5cead75"
    },
    {
      "cell_type": "code",
      "execution_count": null,
      "metadata": {
        "colab": {
          "base_uri": "https://localhost:8080/"
        },
        "id": "61383e87",
        "outputId": "2f6f5b6d-526c-4914-e088-3e55ff79eee7"
      },
      "outputs": [
        {
          "output_type": "execute_result",
          "data": {
            "text/plain": [
              "Expression(AFFINE, UNKNOWN, (1,))"
            ]
          },
          "metadata": {},
          "execution_count": 7
        }
      ],
      "source": [
        "bank_objective = (0.02*deposits + 0.03*loans)\n",
        "\n",
        "bank_objective"
      ],
      "id": "61383e87"
    },
    {
      "cell_type": "code",
      "execution_count": null,
      "metadata": {
        "colab": {
          "base_uri": "https://localhost:8080/"
        },
        "id": "d3f74e71",
        "outputId": "81b76785-a086-449c-e07f-87fb13521532"
      },
      "outputs": [
        {
          "output_type": "execute_result",
          "data": {
            "text/plain": [
              "Maximize(Expression(AFFINE, UNKNOWN, (1,)))"
            ]
          },
          "metadata": {},
          "execution_count": 8
        }
      ],
      "source": [
        "max_bank_objective = cp.Maximize(bank_objective)\n",
        "\n",
        "max_bank_objective"
      ],
      "id": "d3f74e71"
    },
    {
      "cell_type": "code",
      "execution_count": null,
      "metadata": {
        "colab": {
          "base_uri": "https://localhost:8080/"
        },
        "id": "cb034f0d",
        "outputId": "7ff45f84-e587-4dcf-d33e-a31853bc44a3"
      },
      "outputs": [
        {
          "output_type": "execute_result",
          "data": {
            "text/plain": [
              "Problem(Maximize(Expression(AFFINE, UNKNOWN, (1,))), [Inequality(Expression(AFFINE, UNKNOWN, (1,))), Inequality(Variable((1,))), Inequality(Expression(AFFINE, UNKNOWN, (1,))), Inequality(Expression(AFFINE, UNKNOWN, (1,)))])"
            ]
          },
          "metadata": {},
          "execution_count": 9
        }
      ],
      "source": [
        "optimal_balance_sheet_prob = cp.Problem(max_bank_objective,\n",
        "                                        [deposits+0.3*loans <= 1,\n",
        "                                        deposits <= 0.9,\n",
        "                                        0.25*deposits + loans <= 1,\n",
        "                                        0.7*deposits+0.7*loans <= 1])\n",
        "\n",
        "optimal_balance_sheet_prob"
      ],
      "id": "cb034f0d"
    },
    {
      "cell_type": "code",
      "execution_count": null,
      "metadata": {
        "id": "7aad3b63"
      },
      "outputs": [],
      "source": [
        "# This is a checker of if our problem is Disciplined Convex Programming\n",
        "assert optimal_balance_sheet_prob.is_dcp()"
      ],
      "id": "7aad3b63"
    },
    {
      "cell_type": "code",
      "execution_count": null,
      "metadata": {
        "colab": {
          "base_uri": "https://localhost:8080/"
        },
        "id": "f1d84909",
        "outputId": "ba1d620b-bb46-4360-e8cf-8eac7b1f020f"
      },
      "outputs": [
        {
          "output_type": "execute_result",
          "data": {
            "text/plain": [
              "0.03714285709256796"
            ]
          },
          "metadata": {},
          "execution_count": 11
        }
      ],
      "source": [
        "optimal_balance_sheet_prob.solve()"
      ],
      "id": "f1d84909"
    },
    {
      "cell_type": "code",
      "execution_count": null,
      "metadata": {
        "colab": {
          "base_uri": "https://localhost:8080/"
        },
        "id": "a9d2fe1e",
        "outputId": "c1d352ef-7aae-4c2e-e8ed-13dec4d06d77"
      },
      "outputs": [
        {
          "output_type": "stream",
          "name": "stdout",
          "text": [
            "===============================================================================\n",
            "                                     CVXPY                                     \n",
            "                                     v1.3.2                                    \n",
            "===============================================================================\n",
            "(CVXPY) Oct 14 05:34:50 AM: Your problem has 2 variables, 4 constraints, and 0 parameters.\n",
            "(CVXPY) Oct 14 05:34:50 AM: It is compliant with the following grammars: DCP, DQCP\n",
            "(CVXPY) Oct 14 05:34:50 AM: (If you need to solve this problem multiple times, but with different data, consider using parameters.)\n",
            "(CVXPY) Oct 14 05:34:50 AM: CVXPY will first compile your problem; then, it will invoke a numerical solver to obtain a solution.\n",
            "-------------------------------------------------------------------------------\n",
            "                                  Compilation                                  \n",
            "-------------------------------------------------------------------------------\n",
            "(CVXPY) Oct 14 05:34:50 AM: Using cached ASA map, for faster compilation (bypassing reduction chain).\n",
            "(CVXPY) Oct 14 05:34:50 AM: Finished problem compilation (took 4.601e-03 seconds).\n",
            "-------------------------------------------------------------------------------\n",
            "                                Numerical solver                               \n",
            "-------------------------------------------------------------------------------\n",
            "(CVXPY) Oct 14 05:34:50 AM: Invoking solver ECOS  to obtain a solution.\n",
            "-------------------------------------------------------------------------------\n",
            "                                    Summary                                    \n",
            "-------------------------------------------------------------------------------\n",
            "(CVXPY) Oct 14 05:34:50 AM: Problem status: optimal\n",
            "(CVXPY) Oct 14 05:34:50 AM: Optimal value: 3.714e-02\n",
            "(CVXPY) Oct 14 05:34:50 AM: Compilation took 4.601e-03 seconds\n",
            "(CVXPY) Oct 14 05:34:50 AM: Solver (including time spent in interface) took 2.012e-04 seconds\n"
          ]
        },
        {
          "output_type": "execute_result",
          "data": {
            "text/plain": [
              "0.03714285709256796"
            ]
          },
          "metadata": {},
          "execution_count": 12
        }
      ],
      "source": [
        "optimal_balance_sheet_prob.solve(verbose=True)"
      ],
      "id": "a9d2fe1e"
    },
    {
      "cell_type": "code",
      "execution_count": null,
      "metadata": {
        "colab": {
          "base_uri": "https://localhost:8080/"
        },
        "id": "273ebe14",
        "outputId": "4f754171-d488-423f-e800-00ec44bea41e"
      },
      "outputs": [
        {
          "output_type": "execute_result",
          "data": {
            "text/plain": [
              "(array([0.85714285]), None, array([0.57142858]), None)"
            ]
          },
          "metadata": {},
          "execution_count": 13
        }
      ],
      "source": [
        "loans.value, reserves.value, deposits.value, capital.value"
      ],
      "id": "273ebe14"
    },
    {
      "cell_type": "code",
      "execution_count": null,
      "metadata": {
        "colab": {
          "base_uri": "https://localhost:8080/"
        },
        "id": "ff3f7257",
        "outputId": "2a76772d-734c-4e6e-92e9-c2924fd7ca59"
      },
      "outputs": [
        {
          "output_type": "execute_result",
          "data": {
            "text/plain": [
              "array([0.14285715])"
            ]
          },
          "metadata": {},
          "execution_count": 14
        }
      ],
      "source": [
        "reserves = 1 - loans.value\n",
        "\n",
        "reserves"
      ],
      "id": "ff3f7257"
    },
    {
      "cell_type": "code",
      "execution_count": null,
      "metadata": {
        "colab": {
          "base_uri": "https://localhost:8080/"
        },
        "id": "0ed548cd",
        "outputId": "a49da2c0-6080-4836-9295-e56cb7f6b8fa"
      },
      "outputs": [
        {
          "output_type": "execute_result",
          "data": {
            "text/plain": [
              "array([0.42857142])"
            ]
          },
          "metadata": {},
          "execution_count": 15
        }
      ],
      "source": [
        "capital = 1 - deposits.value\n",
        "\n",
        "capital"
      ],
      "id": "0ed548cd"
    },
    {
      "cell_type": "markdown",
      "metadata": {
        "id": "bc7a6363"
      },
      "source": [
        "<br>\n",
        "<font size=\"+1\">\n",
        "    <ul>\n",
        "        <li>This solution tells us that the bank should have $57.1\\%$ of its liabilities in deposits and $42.9\\%$ in capital, and it should have $85.7\\%$ of its assets in loans and the remaining $14.3\\%$ in liquidity reserves.</li>\n",
        "        <br>\n",
        "    </ul>\n",
        "</font>\n",
        "\n",
        "$\\square$"
      ],
      "id": "bc7a6363"
    },
    {
      "cell_type": "markdown",
      "metadata": {
        "id": "9c0fded9"
      },
      "source": [
        "## Two Decision Variables - Abstract Formulation\n",
        "<br>\n",
        "<font size=\"+1\" style=\"color:green\">\n",
        "    <ul>\n",
        "        <font color=\"green\"><li>Recall, in the abstraction stage, you are to identify patterns in the concrete formulation and rewrite the formulation into one that can be scaled to <b>arbitrary data</b>.</li>\n",
        "        <br>\n",
        "        <li>This step requires you to <i>mathematize</i> the problem by using abstract variables, index notation, and summation notation.</li></font>\n",
        "        <br>\n",
        "    </ul>\n",
        "</font>\n",
        "<font size=\"+1\">\n",
        "    <ul>\n",
        "        <li>For this, we need to use parameters!</li>\n",
        "        <br>\n",
        "    </ul>\n",
        "</font>"
      ],
      "id": "9c0fded9"
    },
    {
      "cell_type": "markdown",
      "metadata": {
        "id": "2d09522e"
      },
      "source": [
        "<br>\n",
        "<font size=\"+1\">\n",
        "    <ul>\n",
        "        <li>Recall our optimization formulation which represents an optimal business strategy for a company involved in banking activities that is regulated by Basel III.</li>\n",
        "        <br>\n",
        "        <li>\\begin{align}\n",
        "              \\text{maximize: }  \\ & g(D, L; m_D, m_L) =  & m_D D + m_L L & \\\\ \\\\\n",
        "              \\text{subject to: } \\ & f_1(D, L; r_1) = & D + r_1 L  \\leq 1 & \\\\\n",
        "                                    & f_2(D, L; r_2) = & D  \\leq 1-r_2 & \\\\\n",
        "                                    & f_3(D, L; r_3) = & r_3 D + L   \\leq 1 & \\\\\n",
        "                                    & f_4(D, L; \\alpha, r_4) = & (1-\\alpha) D + r_4 L  \\leq 1 & \\\\\n",
        "                                     \\end{align}</li>\n",
        "        <br>\n",
        "        <li>Solving this optimization problem yields optimal decision variables that depend on data $(m_D, m_L, r_1, r_2, r_3, r_4, \\alpha), \\\\$\n",
        "            $$\\left(D^*(m_D, m_L, r_1, r_2, r_3, r_4, \\alpha), \\quad L^*(m_D, m_L, r_1, r_2, r_3, r_4, \\alpha)\\right).$$</li>\n",
        "        <br>\n",
        "    </ul>\n",
        "</font>\n",
        "\n",
        "$\\square$"
      ],
      "id": "2d09522e"
    },
    {
      "cell_type": "code",
      "execution_count": null,
      "metadata": {
        "id": "590a4352"
      },
      "outputs": [],
      "source": [
        "# loans, reserves, deposits, capital\n",
        "\n",
        "loans=cp.Variable(1)\n",
        "reserves=cp.Variable(1)\n",
        "deposits=cp.Variable(1)\n",
        "capital=cp.Variable(1)"
      ],
      "id": "590a4352"
    },
    {
      "cell_type": "code",
      "execution_count": null,
      "metadata": {
        "id": "53e6de47"
      },
      "outputs": [],
      "source": [
        "# instantiate parameters\n",
        "\n",
        "m_D = cp.Parameter()\n",
        "m_L = cp.Parameter()\n",
        "\n",
        "r_1 = cp.Parameter()\n",
        "r_2 = cp.Parameter()\n",
        "r_3 = cp.Parameter()\n",
        "r_4 = cp.Parameter()\n",
        "\n",
        "alpha = cp.Parameter()"
      ],
      "id": "53e6de47"
    },
    {
      "cell_type": "code",
      "execution_count": null,
      "metadata": {
        "colab": {
          "base_uri": "https://localhost:8080/"
        },
        "id": "02dff0a7",
        "outputId": "22af3506-7efd-499e-9995-29d0dd10cf97"
      },
      "outputs": [
        {
          "output_type": "execute_result",
          "data": {
            "text/plain": [
              "Expression(AFFINE, UNKNOWN, (1,))"
            ]
          },
          "metadata": {},
          "execution_count": 18
        }
      ],
      "source": [
        "bank_objective = (m_D*deposits + m_L*loans)\n",
        "\n",
        "bank_objective"
      ],
      "id": "02dff0a7"
    },
    {
      "cell_type": "code",
      "execution_count": null,
      "metadata": {
        "colab": {
          "base_uri": "https://localhost:8080/"
        },
        "id": "3c3dfee7",
        "outputId": "6ecdcdfc-ed9c-464f-d2b4-5240e2e9378c"
      },
      "outputs": [
        {
          "output_type": "execute_result",
          "data": {
            "text/plain": [
              "Maximize(Expression(AFFINE, UNKNOWN, (1,)))"
            ]
          },
          "metadata": {},
          "execution_count": 19
        }
      ],
      "source": [
        "max_bank_objective = cp.Maximize(bank_objective)\n",
        "\n",
        "max_bank_objective"
      ],
      "id": "3c3dfee7"
    },
    {
      "cell_type": "code",
      "execution_count": null,
      "metadata": {
        "colab": {
          "base_uri": "https://localhost:8080/"
        },
        "id": "ab8b6832",
        "outputId": "de09baba-da80-4978-847b-df83d3d1ab3a"
      },
      "outputs": [
        {
          "output_type": "execute_result",
          "data": {
            "text/plain": [
              "Problem(Maximize(Expression(AFFINE, UNKNOWN, (1,))), [Inequality(Expression(AFFINE, UNKNOWN, (1,))), Inequality(Variable((1,))), Inequality(Expression(AFFINE, UNKNOWN, (1,))), Inequality(Expression(AFFINE, UNKNOWN, (1,)))])"
            ]
          },
          "metadata": {},
          "execution_count": 20
        }
      ],
      "source": [
        "optimal_balance_sheet_prob = cp.Problem(max_bank_objective,\n",
        "                                        [deposits+ r_1*loans <= 1,\n",
        "                                        deposits <= 1-r_2,\n",
        "                                        r_3*deposits + loans <= 1,\n",
        "                                        (1-alpha)*deposits+r_4*loans <= 1])\n",
        "\n",
        "optimal_balance_sheet_prob"
      ],
      "id": "ab8b6832"
    },
    {
      "cell_type": "code",
      "execution_count": null,
      "metadata": {
        "id": "9858b521"
      },
      "outputs": [],
      "source": [
        "# This is a checker of if our problem is Disciplined Convex Programming\n",
        "assert optimal_balance_sheet_prob.is_dcp()"
      ],
      "id": "9858b521"
    },
    {
      "cell_type": "code",
      "execution_count": null,
      "metadata": {
        "id": "4aec7364"
      },
      "outputs": [],
      "source": [
        "# define the parameters\n",
        "\n",
        "m_D.value = 0.02\n",
        "m_L.value = 0.03\n",
        "\n",
        "r_1.value = 0.3\n",
        "r_2.value = 0.1\n",
        "r_3.value = 0.25\n",
        "r_4.value = 0.7\n",
        "\n",
        "alpha.value = 0.3"
      ],
      "id": "4aec7364"
    },
    {
      "cell_type": "code",
      "execution_count": null,
      "metadata": {
        "colab": {
          "base_uri": "https://localhost:8080/"
        },
        "id": "170d990a",
        "outputId": "75851b23-658c-4682-87d5-206b30ba40cc"
      },
      "outputs": [
        {
          "output_type": "execute_result",
          "data": {
            "text/plain": [
              "0.03714285709256796"
            ]
          },
          "metadata": {},
          "execution_count": 23
        }
      ],
      "source": [
        "optimal_balance_sheet_prob.solve()"
      ],
      "id": "170d990a"
    },
    {
      "cell_type": "code",
      "execution_count": null,
      "metadata": {
        "colab": {
          "base_uri": "https://localhost:8080/"
        },
        "id": "30ce0a04",
        "outputId": "06558a67-e83f-4e59-9644-2a398a9c6c81"
      },
      "outputs": [
        {
          "output_type": "stream",
          "name": "stdout",
          "text": [
            "===============================================================================\n",
            "                                     CVXPY                                     \n",
            "                                     v1.3.2                                    \n",
            "===============================================================================\n",
            "(CVXPY) Oct 14 05:37:30 AM: Your problem has 2 variables, 4 constraints, and 7 parameters.\n",
            "(CVXPY) Oct 14 05:37:30 AM: It is compliant with the following grammars: DCP, DQCP\n",
            "(CVXPY) Oct 14 05:37:30 AM: CVXPY will first compile your problem; then, it will invoke a numerical solver to obtain a solution.\n",
            "-------------------------------------------------------------------------------\n",
            "                                  Compilation                                  \n",
            "-------------------------------------------------------------------------------\n",
            "(CVXPY) Oct 14 05:37:30 AM: Using cached ASA map, for faster compilation (bypassing reduction chain).\n",
            "(CVXPY) Oct 14 05:37:30 AM: Finished problem compilation (took 5.779e-03 seconds).\n",
            "-------------------------------------------------------------------------------\n",
            "                                Numerical solver                               \n",
            "-------------------------------------------------------------------------------\n",
            "(CVXPY) Oct 14 05:37:30 AM: Invoking solver ECOS  to obtain a solution.\n",
            "-------------------------------------------------------------------------------\n",
            "                                    Summary                                    \n",
            "-------------------------------------------------------------------------------\n",
            "(CVXPY) Oct 14 05:37:30 AM: Problem status: optimal\n",
            "(CVXPY) Oct 14 05:37:30 AM: Optimal value: 3.714e-02\n",
            "(CVXPY) Oct 14 05:37:30 AM: Compilation took 5.779e-03 seconds\n",
            "(CVXPY) Oct 14 05:37:30 AM: Solver (including time spent in interface) took 2.055e-04 seconds\n"
          ]
        },
        {
          "output_type": "execute_result",
          "data": {
            "text/plain": [
              "0.03714285709256796"
            ]
          },
          "metadata": {},
          "execution_count": 25
        }
      ],
      "source": [
        "optimal_balance_sheet_prob.solve(verbose=True)"
      ],
      "id": "30ce0a04"
    },
    {
      "cell_type": "code",
      "execution_count": null,
      "metadata": {
        "colab": {
          "base_uri": "https://localhost:8080/"
        },
        "id": "71196965",
        "outputId": "1f6cb686-7587-46ef-bf7c-5f421105578b"
      },
      "outputs": [
        {
          "output_type": "execute_result",
          "data": {
            "text/plain": [
              "(array([0.85714285]), None, array([0.57142858]), None)"
            ]
          },
          "metadata": {},
          "execution_count": 26
        }
      ],
      "source": [
        "loans.value, reserves.value, deposits.value, capital.value"
      ],
      "id": "71196965"
    },
    {
      "cell_type": "code",
      "execution_count": null,
      "metadata": {
        "colab": {
          "base_uri": "https://localhost:8080/"
        },
        "id": "c35f3262",
        "outputId": "8471dc2d-380b-4346-acd2-fb196262b2de"
      },
      "outputs": [
        {
          "output_type": "execute_result",
          "data": {
            "text/plain": [
              "array([0.14285715])"
            ]
          },
          "metadata": {},
          "execution_count": 27
        }
      ],
      "source": [
        "reserves = 1 - loans.value\n",
        "\n",
        "reserves"
      ],
      "id": "c35f3262"
    },
    {
      "cell_type": "code",
      "execution_count": null,
      "metadata": {
        "colab": {
          "base_uri": "https://localhost:8080/"
        },
        "id": "64b4d9bb",
        "outputId": "5fb38e67-7267-404f-d7a5-90a73fb357d3"
      },
      "outputs": [
        {
          "output_type": "execute_result",
          "data": {
            "text/plain": [
              "array([0.42857142])"
            ]
          },
          "metadata": {},
          "execution_count": 28
        }
      ],
      "source": [
        "capital = 1 - deposits.value\n",
        "\n",
        "capital"
      ],
      "id": "64b4d9bb"
    }
  ],
  "metadata": {
    "hide_input": false,
    "kernelspec": {
      "display_name": "Python 3 (ipykernel)",
      "language": "python",
      "name": "python3"
    },
    "language_info": {
      "codemirror_mode": {
        "name": "ipython",
        "version": 3
      },
      "file_extension": ".py",
      "mimetype": "text/x-python",
      "name": "python",
      "nbconvert_exporter": "python",
      "pygments_lexer": "ipython3",
      "version": "3.8.8"
    },
    "toc": {
      "base_numbering": 1,
      "nav_menu": {},
      "number_sections": true,
      "sideBar": true,
      "skip_h1_title": false,
      "title_cell": "Table of Contents",
      "title_sidebar": "Contents",
      "toc_cell": true,
      "toc_position": {
        "height": "calc(100% - 180px)",
        "left": "10px",
        "top": "150px",
        "width": "258.49px"
      },
      "toc_section_display": true,
      "toc_window_display": true
    },
    "colab": {
      "provenance": []
    }
  },
  "nbformat": 4,
  "nbformat_minor": 5
}