{
  "cells": [
    {
      "cell_type": "code",
      "execution_count": null,
      "id": "bff2d1bb",
      "metadata": {
        "id": "bff2d1bb",
        "outputId": "e1e65c2f-49bc-47d3-8afc-a66523c9829b",
        "colab": {
          "base_uri": "https://localhost:8080/"
        }
      },
      "outputs": [
        {
          "output_type": "stream",
          "name": "stdout",
          "text": [
            "Mounted at /content/drive\n",
            "python \t 3.10.12\n",
            "numpy \t 1.23.5\n",
            "pandas \t 1.5.3\n",
            "cvxpy \t 1.3.2\n",
            "seaborn \t 0.12.2\n",
            "matplotlib \t 3.7.1\n",
            "pandas-datareader 0.10.0\n"
          ]
        }
      ],
      "source": [
        "import os\n",
        "import sys\n",
        "\n",
        "import numpy as np\n",
        "import pandas as pd\n",
        "import pandas_datareader as pdr\n",
        "import matplotlib\n",
        "import matplotlib.pyplot as plt\n",
        "import seaborn as sns\n",
        "\n",
        "import tensorflow as tf\n",
        "import cvxpy as cp\n",
        "\n",
        "from google.colab import drive\n",
        "drive.mount('/content/drive')\n",
        "\n",
        "print(\"python \\t {}\".format(\".\".join(map(str, sys.version_info[:3]))))\n",
        "print(\"numpy \\t {}\".format(np.__version__))\n",
        "print(\"pandas \\t {}\".format(pd.__version__))\n",
        "print(\"cvxpy \\t {}\".format(cp.__version__))\n",
        "print(\"seaborn \\t {}\".format(sns.__version__))\n",
        "print(\"matplotlib \\t {}\".format(matplotlib.__version__))\n",
        "print(\"pandas-datareader {}\".format(pdr.__version__))"
      ]
    },
    {
      "cell_type": "code",
      "execution_count": null,
      "metadata": {
        "colab": {
          "base_uri": "https://localhost:8080/",
          "height": 35
        },
        "id": "4acc2627",
        "outputId": "4ee7e022-6c68-4f06-dcb0-30d4d998788d"
      },
      "outputs": [
        {
          "output_type": "execute_result",
          "data": {
            "text/plain": [
              "'/content'"
            ],
            "application/vnd.google.colaboratory.intrinsic+json": {
              "type": "string"
            }
          },
          "metadata": {},
          "execution_count": 2
        }
      ],
      "source": [
        "os.getcwd()"
      ],
      "id": "4acc2627"
    },
    {
      "cell_type": "markdown",
      "id": "a4b5b683",
      "metadata": {
        "id": "a4b5b683"
      },
      "source": [
        "# Data from Yahoo! Finance\n",
        "<br>\n",
        "<font size=\"+1\">\n",
        "    <ul>\n",
        "        <li>We will use a Python package called <a href=\"https://pandas-datareader.readthedocs.io/en/latest/\">Pandas Data Reader</a> to quickly scrape data from Yahoo! Finance.</li>\n",
        "        <br>\n",
        "        <li>Pandas Data Reader also has additional interesting functionality that is worth checking out.</li>\n",
        "        <br>\n",
        "    </ul>\n",
        "</font>"
      ]
    },
    {
      "cell_type": "code",
      "execution_count": null,
      "id": "9cdd857d",
      "metadata": {
        "id": "9cdd857d",
        "outputId": "d3ca2893-59bd-4e12-891e-4f09488c617d",
        "colab": {
          "base_uri": "https://localhost:8080/"
        }
      },
      "outputs": [
        {
          "output_type": "stream",
          "name": "stdout",
          "text": [
            "Requirement already satisfied: pandas-datareader in /usr/local/lib/python3.10/dist-packages (0.10.0)\n",
            "Requirement already satisfied: lxml in /usr/local/lib/python3.10/dist-packages (from pandas-datareader) (4.9.3)\n",
            "Requirement already satisfied: pandas>=0.23 in /usr/local/lib/python3.10/dist-packages (from pandas-datareader) (1.5.3)\n",
            "Requirement already satisfied: requests>=2.19.0 in /usr/local/lib/python3.10/dist-packages (from pandas-datareader) (2.31.0)\n",
            "Requirement already satisfied: python-dateutil>=2.8.1 in /usr/local/lib/python3.10/dist-packages (from pandas>=0.23->pandas-datareader) (2.8.2)\n",
            "Requirement already satisfied: pytz>=2020.1 in /usr/local/lib/python3.10/dist-packages (from pandas>=0.23->pandas-datareader) (2023.3.post1)\n",
            "Requirement already satisfied: numpy>=1.21.0 in /usr/local/lib/python3.10/dist-packages (from pandas>=0.23->pandas-datareader) (1.23.5)\n",
            "Requirement already satisfied: charset-normalizer<4,>=2 in /usr/local/lib/python3.10/dist-packages (from requests>=2.19.0->pandas-datareader) (3.3.2)\n",
            "Requirement already satisfied: idna<4,>=2.5 in /usr/local/lib/python3.10/dist-packages (from requests>=2.19.0->pandas-datareader) (3.6)\n",
            "Requirement already satisfied: urllib3<3,>=1.21.1 in /usr/local/lib/python3.10/dist-packages (from requests>=2.19.0->pandas-datareader) (2.0.7)\n",
            "Requirement already satisfied: certifi>=2017.4.17 in /usr/local/lib/python3.10/dist-packages (from requests>=2.19.0->pandas-datareader) (2023.11.17)\n",
            "Requirement already satisfied: six>=1.5 in /usr/local/lib/python3.10/dist-packages (from python-dateutil>=2.8.1->pandas>=0.23->pandas-datareader) (1.16.0)\n"
          ]
        }
      ],
      "source": [
        "! pip install pandas-datareader"
      ]
    },
    {
      "cell_type": "markdown",
      "id": "2fcb6999",
      "metadata": {
        "id": "2fcb6999"
      },
      "source": [
        "<br>\n",
        "<font size=\"+1\">\n",
        "    <ul>\n",
        "        <li>We will download daily OHLC (Open-High-Low-Close) variables for Microsoft, Visa, and Walmart.</li>\n",
        "        <br>\n",
        "        <ul>\n",
        "            <font color=\"green\"><li style=\"color:green\">Try your own favorite tickers (if you want)!</li></font>\n",
        "            <br>\n",
        "        </ul>\n",
        "    </ul>\n",
        "</font>"
      ]
    },
    {
      "cell_type": "code",
      "execution_count": null,
      "id": "f254ef7a",
      "metadata": {
        "id": "f254ef7a",
        "colab": {
          "base_uri": "https://localhost:8080/"
        },
        "outputId": "cd22ece0-5aa0-4a66-d85d-2e4a010bf545"
      },
      "outputs": [
        {
          "output_type": "stream",
          "name": "stdout",
          "text": [
            "[*********************100%%**********************]  1 of 1 completed\n",
            "[*********************100%%**********************]  1 of 1 completed\n",
            "[*********************100%%**********************]  1 of 1 completed\n"
          ]
        }
      ],
      "source": [
        "import pandas_datareader as pdr\n",
        "import yfinance as yf\n",
        "import datetime\n",
        "\n",
        "\n",
        "microsoft = yf.download('MSFT', start='1980-09-10', end=datetime.date.today())\n",
        "\n",
        "visa = yf.download('V', start='1980-09-10', end=datetime.date.today())\n",
        "\n",
        "walmart = yf.download('WMT', start='1980-09-10', end=datetime.date.today())"
      ]
    },
    {
      "cell_type": "code",
      "execution_count": null,
      "id": "08db6918",
      "metadata": {
        "id": "08db6918",
        "outputId": "07293aa3-5407-48ea-c24a-f4c876ad8a2b",
        "colab": {
          "base_uri": "https://localhost:8080/",
          "height": 679
        }
      },
      "outputs": [
        {
          "output_type": "execute_result",
          "data": {
            "text/plain": [
              "<matplotlib.legend.Legend at 0x7dbf36cfa620>"
            ]
          },
          "metadata": {},
          "execution_count": 8
        },
        {
          "output_type": "display_data",
          "data": {
            "text/plain": [
              "<Figure size 1000x800 with 1 Axes>"
            ],
            "image/png": "[encoded data removed]"
          },
          "metadata": {}
        }
      ],
      "source": [
        "plt.figure(figsize=(10,8))\n",
        "\n",
        "microsoft['Adj Close'].plot(label='MSFT')\n",
        "visa['Adj Close'].plot(label='V')\n",
        "walmart['Adj Close'].plot(label='WMT')\n",
        "\n",
        "plt.title('Prices')\n",
        "plt.legend()"
      ]
    },
    {
      "cell_type": "code",
      "execution_count": null,
      "id": "2147a7bd",
      "metadata": {
        "id": "2147a7bd",
        "outputId": "a501b8ec-cf4c-4909-99cb-36f70124e215",
        "colab": {
          "base_uri": "https://localhost:8080/",
          "height": 693
        }
      },
      "outputs": [
        {
          "output_type": "execute_result",
          "data": {
            "text/plain": [
              "<Axes: ylabel='Frequency'>"
            ]
          },
          "metadata": {},
          "execution_count": 9
        },
        {
          "output_type": "display_data",
          "data": {
            "text/plain": [
              "<Figure size 1000x800 with 1 Axes>"
            ],
            "image/png": "[encoded data removed]"
          },
          "metadata": {}
        }
      ],
      "source": [
        "plt.figure(figsize=(10,8))\n",
        "\n",
        "np.log(microsoft['Adj Close']).plot(kind='hist', bins=50, alpha=0.5)\n",
        "np.log(visa['Adj Close']).plot(kind='hist', bins=50, alpha=0.5)\n",
        "np.log(walmart['Adj Close']).plot(kind='hist', bins=50, alpha=0.5)"
      ]
    },
    {
      "cell_type": "markdown",
      "id": "17db95e9",
      "metadata": {
        "id": "17db95e9"
      },
      "source": [
        "# Portfolios\n",
        "<br>\n",
        "<font size=\"+1\">\n",
        "    <ul>\n",
        "        <li>One of the most important and commercialized applications of nonlinear optimization is the construction of optimal portfolios of assets.</li>\n",
        "        <br>\n",
        "        <li>Classically, there were two primary objectives that a manager would like to optimize for when composing a portfolio:</li>\n",
        "        <br>\n",
        "        <ul>\n",
        "            <li>maximize the expected return of the portfolio,</li>\n",
        "            <br>\n",
        "            <li>and minimize the risk associated with the portfoio.</li>\n",
        "            <br>\n",
        "        </ul>\n",
        "        <li>In most practical applications, these two objectives are at odds with each other (unless there exists an arbitrage).</li>\n",
        "        <br>\n",
        "        <li>That is, in order to achieve a higher expected return, one needs to incur a greater risk.</li>\n",
        "        <br>\n",
        "        <li>Assume you are a portfolio manager assembling a portfolio of assets composed of Microsoft, Visa, and Walmart.</li>\n",
        "        <br>\n",
        "        <li>You have gathered reliable data, and now you need to calculate the expected return and risk of these securities.</li>\n",
        "        <br>\n",
        "        <li>Note, the <b>return</b> of a security can be defined as the percentage change of the security's price $$r_{i,t} = \\frac{P_{i,t} - P_{i,t-1}}{P_{i,t-1}},$$ where $P_{i,t}$ is the price of security $i$ at time $t$.</li>\n",
        "        <br>\n",
        "        <li>Additionally, we can make a very crude estimate of the expected return of a security by taking the sample average of a time series of returns $$\\mathbb{E}[r_{i,t}] \\approx \\frac{1}{T}\\sum_{j=0}^{T-1} r_{i, t-j} \\ .$$</li>\n",
        "        <br>\n",
        "        <li>For Yahoo! Finance, you must use the <a href=\"https://in.help.yahoo.com/kb/adjusted-close-sln28256.html#:~:text=Adjusted%20close%20is%20the%20closing,Security%20Prices%20(CRSP)%20standards.\">adjusted close</a> when computing the close-to-close returns of a security.</li>\n",
        "        <br>\n",
        "        $\\rule{800pt}{10pt}$\n",
        "        <br>\n",
        "        <font color=\"blue\"><li style=\"color:blue\">We need to first compute </li></font>\n",
        "        <br>\n",
        "        <ul style=\"color:blue\">\n",
        "            <font color=\"blue\"><li>the close-to-close returns (be aware there are other types of returns you can create by using different time periods as well as trade versus quotes),</li>\n",
        "            <br>\n",
        "            <li>and then estimate the past expected return using some period of the data, let's jus say using two years of data.</li></font>\n",
        "            <br>\n",
        "        </ul>\n",
        "        <font color=\"blue\"><li style=\"color:blue\">Note these are <b>daily</b> quantities.</li></font>\n",
        "        <br>\n",
        "    </ul>\n",
        "</font>\n",
        "\n",
        "$\\square$"
      ]
    },
    {
      "cell_type": "code",
      "execution_count": null,
      "id": "1e401d53",
      "metadata": {
        "id": "1e401d53"
      },
      "outputs": [],
      "source": [
        "import datetime as dt\n",
        "\n",
        "today = dt.date.today()\n",
        "\n",
        "two_years_ago = today - dt.timedelta(days=2*365)"
      ]
    },
    {
      "cell_type": "code",
      "execution_count": null,
      "id": "b1ac0bf8",
      "metadata": {
        "id": "b1ac0bf8"
      },
      "outputs": [],
      "source": [
        "returns = pd.DataFrame()"
      ]
    },
    {
      "cell_type": "code",
      "execution_count": null,
      "id": "c3128455",
      "metadata": {
        "id": "c3128455"
      },
      "outputs": [],
      "source": [
        "returns['MSFT_ret'] = (microsoft.loc[two_years_ago:today, 'Adj Close'] / microsoft.loc[two_years_ago:today, 'Adj Close'].shift()) - 1\n",
        "\n",
        "returns['V_ret'] = (visa.loc[two_years_ago:today, 'Adj Close'] / visa.loc[two_years_ago:today, 'Adj Close'].shift()) - 1\n",
        "\n",
        "returns['WMT_ret'] = (walmart.loc[two_years_ago:today, 'Adj Close'] / walmart.loc[two_years_ago:today, 'Adj Close'].shift()) - 1"
      ]
    },
    {
      "cell_type": "code",
      "execution_count": null,
      "id": "39b79124",
      "metadata": {
        "id": "39b79124",
        "outputId": "6c774247-5834-424f-9832-6959a36836f6",
        "colab": {
          "base_uri": "https://localhost:8080/",
          "height": 455
        }
      },
      "outputs": [
        {
          "output_type": "execute_result",
          "data": {
            "text/plain": [
              "            MSFT_ret     V_ret   WMT_ret\n",
              "Date                                    \n",
              "2021-12-27       NaN       NaN       NaN\n",
              "2021-12-28 -0.003504  0.001930  0.014351\n",
              "2021-12-29  0.002051  0.000550 -0.000490\n",
              "2021-12-30 -0.007691 -0.001375  0.003223\n",
              "2021-12-31 -0.008841 -0.005324  0.010617\n",
              "...              ...       ...       ...\n",
              "2023-12-18  0.005179  0.001318  0.014600\n",
              "2023-12-19  0.001637  0.006270  0.003614\n",
              "2023-12-20 -0.007073 -0.011077 -0.011702\n",
              "2023-12-21  0.007879  0.009451  0.007091\n",
              "2023-12-22  0.002784 -0.004277  0.011951\n",
              "\n",
              "[502 rows x 3 columns]"
            ],
            "text/html": [
              "\n",
              "  <div id=\"df-b2e03263-ef02-455a-b452-4ecdcf73f518\" class=\"colab-df-container\">\n",
              "    <div>\n",
              "<style scoped>\n",
              "    .dataframe tbody tr th:only-of-type {\n",
              "        vertical-align: middle;\n",
              "    }\n",
              "\n",
              "    .dataframe tbody tr th {\n",
              "        vertical-align: top;\n",
              "    }\n",
              "\n",
              "    .dataframe thead th {\n",
              "        text-align: right;\n",
              "    }\n",
              "</style>\n",
              "<table border=\"1\" class=\"dataframe\">\n",
              "  <thead>\n",
              "    <tr style=\"text-align: right;\">\n",
              "      <th></th>\n",
              "      <th>MSFT_ret</th>\n",
              "      <th>V_ret</th>\n",
              "      <th>WMT_ret</th>\n",
              "    </tr>\n",
              "    <tr>\n",
              "      <th>Date</th>\n",
              "      <th></th>\n",
              "      <th></th>\n",
              "      <th></th>\n",
              "    </tr>\n",
              "  </thead>\n",
              "  <tbody>\n",
              "    <tr>\n",
              "      <th>2021-12-27</th>\n",
              "      <td>NaN</td>\n",
              "      <td>NaN</td>\n",
              "      <td>NaN</td>\n",
              "    </tr>\n",
              "    <tr>\n",
              "      <th>2021-12-28</th>\n",
              "      <td>-0.003504</td>\n",
              "      <td>0.001930</td>\n",
              "      <td>0.014351</td>\n",
              "    </tr>\n",
              "    <tr>\n",
              "      <th>2021-12-29</th>\n",
              "      <td>0.002051</td>\n",
              "      <td>0.000550</td>\n",
              "      <td>-0.000490</td>\n",
              "    </tr>\n",
              "    <tr>\n",
              "      <th>2021-12-30</th>\n",
              "      <td>-0.007691</td>\n",
              "      <td>-0.001375</td>\n",
              "      <td>0.003223</td>\n",
              "    </tr>\n",
              "    <tr>\n",
              "      <th>2021-12-31</th>\n",
              "      <td>-0.008841</td>\n",
              "      <td>-0.005324</td>\n",
              "      <td>0.010617</td>\n",
              "    </tr>\n",
              "    <tr>\n",
              "      <th>...</th>\n",
              "      <td>...</td>\n",
              "      <td>...</td>\n",
              "      <td>...</td>\n",
              "    </tr>\n",
              "    <tr>\n",
              "      <th>2023-12-18</th>\n",
              "      <td>0.005179</td>\n",
              "      <td>0.001318</td>\n",
              "      <td>0.014600</td>\n",
              "    </tr>\n",
              "    <tr>\n",
              "      <th>2023-12-19</th>\n",
              "      <td>0.001637</td>\n",
              "      <td>0.006270</td>\n",
              "      <td>0.003614</td>\n",
              "    </tr>\n",
              "    <tr>\n",
              "      <th>2023-12-20</th>\n",
              "      <td>-0.007073</td>\n",
              "      <td>-0.011077</td>\n",
              "      <td>-0.011702</td>\n",
              "    </tr>\n",
              "    <tr>\n",
              "      <th>2023-12-21</th>\n",
              "      <td>0.007879</td>\n",
              "      <td>0.009451</td>\n",
              "      <td>0.007091</td>\n",
              "    </tr>\n",
              "    <tr>\n",
              "      <th>2023-12-22</th>\n",
              "      <td>0.002784</td>\n",
              "      <td>-0.004277</td>\n",
              "      <td>0.011951</td>\n",
              "    </tr>\n",
              "  </tbody>\n",
              "</table>\n",
              "<p>502 rows × 3 columns</p>\n",
              "</div>\n",
              "    <div class=\"colab-df-buttons\">\n",
              "\n",
              "  <div class=\"colab-df-container\">\n",
              "    <button class=\"colab-df-convert\" onclick=\"convertToInteractive('df-b2e03263-ef02-455a-b452-4ecdcf73f518')\"\n",
              "            title=\"Convert this dataframe to an interactive table.\"\n",
              "            style=\"display:none;\">\n",
              "\n",
              "  <svg xmlns=\"http://www.w3.org/2000/svg\" height=\"24px\" viewBox=\"0 -960 960 960\">\n",
              "    <path d=\"M120-120v-720h720v720H120Zm60-500h600v-160H180v160Zm220 220h160v-160H400v160Zm0 220h160v-160H400v160ZM180-400h160v-160H180v160Zm440 0h160v-160H620v160ZM180-180h160v-160H180v160Zm440 0h160v-160H620v160Z\"/>\n",
              "  </svg>\n",
              "    </button>\n",
              "\n",
              "  <style>\n",
              "    .colab-df-container {\n",
              "      display:flex;\n",
              "      gap: 12px;\n",
              "    }\n",
              "\n",
              "    .colab-df-convert {\n",
              "      background-color: #E8F0FE;\n",
              "      border: none;\n",
              "      border-radius: 50%;\n",
              "      cursor: pointer;\n",
              "      display: none;\n",
              "      fill: #1967D2;\n",
              "      height: 32px;\n",
              "      padding: 0 0 0 0;\n",
              "      width: 32px;\n",
              "    }\n",
              "\n",
              "    .colab-df-convert:hover {\n",
              "      background-color: #E2EBFA;\n",
              "      box-shadow: 0px 1px 2px rgba(60, 64, 67, 0.3), 0px 1px 3px 1px rgba(60, 64, 67, 0.15);\n",
              "      fill: #174EA6;\n",
              "    }\n",
              "\n",
              "    .colab-df-buttons div {\n",
              "      margin-bottom: 4px;\n",
              "    }\n",
              "\n",
              "    [theme=dark] .colab-df-convert {\n",
              "      background-color: #3B4455;\n",
              "      fill: #D2E3FC;\n",
              "    }\n",
              "\n",
              "    [theme=dark] .colab-df-convert:hover {\n",
              "      background-color: #434B5C;\n",
              "      box-shadow: 0px 1px 3px 1px rgba(0, 0, 0, 0.15);\n",
              "      filter: drop-shadow(0px 1px 2px rgba(0, 0, 0, 0.3));\n",
              "      fill: #FFFFFF;\n",
              "    }\n",
              "  </style>\n",
              "\n",
              "    <script>\n",
              "      const buttonEl =\n",
              "        document.querySelector('#df-b2e03263-ef02-455a-b452-4ecdcf73f518 button.colab-df-convert');\n",
              "      buttonEl.style.display =\n",
              "        google.colab.kernel.accessAllowed ? 'block' : 'none';\n",
              "\n",
              "      async function convertToInteractive(key) {\n",
              "        const element = document.querySelector('#df-b2e03263-ef02-455a-b452-4ecdcf73f518');\n",
              "        const dataTable =\n",
              "          await google.colab.kernel.invokeFunction('convertToInteractive',\n",
              "                                                    [key], {});\n",
              "        if (!dataTable) return;\n",
              "\n",
              "        const docLinkHtml = 'Like what you see? Visit the ' +\n",
              "          '<a target=\"_blank\" href=https://colab.research.google.com/notebooks/data_table.ipynb>data table notebook</a>'\n",
              "          + ' to learn more about interactive tables.';\n",
              "        element.innerHTML = '';\n",
              "        dataTable['output_type'] = 'display_data';\n",
              "        await google.colab.output.renderOutput(dataTable, element);\n",
              "        const docLink = document.createElement('div');\n",
              "        docLink.innerHTML = docLinkHtml;\n",
              "        element.appendChild(docLink);\n",
              "      }\n",
              "    </script>\n",
              "  </div>\n",
              "\n",
              "\n",
              "<div id=\"df-8e5288b6-f891-4fab-af1c-69c5fb876cf0\">\n",
              "  <button class=\"colab-df-quickchart\" onclick=\"quickchart('df-8e5288b6-f891-4fab-af1c-69c5fb876cf0')\"\n",
              "            title=\"Suggest charts\"\n",
              "            style=\"display:none;\">\n",
              "\n",
              "<svg xmlns=\"http://www.w3.org/2000/svg\" height=\"24px\"viewBox=\"0 0 24 24\"\n",
              "     width=\"24px\">\n",
              "    <g>\n",
              "        <path d=\"M19 3H5c-1.1 0-2 .9-2 2v14c0 1.1.9 2 2 2h14c1.1 0 2-.9 2-2V5c0-1.1-.9-2-2-2zM9 17H7v-7h2v7zm4 0h-2V7h2v10zm4 0h-2v-4h2v4z\"/>\n",
              "    </g>\n",
              "</svg>\n",
              "  </button>\n",
              "\n",
              "<style>\n",
              "  .colab-df-quickchart {\n",
              "      --bg-color: #E8F0FE;\n",
              "      --fill-color: #1967D2;\n",
              "      --hover-bg-color: #E2EBFA;\n",
              "      --hover-fill-color: #174EA6;\n",
              "      --disabled-fill-color: #AAA;\n",
              "      --disabled-bg-color: #DDD;\n",
              "  }\n",
              "\n",
              "  [theme=dark] .colab-df-quickchart {\n",
              "      --bg-color: #3B4455;\n",
              "      --fill-color: #D2E3FC;\n",
              "      --hover-bg-color: #434B5C;\n",
              "      --hover-fill-color: #FFFFFF;\n",
              "      --disabled-bg-color: #3B4455;\n",
              "      --disabled-fill-color: #666;\n",
              "  }\n",
              "\n",
              "  .colab-df-quickchart {\n",
              "    background-color: var(--bg-color);\n",
              "    border: none;\n",
              "    border-radius: 50%;\n",
              "    cursor: pointer;\n",
              "    display: none;\n",
              "    fill: var(--fill-color);\n",
              "    height: 32px;\n",
              "    padding: 0;\n",
              "    width: 32px;\n",
              "  }\n",
              "\n",
              "  .colab-df-quickchart:hover {\n",
              "    background-color: var(--hover-bg-color);\n",
              "    box-shadow: 0 1px 2px rgba(60, 64, 67, 0.3), 0 1px 3px 1px rgba(60, 64, 67, 0.15);\n",
              "    fill: var(--button-hover-fill-color);\n",
              "  }\n",
              "\n",
              "  .colab-df-quickchart-complete:disabled,\n",
              "  .colab-df-quickchart-complete:disabled:hover {\n",
              "    background-color: var(--disabled-bg-color);\n",
              "    fill: var(--disabled-fill-color);\n",
              "    box-shadow: none;\n",
              "  }\n",
              "\n",
              "  .colab-df-spinner {\n",
              "    border: 2px solid var(--fill-color);\n",
              "    border-color: transparent;\n",
              "    border-bottom-color: var(--fill-color);\n",
              "    animation:\n",
              "      spin 1s steps(1) infinite;\n",
              "  }\n",
              "\n",
              "  @keyframes spin {\n",
              "    0% {\n",
              "      border-color: transparent;\n",
              "      border-bottom-color: var(--fill-color);\n",
              "      border-left-color: var(--fill-color);\n",
              "    }\n",
              "    20% {\n",
              "      border-color: transparent;\n",
              "      border-left-color: var(--fill-color);\n",
              "      border-top-color: var(--fill-color);\n",
              "    }\n",
              "    30% {\n",
              "      border-color: transparent;\n",
              "      border-left-color: var(--fill-color);\n",
              "      border-top-color: var(--fill-color);\n",
              "      border-right-color: var(--fill-color);\n",
              "    }\n",
              "    40% {\n",
              "      border-color: transparent;\n",
              "      border-right-color: var(--fill-color);\n",
              "      border-top-color: var(--fill-color);\n",
              "    }\n",
              "    60% {\n",
              "      border-color: transparent;\n",
              "      border-right-color: var(--fill-color);\n",
              "    }\n",
              "    80% {\n",
              "      border-color: transparent;\n",
              "      border-right-color: var(--fill-color);\n",
              "      border-bottom-color: var(--fill-color);\n",
              "    }\n",
              "    90% {\n",
              "      border-color: transparent;\n",
              "      border-bottom-color: var(--fill-color);\n",
              "    }\n",
              "  }\n",
              "</style>\n",
              "\n",
              "  <script>\n",
              "    async function quickchart(key) {\n",
              "      const quickchartButtonEl =\n",
              "        document.querySelector('#' + key + ' button');\n",
              "      quickchartButtonEl.disabled = true;  // To prevent multiple clicks.\n",
              "      quickchartButtonEl.classList.add('colab-df-spinner');\n",
              "      try {\n",
              "        const charts = await google.colab.kernel.invokeFunction(\n",
              "            'suggestCharts', [key], {});\n",
              "      } catch (error) {\n",
              "        console.error('Error during call to suggestCharts:', error);\n",
              "      }\n",
              "      quickchartButtonEl.classList.remove('colab-df-spinner');\n",
              "      quickchartButtonEl.classList.add('colab-df-quickchart-complete');\n",
              "    }\n",
              "    (() => {\n",
              "      let quickchartButtonEl =\n",
              "        document.querySelector('#df-8e5288b6-f891-4fab-af1c-69c5fb876cf0 button');\n",
              "      quickchartButtonEl.style.display =\n",
              "        google.colab.kernel.accessAllowed ? 'block' : 'none';\n",
              "    })();\n",
              "  </script>\n",
              "</div>\n",
              "    </div>\n",
              "  </div>\n"
            ]
          },
          "metadata": {},
          "execution_count": 11
        }
      ],
      "source": [
        "returns"
      ]
    },
    {
      "cell_type": "code",
      "execution_count": null,
      "id": "be834ead",
      "metadata": {
        "id": "be834ead",
        "outputId": "b222736f-da07-4179-b257-8e11df941b7c",
        "colab": {
          "base_uri": "https://localhost:8080/",
          "height": 450
        }
      },
      "outputs": [
        {
          "output_type": "execute_result",
          "data": {
            "text/plain": [
              "<Axes: xlabel='Date'>"
            ]
          },
          "metadata": {},
          "execution_count": 12
        },
        {
          "output_type": "display_data",
          "data": {
            "text/plain": [
              "<Figure size 640x480 with 1 Axes>"
            ],
            "image/png": "[encoded data removed]"
          },
          "metadata": {}
        }
      ],
      "source": [
        "returns.plot()"
      ]
    },
    {
      "cell_type": "code",
      "execution_count": null,
      "id": "3cd8c3d7",
      "metadata": {
        "id": "3cd8c3d7",
        "outputId": "c4491f4e-0152-4306-fd9f-d0d435dbd1ca",
        "colab": {
          "base_uri": "https://localhost:8080/",
          "height": 447
        }
      },
      "outputs": [
        {
          "output_type": "execute_result",
          "data": {
            "text/plain": [
              "<Axes: ylabel='Frequency'>"
            ]
          },
          "metadata": {},
          "execution_count": 13
        },
        {
          "output_type": "display_data",
          "data": {
            "text/plain": [
              "<Figure size 640x480 with 1 Axes>"
            ],
            "image/png": "[encoded data removed]"
          },
          "metadata": {}
        }
      ],
      "source": [
        "np.log(returns+1).plot(kind='hist', bins=100, alpha=0.5)"
      ]
    },
    {
      "cell_type": "code",
      "execution_count": null,
      "id": "a532bce1",
      "metadata": {
        "id": "a532bce1",
        "outputId": "a739ac54-c721-429a-84a4-fbc5bf9d495a",
        "colab": {
          "base_uri": "https://localhost:8080/",
          "height": 143
        }
      },
      "outputs": [
        {
          "output_type": "execute_result",
          "data": {
            "text/plain": [
              "              Mean  Volatility\n",
              "MSFT_ret  0.000402    0.019345\n",
              "V_ret     0.000492    0.015435\n",
              "WMT_ret   0.000372    0.013801"
            ],
            "text/html": [
              "\n",
              "  <div id=\"df-e20cd735-cdf4-4a5b-9f82-99477fb5d014\" class=\"colab-df-container\">\n",
              "    <div>\n",
              "<style scoped>\n",
              "    .dataframe tbody tr th:only-of-type {\n",
              "        vertical-align: middle;\n",
              "    }\n",
              "\n",
              "    .dataframe tbody tr th {\n",
              "        vertical-align: top;\n",
              "    }\n",
              "\n",
              "    .dataframe thead th {\n",
              "        text-align: right;\n",
              "    }\n",
              "</style>\n",
              "<table border=\"1\" class=\"dataframe\">\n",
              "  <thead>\n",
              "    <tr style=\"text-align: right;\">\n",
              "      <th></th>\n",
              "      <th>Mean</th>\n",
              "      <th>Volatility</th>\n",
              "    </tr>\n",
              "  </thead>\n",
              "  <tbody>\n",
              "    <tr>\n",
              "      <th>MSFT_ret</th>\n",
              "      <td>0.000402</td>\n",
              "      <td>0.019345</td>\n",
              "    </tr>\n",
              "    <tr>\n",
              "      <th>V_ret</th>\n",
              "      <td>0.000492</td>\n",
              "      <td>0.015435</td>\n",
              "    </tr>\n",
              "    <tr>\n",
              "      <th>WMT_ret</th>\n",
              "      <td>0.000372</td>\n",
              "      <td>0.013801</td>\n",
              "    </tr>\n",
              "  </tbody>\n",
              "</table>\n",
              "</div>\n",
              "    <div class=\"colab-df-buttons\">\n",
              "\n",
              "  <div class=\"colab-df-container\">\n",
              "    <button class=\"colab-df-convert\" onclick=\"convertToInteractive('df-e20cd735-cdf4-4a5b-9f82-99477fb5d014')\"\n",
              "            title=\"Convert this dataframe to an interactive table.\"\n",
              "            style=\"display:none;\">\n",
              "\n",
              "  <svg xmlns=\"http://www.w3.org/2000/svg\" height=\"24px\" viewBox=\"0 -960 960 960\">\n",
              "    <path d=\"M120-120v-720h720v720H120Zm60-500h600v-160H180v160Zm220 220h160v-160H400v160Zm0 220h160v-160H400v160ZM180-400h160v-160H180v160Zm440 0h160v-160H620v160ZM180-180h160v-160H180v160Zm440 0h160v-160H620v160Z\"/>\n",
              "  </svg>\n",
              "    </button>\n",
              "\n",
              "  <style>\n",
              "    .colab-df-container {\n",
              "      display:flex;\n",
              "      gap: 12px;\n",
              "    }\n",
              "\n",
              "    .colab-df-convert {\n",
              "      background-color: #E8F0FE;\n",
              "      border: none;\n",
              "      border-radius: 50%;\n",
              "      cursor: pointer;\n",
              "      display: none;\n",
              "      fill: #1967D2;\n",
              "      height: 32px;\n",
              "      padding: 0 0 0 0;\n",
              "      width: 32px;\n",
              "    }\n",
              "\n",
              "    .colab-df-convert:hover {\n",
              "      background-color: #E2EBFA;\n",
              "      box-shadow: 0px 1px 2px rgba(60, 64, 67, 0.3), 0px 1px 3px 1px rgba(60, 64, 67, 0.15);\n",
              "      fill: #174EA6;\n",
              "    }\n",
              "\n",
              "    .colab-df-buttons div {\n",
              "      margin-bottom: 4px;\n",
              "    }\n",
              "\n",
              "    [theme=dark] .colab-df-convert {\n",
              "      background-color: #3B4455;\n",
              "      fill: #D2E3FC;\n",
              "    }\n",
              "\n",
              "    [theme=dark] .colab-df-convert:hover {\n",
              "      background-color: #434B5C;\n",
              "      box-shadow: 0px 1px 3px 1px rgba(0, 0, 0, 0.15);\n",
              "      filter: drop-shadow(0px 1px 2px rgba(0, 0, 0, 0.3));\n",
              "      fill: #FFFFFF;\n",
              "    }\n",
              "  </style>\n",
              "\n",
              "    <script>\n",
              "      const buttonEl =\n",
              "        document.querySelector('#df-e20cd735-cdf4-4a5b-9f82-99477fb5d014 button.colab-df-convert');\n",
              "      buttonEl.style.display =\n",
              "        google.colab.kernel.accessAllowed ? 'block' : 'none';\n",
              "\n",
              "      async function convertToInteractive(key) {\n",
              "        const element = document.querySelector('#df-e20cd735-cdf4-4a5b-9f82-99477fb5d014');\n",
              "        const dataTable =\n",
              "          await google.colab.kernel.invokeFunction('convertToInteractive',\n",
              "                                                    [key], {});\n",
              "        if (!dataTable) return;\n",
              "\n",
              "        const docLinkHtml = 'Like what you see? Visit the ' +\n",
              "          '<a target=\"_blank\" href=https://colab.research.google.com/notebooks/data_table.ipynb>data table notebook</a>'\n",
              "          + ' to learn more about interactive tables.';\n",
              "        element.innerHTML = '';\n",
              "        dataTable['output_type'] = 'display_data';\n",
              "        await google.colab.output.renderOutput(dataTable, element);\n",
              "        const docLink = document.createElement('div');\n",
              "        docLink.innerHTML = docLinkHtml;\n",
              "        element.appendChild(docLink);\n",
              "      }\n",
              "    </script>\n",
              "  </div>\n",
              "\n",
              "\n",
              "<div id=\"df-257334dd-f6af-4cd7-887f-ae1726adea7a\">\n",
              "  <button class=\"colab-df-quickchart\" onclick=\"quickchart('df-257334dd-f6af-4cd7-887f-ae1726adea7a')\"\n",
              "            title=\"Suggest charts\"\n",
              "            style=\"display:none;\">\n",
              "\n",
              "<svg xmlns=\"http://www.w3.org/2000/svg\" height=\"24px\"viewBox=\"0 0 24 24\"\n",
              "     width=\"24px\">\n",
              "    <g>\n",
              "        <path d=\"M19 3H5c-1.1 0-2 .9-2 2v14c0 1.1.9 2 2 2h14c1.1 0 2-.9 2-2V5c0-1.1-.9-2-2-2zM9 17H7v-7h2v7zm4 0h-2V7h2v10zm4 0h-2v-4h2v4z\"/>\n",
              "    </g>\n",
              "</svg>\n",
              "  </button>\n",
              "\n",
              "<style>\n",
              "  .colab-df-quickchart {\n",
              "      --bg-color: #E8F0FE;\n",
              "      --fill-color: #1967D2;\n",
              "      --hover-bg-color: #E2EBFA;\n",
              "      --hover-fill-color: #174EA6;\n",
              "      --disabled-fill-color: #AAA;\n",
              "      --disabled-bg-color: #DDD;\n",
              "  }\n",
              "\n",
              "  [theme=dark] .colab-df-quickchart {\n",
              "      --bg-color: #3B4455;\n",
              "      --fill-color: #D2E3FC;\n",
              "      --hover-bg-color: #434B5C;\n",
              "      --hover-fill-color: #FFFFFF;\n",
              "      --disabled-bg-color: #3B4455;\n",
              "      --disabled-fill-color: #666;\n",
              "  }\n",
              "\n",
              "  .colab-df-quickchart {\n",
              "    background-color: var(--bg-color);\n",
              "    border: none;\n",
              "    border-radius: 50%;\n",
              "    cursor: pointer;\n",
              "    display: none;\n",
              "    fill: var(--fill-color);\n",
              "    height: 32px;\n",
              "    padding: 0;\n",
              "    width: 32px;\n",
              "  }\n",
              "\n",
              "  .colab-df-quickchart:hover {\n",
              "    background-color: var(--hover-bg-color);\n",
              "    box-shadow: 0 1px 2px rgba(60, 64, 67, 0.3), 0 1px 3px 1px rgba(60, 64, 67, 0.15);\n",
              "    fill: var(--button-hover-fill-color);\n",
              "  }\n",
              "\n",
              "  .colab-df-quickchart-complete:disabled,\n",
              "  .colab-df-quickchart-complete:disabled:hover {\n",
              "    background-color: var(--disabled-bg-color);\n",
              "    fill: var(--disabled-fill-color);\n",
              "    box-shadow: none;\n",
              "  }\n",
              "\n",
              "  .colab-df-spinner {\n",
              "    border: 2px solid var(--fill-color);\n",
              "    border-color: transparent;\n",
              "    border-bottom-color: var(--fill-color);\n",
              "    animation:\n",
              "      spin 1s steps(1) infinite;\n",
              "  }\n",
              "\n",
              "  @keyframes spin {\n",
              "    0% {\n",
              "      border-color: transparent;\n",
              "      border-bottom-color: var(--fill-color);\n",
              "      border-left-color: var(--fill-color);\n",
              "    }\n",
              "    20% {\n",
              "      border-color: transparent;\n",
              "      border-left-color: var(--fill-color);\n",
              "      border-top-color: var(--fill-color);\n",
              "    }\n",
              "    30% {\n",
              "      border-color: transparent;\n",
              "      border-left-color: var(--fill-color);\n",
              "      border-top-color: var(--fill-color);\n",
              "      border-right-color: var(--fill-color);\n",
              "    }\n",
              "    40% {\n",
              "      border-color: transparent;\n",
              "      border-right-color: var(--fill-color);\n",
              "      border-top-color: var(--fill-color);\n",
              "    }\n",
              "    60% {\n",
              "      border-color: transparent;\n",
              "      border-right-color: var(--fill-color);\n",
              "    }\n",
              "    80% {\n",
              "      border-color: transparent;\n",
              "      border-right-color: var(--fill-color);\n",
              "      border-bottom-color: var(--fill-color);\n",
              "    }\n",
              "    90% {\n",
              "      border-color: transparent;\n",
              "      border-bottom-color: var(--fill-color);\n",
              "    }\n",
              "  }\n",
              "</style>\n",
              "\n",
              "  <script>\n",
              "    async function quickchart(key) {\n",
              "      const quickchartButtonEl =\n",
              "        document.querySelector('#' + key + ' button');\n",
              "      quickchartButtonEl.disabled = true;  // To prevent multiple clicks.\n",
              "      quickchartButtonEl.classList.add('colab-df-spinner');\n",
              "      try {\n",
              "        const charts = await google.colab.kernel.invokeFunction(\n",
              "            'suggestCharts', [key], {});\n",
              "      } catch (error) {\n",
              "        console.error('Error during call to suggestCharts:', error);\n",
              "      }\n",
              "      quickchartButtonEl.classList.remove('colab-df-spinner');\n",
              "      quickchartButtonEl.classList.add('colab-df-quickchart-complete');\n",
              "    }\n",
              "    (() => {\n",
              "      let quickchartButtonEl =\n",
              "        document.querySelector('#df-257334dd-f6af-4cd7-887f-ae1726adea7a button');\n",
              "      quickchartButtonEl.style.display =\n",
              "        google.colab.kernel.accessAllowed ? 'block' : 'none';\n",
              "    })();\n",
              "  </script>\n",
              "</div>\n",
              "    </div>\n",
              "  </div>\n"
            ]
          },
          "metadata": {},
          "execution_count": 14
        }
      ],
      "source": [
        "mean_variance = pd.DataFrame({'Mean': returns.mean(),\n",
        "                              'Volatility': returns.std()})\n",
        "\n",
        "mean_variance"
      ]
    },
    {
      "cell_type": "code",
      "execution_count": null,
      "id": "3b2415f7",
      "metadata": {
        "id": "3b2415f7",
        "outputId": "ef78b964-f745-45e2-b920-e20ee996f4e6",
        "colab": {
          "base_uri": "https://localhost:8080/",
          "height": 143
        }
      },
      "outputs": [
        {
          "output_type": "execute_result",
          "data": {
            "text/plain": [
              "          MSFT_ret     V_ret   WMT_ret\n",
              "MSFT_ret  1.000000  0.568112  0.258598\n",
              "V_ret     0.568112  1.000000  0.220423\n",
              "WMT_ret   0.258598  0.220423  1.000000"
            ],
            "text/html": [
              "\n",
              "  <div id=\"df-1550201d-face-4a2c-be2a-6658c16098f2\" class=\"colab-df-container\">\n",
              "    <div>\n",
              "<style scoped>\n",
              "    .dataframe tbody tr th:only-of-type {\n",
              "        vertical-align: middle;\n",
              "    }\n",
              "\n",
              "    .dataframe tbody tr th {\n",
              "        vertical-align: top;\n",
              "    }\n",
              "\n",
              "    .dataframe thead th {\n",
              "        text-align: right;\n",
              "    }\n",
              "</style>\n",
              "<table border=\"1\" class=\"dataframe\">\n",
              "  <thead>\n",
              "    <tr style=\"text-align: right;\">\n",
              "      <th></th>\n",
              "      <th>MSFT_ret</th>\n",
              "      <th>V_ret</th>\n",
              "      <th>WMT_ret</th>\n",
              "    </tr>\n",
              "  </thead>\n",
              "  <tbody>\n",
              "    <tr>\n",
              "      <th>MSFT_ret</th>\n",
              "      <td>1.000000</td>\n",
              "      <td>0.568112</td>\n",
              "      <td>0.258598</td>\n",
              "    </tr>\n",
              "    <tr>\n",
              "      <th>V_ret</th>\n",
              "      <td>0.568112</td>\n",
              "      <td>1.000000</td>\n",
              "      <td>0.220423</td>\n",
              "    </tr>\n",
              "    <tr>\n",
              "      <th>WMT_ret</th>\n",
              "      <td>0.258598</td>\n",
              "      <td>0.220423</td>\n",
              "      <td>1.000000</td>\n",
              "    </tr>\n",
              "  </tbody>\n",
              "</table>\n",
              "</div>\n",
              "    <div class=\"colab-df-buttons\">\n",
              "\n",
              "  <div class=\"colab-df-container\">\n",
              "    <button class=\"colab-df-convert\" onclick=\"convertToInteractive('df-1550201d-face-4a2c-be2a-6658c16098f2')\"\n",
              "            title=\"Convert this dataframe to an interactive table.\"\n",
              "            style=\"display:none;\">\n",
              "\n",
              "  <svg xmlns=\"http://www.w3.org/2000/svg\" height=\"24px\" viewBox=\"0 -960 960 960\">\n",
              "    <path d=\"M120-120v-720h720v720H120Zm60-500h600v-160H180v160Zm220 220h160v-160H400v160Zm0 220h160v-160H400v160ZM180-400h160v-160H180v160Zm440 0h160v-160H620v160ZM180-180h160v-160H180v160Zm440 0h160v-160H620v160Z\"/>\n",
              "  </svg>\n",
              "    </button>\n",
              "\n",
              "  <style>\n",
              "    .colab-df-container {\n",
              "      display:flex;\n",
              "      gap: 12px;\n",
              "    }\n",
              "\n",
              "    .colab-df-convert {\n",
              "      background-color: #E8F0FE;\n",
              "      border: none;\n",
              "      border-radius: 50%;\n",
              "      cursor: pointer;\n",
              "      display: none;\n",
              "      fill: #1967D2;\n",
              "      height: 32px;\n",
              "      padding: 0 0 0 0;\n",
              "      width: 32px;\n",
              "    }\n",
              "\n",
              "    .colab-df-convert:hover {\n",
              "      background-color: #E2EBFA;\n",
              "      box-shadow: 0px 1px 2px rgba(60, 64, 67, 0.3), 0px 1px 3px 1px rgba(60, 64, 67, 0.15);\n",
              "      fill: #174EA6;\n",
              "    }\n",
              "\n",
              "    .colab-df-buttons div {\n",
              "      margin-bottom: 4px;\n",
              "    }\n",
              "\n",
              "    [theme=dark] .colab-df-convert {\n",
              "      background-color: #3B4455;\n",
              "      fill: #D2E3FC;\n",
              "    }\n",
              "\n",
              "    [theme=dark] .colab-df-convert:hover {\n",
              "      background-color: #434B5C;\n",
              "      box-shadow: 0px 1px 3px 1px rgba(0, 0, 0, 0.15);\n",
              "      filter: drop-shadow(0px 1px 2px rgba(0, 0, 0, 0.3));\n",
              "      fill: #FFFFFF;\n",
              "    }\n",
              "  </style>\n",
              "\n",
              "    <script>\n",
              "      const buttonEl =\n",
              "        document.querySelector('#df-1550201d-face-4a2c-be2a-6658c16098f2 button.colab-df-convert');\n",
              "      buttonEl.style.display =\n",
              "        google.colab.kernel.accessAllowed ? 'block' : 'none';\n",
              "\n",
              "      async function convertToInteractive(key) {\n",
              "        const element = document.querySelector('#df-1550201d-face-4a2c-be2a-6658c16098f2');\n",
              "        const dataTable =\n",
              "          await google.colab.kernel.invokeFunction('convertToInteractive',\n",
              "                                                    [key], {});\n",
              "        if (!dataTable) return;\n",
              "\n",
              "        const docLinkHtml = 'Like what you see? Visit the ' +\n",
              "          '<a target=\"_blank\" href=https://colab.research.google.com/notebooks/data_table.ipynb>data table notebook</a>'\n",
              "          + ' to learn more about interactive tables.';\n",
              "        element.innerHTML = '';\n",
              "        dataTable['output_type'] = 'display_data';\n",
              "        await google.colab.output.renderOutput(dataTable, element);\n",
              "        const docLink = document.createElement('div');\n",
              "        docLink.innerHTML = docLinkHtml;\n",
              "        element.appendChild(docLink);\n",
              "      }\n",
              "    </script>\n",
              "  </div>\n",
              "\n",
              "\n",
              "<div id=\"df-b55fff35-7dc4-47a5-9b73-da7192ba094f\">\n",
              "  <button class=\"colab-df-quickchart\" onclick=\"quickchart('df-b55fff35-7dc4-47a5-9b73-da7192ba094f')\"\n",
              "            title=\"Suggest charts\"\n",
              "            style=\"display:none;\">\n",
              "\n",
              "<svg xmlns=\"http://www.w3.org/2000/svg\" height=\"24px\"viewBox=\"0 0 24 24\"\n",
              "     width=\"24px\">\n",
              "    <g>\n",
              "        <path d=\"M19 3H5c-1.1 0-2 .9-2 2v14c0 1.1.9 2 2 2h14c1.1 0 2-.9 2-2V5c0-1.1-.9-2-2-2zM9 17H7v-7h2v7zm4 0h-2V7h2v10zm4 0h-2v-4h2v4z\"/>\n",
              "    </g>\n",
              "</svg>\n",
              "  </button>\n",
              "\n",
              "<style>\n",
              "  .colab-df-quickchart {\n",
              "      --bg-color: #E8F0FE;\n",
              "      --fill-color: #1967D2;\n",
              "      --hover-bg-color: #E2EBFA;\n",
              "      --hover-fill-color: #174EA6;\n",
              "      --disabled-fill-color: #AAA;\n",
              "      --disabled-bg-color: #DDD;\n",
              "  }\n",
              "\n",
              "  [theme=dark] .colab-df-quickchart {\n",
              "      --bg-color: #3B4455;\n",
              "      --fill-color: #D2E3FC;\n",
              "      --hover-bg-color: #434B5C;\n",
              "      --hover-fill-color: #FFFFFF;\n",
              "      --disabled-bg-color: #3B4455;\n",
              "      --disabled-fill-color: #666;\n",
              "  }\n",
              "\n",
              "  .colab-df-quickchart {\n",
              "    background-color: var(--bg-color);\n",
              "    border: none;\n",
              "    border-radius: 50%;\n",
              "    cursor: pointer;\n",
              "    display: none;\n",
              "    fill: var(--fill-color);\n",
              "    height: 32px;\n",
              "    padding: 0;\n",
              "    width: 32px;\n",
              "  }\n",
              "\n",
              "  .colab-df-quickchart:hover {\n",
              "    background-color: var(--hover-bg-color);\n",
              "    box-shadow: 0 1px 2px rgba(60, 64, 67, 0.3), 0 1px 3px 1px rgba(60, 64, 67, 0.15);\n",
              "    fill: var(--button-hover-fill-color);\n",
              "  }\n",
              "\n",
              "  .colab-df-quickchart-complete:disabled,\n",
              "  .colab-df-quickchart-complete:disabled:hover {\n",
              "    background-color: var(--disabled-bg-color);\n",
              "    fill: var(--disabled-fill-color);\n",
              "    box-shadow: none;\n",
              "  }\n",
              "\n",
              "  .colab-df-spinner {\n",
              "    border: 2px solid var(--fill-color);\n",
              "    border-color: transparent;\n",
              "    border-bottom-color: var(--fill-color);\n",
              "    animation:\n",
              "      spin 1s steps(1) infinite;\n",
              "  }\n",
              "\n",
              "  @keyframes spin {\n",
              "    0% {\n",
              "      border-color: transparent;\n",
              "      border-bottom-color: var(--fill-color);\n",
              "      border-left-color: var(--fill-color);\n",
              "    }\n",
              "    20% {\n",
              "      border-color: transparent;\n",
              "      border-left-color: var(--fill-color);\n",
              "      border-top-color: var(--fill-color);\n",
              "    }\n",
              "    30% {\n",
              "      border-color: transparent;\n",
              "      border-left-color: var(--fill-color);\n",
              "      border-top-color: var(--fill-color);\n",
              "      border-right-color: var(--fill-color);\n",
              "    }\n",
              "    40% {\n",
              "      border-color: transparent;\n",
              "      border-right-color: var(--fill-color);\n",
              "      border-top-color: var(--fill-color);\n",
              "    }\n",
              "    60% {\n",
              "      border-color: transparent;\n",
              "      border-right-color: var(--fill-color);\n",
              "    }\n",
              "    80% {\n",
              "      border-color: transparent;\n",
              "      border-right-color: var(--fill-color);\n",
              "      border-bottom-color: var(--fill-color);\n",
              "    }\n",
              "    90% {\n",
              "      border-color: transparent;\n",
              "      border-bottom-color: var(--fill-color);\n",
              "    }\n",
              "  }\n",
              "</style>\n",
              "\n",
              "  <script>\n",
              "    async function quickchart(key) {\n",
              "      const quickchartButtonEl =\n",
              "        document.querySelector('#' + key + ' button');\n",
              "      quickchartButtonEl.disabled = true;  // To prevent multiple clicks.\n",
              "      quickchartButtonEl.classList.add('colab-df-spinner');\n",
              "      try {\n",
              "        const charts = await google.colab.kernel.invokeFunction(\n",
              "            'suggestCharts', [key], {});\n",
              "      } catch (error) {\n",
              "        console.error('Error during call to suggestCharts:', error);\n",
              "      }\n",
              "      quickchartButtonEl.classList.remove('colab-df-spinner');\n",
              "      quickchartButtonEl.classList.add('colab-df-quickchart-complete');\n",
              "    }\n",
              "    (() => {\n",
              "      let quickchartButtonEl =\n",
              "        document.querySelector('#df-b55fff35-7dc4-47a5-9b73-da7192ba094f button');\n",
              "      quickchartButtonEl.style.display =\n",
              "        google.colab.kernel.accessAllowed ? 'block' : 'none';\n",
              "    })();\n",
              "  </script>\n",
              "</div>\n",
              "    </div>\n",
              "  </div>\n"
            ]
          },
          "metadata": {},
          "execution_count": 15
        }
      ],
      "source": [
        "corr_matrix = returns.corr()\n",
        "\n",
        "corr_matrix"
      ]
    },
    {
      "cell_type": "code",
      "execution_count": null,
      "id": "128b09b5",
      "metadata": {
        "id": "128b09b5",
        "outputId": "e8f03836-ecab-450e-c675-bd9763d8c9bf",
        "colab": {
          "base_uri": "https://localhost:8080/",
          "height": 143
        }
      },
      "outputs": [
        {
          "output_type": "execute_result",
          "data": {
            "text/plain": [
              "          MSFT_ret     V_ret   WMT_ret\n",
              "MSFT_ret  0.000374  0.000170  0.000069\n",
              "V_ret     0.000170  0.000238  0.000047\n",
              "WMT_ret   0.000069  0.000047  0.000190"
            ],
            "text/html": [
              "\n",
              "  <div id=\"df-d7f695da-f328-4738-bd01-5503a2c2e8e2\" class=\"colab-df-container\">\n",
              "    <div>\n",
              "<style scoped>\n",
              "    .dataframe tbody tr th:only-of-type {\n",
              "        vertical-align: middle;\n",
              "    }\n",
              "\n",
              "    .dataframe tbody tr th {\n",
              "        vertical-align: top;\n",
              "    }\n",
              "\n",
              "    .dataframe thead th {\n",
              "        text-align: right;\n",
              "    }\n",
              "</style>\n",
              "<table border=\"1\" class=\"dataframe\">\n",
              "  <thead>\n",
              "    <tr style=\"text-align: right;\">\n",
              "      <th></th>\n",
              "      <th>MSFT_ret</th>\n",
              "      <th>V_ret</th>\n",
              "      <th>WMT_ret</th>\n",
              "    </tr>\n",
              "  </thead>\n",
              "  <tbody>\n",
              "    <tr>\n",
              "      <th>MSFT_ret</th>\n",
              "      <td>0.000374</td>\n",
              "      <td>0.000170</td>\n",
              "      <td>0.000069</td>\n",
              "    </tr>\n",
              "    <tr>\n",
              "      <th>V_ret</th>\n",
              "      <td>0.000170</td>\n",
              "      <td>0.000238</td>\n",
              "      <td>0.000047</td>\n",
              "    </tr>\n",
              "    <tr>\n",
              "      <th>WMT_ret</th>\n",
              "      <td>0.000069</td>\n",
              "      <td>0.000047</td>\n",
              "      <td>0.000190</td>\n",
              "    </tr>\n",
              "  </tbody>\n",
              "</table>\n",
              "</div>\n",
              "    <div class=\"colab-df-buttons\">\n",
              "\n",
              "  <div class=\"colab-df-container\">\n",
              "    <button class=\"colab-df-convert\" onclick=\"convertToInteractive('df-d7f695da-f328-4738-bd01-5503a2c2e8e2')\"\n",
              "            title=\"Convert this dataframe to an interactive table.\"\n",
              "            style=\"display:none;\">\n",
              "\n",
              "  <svg xmlns=\"http://www.w3.org/2000/svg\" height=\"24px\" viewBox=\"0 -960 960 960\">\n",
              "    <path d=\"M120-120v-720h720v720H120Zm60-500h600v-160H180v160Zm220 220h160v-160H400v160Zm0 220h160v-160H400v160ZM180-400h160v-160H180v160Zm440 0h160v-160H620v160ZM180-180h160v-160H180v160Zm440 0h160v-160H620v160Z\"/>\n",
              "  </svg>\n",
              "    </button>\n",
              "\n",
              "  <style>\n",
              "    .colab-df-container {\n",
              "      display:flex;\n",
              "      gap: 12px;\n",
              "    }\n",
              "\n",
              "    .colab-df-convert {\n",
              "      background-color: #E8F0FE;\n",
              "      border: none;\n",
              "      border-radius: 50%;\n",
              "      cursor: pointer;\n",
              "      display: none;\n",
              "      fill: #1967D2;\n",
              "      height: 32px;\n",
              "      padding: 0 0 0 0;\n",
              "      width: 32px;\n",
              "    }\n",
              "\n",
              "    .colab-df-convert:hover {\n",
              "      background-color: #E2EBFA;\n",
              "      box-shadow: 0px 1px 2px rgba(60, 64, 67, 0.3), 0px 1px 3px 1px rgba(60, 64, 67, 0.15);\n",
              "      fill: #174EA6;\n",
              "    }\n",
              "\n",
              "    .colab-df-buttons div {\n",
              "      margin-bottom: 4px;\n",
              "    }\n",
              "\n",
              "    [theme=dark] .colab-df-convert {\n",
              "      background-color: #3B4455;\n",
              "      fill: #D2E3FC;\n",
              "    }\n",
              "\n",
              "    [theme=dark] .colab-df-convert:hover {\n",
              "      background-color: #434B5C;\n",
              "      box-shadow: 0px 1px 3px 1px rgba(0, 0, 0, 0.15);\n",
              "      filter: drop-shadow(0px 1px 2px rgba(0, 0, 0, 0.3));\n",
              "      fill: #FFFFFF;\n",
              "    }\n",
              "  </style>\n",
              "\n",
              "    <script>\n",
              "      const buttonEl =\n",
              "        document.querySelector('#df-d7f695da-f328-4738-bd01-5503a2c2e8e2 button.colab-df-convert');\n",
              "      buttonEl.style.display =\n",
              "        google.colab.kernel.accessAllowed ? 'block' : 'none';\n",
              "\n",
              "      async function convertToInteractive(key) {\n",
              "        const element = document.querySelector('#df-d7f695da-f328-4738-bd01-5503a2c2e8e2');\n",
              "        const dataTable =\n",
              "          await google.colab.kernel.invokeFunction('convertToInteractive',\n",
              "                                                    [key], {});\n",
              "        if (!dataTable) return;\n",
              "\n",
              "        const docLinkHtml = 'Like what you see? Visit the ' +\n",
              "          '<a target=\"_blank\" href=https://colab.research.google.com/notebooks/data_table.ipynb>data table notebook</a>'\n",
              "          + ' to learn more about interactive tables.';\n",
              "        element.innerHTML = '';\n",
              "        dataTable['output_type'] = 'display_data';\n",
              "        await google.colab.output.renderOutput(dataTable, element);\n",
              "        const docLink = document.createElement('div');\n",
              "        docLink.innerHTML = docLinkHtml;\n",
              "        element.appendChild(docLink);\n",
              "      }\n",
              "    </script>\n",
              "  </div>\n",
              "\n",
              "\n",
              "<div id=\"df-03a8f8a1-06b5-4d13-963e-79a38b1273a3\">\n",
              "  <button class=\"colab-df-quickchart\" onclick=\"quickchart('df-03a8f8a1-06b5-4d13-963e-79a38b1273a3')\"\n",
              "            title=\"Suggest charts\"\n",
              "            style=\"display:none;\">\n",
              "\n",
              "<svg xmlns=\"http://www.w3.org/2000/svg\" height=\"24px\"viewBox=\"0 0 24 24\"\n",
              "     width=\"24px\">\n",
              "    <g>\n",
              "        <path d=\"M19 3H5c-1.1 0-2 .9-2 2v14c0 1.1.9 2 2 2h14c1.1 0 2-.9 2-2V5c0-1.1-.9-2-2-2zM9 17H7v-7h2v7zm4 0h-2V7h2v10zm4 0h-2v-4h2v4z\"/>\n",
              "    </g>\n",
              "</svg>\n",
              "  </button>\n",
              "\n",
              "<style>\n",
              "  .colab-df-quickchart {\n",
              "      --bg-color: #E8F0FE;\n",
              "      --fill-color: #1967D2;\n",
              "      --hover-bg-color: #E2EBFA;\n",
              "      --hover-fill-color: #174EA6;\n",
              "      --disabled-fill-color: #AAA;\n",
              "      --disabled-bg-color: #DDD;\n",
              "  }\n",
              "\n",
              "  [theme=dark] .colab-df-quickchart {\n",
              "      --bg-color: #3B4455;\n",
              "      --fill-color: #D2E3FC;\n",
              "      --hover-bg-color: #434B5C;\n",
              "      --hover-fill-color: #FFFFFF;\n",
              "      --disabled-bg-color: #3B4455;\n",
              "      --disabled-fill-color: #666;\n",
              "  }\n",
              "\n",
              "  .colab-df-quickchart {\n",
              "    background-color: var(--bg-color);\n",
              "    border: none;\n",
              "    border-radius: 50%;\n",
              "    cursor: pointer;\n",
              "    display: none;\n",
              "    fill: var(--fill-color);\n",
              "    height: 32px;\n",
              "    padding: 0;\n",
              "    width: 32px;\n",
              "  }\n",
              "\n",
              "  .colab-df-quickchart:hover {\n",
              "    background-color: var(--hover-bg-color);\n",
              "    box-shadow: 0 1px 2px rgba(60, 64, 67, 0.3), 0 1px 3px 1px rgba(60, 64, 67, 0.15);\n",
              "    fill: var(--button-hover-fill-color);\n",
              "  }\n",
              "\n",
              "  .colab-df-quickchart-complete:disabled,\n",
              "  .colab-df-quickchart-complete:disabled:hover {\n",
              "    background-color: var(--disabled-bg-color);\n",
              "    fill: var(--disabled-fill-color);\n",
              "    box-shadow: none;\n",
              "  }\n",
              "\n",
              "  .colab-df-spinner {\n",
              "    border: 2px solid var(--fill-color);\n",
              "    border-color: transparent;\n",
              "    border-bottom-color: var(--fill-color);\n",
              "    animation:\n",
              "      spin 1s steps(1) infinite;\n",
              "  }\n",
              "\n",
              "  @keyframes spin {\n",
              "    0% {\n",
              "      border-color: transparent;\n",
              "      border-bottom-color: var(--fill-color);\n",
              "      border-left-color: var(--fill-color);\n",
              "    }\n",
              "    20% {\n",
              "      border-color: transparent;\n",
              "      border-left-color: var(--fill-color);\n",
              "      border-top-color: var(--fill-color);\n",
              "    }\n",
              "    30% {\n",
              "      border-color: transparent;\n",
              "      border-left-color: var(--fill-color);\n",
              "      border-top-color: var(--fill-color);\n",
              "      border-right-color: var(--fill-color);\n",
              "    }\n",
              "    40% {\n",
              "      border-color: transparent;\n",
              "      border-right-color: var(--fill-color);\n",
              "      border-top-color: var(--fill-color);\n",
              "    }\n",
              "    60% {\n",
              "      border-color: transparent;\n",
              "      border-right-color: var(--fill-color);\n",
              "    }\n",
              "    80% {\n",
              "      border-color: transparent;\n",
              "      border-right-color: var(--fill-color);\n",
              "      border-bottom-color: var(--fill-color);\n",
              "    }\n",
              "    90% {\n",
              "      border-color: transparent;\n",
              "      border-bottom-color: var(--fill-color);\n",
              "    }\n",
              "  }\n",
              "</style>\n",
              "\n",
              "  <script>\n",
              "    async function quickchart(key) {\n",
              "      const quickchartButtonEl =\n",
              "        document.querySelector('#' + key + ' button');\n",
              "      quickchartButtonEl.disabled = true;  // To prevent multiple clicks.\n",
              "      quickchartButtonEl.classList.add('colab-df-spinner');\n",
              "      try {\n",
              "        const charts = await google.colab.kernel.invokeFunction(\n",
              "            'suggestCharts', [key], {});\n",
              "      } catch (error) {\n",
              "        console.error('Error during call to suggestCharts:', error);\n",
              "      }\n",
              "      quickchartButtonEl.classList.remove('colab-df-spinner');\n",
              "      quickchartButtonEl.classList.add('colab-df-quickchart-complete');\n",
              "    }\n",
              "    (() => {\n",
              "      let quickchartButtonEl =\n",
              "        document.querySelector('#df-03a8f8a1-06b5-4d13-963e-79a38b1273a3 button');\n",
              "      quickchartButtonEl.style.display =\n",
              "        google.colab.kernel.accessAllowed ? 'block' : 'none';\n",
              "    })();\n",
              "  </script>\n",
              "</div>\n",
              "    </div>\n",
              "  </div>\n"
            ]
          },
          "metadata": {},
          "execution_count": 16
        }
      ],
      "source": [
        "covariance_matrix = returns.cov()\n",
        "\n",
        "covariance_matrix"
      ]
    },
    {
      "cell_type": "code",
      "execution_count": null,
      "id": "0d75e947",
      "metadata": {
        "id": "0d75e947",
        "outputId": "4a0d5670-121a-4562-9545-956ba761d297",
        "colab": {
          "base_uri": "https://localhost:8080/",
          "height": 143
        }
      },
      "outputs": [
        {
          "output_type": "execute_result",
          "data": {
            "text/plain": [
              "              Mean  Volatility  MSFT_ret     V_ret   WMT_ret\n",
              "MSFT_ret  0.000402    0.019345  1.000000  0.568112  0.258598\n",
              "V_ret     0.000492    0.015435  0.568112  1.000000  0.220423\n",
              "WMT_ret   0.000372    0.013801  0.258598  0.220423  1.000000"
            ],
            "text/html": [
              "\n",
              "  <div id=\"df-91c42b5f-666c-4297-beb9-a72cedba8d57\" class=\"colab-df-container\">\n",
              "    <div>\n",
              "<style scoped>\n",
              "    .dataframe tbody tr th:only-of-type {\n",
              "        vertical-align: middle;\n",
              "    }\n",
              "\n",
              "    .dataframe tbody tr th {\n",
              "        vertical-align: top;\n",
              "    }\n",
              "\n",
              "    .dataframe thead th {\n",
              "        text-align: right;\n",
              "    }\n",
              "</style>\n",
              "<table border=\"1\" class=\"dataframe\">\n",
              "  <thead>\n",
              "    <tr style=\"text-align: right;\">\n",
              "      <th></th>\n",
              "      <th>Mean</th>\n",
              "      <th>Volatility</th>\n",
              "      <th>MSFT_ret</th>\n",
              "      <th>V_ret</th>\n",
              "      <th>WMT_ret</th>\n",
              "    </tr>\n",
              "  </thead>\n",
              "  <tbody>\n",
              "    <tr>\n",
              "      <th>MSFT_ret</th>\n",
              "      <td>0.000402</td>\n",
              "      <td>0.019345</td>\n",
              "      <td>1.000000</td>\n",
              "      <td>0.568112</td>\n",
              "      <td>0.258598</td>\n",
              "    </tr>\n",
              "    <tr>\n",
              "      <th>V_ret</th>\n",
              "      <td>0.000492</td>\n",
              "      <td>0.015435</td>\n",
              "      <td>0.568112</td>\n",
              "      <td>1.000000</td>\n",
              "      <td>0.220423</td>\n",
              "    </tr>\n",
              "    <tr>\n",
              "      <th>WMT_ret</th>\n",
              "      <td>0.000372</td>\n",
              "      <td>0.013801</td>\n",
              "      <td>0.258598</td>\n",
              "      <td>0.220423</td>\n",
              "      <td>1.000000</td>\n",
              "    </tr>\n",
              "  </tbody>\n",
              "</table>\n",
              "</div>\n",
              "    <div class=\"colab-df-buttons\">\n",
              "\n",
              "  <div class=\"colab-df-container\">\n",
              "    <button class=\"colab-df-convert\" onclick=\"convertToInteractive('df-91c42b5f-666c-4297-beb9-a72cedba8d57')\"\n",
              "            title=\"Convert this dataframe to an interactive table.\"\n",
              "            style=\"display:none;\">\n",
              "\n",
              "  <svg xmlns=\"http://www.w3.org/2000/svg\" height=\"24px\" viewBox=\"0 -960 960 960\">\n",
              "    <path d=\"M120-120v-720h720v720H120Zm60-500h600v-160H180v160Zm220 220h160v-160H400v160Zm0 220h160v-160H400v160ZM180-400h160v-160H180v160Zm440 0h160v-160H620v160ZM180-180h160v-160H180v160Zm440 0h160v-160H620v160Z\"/>\n",
              "  </svg>\n",
              "    </button>\n",
              "\n",
              "  <style>\n",
              "    .colab-df-container {\n",
              "      display:flex;\n",
              "      gap: 12px;\n",
              "    }\n",
              "\n",
              "    .colab-df-convert {\n",
              "      background-color: #E8F0FE;\n",
              "      border: none;\n",
              "      border-radius: 50%;\n",
              "      cursor: pointer;\n",
              "      display: none;\n",
              "      fill: #1967D2;\n",
              "      height: 32px;\n",
              "      padding: 0 0 0 0;\n",
              "      width: 32px;\n",
              "    }\n",
              "\n",
              "    .colab-df-convert:hover {\n",
              "      background-color: #E2EBFA;\n",
              "      box-shadow: 0px 1px 2px rgba(60, 64, 67, 0.3), 0px 1px 3px 1px rgba(60, 64, 67, 0.15);\n",
              "      fill: #174EA6;\n",
              "    }\n",
              "\n",
              "    .colab-df-buttons div {\n",
              "      margin-bottom: 4px;\n",
              "    }\n",
              "\n",
              "    [theme=dark] .colab-df-convert {\n",
              "      background-color: #3B4455;\n",
              "      fill: #D2E3FC;\n",
              "    }\n",
              "\n",
              "    [theme=dark] .colab-df-convert:hover {\n",
              "      background-color: #434B5C;\n",
              "      box-shadow: 0px 1px 3px 1px rgba(0, 0, 0, 0.15);\n",
              "      filter: drop-shadow(0px 1px 2px rgba(0, 0, 0, 0.3));\n",
              "      fill: #FFFFFF;\n",
              "    }\n",
              "  </style>\n",
              "\n",
              "    <script>\n",
              "      const buttonEl =\n",
              "        document.querySelector('#df-91c42b5f-666c-4297-beb9-a72cedba8d57 button.colab-df-convert');\n",
              "      buttonEl.style.display =\n",
              "        google.colab.kernel.accessAllowed ? 'block' : 'none';\n",
              "\n",
              "      async function convertToInteractive(key) {\n",
              "        const element = document.querySelector('#df-91c42b5f-666c-4297-beb9-a72cedba8d57');\n",
              "        const dataTable =\n",
              "          await google.colab.kernel.invokeFunction('convertToInteractive',\n",
              "                                                    [key], {});\n",
              "        if (!dataTable) return;\n",
              "\n",
              "        const docLinkHtml = 'Like what you see? Visit the ' +\n",
              "          '<a target=\"_blank\" href=https://colab.research.google.com/notebooks/data_table.ipynb>data table notebook</a>'\n",
              "          + ' to learn more about interactive tables.';\n",
              "        element.innerHTML = '';\n",
              "        dataTable['output_type'] = 'display_data';\n",
              "        await google.colab.output.renderOutput(dataTable, element);\n",
              "        const docLink = document.createElement('div');\n",
              "        docLink.innerHTML = docLinkHtml;\n",
              "        element.appendChild(docLink);\n",
              "      }\n",
              "    </script>\n",
              "  </div>\n",
              "\n",
              "\n",
              "<div id=\"df-6dc8ad96-8d4f-4315-88c0-9a6ae15c1a53\">\n",
              "  <button class=\"colab-df-quickchart\" onclick=\"quickchart('df-6dc8ad96-8d4f-4315-88c0-9a6ae15c1a53')\"\n",
              "            title=\"Suggest charts\"\n",
              "            style=\"display:none;\">\n",
              "\n",
              "<svg xmlns=\"http://www.w3.org/2000/svg\" height=\"24px\"viewBox=\"0 0 24 24\"\n",
              "     width=\"24px\">\n",
              "    <g>\n",
              "        <path d=\"M19 3H5c-1.1 0-2 .9-2 2v14c0 1.1.9 2 2 2h14c1.1 0 2-.9 2-2V5c0-1.1-.9-2-2-2zM9 17H7v-7h2v7zm4 0h-2V7h2v10zm4 0h-2v-4h2v4z\"/>\n",
              "    </g>\n",
              "</svg>\n",
              "  </button>\n",
              "\n",
              "<style>\n",
              "  .colab-df-quickchart {\n",
              "      --bg-color: #E8F0FE;\n",
              "      --fill-color: #1967D2;\n",
              "      --hover-bg-color: #E2EBFA;\n",
              "      --hover-fill-color: #174EA6;\n",
              "      --disabled-fill-color: #AAA;\n",
              "      --disabled-bg-color: #DDD;\n",
              "  }\n",
              "\n",
              "  [theme=dark] .colab-df-quickchart {\n",
              "      --bg-color: #3B4455;\n",
              "      --fill-color: #D2E3FC;\n",
              "      --hover-bg-color: #434B5C;\n",
              "      --hover-fill-color: #FFFFFF;\n",
              "      --disabled-bg-color: #3B4455;\n",
              "      --disabled-fill-color: #666;\n",
              "  }\n",
              "\n",
              "  .colab-df-quickchart {\n",
              "    background-color: var(--bg-color);\n",
              "    border: none;\n",
              "    border-radius: 50%;\n",
              "    cursor: pointer;\n",
              "    display: none;\n",
              "    fill: var(--fill-color);\n",
              "    height: 32px;\n",
              "    padding: 0;\n",
              "    width: 32px;\n",
              "  }\n",
              "\n",
              "  .colab-df-quickchart:hover {\n",
              "    background-color: var(--hover-bg-color);\n",
              "    box-shadow: 0 1px 2px rgba(60, 64, 67, 0.3), 0 1px 3px 1px rgba(60, 64, 67, 0.15);\n",
              "    fill: var(--button-hover-fill-color);\n",
              "  }\n",
              "\n",
              "  .colab-df-quickchart-complete:disabled,\n",
              "  .colab-df-quickchart-complete:disabled:hover {\n",
              "    background-color: var(--disabled-bg-color);\n",
              "    fill: var(--disabled-fill-color);\n",
              "    box-shadow: none;\n",
              "  }\n",
              "\n",
              "  .colab-df-spinner {\n",
              "    border: 2px solid var(--fill-color);\n",
              "    border-color: transparent;\n",
              "    border-bottom-color: var(--fill-color);\n",
              "    animation:\n",
              "      spin 1s steps(1) infinite;\n",
              "  }\n",
              "\n",
              "  @keyframes spin {\n",
              "    0% {\n",
              "      border-color: transparent;\n",
              "      border-bottom-color: var(--fill-color);\n",
              "      border-left-color: var(--fill-color);\n",
              "    }\n",
              "    20% {\n",
              "      border-color: transparent;\n",
              "      border-left-color: var(--fill-color);\n",
              "      border-top-color: var(--fill-color);\n",
              "    }\n",
              "    30% {\n",
              "      border-color: transparent;\n",
              "      border-left-color: var(--fill-color);\n",
              "      border-top-color: var(--fill-color);\n",
              "      border-right-color: var(--fill-color);\n",
              "    }\n",
              "    40% {\n",
              "      border-color: transparent;\n",
              "      border-right-color: var(--fill-color);\n",
              "      border-top-color: var(--fill-color);\n",
              "    }\n",
              "    60% {\n",
              "      border-color: transparent;\n",
              "      border-right-color: var(--fill-color);\n",
              "    }\n",
              "    80% {\n",
              "      border-color: transparent;\n",
              "      border-right-color: var(--fill-color);\n",
              "      border-bottom-color: var(--fill-color);\n",
              "    }\n",
              "    90% {\n",
              "      border-color: transparent;\n",
              "      border-bottom-color: var(--fill-color);\n",
              "    }\n",
              "  }\n",
              "</style>\n",
              "\n",
              "  <script>\n",
              "    async function quickchart(key) {\n",
              "      const quickchartButtonEl =\n",
              "        document.querySelector('#' + key + ' button');\n",
              "      quickchartButtonEl.disabled = true;  // To prevent multiple clicks.\n",
              "      quickchartButtonEl.classList.add('colab-df-spinner');\n",
              "      try {\n",
              "        const charts = await google.colab.kernel.invokeFunction(\n",
              "            'suggestCharts', [key], {});\n",
              "      } catch (error) {\n",
              "        console.error('Error during call to suggestCharts:', error);\n",
              "      }\n",
              "      quickchartButtonEl.classList.remove('colab-df-spinner');\n",
              "      quickchartButtonEl.classList.add('colab-df-quickchart-complete');\n",
              "    }\n",
              "    (() => {\n",
              "      let quickchartButtonEl =\n",
              "        document.querySelector('#df-6dc8ad96-8d4f-4315-88c0-9a6ae15c1a53 button');\n",
              "      quickchartButtonEl.style.display =\n",
              "        google.colab.kernel.accessAllowed ? 'block' : 'none';\n",
              "    })();\n",
              "  </script>\n",
              "</div>\n",
              "    </div>\n",
              "  </div>\n"
            ]
          },
          "metadata": {},
          "execution_count": 17
        }
      ],
      "source": [
        "mean_variance_correlations = pd.concat([mean_variance, corr_matrix], axis=1)\n",
        "\n",
        "mean_variance_correlations"
      ]
    },
    {
      "cell_type": "markdown",
      "id": "c68c87b5",
      "metadata": {
        "id": "c68c87b5"
      },
      "source": [
        "<br>\n",
        "<font size=\"+1\">\n",
        "    <ul>\n",
        "        <li>The see the expected return and variance of the three securities for a single day, as well as the cross-correlations between the securities.</li>\n",
        "        <br>\n",
        "        <font color=\"red\"><li style=\"color:red\">Recall, the correlation between two variables $(X_i, X_j)$ is defined as $$\\rho_{X_i, X_j} = \\frac{Cov(X_i, X_j)}{\\sqrt{Var(X_i)} \\ \\sqrt{Var(X_j)}} \\ , $$ and measures the extent to which the two variables <b>linearly</b> move together.</li></font>\n",
        "        <br>\n",
        "        <li>This is far from what you would use in practice, and there are so many ways to innovate on obtaining these estimates using analytics techniques, both old and new.</li>\n",
        "        <br>\n",
        "        <li>How might this change if we used different horizons?</li>\n",
        "        <br>\n",
        "        <li>How can you think of these estimates (pros and cons) and how they're going to be used from the different perspectives of</li>\n",
        "        <br>\n",
        "        <ul>\n",
        "            <li>descriptive analytics,</li>\n",
        "            <br>\n",
        "            <li>predictive analytics,</li>\n",
        "            <br>\n",
        "            <li>prescriptive analytics,</li>\n",
        "            <br>\n",
        "            <li>and business development and strategy, as well as product management?</li>\n",
        "            <br>\n",
        "        </ul>\n",
        "    </ul>\n",
        "</font>\n",
        "\n",
        "$\\square$"
      ]
    },
    {
      "cell_type": "markdown",
      "id": "a2f9fd45",
      "metadata": {
        "id": "a2f9fd45"
      },
      "source": [
        "## Concrete Formulation\n",
        "<br>\n",
        "<font size=\"+1\">\n",
        "    <ul>\n",
        "        <li>You would like to determine what fraction (weights) of your assets-under-management dollars to invest in each of the given firms above.</li>\n",
        "        <br>\n",
        "        <li>If you didn't have optimization and modeling skills, what would you do?</li>\n",
        "        <br>\n",
        "        <ul>\n",
        "            <li>Are there heuristics?</li>\n",
        "            <br>\n",
        "            <li>Are there pros or cons to an over or under optimized system?</li>\n",
        "            <br>\n",
        "            <li>What should you expect to get?</li>\n",
        "            <br>\n",
        "            <li>How do you think about communicating your decisions to clients?</li>\n",
        "            <br>\n",
        "            <li>How can this help with scaling?</li>\n",
        "            <br>\n",
        "            <li>etc.?</li>\n",
        "            <br>\n",
        "        </ul>\n",
        "    </ul>\n",
        "</font>"
      ]
    },
    {
      "cell_type": "code",
      "execution_count": null,
      "id": "6979b957",
      "metadata": {
        "id": "6979b957",
        "outputId": "aad04ffd-7c50-4904-e575-8dd7d887ebb7",
        "colab": {
          "base_uri": "https://localhost:8080/",
          "height": 143
        }
      },
      "outputs": [
        {
          "output_type": "execute_result",
          "data": {
            "text/plain": [
              "              Mean  Volatility  MSFT_ret     V_ret   WMT_ret\n",
              "MSFT_ret  0.000402    0.019345  1.000000  0.568112  0.258598\n",
              "V_ret     0.000492    0.015435  0.568112  1.000000  0.220423\n",
              "WMT_ret   0.000372    0.013801  0.258598  0.220423  1.000000"
            ],
            "text/html": [
              "\n",
              "  <div id=\"df-f742c5fc-bf62-46bd-8a63-c2a5c33be86a\" class=\"colab-df-container\">\n",
              "    <div>\n",
              "<style scoped>\n",
              "    .dataframe tbody tr th:only-of-type {\n",
              "        vertical-align: middle;\n",
              "    }\n",
              "\n",
              "    .dataframe tbody tr th {\n",
              "        vertical-align: top;\n",
              "    }\n",
              "\n",
              "    .dataframe thead th {\n",
              "        text-align: right;\n",
              "    }\n",
              "</style>\n",
              "<table border=\"1\" class=\"dataframe\">\n",
              "  <thead>\n",
              "    <tr style=\"text-align: right;\">\n",
              "      <th></th>\n",
              "      <th>Mean</th>\n",
              "      <th>Volatility</th>\n",
              "      <th>MSFT_ret</th>\n",
              "      <th>V_ret</th>\n",
              "      <th>WMT_ret</th>\n",
              "    </tr>\n",
              "  </thead>\n",
              "  <tbody>\n",
              "    <tr>\n",
              "      <th>MSFT_ret</th>\n",
              "      <td>0.000402</td>\n",
              "      <td>0.019345</td>\n",
              "      <td>1.000000</td>\n",
              "      <td>0.568112</td>\n",
              "      <td>0.258598</td>\n",
              "    </tr>\n",
              "    <tr>\n",
              "      <th>V_ret</th>\n",
              "      <td>0.000492</td>\n",
              "      <td>0.015435</td>\n",
              "      <td>0.568112</td>\n",
              "      <td>1.000000</td>\n",
              "      <td>0.220423</td>\n",
              "    </tr>\n",
              "    <tr>\n",
              "      <th>WMT_ret</th>\n",
              "      <td>0.000372</td>\n",
              "      <td>0.013801</td>\n",
              "      <td>0.258598</td>\n",
              "      <td>0.220423</td>\n",
              "      <td>1.000000</td>\n",
              "    </tr>\n",
              "  </tbody>\n",
              "</table>\n",
              "</div>\n",
              "    <div class=\"colab-df-buttons\">\n",
              "\n",
              "  <div class=\"colab-df-container\">\n",
              "    <button class=\"colab-df-convert\" onclick=\"convertToInteractive('df-f742c5fc-bf62-46bd-8a63-c2a5c33be86a')\"\n",
              "            title=\"Convert this dataframe to an interactive table.\"\n",
              "            style=\"display:none;\">\n",
              "\n",
              "  <svg xmlns=\"http://www.w3.org/2000/svg\" height=\"24px\" viewBox=\"0 -960 960 960\">\n",
              "    <path d=\"M120-120v-720h720v720H120Zm60-500h600v-160H180v160Zm220 220h160v-160H400v160Zm0 220h160v-160H400v160ZM180-400h160v-160H180v160Zm440 0h160v-160H620v160ZM180-180h160v-160H180v160Zm440 0h160v-160H620v160Z\"/>\n",
              "  </svg>\n",
              "    </button>\n",
              "\n",
              "  <style>\n",
              "    .colab-df-container {\n",
              "      display:flex;\n",
              "      gap: 12px;\n",
              "    }\n",
              "\n",
              "    .colab-df-convert {\n",
              "      background-color: #E8F0FE;\n",
              "      border: none;\n",
              "      border-radius: 50%;\n",
              "      cursor: pointer;\n",
              "      display: none;\n",
              "      fill: #1967D2;\n",
              "      height: 32px;\n",
              "      padding: 0 0 0 0;\n",
              "      width: 32px;\n",
              "    }\n",
              "\n",
              "    .colab-df-convert:hover {\n",
              "      background-color: #E2EBFA;\n",
              "      box-shadow: 0px 1px 2px rgba(60, 64, 67, 0.3), 0px 1px 3px 1px rgba(60, 64, 67, 0.15);\n",
              "      fill: #174EA6;\n",
              "    }\n",
              "\n",
              "    .colab-df-buttons div {\n",
              "      margin-bottom: 4px;\n",
              "    }\n",
              "\n",
              "    [theme=dark] .colab-df-convert {\n",
              "      background-color: #3B4455;\n",
              "      fill: #D2E3FC;\n",
              "    }\n",
              "\n",
              "    [theme=dark] .colab-df-convert:hover {\n",
              "      background-color: #434B5C;\n",
              "      box-shadow: 0px 1px 3px 1px rgba(0, 0, 0, 0.15);\n",
              "      filter: drop-shadow(0px 1px 2px rgba(0, 0, 0, 0.3));\n",
              "      fill: #FFFFFF;\n",
              "    }\n",
              "  </style>\n",
              "\n",
              "    <script>\n",
              "      const buttonEl =\n",
              "        document.querySelector('#df-f742c5fc-bf62-46bd-8a63-c2a5c33be86a button.colab-df-convert');\n",
              "      buttonEl.style.display =\n",
              "        google.colab.kernel.accessAllowed ? 'block' : 'none';\n",
              "\n",
              "      async function convertToInteractive(key) {\n",
              "        const element = document.querySelector('#df-f742c5fc-bf62-46bd-8a63-c2a5c33be86a');\n",
              "        const dataTable =\n",
              "          await google.colab.kernel.invokeFunction('convertToInteractive',\n",
              "                                                    [key], {});\n",
              "        if (!dataTable) return;\n",
              "\n",
              "        const docLinkHtml = 'Like what you see? Visit the ' +\n",
              "          '<a target=\"_blank\" href=https://colab.research.google.com/notebooks/data_table.ipynb>data table notebook</a>'\n",
              "          + ' to learn more about interactive tables.';\n",
              "        element.innerHTML = '';\n",
              "        dataTable['output_type'] = 'display_data';\n",
              "        await google.colab.output.renderOutput(dataTable, element);\n",
              "        const docLink = document.createElement('div');\n",
              "        docLink.innerHTML = docLinkHtml;\n",
              "        element.appendChild(docLink);\n",
              "      }\n",
              "    </script>\n",
              "  </div>\n",
              "\n",
              "\n",
              "<div id=\"df-f7e4005d-6795-45d2-9c1c-e28690cbed04\">\n",
              "  <button class=\"colab-df-quickchart\" onclick=\"quickchart('df-f7e4005d-6795-45d2-9c1c-e28690cbed04')\"\n",
              "            title=\"Suggest charts\"\n",
              "            style=\"display:none;\">\n",
              "\n",
              "<svg xmlns=\"http://www.w3.org/2000/svg\" height=\"24px\"viewBox=\"0 0 24 24\"\n",
              "     width=\"24px\">\n",
              "    <g>\n",
              "        <path d=\"M19 3H5c-1.1 0-2 .9-2 2v14c0 1.1.9 2 2 2h14c1.1 0 2-.9 2-2V5c0-1.1-.9-2-2-2zM9 17H7v-7h2v7zm4 0h-2V7h2v10zm4 0h-2v-4h2v4z\"/>\n",
              "    </g>\n",
              "</svg>\n",
              "  </button>\n",
              "\n",
              "<style>\n",
              "  .colab-df-quickchart {\n",
              "      --bg-color: #E8F0FE;\n",
              "      --fill-color: #1967D2;\n",
              "      --hover-bg-color: #E2EBFA;\n",
              "      --hover-fill-color: #174EA6;\n",
              "      --disabled-fill-color: #AAA;\n",
              "      --disabled-bg-color: #DDD;\n",
              "  }\n",
              "\n",
              "  [theme=dark] .colab-df-quickchart {\n",
              "      --bg-color: #3B4455;\n",
              "      --fill-color: #D2E3FC;\n",
              "      --hover-bg-color: #434B5C;\n",
              "      --hover-fill-color: #FFFFFF;\n",
              "      --disabled-bg-color: #3B4455;\n",
              "      --disabled-fill-color: #666;\n",
              "  }\n",
              "\n",
              "  .colab-df-quickchart {\n",
              "    background-color: var(--bg-color);\n",
              "    border: none;\n",
              "    border-radius: 50%;\n",
              "    cursor: pointer;\n",
              "    display: none;\n",
              "    fill: var(--fill-color);\n",
              "    height: 32px;\n",
              "    padding: 0;\n",
              "    width: 32px;\n",
              "  }\n",
              "\n",
              "  .colab-df-quickchart:hover {\n",
              "    background-color: var(--hover-bg-color);\n",
              "    box-shadow: 0 1px 2px rgba(60, 64, 67, 0.3), 0 1px 3px 1px rgba(60, 64, 67, 0.15);\n",
              "    fill: var(--button-hover-fill-color);\n",
              "  }\n",
              "\n",
              "  .colab-df-quickchart-complete:disabled,\n",
              "  .colab-df-quickchart-complete:disabled:hover {\n",
              "    background-color: var(--disabled-bg-color);\n",
              "    fill: var(--disabled-fill-color);\n",
              "    box-shadow: none;\n",
              "  }\n",
              "\n",
              "  .colab-df-spinner {\n",
              "    border: 2px solid var(--fill-color);\n",
              "    border-color: transparent;\n",
              "    border-bottom-color: var(--fill-color);\n",
              "    animation:\n",
              "      spin 1s steps(1) infinite;\n",
              "  }\n",
              "\n",
              "  @keyframes spin {\n",
              "    0% {\n",
              "      border-color: transparent;\n",
              "      border-bottom-color: var(--fill-color);\n",
              "      border-left-color: var(--fill-color);\n",
              "    }\n",
              "    20% {\n",
              "      border-color: transparent;\n",
              "      border-left-color: var(--fill-color);\n",
              "      border-top-color: var(--fill-color);\n",
              "    }\n",
              "    30% {\n",
              "      border-color: transparent;\n",
              "      border-left-color: var(--fill-color);\n",
              "      border-top-color: var(--fill-color);\n",
              "      border-right-color: var(--fill-color);\n",
              "    }\n",
              "    40% {\n",
              "      border-color: transparent;\n",
              "      border-right-color: var(--fill-color);\n",
              "      border-top-color: var(--fill-color);\n",
              "    }\n",
              "    60% {\n",
              "      border-color: transparent;\n",
              "      border-right-color: var(--fill-color);\n",
              "    }\n",
              "    80% {\n",
              "      border-color: transparent;\n",
              "      border-right-color: var(--fill-color);\n",
              "      border-bottom-color: var(--fill-color);\n",
              "    }\n",
              "    90% {\n",
              "      border-color: transparent;\n",
              "      border-bottom-color: var(--fill-color);\n",
              "    }\n",
              "  }\n",
              "</style>\n",
              "\n",
              "  <script>\n",
              "    async function quickchart(key) {\n",
              "      const quickchartButtonEl =\n",
              "        document.querySelector('#' + key + ' button');\n",
              "      quickchartButtonEl.disabled = true;  // To prevent multiple clicks.\n",
              "      quickchartButtonEl.classList.add('colab-df-spinner');\n",
              "      try {\n",
              "        const charts = await google.colab.kernel.invokeFunction(\n",
              "            'suggestCharts', [key], {});\n",
              "      } catch (error) {\n",
              "        console.error('Error during call to suggestCharts:', error);\n",
              "      }\n",
              "      quickchartButtonEl.classList.remove('colab-df-spinner');\n",
              "      quickchartButtonEl.classList.add('colab-df-quickchart-complete');\n",
              "    }\n",
              "    (() => {\n",
              "      let quickchartButtonEl =\n",
              "        document.querySelector('#df-f7e4005d-6795-45d2-9c1c-e28690cbed04 button');\n",
              "      quickchartButtonEl.style.display =\n",
              "        google.colab.kernel.accessAllowed ? 'block' : 'none';\n",
              "    })();\n",
              "  </script>\n",
              "</div>\n",
              "    </div>\n",
              "  </div>\n"
            ]
          },
          "metadata": {},
          "execution_count": 18
        }
      ],
      "source": [
        "mean_variance_correlations"
      ]
    },
    {
      "cell_type": "markdown",
      "id": "f378ae86",
      "metadata": {
        "id": "f378ae86"
      },
      "source": [
        "### Decision Variables\n",
        "<br>\n",
        "<font size=\"+1\">\n",
        "    <ul>\n",
        "        <li>What are the problem's decision variables?</li>\n",
        "        <br>\n",
        "        <li>\\begin{align}\n",
        "        w_1 & = \\text{ fraction invested in security 1} \\\\\n",
        "        w_2 & = \\text{ fraction invested in security 2} \\\\\n",
        "        w_3 & = \\text{ fraction invested in security 3} \\\\\n",
        "        \\end{align}</li>\n",
        "        <br>\n",
        "    </ul>\n",
        "</font>\n",
        "\n",
        "$\\square$"
      ]
    },
    {
      "cell_type": "code",
      "execution_count": null,
      "id": "599c4800",
      "metadata": {
        "id": "599c4800"
      },
      "outputs": [],
      "source": [
        "portfolio_weights = cp.Variable(len(mean_variance_correlations))\n",
        "\n",
        "weight_msft = portfolio_weights[0]\n",
        "\n",
        "weight_v = portfolio_weights[1]\n",
        "\n",
        "weight_wmt = portfolio_weights[2]"
      ]
    },
    {
      "cell_type": "markdown",
      "id": "6884330d",
      "metadata": {
        "id": "6884330d"
      },
      "source": [
        "### Objective\n",
        "<br>\n",
        "<font size=\"+1\">\n",
        "    <ul>\n",
        "        <li>Assume, due to the nature of our client's request, we seek to find an allocation combination that achieves a prescribed expected daily rate of return of $0.03\\% = 0.0003$, that is, $3$ basis point per day (corresponds to about $8\\%$ per year), while minimizing risk.</li>\n",
        "        <br>\n",
        "        <li>Assume risk is measured as the standard deviation of a portfolio.</li>\n",
        "        <br>\n",
        "        <li>First, we have to calculate the return of a portfolio as function of its constituent securities and their weights, which is $$r_p = w_1 r_1 + w_2 r_2 + w_3 r_3 .$$</li>\n",
        "        <br>\n",
        "        <li>Next, we must calculate the expected return of a portfolio, which is $$\\mathbb{E}[r_p] = w_1 \\mathbb{E}[r_1] + w_2 \\mathbb{E}[r_2] + w_3 \\mathbb{E}[r_3].$$</li>\n",
        "        <br>\n",
        "        <li>Finally, we need to calculate the standard deviation of the return of a portfolio, which is, $$\\sigma(r_p) = \\sqrt{Var(r_p)} = \\cdots = \\\\ \\left[ w_1^2 \\sigma^2(r_1) + w_2^2 \\sigma^2(r_2)  + w_3^2 \\sigma^2(r_3) + \\\\ 2 w_1 w_2 \\sigma(r_1) \\sigma(r_2) \\rho_{r_1, r_2} + 2 w_1 w_3 \\sigma(r_1) \\sigma(r_3) \\rho_{r_1, r_3} + 2 w_2 w_3 \\sigma(r_2) \\sigma(r_3) \\rho_{r_2, r_3} \\right]^{\\frac{1}{2}} \\\\ =: risk(w_1, w_2, w_3).$$</li>\n",
        "        <br>\n",
        "        <font color=\"red\"><li style=\"color:red\">The objective function $risk(w_1, w_2, w_3)$ depends on the decision variables $(w_1, w_2, w_3)$ in a nonlinear way since it involves $w_i^2$ and $w_i w_j$. In other words, it is a nonlinear objective function in the decision variables.</li></font>\n",
        "        <br>\n",
        "        <li>This leads to the following objective.</li>\n",
        "        <br>\n",
        "        <li>\\begin{align}\n",
        "        \\text{minimize: } & risk(w_1, w_2, w_3) \\\\\n",
        "        \\end{align}</li>\n",
        "        <br>\n",
        "        <li>Equivalently, \\begin{align}\n",
        "        \\text{minimize: } & [ w_1^2 \\sigma^2(r_1) + w_2^2 \\sigma^2(r_2)  + w_3^2 \\sigma^2(r_3) \\\\\n",
        "        &+ 2 w_1 w_2 \\sigma(r_1) \\sigma(r_2) \\rho_{r_1, r_2} \\\\\n",
        "        &+ 2 w_1 w_3 \\sigma(r_1) \\sigma(r_3) \\rho_{r_1, r_3} \\\\\n",
        "        &+ 2 w_2 w_3 \\sigma(r_2) \\sigma(r_3) \\rho_{r_2, r_3} ]^{\\frac{1}{2}} \\\\\n",
        "        \\end{align}</li>\n",
        "        <br>\n",
        "        <li>The desire to hit a rate of return of at least $3$ basis points is a <b>constraint</b>, which will be discussed next.</li>\n",
        "        <br>\n",
        "        <li>Because there are many quantities that are being held fixed and depend on the data, it is the perfect spot to use <a href=\"https://www.cvxpy.org/tutorial/intro/index.html#parameters\">CVXPY's parameters object</a> for the firms' </li>\n",
        "        <br>\n",
        "        <ul>\n",
        "            <li>expected return $\\mathbb{E}[r_p]$,</li>\n",
        "            <br>\n",
        "            <li>variance $\\sigma^2(r_i)$,</li>\n",
        "            <br>\n",
        "            <li>standard deviations $\\sigma(r_i)$, also known as volatility,</li>\n",
        "            <br>\n",
        "            <li>and cross-correlations $\\rho_{r_i, r_j}$.</li>\n",
        "            <br>\n",
        "        </ul>\n",
        "        <br>\n",
        "    </ul>\n",
        "</font>\n",
        "\n",
        "$\\square$"
      ]
    },
    {
      "cell_type": "code",
      "execution_count": null,
      "id": "516cf6d4",
      "metadata": {
        "scrolled": true,
        "id": "516cf6d4",
        "outputId": "e090ca6e-36f7-49ef-91f8-492b01fca285",
        "colab": {
          "base_uri": "https://localhost:8080/",
          "height": 143
        }
      },
      "outputs": [
        {
          "output_type": "execute_result",
          "data": {
            "text/plain": [
              "              Mean  Volatility  MSFT_ret     V_ret   WMT_ret\n",
              "MSFT_ret  0.000402    0.019345  1.000000  0.568112  0.258598\n",
              "V_ret     0.000492    0.015435  0.568112  1.000000  0.220423\n",
              "WMT_ret   0.000372    0.013801  0.258598  0.220423  1.000000"
            ],
            "text/html": [
              "\n",
              "  <div id=\"df-96b9cbbb-bd4e-41a6-87c8-ca32471dc9bf\" class=\"colab-df-container\">\n",
              "    <div>\n",
              "<style scoped>\n",
              "    .dataframe tbody tr th:only-of-type {\n",
              "        vertical-align: middle;\n",
              "    }\n",
              "\n",
              "    .dataframe tbody tr th {\n",
              "        vertical-align: top;\n",
              "    }\n",
              "\n",
              "    .dataframe thead th {\n",
              "        text-align: right;\n",
              "    }\n",
              "</style>\n",
              "<table border=\"1\" class=\"dataframe\">\n",
              "  <thead>\n",
              "    <tr style=\"text-align: right;\">\n",
              "      <th></th>\n",
              "      <th>Mean</th>\n",
              "      <th>Volatility</th>\n",
              "      <th>MSFT_ret</th>\n",
              "      <th>V_ret</th>\n",
              "      <th>WMT_ret</th>\n",
              "    </tr>\n",
              "  </thead>\n",
              "  <tbody>\n",
              "    <tr>\n",
              "      <th>MSFT_ret</th>\n",
              "      <td>0.000402</td>\n",
              "      <td>0.019345</td>\n",
              "      <td>1.000000</td>\n",
              "      <td>0.568112</td>\n",
              "      <td>0.258598</td>\n",
              "    </tr>\n",
              "    <tr>\n",
              "      <th>V_ret</th>\n",
              "      <td>0.000492</td>\n",
              "      <td>0.015435</td>\n",
              "      <td>0.568112</td>\n",
              "      <td>1.000000</td>\n",
              "      <td>0.220423</td>\n",
              "    </tr>\n",
              "    <tr>\n",
              "      <th>WMT_ret</th>\n",
              "      <td>0.000372</td>\n",
              "      <td>0.013801</td>\n",
              "      <td>0.258598</td>\n",
              "      <td>0.220423</td>\n",
              "      <td>1.000000</td>\n",
              "    </tr>\n",
              "  </tbody>\n",
              "</table>\n",
              "</div>\n",
              "    <div class=\"colab-df-buttons\">\n",
              "\n",
              "  <div class=\"colab-df-container\">\n",
              "    <button class=\"colab-df-convert\" onclick=\"convertToInteractive('df-96b9cbbb-bd4e-41a6-87c8-ca32471dc9bf')\"\n",
              "            title=\"Convert this dataframe to an interactive table.\"\n",
              "            style=\"display:none;\">\n",
              "\n",
              "  <svg xmlns=\"http://www.w3.org/2000/svg\" height=\"24px\" viewBox=\"0 -960 960 960\">\n",
              "    <path d=\"M120-120v-720h720v720H120Zm60-500h600v-160H180v160Zm220 220h160v-160H400v160Zm0 220h160v-160H400v160ZM180-400h160v-160H180v160Zm440 0h160v-160H620v160ZM180-180h160v-160H180v160Zm440 0h160v-160H620v160Z\"/>\n",
              "  </svg>\n",
              "    </button>\n",
              "\n",
              "  <style>\n",
              "    .colab-df-container {\n",
              "      display:flex;\n",
              "      gap: 12px;\n",
              "    }\n",
              "\n",
              "    .colab-df-convert {\n",
              "      background-color: #E8F0FE;\n",
              "      border: none;\n",
              "      border-radius: 50%;\n",
              "      cursor: pointer;\n",
              "      display: none;\n",
              "      fill: #1967D2;\n",
              "      height: 32px;\n",
              "      padding: 0 0 0 0;\n",
              "      width: 32px;\n",
              "    }\n",
              "\n",
              "    .colab-df-convert:hover {\n",
              "      background-color: #E2EBFA;\n",
              "      box-shadow: 0px 1px 2px rgba(60, 64, 67, 0.3), 0px 1px 3px 1px rgba(60, 64, 67, 0.15);\n",
              "      fill: #174EA6;\n",
              "    }\n",
              "\n",
              "    .colab-df-buttons div {\n",
              "      margin-bottom: 4px;\n",
              "    }\n",
              "\n",
              "    [theme=dark] .colab-df-convert {\n",
              "      background-color: #3B4455;\n",
              "      fill: #D2E3FC;\n",
              "    }\n",
              "\n",
              "    [theme=dark] .colab-df-convert:hover {\n",
              "      background-color: #434B5C;\n",
              "      box-shadow: 0px 1px 3px 1px rgba(0, 0, 0, 0.15);\n",
              "      filter: drop-shadow(0px 1px 2px rgba(0, 0, 0, 0.3));\n",
              "      fill: #FFFFFF;\n",
              "    }\n",
              "  </style>\n",
              "\n",
              "    <script>\n",
              "      const buttonEl =\n",
              "        document.querySelector('#df-96b9cbbb-bd4e-41a6-87c8-ca32471dc9bf button.colab-df-convert');\n",
              "      buttonEl.style.display =\n",
              "        google.colab.kernel.accessAllowed ? 'block' : 'none';\n",
              "\n",
              "      async function convertToInteractive(key) {\n",
              "        const element = document.querySelector('#df-96b9cbbb-bd4e-41a6-87c8-ca32471dc9bf');\n",
              "        const dataTable =\n",
              "          await google.colab.kernel.invokeFunction('convertToInteractive',\n",
              "                                                    [key], {});\n",
              "        if (!dataTable) return;\n",
              "\n",
              "        const docLinkHtml = 'Like what you see? Visit the ' +\n",
              "          '<a target=\"_blank\" href=https://colab.research.google.com/notebooks/data_table.ipynb>data table notebook</a>'\n",
              "          + ' to learn more about interactive tables.';\n",
              "        element.innerHTML = '';\n",
              "        dataTable['output_type'] = 'display_data';\n",
              "        await google.colab.output.renderOutput(dataTable, element);\n",
              "        const docLink = document.createElement('div');\n",
              "        docLink.innerHTML = docLinkHtml;\n",
              "        element.appendChild(docLink);\n",
              "      }\n",
              "    </script>\n",
              "  </div>\n",
              "\n",
              "\n",
              "<div id=\"df-2cb5db29-6fc9-42a3-b780-c27725f7c796\">\n",
              "  <button class=\"colab-df-quickchart\" onclick=\"quickchart('df-2cb5db29-6fc9-42a3-b780-c27725f7c796')\"\n",
              "            title=\"Suggest charts\"\n",
              "            style=\"display:none;\">\n",
              "\n",
              "<svg xmlns=\"http://www.w3.org/2000/svg\" height=\"24px\"viewBox=\"0 0 24 24\"\n",
              "     width=\"24px\">\n",
              "    <g>\n",
              "        <path d=\"M19 3H5c-1.1 0-2 .9-2 2v14c0 1.1.9 2 2 2h14c1.1 0 2-.9 2-2V5c0-1.1-.9-2-2-2zM9 17H7v-7h2v7zm4 0h-2V7h2v10zm4 0h-2v-4h2v4z\"/>\n",
              "    </g>\n",
              "</svg>\n",
              "  </button>\n",
              "\n",
              "<style>\n",
              "  .colab-df-quickchart {\n",
              "      --bg-color: #E8F0FE;\n",
              "      --fill-color: #1967D2;\n",
              "      --hover-bg-color: #E2EBFA;\n",
              "      --hover-fill-color: #174EA6;\n",
              "      --disabled-fill-color: #AAA;\n",
              "      --disabled-bg-color: #DDD;\n",
              "  }\n",
              "\n",
              "  [theme=dark] .colab-df-quickchart {\n",
              "      --bg-color: #3B4455;\n",
              "      --fill-color: #D2E3FC;\n",
              "      --hover-bg-color: #434B5C;\n",
              "      --hover-fill-color: #FFFFFF;\n",
              "      --disabled-bg-color: #3B4455;\n",
              "      --disabled-fill-color: #666;\n",
              "  }\n",
              "\n",
              "  .colab-df-quickchart {\n",
              "    background-color: var(--bg-color);\n",
              "    border: none;\n",
              "    border-radius: 50%;\n",
              "    cursor: pointer;\n",
              "    display: none;\n",
              "    fill: var(--fill-color);\n",
              "    height: 32px;\n",
              "    padding: 0;\n",
              "    width: 32px;\n",
              "  }\n",
              "\n",
              "  .colab-df-quickchart:hover {\n",
              "    background-color: var(--hover-bg-color);\n",
              "    box-shadow: 0 1px 2px rgba(60, 64, 67, 0.3), 0 1px 3px 1px rgba(60, 64, 67, 0.15);\n",
              "    fill: var(--button-hover-fill-color);\n",
              "  }\n",
              "\n",
              "  .colab-df-quickchart-complete:disabled,\n",
              "  .colab-df-quickchart-complete:disabled:hover {\n",
              "    background-color: var(--disabled-bg-color);\n",
              "    fill: var(--disabled-fill-color);\n",
              "    box-shadow: none;\n",
              "  }\n",
              "\n",
              "  .colab-df-spinner {\n",
              "    border: 2px solid var(--fill-color);\n",
              "    border-color: transparent;\n",
              "    border-bottom-color: var(--fill-color);\n",
              "    animation:\n",
              "      spin 1s steps(1) infinite;\n",
              "  }\n",
              "\n",
              "  @keyframes spin {\n",
              "    0% {\n",
              "      border-color: transparent;\n",
              "      border-bottom-color: var(--fill-color);\n",
              "      border-left-color: var(--fill-color);\n",
              "    }\n",
              "    20% {\n",
              "      border-color: transparent;\n",
              "      border-left-color: var(--fill-color);\n",
              "      border-top-color: var(--fill-color);\n",
              "    }\n",
              "    30% {\n",
              "      border-color: transparent;\n",
              "      border-left-color: var(--fill-color);\n",
              "      border-top-color: var(--fill-color);\n",
              "      border-right-color: var(--fill-color);\n",
              "    }\n",
              "    40% {\n",
              "      border-color: transparent;\n",
              "      border-right-color: var(--fill-color);\n",
              "      border-top-color: var(--fill-color);\n",
              "    }\n",
              "    60% {\n",
              "      border-color: transparent;\n",
              "      border-right-color: var(--fill-color);\n",
              "    }\n",
              "    80% {\n",
              "      border-color: transparent;\n",
              "      border-right-color: var(--fill-color);\n",
              "      border-bottom-color: var(--fill-color);\n",
              "    }\n",
              "    90% {\n",
              "      border-color: transparent;\n",
              "      border-bottom-color: var(--fill-color);\n",
              "    }\n",
              "  }\n",
              "</style>\n",
              "\n",
              "  <script>\n",
              "    async function quickchart(key) {\n",
              "      const quickchartButtonEl =\n",
              "        document.querySelector('#' + key + ' button');\n",
              "      quickchartButtonEl.disabled = true;  // To prevent multiple clicks.\n",
              "      quickchartButtonEl.classList.add('colab-df-spinner');\n",
              "      try {\n",
              "        const charts = await google.colab.kernel.invokeFunction(\n",
              "            'suggestCharts', [key], {});\n",
              "      } catch (error) {\n",
              "        console.error('Error during call to suggestCharts:', error);\n",
              "      }\n",
              "      quickchartButtonEl.classList.remove('colab-df-spinner');\n",
              "      quickchartButtonEl.classList.add('colab-df-quickchart-complete');\n",
              "    }\n",
              "    (() => {\n",
              "      let quickchartButtonEl =\n",
              "        document.querySelector('#df-2cb5db29-6fc9-42a3-b780-c27725f7c796 button');\n",
              "      quickchartButtonEl.style.display =\n",
              "        google.colab.kernel.accessAllowed ? 'block' : 'none';\n",
              "    })();\n",
              "  </script>\n",
              "</div>\n",
              "    </div>\n",
              "  </div>\n"
            ]
          },
          "metadata": {},
          "execution_count": 20
        }
      ],
      "source": [
        "mean_variance_correlations"
      ]
    },
    {
      "cell_type": "code",
      "execution_count": null,
      "id": "a63bed4a",
      "metadata": {
        "id": "a63bed4a"
      },
      "outputs": [],
      "source": [
        "# Define parameters for mean return\n",
        "\n",
        "# Average return of Microsoft\n",
        "avg_ret_microsoft = cp.Parameter()\n",
        "avg_ret_microsoft.value = mean_variance_correlations.loc['MSFT_ret', 'Mean']\n",
        "\n",
        "# Average return of Visa\n",
        "avg_ret_visa = cp.Parameter()\n",
        "avg_ret_visa.value = mean_variance_correlations.loc['V_ret', 'Mean']\n",
        "\n",
        "# Average return of Walmart\n",
        "avg_ret_walmart = cp.Parameter()\n",
        "avg_ret_walmart.value = mean_variance_correlations.loc['WMT_ret', 'Mean']"
      ]
    },
    {
      "cell_type": "code",
      "execution_count": null,
      "id": "db6a1524",
      "metadata": {
        "id": "db6a1524"
      },
      "outputs": [],
      "source": [
        "# Define parameters for volatility and variance\n",
        "\n",
        "# Volatility and Variance of Microsoft\n",
        "vol_microsoft = cp.Parameter()\n",
        "variance_microsoft = cp.Parameter()\n",
        "\n",
        "vol_microsoft.value = mean_variance_correlations.loc['MSFT_ret', 'Volatility']\n",
        "variance_microsoft.value = vol_microsoft.value**2\n",
        "\n",
        "# Volatility and Variance of Visa\n",
        "vol_visa = cp.Parameter()\n",
        "variance_visa = cp.Parameter()\n",
        "\n",
        "vol_visa.value = mean_variance_correlations.loc['V_ret', 'Volatility']\n",
        "variance_visa.value = vol_visa.value**2\n",
        "\n",
        "# Volatility and Variance of Walmart\n",
        "vol_walmart = cp.Parameter()\n",
        "variance_walmart = cp.Parameter()\n",
        "\n",
        "vol_walmart.value = mean_variance_correlations.loc['WMT_ret', 'Volatility']\n",
        "variance_walmart.value = vol_walmart.value**2"
      ]
    },
    {
      "cell_type": "code",
      "execution_count": null,
      "id": "ad448aeb",
      "metadata": {
        "id": "ad448aeb"
      },
      "outputs": [],
      "source": [
        "# Define parameters for cross-correlations\n",
        "\n",
        "# Correlation between MSFT and V\n",
        "corr_msft_v = cp.Variable()\n",
        "corr_msft_v.value = mean_variance_correlations.loc['MSFT_ret', 'V_ret']\n",
        "\n",
        "# Correlation between MSFT and WMT\n",
        "corr_msft_wmt = cp.Variable()\n",
        "corr_msft_wmt.value = mean_variance_correlations.loc['MSFT_ret', 'WMT_ret']\n",
        "\n",
        "# Correlation between MSFT and V\n",
        "corr_v_wmt = cp.Variable()\n",
        "corr_v_wmt.value = mean_variance_correlations.loc['V_ret', 'WMT_ret']"
      ]
    },
    {
      "cell_type": "code",
      "execution_count": null,
      "id": "62f5ee57",
      "metadata": {
        "id": "62f5ee57"
      },
      "outputs": [],
      "source": [
        "expected_risk = (((weight_msft**2 * variance_microsoft) \\\n",
        "                 +(weight_v**2 * variance_visa) \\\n",
        "                 +(weight_wmt**2 * variance_walmart)) \\\n",
        "                 + ((weight_msft*weight_v*vol_microsoft*vol_visa*corr_msft_v)\\\n",
        "                 +(weight_msft*weight_wmt*vol_microsoft*vol_walmart*corr_msft_wmt)\\\n",
        "                 +(weight_v*weight_wmt*vol_visa*vol_walmart*corr_v_wmt)))**(1/2)"
      ]
    },
    {
      "cell_type": "code",
      "execution_count": null,
      "id": "a0dfb56c",
      "metadata": {
        "id": "a0dfb56c"
      },
      "outputs": [],
      "source": [
        "objective = cp.Minimize(expected_risk)"
      ]
    },
    {
      "cell_type": "markdown",
      "id": "422454e2",
      "metadata": {
        "id": "422454e2"
      },
      "source": [
        "### Constraints\n",
        "<br>\n",
        "<font size=\"+1\">\n",
        "    <ul>\n",
        "        <li>Your client tells you they want their portfolio to achieve a return of $3$ basis points per day, at least.</li>\n",
        "        <br>\n",
        "        <ul>\n",
        "            <li>However, they want to see the risk-return tradeoff if they varied their desired return. In other words, what is the effect of modifying the required rate of return?</li>\n",
        "            <br>\n",
        "        </ul>\n",
        "        <li>Additionally, they think they only want to buy stocks and not short-sell stocks, but they want to see the differences between a long-only portfolio and a portfolio with no short-selling constraints.</li>\n",
        "        <br>\n",
        "        <li>They also don't want to buy on any security on margin.</li>\n",
        "        <br>\n",
        "        <li>The client requires the manager to be fully invested because they feel they shouldn't pay management fees to not have the manager take risk, so the weights need to sum to exactly one.</li>\n",
        "        <br>\n",
        "        <li>The client also wants their portfolio to have at least $33\\%$ exposure to Microsoft since they feel they will be very successful with <a href=\"https://azure.microsoft.com/en-us/\">cloud computing and their Azure products</a>.</li>\n",
        "        <br>\n",
        "        <li>Specifically, </li>\n",
        "        <br>\n",
        "        <li>\\begin{align}\n",
        "        \\text{subject to: }\n",
        "        & \\mathbb{E}[r_p] = w_1 \\mathbb{E}[r_1] + w_2 \\mathbb{E}[r_2] + w_3 \\mathbb{E}[r_3] & \\geq 0.0003 & \\text{ (required return)}\\\\\n",
        "        & w_1, w_2, w_3  & \\geq 0  & \\text{ (no short-selling)}\\\\\n",
        "        & w_1, w_2, w_3  & \\leq 1 & \\text{ (no margin/leverage)}\\\\\n",
        "        & w_1 + w_2 + w_3  &  = 1 & \\text{ (fully invested)}\\\\\n",
        "        &  w_1 & \\geq 0.33  & \\text{ (required exposure to MSFT)}\\\\\n",
        "        \\end{align}</li>\n",
        "        <br>\n",
        "    </ul>\n",
        "</font>\n",
        "\n",
        "$\\square$"
      ]
    },
    {
      "cell_type": "code",
      "execution_count": null,
      "id": "ee53919a",
      "metadata": {
        "id": "ee53919a"
      },
      "outputs": [],
      "source": [
        "req_return = cp.Parameter()\n",
        "req_return.value = 0.0003\n",
        "\n",
        "constraint_required_return = [(weight_msft*avg_ret_microsoft \\\n",
        "                              + weight_v*avg_ret_visa \\\n",
        "                              + weight_wmt*avg_ret_walmart >= req_return)]\n",
        "\n",
        "constraint_no_short_selling = [weight_msft >= 0,\n",
        "                              weight_v >= 0,\n",
        "                              weight_wmt >= 0]\n",
        "\n",
        "constraint_no_leverage = [weight_msft <= 1,\n",
        "                          weight_v <= 1,\n",
        "                          weight_wmt <= 1]\n",
        "\n",
        "constraint_fully_vested = [weight_msft + weight_v + weight_wmt == 1]\n",
        "\n",
        "req_msft_exposure = cp.Parameter()\n",
        "req_msft_exposure.value = 0.33\n",
        "\n",
        "constraint_required_msft_exposure = [weight_msft >= req_msft_exposure]\n",
        "\n",
        "constraints = constraint_required_return + \\\n",
        "            constraint_no_short_selling + \\\n",
        "            constraint_no_leverage + \\\n",
        "            constraint_fully_vested + \\\n",
        "            constraint_required_msft_exposure"
      ]
    },
    {
      "cell_type": "code",
      "execution_count": null,
      "id": "17668864",
      "metadata": {
        "id": "17668864"
      },
      "outputs": [],
      "source": [
        "prob = cp.Problem(objective, constraints)"
      ]
    },
    {
      "cell_type": "code",
      "execution_count": null,
      "id": "ee625e92",
      "metadata": {
        "scrolled": true,
        "id": "ee625e92",
        "outputId": "931cfcc4-9a5b-4193-f4e1-ded6b896cffd",
        "colab": {
          "base_uri": "https://localhost:8080/"
        }
      },
      "outputs": [
        {
          "output_type": "stream",
          "name": "stdout",
          "text": [
            "minimize power(power(var1[0], 2.0) @ param9 + power(var1[1], 2.0) @ param11 + power(var1[2], 2.0) @ param13 + var1[0] @ var1[1] @ param8 @ param10 @ var14 + var1[0] @ var1[2] @ param8 @ param12 @ var15 + var1[1] @ var1[2] @ param10 @ param12 @ var16, 0.5)\n",
            "subject to param41 <= var1[0] @ param5 + var1[1] @ param6 + var1[2] @ param7\n",
            "           0.0 <= var1[0]\n",
            "           0.0 <= var1[1]\n",
            "           0.0 <= var1[2]\n",
            "           var1[0] <= 1.0\n",
            "           var1[1] <= 1.0\n",
            "           var1[2] <= 1.0\n",
            "           var1[0] + var1[1] + var1[2] == 1.0\n",
            "           param81 <= var1[0]\n"
          ]
        }
      ],
      "source": [
        "print(prob)"
      ]
    },
    {
      "cell_type": "markdown",
      "id": "88883836",
      "metadata": {
        "id": "88883836"
      },
      "source": [
        "$\\rule{800pt}{20pt}$"
      ]
    },
    {
      "cell_type": "markdown",
      "id": "4e8874ba",
      "metadata": {
        "id": "4e8874ba"
      },
      "source": [
        "### Solution\n",
        "<br>\n",
        "<font size=\"+1\">\n",
        "    <ul>\n",
        "        <li>What is the solution to the problem?</li>\n",
        "        <br>\n",
        "        <li>How can you interpret the solution?</li>\n",
        "        <br>\n",
        "    </ul>\n",
        "</font>"
      ]
    },
    {
      "cell_type": "code",
      "execution_count": null,
      "id": "4b864943",
      "metadata": {
        "scrolled": true,
        "id": "4b864943",
        "outputId": "bcb09d68-f220-4911-84b9-eb24ebee9773",
        "colab": {
          "base_uri": "https://localhost:8080/",
          "height": 460
        }
      },
      "outputs": [
        {
          "output_type": "error",
          "ename": "DCPError",
          "evalue": "ignored",
          "traceback": [
            "\u001b[0;31m---------------------------------------------------------------------------\u001b[0m",
            "\u001b[0;31mDCPError\u001b[0m                                  Traceback (most recent call last)",
            "\u001b[0;32m<ipython-input-29-613465fcbb4d>\u001b[0m in \u001b[0;36m<cell line: 1>\u001b[0;34m()\u001b[0m\n\u001b[0;32m----> 1\u001b[0;31m \u001b[0mprob\u001b[0m\u001b[0;34m.\u001b[0m\u001b[0msolve\u001b[0m\u001b[0;34m(\u001b[0m\u001b[0;34m)\u001b[0m\u001b[0;34m\u001b[0m\u001b[0;34m\u001b[0m\u001b[0m\n\u001b[0m",
            "\u001b[0;32m/usr/local/lib/python3.10/dist-packages/cvxpy/problems/problem.py\u001b[0m in \u001b[0;36msolve\u001b[0;34m(self, *args, **kwargs)\u001b[0m\n\u001b[1;32m    493\u001b[0m         \u001b[0;32melse\u001b[0m\u001b[0;34m:\u001b[0m\u001b[0;34m\u001b[0m\u001b[0;34m\u001b[0m\u001b[0m\n\u001b[1;32m    494\u001b[0m             \u001b[0msolve_func\u001b[0m \u001b[0;34m=\u001b[0m \u001b[0mProblem\u001b[0m\u001b[0;34m.\u001b[0m\u001b[0m_solve\u001b[0m\u001b[0;34m\u001b[0m\u001b[0;34m\u001b[0m\u001b[0m\n\u001b[0;32m--> 495\u001b[0;31m         \u001b[0;32mreturn\u001b[0m \u001b[0msolve_func\u001b[0m\u001b[0;34m(\u001b[0m\u001b[0mself\u001b[0m\u001b[0;34m,\u001b[0m \u001b[0;34m*\u001b[0m\u001b[0margs\u001b[0m\u001b[0;34m,\u001b[0m \u001b[0;34m**\u001b[0m\u001b[0mkwargs\u001b[0m\u001b[0;34m)\u001b[0m\u001b[0;34m\u001b[0m\u001b[0;34m\u001b[0m\u001b[0m\n\u001b[0m\u001b[1;32m    496\u001b[0m \u001b[0;34m\u001b[0m\u001b[0m\n\u001b[1;32m    497\u001b[0m     \u001b[0;34m@\u001b[0m\u001b[0mclassmethod\u001b[0m\u001b[0;34m\u001b[0m\u001b[0;34m\u001b[0m\u001b[0m\n",
            "\u001b[0;32m/usr/local/lib/python3.10/dist-packages/cvxpy/problems/problem.py\u001b[0m in \u001b[0;36m_solve\u001b[0;34m(self, solver, warm_start, verbose, gp, qcp, requires_grad, enforce_dpp, ignore_dpp, canon_backend, **kwargs)\u001b[0m\n\u001b[1;32m   1054\u001b[0m                 \u001b[0;32mreturn\u001b[0m \u001b[0mself\u001b[0m\u001b[0;34m.\u001b[0m\u001b[0mvalue\u001b[0m\u001b[0;34m\u001b[0m\u001b[0;34m\u001b[0m\u001b[0m\n\u001b[1;32m   1055\u001b[0m \u001b[0;34m\u001b[0m\u001b[0m\n\u001b[0;32m-> 1056\u001b[0;31m         data, solving_chain, inverse_data = self.get_problem_data(\n\u001b[0m\u001b[1;32m   1057\u001b[0m             \u001b[0msolver\u001b[0m\u001b[0;34m,\u001b[0m \u001b[0mgp\u001b[0m\u001b[0;34m,\u001b[0m \u001b[0menforce_dpp\u001b[0m\u001b[0;34m,\u001b[0m \u001b[0mignore_dpp\u001b[0m\u001b[0;34m,\u001b[0m \u001b[0mverbose\u001b[0m\u001b[0;34m,\u001b[0m \u001b[0mcanon_backend\u001b[0m\u001b[0;34m,\u001b[0m \u001b[0mkwargs\u001b[0m\u001b[0;34m\u001b[0m\u001b[0;34m\u001b[0m\u001b[0m\n\u001b[1;32m   1058\u001b[0m         )\n",
            "\u001b[0;32m/usr/local/lib/python3.10/dist-packages/cvxpy/problems/problem.py\u001b[0m in \u001b[0;36mget_problem_data\u001b[0;34m(self, solver, gp, enforce_dpp, ignore_dpp, verbose, canon_backend, solver_opts)\u001b[0m\n\u001b[1;32m    631\u001b[0m         \u001b[0;32mif\u001b[0m \u001b[0mkey\u001b[0m \u001b[0;34m!=\u001b[0m \u001b[0mself\u001b[0m\u001b[0;34m.\u001b[0m\u001b[0m_cache\u001b[0m\u001b[0;34m.\u001b[0m\u001b[0mkey\u001b[0m\u001b[0;34m:\u001b[0m\u001b[0;34m\u001b[0m\u001b[0;34m\u001b[0m\u001b[0m\n\u001b[1;32m    632\u001b[0m             \u001b[0mself\u001b[0m\u001b[0;34m.\u001b[0m\u001b[0m_cache\u001b[0m\u001b[0;34m.\u001b[0m\u001b[0minvalidate\u001b[0m\u001b[0;34m(\u001b[0m\u001b[0;34m)\u001b[0m\u001b[0;34m\u001b[0m\u001b[0;34m\u001b[0m\u001b[0m\n\u001b[0;32m--> 633\u001b[0;31m             solving_chain = self._construct_chain(\n\u001b[0m\u001b[1;32m    634\u001b[0m                 \u001b[0msolver\u001b[0m\u001b[0;34m=\u001b[0m\u001b[0msolver\u001b[0m\u001b[0;34m,\u001b[0m \u001b[0mgp\u001b[0m\u001b[0;34m=\u001b[0m\u001b[0mgp\u001b[0m\u001b[0;34m,\u001b[0m\u001b[0;34m\u001b[0m\u001b[0;34m\u001b[0m\u001b[0m\n\u001b[1;32m    635\u001b[0m                 \u001b[0menforce_dpp\u001b[0m\u001b[0;34m=\u001b[0m\u001b[0menforce_dpp\u001b[0m\u001b[0;34m,\u001b[0m\u001b[0;34m\u001b[0m\u001b[0;34m\u001b[0m\u001b[0m\n",
            "\u001b[0;32m/usr/local/lib/python3.10/dist-packages/cvxpy/problems/problem.py\u001b[0m in \u001b[0;36m_construct_chain\u001b[0;34m(self, solver, gp, enforce_dpp, ignore_dpp, canon_backend, solver_opts)\u001b[0m\n\u001b[1;32m    883\u001b[0m         \u001b[0mcandidate_solvers\u001b[0m \u001b[0;34m=\u001b[0m \u001b[0mself\u001b[0m\u001b[0;34m.\u001b[0m\u001b[0m_find_candidate_solvers\u001b[0m\u001b[0;34m(\u001b[0m\u001b[0msolver\u001b[0m\u001b[0;34m=\u001b[0m\u001b[0msolver\u001b[0m\u001b[0;34m,\u001b[0m \u001b[0mgp\u001b[0m\u001b[0;34m=\u001b[0m\u001b[0mgp\u001b[0m\u001b[0;34m)\u001b[0m\u001b[0;34m\u001b[0m\u001b[0;34m\u001b[0m\u001b[0m\n\u001b[1;32m    884\u001b[0m         \u001b[0mself\u001b[0m\u001b[0;34m.\u001b[0m\u001b[0m_sort_candidate_solvers\u001b[0m\u001b[0;34m(\u001b[0m\u001b[0mcandidate_solvers\u001b[0m\u001b[0;34m)\u001b[0m\u001b[0;34m\u001b[0m\u001b[0;34m\u001b[0m\u001b[0m\n\u001b[0;32m--> 885\u001b[0;31m         return construct_solving_chain(self, candidate_solvers, gp=gp,\n\u001b[0m\u001b[1;32m    886\u001b[0m                                        \u001b[0menforce_dpp\u001b[0m\u001b[0;34m=\u001b[0m\u001b[0menforce_dpp\u001b[0m\u001b[0;34m,\u001b[0m\u001b[0;34m\u001b[0m\u001b[0;34m\u001b[0m\u001b[0m\n\u001b[1;32m    887\u001b[0m                                        \u001b[0mignore_dpp\u001b[0m\u001b[0;34m=\u001b[0m\u001b[0mignore_dpp\u001b[0m\u001b[0;34m,\u001b[0m\u001b[0;34m\u001b[0m\u001b[0;34m\u001b[0m\u001b[0m\n",
            "\u001b[0;32m/usr/local/lib/python3.10/dist-packages/cvxpy/reductions/solvers/solving_chain.py\u001b[0m in \u001b[0;36mconstruct_solving_chain\u001b[0;34m(problem, candidates, gp, enforce_dpp, ignore_dpp, canon_backend, solver_opts)\u001b[0m\n\u001b[1;32m    195\u001b[0m     \u001b[0;32mif\u001b[0m \u001b[0mlen\u001b[0m\u001b[0;34m(\u001b[0m\u001b[0mproblem\u001b[0m\u001b[0;34m.\u001b[0m\u001b[0mvariables\u001b[0m\u001b[0;34m(\u001b[0m\u001b[0;34m)\u001b[0m\u001b[0;34m)\u001b[0m \u001b[0;34m==\u001b[0m \u001b[0;36m0\u001b[0m\u001b[0;34m:\u001b[0m\u001b[0;34m\u001b[0m\u001b[0;34m\u001b[0m\u001b[0m\n\u001b[1;32m    196\u001b[0m         \u001b[0;32mreturn\u001b[0m \u001b[0mSolvingChain\u001b[0m\u001b[0;34m(\u001b[0m\u001b[0mreductions\u001b[0m\u001b[0;34m=\u001b[0m\u001b[0;34m[\u001b[0m\u001b[0mConstantSolver\u001b[0m\u001b[0;34m(\u001b[0m\u001b[0;34m)\u001b[0m\u001b[0;34m]\u001b[0m\u001b[0;34m)\u001b[0m\u001b[0;34m\u001b[0m\u001b[0;34m\u001b[0m\u001b[0m\n\u001b[0;32m--> 197\u001b[0;31m     \u001b[0mreductions\u001b[0m \u001b[0;34m=\u001b[0m \u001b[0m_reductions_for_problem_class\u001b[0m\u001b[0;34m(\u001b[0m\u001b[0mproblem\u001b[0m\u001b[0;34m,\u001b[0m \u001b[0mcandidates\u001b[0m\u001b[0;34m,\u001b[0m \u001b[0mgp\u001b[0m\u001b[0;34m,\u001b[0m \u001b[0msolver_opts\u001b[0m\u001b[0;34m)\u001b[0m\u001b[0;34m\u001b[0m\u001b[0;34m\u001b[0m\u001b[0m\n\u001b[0m\u001b[1;32m    198\u001b[0m \u001b[0;34m\u001b[0m\u001b[0m\n\u001b[1;32m    199\u001b[0m     \u001b[0;31m# Process DPP status of the problem.\u001b[0m\u001b[0;34m\u001b[0m\u001b[0;34m\u001b[0m\u001b[0m\n",
            "\u001b[0;32m/usr/local/lib/python3.10/dist-packages/cvxpy/reductions/solvers/solving_chain.py\u001b[0m in \u001b[0;36m_reductions_for_problem_class\u001b[0;34m(problem, candidates, gp, solver_opts)\u001b[0m\n\u001b[1;32m    113\u001b[0m             append += (\"\\nHowever, the problem does follow DQCP rules. \"\n\u001b[1;32m    114\u001b[0m                        \"Consider calling solve() with `qcp=True`.\")\n\u001b[0;32m--> 115\u001b[0;31m         raise DCPError(\n\u001b[0m\u001b[1;32m    116\u001b[0m             \"Problem does not follow DCP rules. Specifically:\\n\" + append)\n\u001b[1;32m    117\u001b[0m     \u001b[0;32melif\u001b[0m \u001b[0mgp\u001b[0m \u001b[0;32mand\u001b[0m \u001b[0;32mnot\u001b[0m \u001b[0mproblem\u001b[0m\u001b[0;34m.\u001b[0m\u001b[0mis_dgp\u001b[0m\u001b[0;34m(\u001b[0m\u001b[0;34m)\u001b[0m\u001b[0;34m:\u001b[0m\u001b[0;34m\u001b[0m\u001b[0;34m\u001b[0m\u001b[0m\n",
            "\u001b[0;31mDCPError\u001b[0m: Problem does not follow DCP rules. Specifically:\nThe objective is not DCP. Its following subexpressions are not:\npower(var1[0], 2.0) @ param9\npower(var1[1], 2.0) @ param11\npower(var1[2], 2.0) @ param13\nvar1[0] @ var1[1]\nvar1[0] @ var1[2]\nvar1[1] @ var1[2]"
          ]
        }
      ],
      "source": [
        "prob.solve()"
      ]
    },
    {
      "cell_type": "code",
      "execution_count": null,
      "id": "ef3a5b2f",
      "metadata": {
        "scrolled": true,
        "id": "ef3a5b2f",
        "outputId": "ce29978c-d411-4abc-b13c-19ab4de100c2",
        "colab": {
          "base_uri": "https://localhost:8080/",
          "height": 582
        }
      },
      "outputs": [
        {
          "output_type": "stream",
          "name": "stdout",
          "text": [
            "===============================================================================\n",
            "                                     CVXPY                                     \n",
            "                                     v1.3.2                                    \n",
            "===============================================================================\n",
            "(CVXPY) Dec 25 06:03:14 PM: Your problem has 6 variables, 9 constraints, and 11 parameters.\n",
            "(CVXPY) Dec 25 06:03:14 PM: It is compliant with the following grammars: \n",
            "(CVXPY) Dec 25 06:03:14 PM: CVXPY will first compile your problem; then, it will invoke a numerical solver to obtain a solution.\n"
          ]
        },
        {
          "output_type": "error",
          "ename": "DCPError",
          "evalue": "ignored",
          "traceback": [
            "\u001b[0;31m---------------------------------------------------------------------------\u001b[0m",
            "\u001b[0;31mDCPError\u001b[0m                                  Traceback (most recent call last)",
            "\u001b[0;32m<ipython-input-30-3898f01d7e87>\u001b[0m in \u001b[0;36m<cell line: 1>\u001b[0;34m()\u001b[0m\n\u001b[0;32m----> 1\u001b[0;31m \u001b[0mprob\u001b[0m\u001b[0;34m.\u001b[0m\u001b[0msolve\u001b[0m\u001b[0;34m(\u001b[0m\u001b[0mverbose\u001b[0m\u001b[0;34m=\u001b[0m\u001b[0;32mTrue\u001b[0m\u001b[0;34m)\u001b[0m\u001b[0;34m\u001b[0m\u001b[0;34m\u001b[0m\u001b[0m\n\u001b[0m",
            "\u001b[0;32m/usr/local/lib/python3.10/dist-packages/cvxpy/problems/problem.py\u001b[0m in \u001b[0;36msolve\u001b[0;34m(self, *args, **kwargs)\u001b[0m\n\u001b[1;32m    493\u001b[0m         \u001b[0;32melse\u001b[0m\u001b[0;34m:\u001b[0m\u001b[0;34m\u001b[0m\u001b[0;34m\u001b[0m\u001b[0m\n\u001b[1;32m    494\u001b[0m             \u001b[0msolve_func\u001b[0m \u001b[0;34m=\u001b[0m \u001b[0mProblem\u001b[0m\u001b[0;34m.\u001b[0m\u001b[0m_solve\u001b[0m\u001b[0;34m\u001b[0m\u001b[0;34m\u001b[0m\u001b[0m\n\u001b[0;32m--> 495\u001b[0;31m         \u001b[0;32mreturn\u001b[0m \u001b[0msolve_func\u001b[0m\u001b[0;34m(\u001b[0m\u001b[0mself\u001b[0m\u001b[0;34m,\u001b[0m \u001b[0;34m*\u001b[0m\u001b[0margs\u001b[0m\u001b[0;34m,\u001b[0m \u001b[0;34m**\u001b[0m\u001b[0mkwargs\u001b[0m\u001b[0;34m)\u001b[0m\u001b[0;34m\u001b[0m\u001b[0;34m\u001b[0m\u001b[0m\n\u001b[0m\u001b[1;32m    496\u001b[0m \u001b[0;34m\u001b[0m\u001b[0m\n\u001b[1;32m    497\u001b[0m     \u001b[0;34m@\u001b[0m\u001b[0mclassmethod\u001b[0m\u001b[0;34m\u001b[0m\u001b[0;34m\u001b[0m\u001b[0m\n",
            "\u001b[0;32m/usr/local/lib/python3.10/dist-packages/cvxpy/problems/problem.py\u001b[0m in \u001b[0;36m_solve\u001b[0;34m(self, solver, warm_start, verbose, gp, qcp, requires_grad, enforce_dpp, ignore_dpp, canon_backend, **kwargs)\u001b[0m\n\u001b[1;32m   1054\u001b[0m                 \u001b[0;32mreturn\u001b[0m \u001b[0mself\u001b[0m\u001b[0;34m.\u001b[0m\u001b[0mvalue\u001b[0m\u001b[0;34m\u001b[0m\u001b[0;34m\u001b[0m\u001b[0m\n\u001b[1;32m   1055\u001b[0m \u001b[0;34m\u001b[0m\u001b[0m\n\u001b[0;32m-> 1056\u001b[0;31m         data, solving_chain, inverse_data = self.get_problem_data(\n\u001b[0m\u001b[1;32m   1057\u001b[0m             \u001b[0msolver\u001b[0m\u001b[0;34m,\u001b[0m \u001b[0mgp\u001b[0m\u001b[0;34m,\u001b[0m \u001b[0menforce_dpp\u001b[0m\u001b[0;34m,\u001b[0m \u001b[0mignore_dpp\u001b[0m\u001b[0;34m,\u001b[0m \u001b[0mverbose\u001b[0m\u001b[0;34m,\u001b[0m \u001b[0mcanon_backend\u001b[0m\u001b[0;34m,\u001b[0m \u001b[0mkwargs\u001b[0m\u001b[0;34m\u001b[0m\u001b[0;34m\u001b[0m\u001b[0m\n\u001b[1;32m   1058\u001b[0m         )\n",
            "\u001b[0;32m/usr/local/lib/python3.10/dist-packages/cvxpy/problems/problem.py\u001b[0m in \u001b[0;36mget_problem_data\u001b[0;34m(self, solver, gp, enforce_dpp, ignore_dpp, verbose, canon_backend, solver_opts)\u001b[0m\n\u001b[1;32m    631\u001b[0m         \u001b[0;32mif\u001b[0m \u001b[0mkey\u001b[0m \u001b[0;34m!=\u001b[0m \u001b[0mself\u001b[0m\u001b[0;34m.\u001b[0m\u001b[0m_cache\u001b[0m\u001b[0;34m.\u001b[0m\u001b[0mkey\u001b[0m\u001b[0;34m:\u001b[0m\u001b[0;34m\u001b[0m\u001b[0;34m\u001b[0m\u001b[0m\n\u001b[1;32m    632\u001b[0m             \u001b[0mself\u001b[0m\u001b[0;34m.\u001b[0m\u001b[0m_cache\u001b[0m\u001b[0;34m.\u001b[0m\u001b[0minvalidate\u001b[0m\u001b[0;34m(\u001b[0m\u001b[0;34m)\u001b[0m\u001b[0;34m\u001b[0m\u001b[0;34m\u001b[0m\u001b[0m\n\u001b[0;32m--> 633\u001b[0;31m             solving_chain = self._construct_chain(\n\u001b[0m\u001b[1;32m    634\u001b[0m                 \u001b[0msolver\u001b[0m\u001b[0;34m=\u001b[0m\u001b[0msolver\u001b[0m\u001b[0;34m,\u001b[0m \u001b[0mgp\u001b[0m\u001b[0;34m=\u001b[0m\u001b[0mgp\u001b[0m\u001b[0;34m,\u001b[0m\u001b[0;34m\u001b[0m\u001b[0;34m\u001b[0m\u001b[0m\n\u001b[1;32m    635\u001b[0m                 \u001b[0menforce_dpp\u001b[0m\u001b[0;34m=\u001b[0m\u001b[0menforce_dpp\u001b[0m\u001b[0;34m,\u001b[0m\u001b[0;34m\u001b[0m\u001b[0;34m\u001b[0m\u001b[0m\n",
            "\u001b[0;32m/usr/local/lib/python3.10/dist-packages/cvxpy/problems/problem.py\u001b[0m in \u001b[0;36m_construct_chain\u001b[0;34m(self, solver, gp, enforce_dpp, ignore_dpp, canon_backend, solver_opts)\u001b[0m\n\u001b[1;32m    883\u001b[0m         \u001b[0mcandidate_solvers\u001b[0m \u001b[0;34m=\u001b[0m \u001b[0mself\u001b[0m\u001b[0;34m.\u001b[0m\u001b[0m_find_candidate_solvers\u001b[0m\u001b[0;34m(\u001b[0m\u001b[0msolver\u001b[0m\u001b[0;34m=\u001b[0m\u001b[0msolver\u001b[0m\u001b[0;34m,\u001b[0m \u001b[0mgp\u001b[0m\u001b[0;34m=\u001b[0m\u001b[0mgp\u001b[0m\u001b[0;34m)\u001b[0m\u001b[0;34m\u001b[0m\u001b[0;34m\u001b[0m\u001b[0m\n\u001b[1;32m    884\u001b[0m         \u001b[0mself\u001b[0m\u001b[0;34m.\u001b[0m\u001b[0m_sort_candidate_solvers\u001b[0m\u001b[0;34m(\u001b[0m\u001b[0mcandidate_solvers\u001b[0m\u001b[0;34m)\u001b[0m\u001b[0;34m\u001b[0m\u001b[0;34m\u001b[0m\u001b[0m\n\u001b[0;32m--> 885\u001b[0;31m         return construct_solving_chain(self, candidate_solvers, gp=gp,\n\u001b[0m\u001b[1;32m    886\u001b[0m                                        \u001b[0menforce_dpp\u001b[0m\u001b[0;34m=\u001b[0m\u001b[0menforce_dpp\u001b[0m\u001b[0;34m,\u001b[0m\u001b[0;34m\u001b[0m\u001b[0;34m\u001b[0m\u001b[0m\n\u001b[1;32m    887\u001b[0m                                        \u001b[0mignore_dpp\u001b[0m\u001b[0;34m=\u001b[0m\u001b[0mignore_dpp\u001b[0m\u001b[0;34m,\u001b[0m\u001b[0;34m\u001b[0m\u001b[0;34m\u001b[0m\u001b[0m\n",
            "\u001b[0;32m/usr/local/lib/python3.10/dist-packages/cvxpy/reductions/solvers/solving_chain.py\u001b[0m in \u001b[0;36mconstruct_solving_chain\u001b[0;34m(problem, candidates, gp, enforce_dpp, ignore_dpp, canon_backend, solver_opts)\u001b[0m\n\u001b[1;32m    195\u001b[0m     \u001b[0;32mif\u001b[0m \u001b[0mlen\u001b[0m\u001b[0;34m(\u001b[0m\u001b[0mproblem\u001b[0m\u001b[0;34m.\u001b[0m\u001b[0mvariables\u001b[0m\u001b[0;34m(\u001b[0m\u001b[0;34m)\u001b[0m\u001b[0;34m)\u001b[0m \u001b[0;34m==\u001b[0m \u001b[0;36m0\u001b[0m\u001b[0;34m:\u001b[0m\u001b[0;34m\u001b[0m\u001b[0;34m\u001b[0m\u001b[0m\n\u001b[1;32m    196\u001b[0m         \u001b[0;32mreturn\u001b[0m \u001b[0mSolvingChain\u001b[0m\u001b[0;34m(\u001b[0m\u001b[0mreductions\u001b[0m\u001b[0;34m=\u001b[0m\u001b[0;34m[\u001b[0m\u001b[0mConstantSolver\u001b[0m\u001b[0;34m(\u001b[0m\u001b[0;34m)\u001b[0m\u001b[0;34m]\u001b[0m\u001b[0;34m)\u001b[0m\u001b[0;34m\u001b[0m\u001b[0;34m\u001b[0m\u001b[0m\n\u001b[0;32m--> 197\u001b[0;31m     \u001b[0mreductions\u001b[0m \u001b[0;34m=\u001b[0m \u001b[0m_reductions_for_problem_class\u001b[0m\u001b[0;34m(\u001b[0m\u001b[0mproblem\u001b[0m\u001b[0;34m,\u001b[0m \u001b[0mcandidates\u001b[0m\u001b[0;34m,\u001b[0m \u001b[0mgp\u001b[0m\u001b[0;34m,\u001b[0m \u001b[0msolver_opts\u001b[0m\u001b[0;34m)\u001b[0m\u001b[0;34m\u001b[0m\u001b[0;34m\u001b[0m\u001b[0m\n\u001b[0m\u001b[1;32m    198\u001b[0m \u001b[0;34m\u001b[0m\u001b[0m\n\u001b[1;32m    199\u001b[0m     \u001b[0;31m# Process DPP status of the problem.\u001b[0m\u001b[0;34m\u001b[0m\u001b[0;34m\u001b[0m\u001b[0m\n",
            "\u001b[0;32m/usr/local/lib/python3.10/dist-packages/cvxpy/reductions/solvers/solving_chain.py\u001b[0m in \u001b[0;36m_reductions_for_problem_class\u001b[0;34m(problem, candidates, gp, solver_opts)\u001b[0m\n\u001b[1;32m    113\u001b[0m             append += (\"\\nHowever, the problem does follow DQCP rules. \"\n\u001b[1;32m    114\u001b[0m                        \"Consider calling solve() with `qcp=True`.\")\n\u001b[0;32m--> 115\u001b[0;31m         raise DCPError(\n\u001b[0m\u001b[1;32m    116\u001b[0m             \"Problem does not follow DCP rules. Specifically:\\n\" + append)\n\u001b[1;32m    117\u001b[0m     \u001b[0;32melif\u001b[0m \u001b[0mgp\u001b[0m \u001b[0;32mand\u001b[0m \u001b[0;32mnot\u001b[0m \u001b[0mproblem\u001b[0m\u001b[0;34m.\u001b[0m\u001b[0mis_dgp\u001b[0m\u001b[0;34m(\u001b[0m\u001b[0;34m)\u001b[0m\u001b[0;34m:\u001b[0m\u001b[0;34m\u001b[0m\u001b[0;34m\u001b[0m\u001b[0m\n",
            "\u001b[0;31mDCPError\u001b[0m: Problem does not follow DCP rules. Specifically:\nThe objective is not DCP. Its following subexpressions are not:\npower(var1[0], 2.0) @ param9\npower(var1[1], 2.0) @ param11\npower(var1[2], 2.0) @ param13\nvar1[0] @ var1[1]\nvar1[0] @ var1[2]\nvar1[1] @ var1[2]"
          ]
        }
      ],
      "source": [
        "prob.solve(verbose=True)"
      ]
    },
    {
      "cell_type": "code",
      "execution_count": null,
      "id": "c3ce1438",
      "metadata": {
        "id": "c3ce1438",
        "outputId": "baeedae0-82b8-4199-e72e-fcb4be0f5365",
        "colab": {
          "base_uri": "https://localhost:8080/",
          "height": 176
        }
      },
      "outputs": [
        {
          "output_type": "error",
          "ename": "AssertionError",
          "evalue": "ignored",
          "traceback": [
            "\u001b[0;31m---------------------------------------------------------------------------\u001b[0m",
            "\u001b[0;31mAssertionError\u001b[0m                            Traceback (most recent call last)",
            "\u001b[0;32m<ipython-input-31-ba013a42e8a7>\u001b[0m in \u001b[0;36m<cell line: 1>\u001b[0;34m()\u001b[0m\n\u001b[0;32m----> 1\u001b[0;31m \u001b[0;32massert\u001b[0m \u001b[0mprob\u001b[0m\u001b[0;34m.\u001b[0m\u001b[0mis_dcp\u001b[0m\u001b[0;34m(\u001b[0m\u001b[0;34m)\u001b[0m\u001b[0;34m\u001b[0m\u001b[0;34m\u001b[0m\u001b[0m\n\u001b[0m",
            "\u001b[0;31mAssertionError\u001b[0m: "
          ]
        }
      ],
      "source": [
        "assert prob.is_dcp()"
      ]
    },
    {
      "cell_type": "code",
      "execution_count": null,
      "id": "f52e1be4",
      "metadata": {
        "scrolled": true,
        "id": "f52e1be4",
        "outputId": "3b6c11cc-a533-4146-9f05-5c78d2e60018",
        "colab": {
          "base_uri": "https://localhost:8080/"
        }
      },
      "outputs": [
        {
          "output_type": "execute_result",
          "data": {
            "text/plain": [
              "False"
            ]
          },
          "metadata": {},
          "execution_count": 32
        }
      ],
      "source": [
        "expected_risk.is_dcp()"
      ]
    },
    {
      "cell_type": "code",
      "execution_count": null,
      "id": "7cb27c5d",
      "metadata": {
        "id": "7cb27c5d",
        "outputId": "0aa943bd-89fb-4a8e-dcff-767bb5246990",
        "colab": {
          "base_uri": "https://localhost:8080/",
          "height": 35
        }
      },
      "outputs": [
        {
          "output_type": "execute_result",
          "data": {
            "text/plain": [
              "'AFFINE'"
            ],
            "application/vnd.google.colaboratory.intrinsic+json": {
              "type": "string"
            }
          },
          "metadata": {},
          "execution_count": 33
        }
      ],
      "source": [
        "weight_msft.curvature"
      ]
    },
    {
      "cell_type": "code",
      "execution_count": null,
      "id": "4336117f",
      "metadata": {
        "id": "4336117f",
        "outputId": "1340f9a3-db71-4e69-c5d7-a60a4feff5b1",
        "colab": {
          "base_uri": "https://localhost:8080/",
          "height": 35
        }
      },
      "outputs": [
        {
          "output_type": "execute_result",
          "data": {
            "text/plain": [
              "'AFFINE'"
            ],
            "application/vnd.google.colaboratory.intrinsic+json": {
              "type": "string"
            }
          },
          "metadata": {},
          "execution_count": 34
        }
      ],
      "source": [
        "weight_v.curvature"
      ]
    },
    {
      "cell_type": "code",
      "execution_count": null,
      "id": "b3de0e96",
      "metadata": {
        "scrolled": true,
        "id": "b3de0e96",
        "outputId": "d5034865-a7cb-4123-cbed-3b237a444aa4",
        "colab": {
          "base_uri": "https://localhost:8080/",
          "height": 35
        }
      },
      "outputs": [
        {
          "output_type": "execute_result",
          "data": {
            "text/plain": [
              "'CONSTANT'"
            ],
            "application/vnd.google.colaboratory.intrinsic+json": {
              "type": "string"
            }
          },
          "metadata": {},
          "execution_count": 35
        }
      ],
      "source": [
        "(vol_microsoft*vol_visa).curvature"
      ]
    },
    {
      "cell_type": "code",
      "execution_count": null,
      "id": "59b7e16e",
      "metadata": {
        "scrolled": true,
        "id": "59b7e16e",
        "outputId": "35193cca-93df-427f-87bf-ba3bdf46c258",
        "colab": {
          "base_uri": "https://localhost:8080/",
          "height": 35
        }
      },
      "outputs": [
        {
          "output_type": "execute_result",
          "data": {
            "text/plain": [
              "'UNKNOWN'"
            ],
            "application/vnd.google.colaboratory.intrinsic+json": {
              "type": "string"
            }
          },
          "metadata": {},
          "execution_count": 36
        }
      ],
      "source": [
        "cp.multiply(weight_msft, weight_v).curvature"
      ]
    },
    {
      "cell_type": "code",
      "execution_count": null,
      "id": "f78a295f",
      "metadata": {
        "id": "f78a295f",
        "outputId": "a3470280-6205-4f4a-cf5b-ea4c05ae8408",
        "colab": {
          "base_uri": "https://localhost:8080/"
        }
      },
      "outputs": [
        {
          "output_type": "execute_result",
          "data": {
            "text/plain": [
              "False"
            ]
          },
          "metadata": {},
          "execution_count": 37
        }
      ],
      "source": [
        "cp.multiply(weight_msft, weight_v).is_dcp()"
      ]
    },
    {
      "cell_type": "code",
      "execution_count": null,
      "id": "f6e36628",
      "metadata": {
        "scrolled": true,
        "id": "f6e36628",
        "outputId": "dbbdec37-f8a4-4aec-e7c4-a82a25121aa7",
        "colab": {
          "base_uri": "https://localhost:8080/",
          "height": 35
        }
      },
      "outputs": [
        {
          "output_type": "execute_result",
          "data": {
            "text/plain": [
              "'UNKNOWN'"
            ],
            "application/vnd.google.colaboratory.intrinsic+json": {
              "type": "string"
            }
          },
          "metadata": {},
          "execution_count": 38
        }
      ],
      "source": [
        "(weight_msft*weight_v).curvature"
      ]
    },
    {
      "cell_type": "code",
      "execution_count": null,
      "id": "1ff59ec9",
      "metadata": {
        "id": "1ff59ec9",
        "outputId": "e520cbb0-2976-4420-cd95-7cf2d80c9cd8",
        "colab": {
          "base_uri": "https://localhost:8080/"
        }
      },
      "outputs": [
        {
          "output_type": "execute_result",
          "data": {
            "text/plain": [
              "False"
            ]
          },
          "metadata": {},
          "execution_count": 39
        }
      ],
      "source": [
        "(((weight_msft**2 ) +(weight_v**2) +(weight_wmt**2) + ((weight_msft*weight_v)))).is_dcp()"
      ]
    },
    {
      "cell_type": "markdown",
      "id": "39b63827",
      "metadata": {
        "id": "39b63827"
      },
      "source": [
        "### Error?!\n",
        "<br>\n",
        "<font size=\"+1\">\n",
        "    <ul>\n",
        "        <li>What happened?</li>\n",
        "        <br>\n",
        "        <ul>\n",
        "            <li><b>Disciplined convex programming (DCP)</b> is a system for constructing mathematical expressions with known curvature from a given library of base functions.</li>\n",
        "        <br>\n",
        "        <li>CVXPY uses DCP to ensure that the specified optimization problems are convex.</li>\n",
        "        <br>\n",
        "        </ul>\n",
        "        <li>What do we do?</li>\n",
        "        <br>\n",
        "        <li>We must reformulate using matrices!</li>\n",
        "        <br>\n",
        "        <li>First, we have to calculate the return of a portfolio as function of its constituent securities and their weights, which is $$r_p = w_1 r_1 + w_2 r_2 + w_3 r_3 .$$</li>\n",
        "        <br>\n",
        "        <li>Next, we must calculate the expected return of a portfolio, which is $$\\mathbb{E}[r_p] = w_1 \\mathbb{E}[r_1] + w_2 \\mathbb{E}[r_2] + w_3 \\mathbb{E}[r_3].$$</li>\n",
        "        <br>\n",
        "        <li>Finally, we need to calculate the standard deviation of the return of a portfolio, which is, $$\\sigma(r_p) = \\sqrt{Var(r_p)} = \\cdots = \\\\ \\left[ w_1^2 \\sigma^2(r_1) + w_2^2 \\sigma^2(r_2)  + w_3^2 \\sigma^2(r_3) + \\\\ 2 w_1 w_2 \\sigma(r_1) \\sigma(r_2) \\rho_{r_1, r_2} + 2 w_1 w_3 \\sigma(r_1) \\sigma(r_3) \\rho_{r_1, r_3} + 2 w_2 w_3 \\sigma(r_2) \\sigma(r_3) \\rho_{r_2, r_3} \\right]^{\\frac{1}{2}} \\\\ =: risk(w_1, w_2, w_3).$$</li>\n",
        "        <br>\n",
        "        <font color=\"red\"><li style=\"color:red\">The objective function $risk(w_1, w_2, w_3)$ depends on the decision variables $(w_1, w_2, w_3)$ in a nonlinear way since it involves $w_i^2$ and $w_i w_j$. In other words, it is a nonlinear objective function in the decision variables.</li></font>\n",
        "        <br>\n",
        "        <li>This leads to the following objective.</li>\n",
        "        <br>\n",
        "        <li>\\begin{align}\n",
        "        \\text{minimize: } & risk(w_1, w_2, w_3) \\\\\n",
        "        \\end{align}</li>\n",
        "        <br>\n",
        "        <li>Equivalently, \\begin{align}\n",
        "        \\text{minimize: } & [ w_1^2 \\sigma^2(r_1) + w_2^2 \\sigma^2(r_2)  + w_3^2 \\sigma^2(r_3) \\\\\n",
        "        &+ 2 w_1 w_2 \\sigma(r_1) \\sigma(r_2) \\rho_{r_1, r_2} \\\\\n",
        "        &+ 2 w_1 w_3 \\sigma(r_1) \\sigma(r_3) \\rho_{r_1, r_3} \\\\\n",
        "        &+ 2 w_2 w_3 \\sigma(r_2) \\sigma(r_3) \\rho_{r_2, r_3} ]^{\\frac{1}{2}} \\\\\n",
        "        \\end{align}</li>\n",
        "        <br>\n",
        "        <li>Note, by definition of correlation we have $$Cov(r_i, r_j) = \\rho_{r_i, r_j} \\sigma(r_i) \\sigma(r_j).$$</li>\n",
        "        <br>\n",
        "        <font color=\"blue\"><li style=\"color:blue\">I am not going to attempt to teach <a href=\"https://web.stanford.edu/class/ee364a/lectures/num-lin-alg.pdf\"><b>Linear Algebra</b></a>, but what I will say is that whenever you have a lot of things being added together and the things are products of other stuff, usually involving indices, then there is generally a way to write it using matrices and vectors. Once in this form, it becomes very compatible with all sorts of solvers and modeling languages.</li>\n",
        "        <br>\n",
        "        <li style=\"color:blue\">\\begin{equation}risk(w_1, w_2, w_3)^2 =\n",
        "        \\underbrace{\\begin{bmatrix}\n",
        "        w_1 & w_2 & w_3 \\\\\n",
        "        \\end{bmatrix}}_{\\underbrace{\\bar{w}^T}_{(1\\times 3)}}\n",
        "        \\underbrace{\\begin{bmatrix}\n",
        "Cov(r_1,r_1) & Cov(r_1, r_2) & Cov(r_1, r_3)\\\\\n",
        "Cov(r_2, r_1) & Cov(r_2, r_2) & Cov(r_2, r_3) \\\\\n",
        "Cov(r_3, r_1) & Cov(r_3, r_2) & Cov(r_3, r_3) \\\\\n",
        "            \\end{bmatrix}}_{\\underbrace{\\Sigma}_{(3\\times 3)}}\n",
        "            \\underbrace{\\begin{bmatrix}\n",
        "        w_1 \\\\ w_2 \\\\ w_3 \\\\\n",
        "        \\end{bmatrix}}_{\\underbrace{\\bar{w}}_{(3\\times 1)}}\\end{equation}</li>\n",
        "        <br>\n",
        "        <li style=\"color:blue\">There are various ad-hoc resources to look at if you want to learn more, including <a href=\"https://machinelearningmastery.com/gentle-introduction-linear-algebra/\">A Gentle Introduction to Linear Algebra</a>, as well as <a href=\"https://www.khanacademy.org/math/linear-algebra\">Khan Academy</a> (very good).</li></font>\n",
        "        <br>\n",
        "    </ul>\n",
        "</font>\n",
        "\n",
        "$\\square$"
      ]
    },
    {
      "cell_type": "code",
      "execution_count": null,
      "id": "c5bb6f2e",
      "metadata": {
        "id": "c5bb6f2e",
        "outputId": "75233b3b-a57b-483b-cf37-fcffcfa84de7",
        "colab": {
          "base_uri": "https://localhost:8080/",
          "height": 143
        }
      },
      "outputs": [
        {
          "output_type": "execute_result",
          "data": {
            "text/plain": [
              "          MSFT_ret     V_ret   WMT_ret\n",
              "MSFT_ret  0.000374  0.000170  0.000069\n",
              "V_ret     0.000170  0.000238  0.000047\n",
              "WMT_ret   0.000069  0.000047  0.000190"
            ],
            "text/html": [
              "\n",
              "  <div id=\"df-d4c9346c-9bfa-4c7b-bf5e-e569374fa9cb\" class=\"colab-df-container\">\n",
              "    <div>\n",
              "<style scoped>\n",
              "    .dataframe tbody tr th:only-of-type {\n",
              "        vertical-align: middle;\n",
              "    }\n",
              "\n",
              "    .dataframe tbody tr th {\n",
              "        vertical-align: top;\n",
              "    }\n",
              "\n",
              "    .dataframe thead th {\n",
              "        text-align: right;\n",
              "    }\n",
              "</style>\n",
              "<table border=\"1\" class=\"dataframe\">\n",
              "  <thead>\n",
              "    <tr style=\"text-align: right;\">\n",
              "      <th></th>\n",
              "      <th>MSFT_ret</th>\n",
              "      <th>V_ret</th>\n",
              "      <th>WMT_ret</th>\n",
              "    </tr>\n",
              "  </thead>\n",
              "  <tbody>\n",
              "    <tr>\n",
              "      <th>MSFT_ret</th>\n",
              "      <td>0.000374</td>\n",
              "      <td>0.000170</td>\n",
              "      <td>0.000069</td>\n",
              "    </tr>\n",
              "    <tr>\n",
              "      <th>V_ret</th>\n",
              "      <td>0.000170</td>\n",
              "      <td>0.000238</td>\n",
              "      <td>0.000047</td>\n",
              "    </tr>\n",
              "    <tr>\n",
              "      <th>WMT_ret</th>\n",
              "      <td>0.000069</td>\n",
              "      <td>0.000047</td>\n",
              "      <td>0.000190</td>\n",
              "    </tr>\n",
              "  </tbody>\n",
              "</table>\n",
              "</div>\n",
              "    <div class=\"colab-df-buttons\">\n",
              "\n",
              "  <div class=\"colab-df-container\">\n",
              "    <button class=\"colab-df-convert\" onclick=\"convertToInteractive('df-d4c9346c-9bfa-4c7b-bf5e-e569374fa9cb')\"\n",
              "            title=\"Convert this dataframe to an interactive table.\"\n",
              "            style=\"display:none;\">\n",
              "\n",
              "  <svg xmlns=\"http://www.w3.org/2000/svg\" height=\"24px\" viewBox=\"0 -960 960 960\">\n",
              "    <path d=\"M120-120v-720h720v720H120Zm60-500h600v-160H180v160Zm220 220h160v-160H400v160Zm0 220h160v-160H400v160ZM180-400h160v-160H180v160Zm440 0h160v-160H620v160ZM180-180h160v-160H180v160Zm440 0h160v-160H620v160Z\"/>\n",
              "  </svg>\n",
              "    </button>\n",
              "\n",
              "  <style>\n",
              "    .colab-df-container {\n",
              "      display:flex;\n",
              "      gap: 12px;\n",
              "    }\n",
              "\n",
              "    .colab-df-convert {\n",
              "      background-color: #E8F0FE;\n",
              "      border: none;\n",
              "      border-radius: 50%;\n",
              "      cursor: pointer;\n",
              "      display: none;\n",
              "      fill: #1967D2;\n",
              "      height: 32px;\n",
              "      padding: 0 0 0 0;\n",
              "      width: 32px;\n",
              "    }\n",
              "\n",
              "    .colab-df-convert:hover {\n",
              "      background-color: #E2EBFA;\n",
              "      box-shadow: 0px 1px 2px rgba(60, 64, 67, 0.3), 0px 1px 3px 1px rgba(60, 64, 67, 0.15);\n",
              "      fill: #174EA6;\n",
              "    }\n",
              "\n",
              "    .colab-df-buttons div {\n",
              "      margin-bottom: 4px;\n",
              "    }\n",
              "\n",
              "    [theme=dark] .colab-df-convert {\n",
              "      background-color: #3B4455;\n",
              "      fill: #D2E3FC;\n",
              "    }\n",
              "\n",
              "    [theme=dark] .colab-df-convert:hover {\n",
              "      background-color: #434B5C;\n",
              "      box-shadow: 0px 1px 3px 1px rgba(0, 0, 0, 0.15);\n",
              "      filter: drop-shadow(0px 1px 2px rgba(0, 0, 0, 0.3));\n",
              "      fill: #FFFFFF;\n",
              "    }\n",
              "  </style>\n",
              "\n",
              "    <script>\n",
              "      const buttonEl =\n",
              "        document.querySelector('#df-d4c9346c-9bfa-4c7b-bf5e-e569374fa9cb button.colab-df-convert');\n",
              "      buttonEl.style.display =\n",
              "        google.colab.kernel.accessAllowed ? 'block' : 'none';\n",
              "\n",
              "      async function convertToInteractive(key) {\n",
              "        const element = document.querySelector('#df-d4c9346c-9bfa-4c7b-bf5e-e569374fa9cb');\n",
              "        const dataTable =\n",
              "          await google.colab.kernel.invokeFunction('convertToInteractive',\n",
              "                                                    [key], {});\n",
              "        if (!dataTable) return;\n",
              "\n",
              "        const docLinkHtml = 'Like what you see? Visit the ' +\n",
              "          '<a target=\"_blank\" href=https://colab.research.google.com/notebooks/data_table.ipynb>data table notebook</a>'\n",
              "          + ' to learn more about interactive tables.';\n",
              "        element.innerHTML = '';\n",
              "        dataTable['output_type'] = 'display_data';\n",
              "        await google.colab.output.renderOutput(dataTable, element);\n",
              "        const docLink = document.createElement('div');\n",
              "        docLink.innerHTML = docLinkHtml;\n",
              "        element.appendChild(docLink);\n",
              "      }\n",
              "    </script>\n",
              "  </div>\n",
              "\n",
              "\n",
              "<div id=\"df-0405ddea-1f96-47e2-a4ad-573a02aa5c34\">\n",
              "  <button class=\"colab-df-quickchart\" onclick=\"quickchart('df-0405ddea-1f96-47e2-a4ad-573a02aa5c34')\"\n",
              "            title=\"Suggest charts\"\n",
              "            style=\"display:none;\">\n",
              "\n",
              "<svg xmlns=\"http://www.w3.org/2000/svg\" height=\"24px\"viewBox=\"0 0 24 24\"\n",
              "     width=\"24px\">\n",
              "    <g>\n",
              "        <path d=\"M19 3H5c-1.1 0-2 .9-2 2v14c0 1.1.9 2 2 2h14c1.1 0 2-.9 2-2V5c0-1.1-.9-2-2-2zM9 17H7v-7h2v7zm4 0h-2V7h2v10zm4 0h-2v-4h2v4z\"/>\n",
              "    </g>\n",
              "</svg>\n",
              "  </button>\n",
              "\n",
              "<style>\n",
              "  .colab-df-quickchart {\n",
              "      --bg-color: #E8F0FE;\n",
              "      --fill-color: #1967D2;\n",
              "      --hover-bg-color: #E2EBFA;\n",
              "      --hover-fill-color: #174EA6;\n",
              "      --disabled-fill-color: #AAA;\n",
              "      --disabled-bg-color: #DDD;\n",
              "  }\n",
              "\n",
              "  [theme=dark] .colab-df-quickchart {\n",
              "      --bg-color: #3B4455;\n",
              "      --fill-color: #D2E3FC;\n",
              "      --hover-bg-color: #434B5C;\n",
              "      --hover-fill-color: #FFFFFF;\n",
              "      --disabled-bg-color: #3B4455;\n",
              "      --disabled-fill-color: #666;\n",
              "  }\n",
              "\n",
              "  .colab-df-quickchart {\n",
              "    background-color: var(--bg-color);\n",
              "    border: none;\n",
              "    border-radius: 50%;\n",
              "    cursor: pointer;\n",
              "    display: none;\n",
              "    fill: var(--fill-color);\n",
              "    height: 32px;\n",
              "    padding: 0;\n",
              "    width: 32px;\n",
              "  }\n",
              "\n",
              "  .colab-df-quickchart:hover {\n",
              "    background-color: var(--hover-bg-color);\n",
              "    box-shadow: 0 1px 2px rgba(60, 64, 67, 0.3), 0 1px 3px 1px rgba(60, 64, 67, 0.15);\n",
              "    fill: var(--button-hover-fill-color);\n",
              "  }\n",
              "\n",
              "  .colab-df-quickchart-complete:disabled,\n",
              "  .colab-df-quickchart-complete:disabled:hover {\n",
              "    background-color: var(--disabled-bg-color);\n",
              "    fill: var(--disabled-fill-color);\n",
              "    box-shadow: none;\n",
              "  }\n",
              "\n",
              "  .colab-df-spinner {\n",
              "    border: 2px solid var(--fill-color);\n",
              "    border-color: transparent;\n",
              "    border-bottom-color: var(--fill-color);\n",
              "    animation:\n",
              "      spin 1s steps(1) infinite;\n",
              "  }\n",
              "\n",
              "  @keyframes spin {\n",
              "    0% {\n",
              "      border-color: transparent;\n",
              "      border-bottom-color: var(--fill-color);\n",
              "      border-left-color: var(--fill-color);\n",
              "    }\n",
              "    20% {\n",
              "      border-color: transparent;\n",
              "      border-left-color: var(--fill-color);\n",
              "      border-top-color: var(--fill-color);\n",
              "    }\n",
              "    30% {\n",
              "      border-color: transparent;\n",
              "      border-left-color: var(--fill-color);\n",
              "      border-top-color: var(--fill-color);\n",
              "      border-right-color: var(--fill-color);\n",
              "    }\n",
              "    40% {\n",
              "      border-color: transparent;\n",
              "      border-right-color: var(--fill-color);\n",
              "      border-top-color: var(--fill-color);\n",
              "    }\n",
              "    60% {\n",
              "      border-color: transparent;\n",
              "      border-right-color: var(--fill-color);\n",
              "    }\n",
              "    80% {\n",
              "      border-color: transparent;\n",
              "      border-right-color: var(--fill-color);\n",
              "      border-bottom-color: var(--fill-color);\n",
              "    }\n",
              "    90% {\n",
              "      border-color: transparent;\n",
              "      border-bottom-color: var(--fill-color);\n",
              "    }\n",
              "  }\n",
              "</style>\n",
              "\n",
              "  <script>\n",
              "    async function quickchart(key) {\n",
              "      const quickchartButtonEl =\n",
              "        document.querySelector('#' + key + ' button');\n",
              "      quickchartButtonEl.disabled = true;  // To prevent multiple clicks.\n",
              "      quickchartButtonEl.classList.add('colab-df-spinner');\n",
              "      try {\n",
              "        const charts = await google.colab.kernel.invokeFunction(\n",
              "            'suggestCharts', [key], {});\n",
              "      } catch (error) {\n",
              "        console.error('Error during call to suggestCharts:', error);\n",
              "      }\n",
              "      quickchartButtonEl.classList.remove('colab-df-spinner');\n",
              "      quickchartButtonEl.classList.add('colab-df-quickchart-complete');\n",
              "    }\n",
              "    (() => {\n",
              "      let quickchartButtonEl =\n",
              "        document.querySelector('#df-0405ddea-1f96-47e2-a4ad-573a02aa5c34 button');\n",
              "      quickchartButtonEl.style.display =\n",
              "        google.colab.kernel.accessAllowed ? 'block' : 'none';\n",
              "    })();\n",
              "  </script>\n",
              "</div>\n",
              "    </div>\n",
              "  </div>\n"
            ]
          },
          "metadata": {},
          "execution_count": 40
        }
      ],
      "source": [
        "covariance_matrix = returns.cov()\n",
        "\n",
        "covariance_matrix"
      ]
    },
    {
      "cell_type": "code",
      "execution_count": null,
      "id": "c736d54d",
      "metadata": {
        "id": "c736d54d"
      },
      "outputs": [],
      "source": [
        "objective = cp.Minimize(cp.quad_form(portfolio_weights, covariance_matrix))"
      ]
    },
    {
      "cell_type": "code",
      "execution_count": null,
      "id": "7d7f5361",
      "metadata": {
        "scrolled": true,
        "id": "7d7f5361",
        "outputId": "66beb80a-7cf4-44d6-ca93-c54fb3560cc0",
        "colab": {
          "base_uri": "https://localhost:8080/"
        }
      },
      "outputs": [
        {
          "output_type": "execute_result",
          "data": {
            "text/plain": [
              "True"
            ]
          },
          "metadata": {},
          "execution_count": 42
        }
      ],
      "source": [
        "objective.is_dcp()"
      ]
    },
    {
      "cell_type": "code",
      "execution_count": null,
      "id": "1d5b9bab",
      "metadata": {
        "id": "1d5b9bab"
      },
      "outputs": [],
      "source": [
        "prob = cp.Problem(objective, constraints)"
      ]
    },
    {
      "cell_type": "code",
      "execution_count": null,
      "id": "3033d68a",
      "metadata": {
        "id": "3033d68a",
        "outputId": "2b0895d0-940e-445d-9663-90f251a80700",
        "colab": {
          "base_uri": "https://localhost:8080/"
        }
      },
      "outputs": [
        {
          "output_type": "execute_result",
          "data": {
            "text/plain": [
              "0.00014494459293220712"
            ]
          },
          "metadata": {},
          "execution_count": 44
        }
      ],
      "source": [
        "prob.solve()"
      ]
    },
    {
      "cell_type": "code",
      "execution_count": null,
      "id": "e21be2b9",
      "metadata": {
        "scrolled": false,
        "id": "e21be2b9",
        "outputId": "be065f60-bbce-4822-c29d-cbdd65675f1b",
        "colab": {
          "base_uri": "https://localhost:8080/"
        }
      },
      "outputs": [
        {
          "output_type": "stream",
          "name": "stdout",
          "text": [
            "===============================================================================\n",
            "                                     CVXPY                                     \n",
            "                                     v1.3.2                                    \n",
            "===============================================================================\n",
            "(CVXPY) Dec 25 06:03:54 PM: Your problem has 3 variables, 9 constraints, and 5 parameters.\n",
            "(CVXPY) Dec 25 06:03:54 PM: It is compliant with the following grammars: DCP, DQCP\n",
            "(CVXPY) Dec 25 06:03:54 PM: CVXPY will first compile your problem; then, it will invoke a numerical solver to obtain a solution.\n",
            "-------------------------------------------------------------------------------\n",
            "                                  Compilation                                  \n",
            "-------------------------------------------------------------------------------\n",
            "(CVXPY) Dec 25 06:03:54 PM: Using cached ASA map, for faster compilation (bypassing reduction chain).\n",
            "(CVXPY) Dec 25 06:03:54 PM: Finished problem compilation (took 8.351e-03 seconds).\n",
            "-------------------------------------------------------------------------------\n",
            "                                Numerical solver                               \n",
            "-------------------------------------------------------------------------------\n",
            "(CVXPY) Dec 25 06:03:54 PM: Invoking solver OSQP  to obtain a solution.\n",
            "iter   objective    pri res    dua res    rho        time\n",
            "   1   1.4494e-04   6.74e-13   2.09e-15   2.72e-04   1.05e-04s\n",
            "  25   1.4494e-04   5.55e-17   4.30e-17   2.72e-04   1.99e-04s\n",
            "\n",
            "status:               solved\n",
            "number of iterations: 25\n",
            "optimal objective:    0.0001\n",
            "run time:             2.95e-04s\n",
            "optimal rho estimate: 8.49e-06\n",
            "\n",
            "-------------------------------------------------------------------------------\n",
            "                                    Summary                                    \n",
            "-------------------------------------------------------------------------------\n",
            "(CVXPY) Dec 25 06:03:54 PM: Problem status: optimal\n",
            "(CVXPY) Dec 25 06:03:54 PM: Optimal value: 1.449e-04\n",
            "(CVXPY) Dec 25 06:03:54 PM: Compilation took 8.351e-03 seconds\n",
            "(CVXPY) Dec 25 06:03:54 PM: Solver (including time spent in interface) took 1.127e-03 seconds\n"
          ]
        },
        {
          "output_type": "execute_result",
          "data": {
            "text/plain": [
              "0.00014494459293220717"
            ]
          },
          "metadata": {},
          "execution_count": 45
        }
      ],
      "source": [
        "prob.solve(verbose=True)"
      ]
    },
    {
      "cell_type": "code",
      "execution_count": null,
      "id": "4945c81e",
      "metadata": {
        "id": "4945c81e",
        "outputId": "c32759fc-3ed9-4078-94e6-7f430c3a5a7c",
        "colab": {
          "base_uri": "https://localhost:8080/"
        }
      },
      "outputs": [
        {
          "output_type": "execute_result",
          "data": {
            "text/plain": [
              "array([0.33      , 0.18805365, 0.48194635])"
            ]
          },
          "metadata": {},
          "execution_count": 46
        }
      ],
      "source": [
        "portfolio_weights.value"
      ]
    },
    {
      "cell_type": "code",
      "execution_count": null,
      "id": "03f99f7e",
      "metadata": {
        "scrolled": true,
        "id": "03f99f7e",
        "outputId": "660f233f-7e99-4960-8297-8cc98365ad0e",
        "colab": {
          "base_uri": "https://localhost:8080/"
        }
      },
      "outputs": [
        {
          "output_type": "execute_result",
          "data": {
            "text/plain": [
              "(0.33000000000000046, 0.1622762396133765, 0.5077237603866241)"
            ]
          },
          "metadata": {},
          "execution_count": 50
        }
      ],
      "source": [
        "weight_msft.value, weight_v.value, weight_wmt.value"
      ]
    },
    {
      "cell_type": "code",
      "execution_count": null,
      "id": "2ea44954",
      "metadata": {
        "id": "2ea44954",
        "outputId": "993d4ee7-1bd2-459b-e19a-f36ce948eb7c",
        "colab": {
          "base_uri": "https://localhost:8080/"
        }
      },
      "outputs": [
        {
          "output_type": "stream",
          "name": "stdout",
          "text": [
            "Optimal portfolio\n",
            "----------------------\n",
            " Investment in MSFT_ret : 33.0% of the portfolio\n",
            " Investment in V_ret : 18.81% of the portfolio\n",
            " Investment in WMT_ret : 48.19% of the portfolio\n",
            "----------------------\n",
            "Exp ret = 0.04%\n",
            "Expected risk    = 1.2%\n"
          ]
        }
      ],
      "source": [
        "try:\n",
        "    prob.solve()\n",
        "    print (\"Optimal portfolio\")\n",
        "    print (\"----------------------\")\n",
        "    for s in range(len(mean_variance_correlations)):\n",
        "        print (\" Investment in {} : {}% of the portfolio\".format(mean_variance_correlations.index[s],\n",
        "                                                                 round(100*portfolio_weights.value[s],2)))\n",
        "    print (\"----------------------\")\n",
        "    print (\"Exp ret = {}%\".format(round(100*((portfolio_weights.value.T)@(mean_variance_correlations['Mean'])),2)))\n",
        "    print (\"Expected risk    = {}%\".format(round(100*((cp.quad_form(portfolio_weights.value, covariance_matrix).value)**(1/2)),2)))\n",
        "except:\n",
        "    print (\"Error\")"
      ]
    },
    {
      "cell_type": "markdown",
      "id": "d0496473",
      "metadata": {
        "id": "d0496473"
      },
      "source": [
        "$\\rule{800pt}{10pt}$"
      ]
    },
    {
      "cell_type": "markdown",
      "id": "501184c4",
      "metadata": {
        "id": "501184c4"
      },
      "source": [
        "## Abstract Formulation\n",
        "<br>\n",
        "<font size=\"+1\">\n",
        "    <ul>\n",
        "        <li>We can define a security's price for investment $i$ at time $t$ as $P_i(t) = P_{i,t}$.</li>\n",
        "        <br>\n",
        "        <li>We can define a return as the relative price change, or growth rate, of the share price $$r_{i,t} = \\frac{P_{i,t} - P_{i,t-1}}{P_{i,t-1}}$$</li>\n",
        "        <br>\n",
        "        <li>Fix a point in time $t$, and drop the time subscript from the returns.</li>\n",
        "        <br>\n",
        "        <li>We can define a portfolio as a linear combination of individual securities' returns $$r_p = w_1 r_1 + w_2 r_2 + \\cdots w_n r_n, $$ where $n$ is the total number of securities in your investable universe and $w_i$ is the percentage of your capital that you want to invest in the $i^{th}$ security.</li>\n",
        "        <br>\n",
        "        <font color=\"blue\"><li style=\"color:blue\">The expected rate of return of the portfolio is given by $$reward(\\bar{w}) = \\mathbb{E}[r_p] = \\sum_{i=1}^n w_1 \\mathbb{E}[r_i] = \\bar{w}^T \\bar{\\mu},$$ where $\\bar{w}$ is the vector of weights and $\\bar{\\mu}$ is vector of expected returns.</li></font>\n",
        "        <br>\n",
        "        <li>We can define variance as a measure of the average deviation from the average and is one measure to quantify <i>risk</i>, specifically the variance of a portfolio's return is $$Var(r_p) = \\sum_{i=1}^n \\sum_{j=1}^n w_i w_j Cov(r_i, r_j)$$ $$\\Updownarrow$$ $$Var(r_p) = \\sum_{i=1}^n w_i^2 Var(r_i) + 2 \\sum_{i,j=1; \\ i\\neq j}^n w_i w_j Cov(r_i, r_j)$$ $$\\Updownarrow$$ $$Var(r_p) = \\bar{w}^T \\Sigma \\bar{w},$$ where $\\bar{w}$ is the vector of weights and $\\Sigma$ is the matrix of covariances of returns.</li>\n",
        "        <br>\n",
        "        <font color=\"blue\"><li style=\"color:blue\">\\begin{equation}risk(\\bar{w})^2 = Var(r_p) =\n",
        "        \\underbrace{\\begin{bmatrix}\n",
        "        w_1 & w_2 & \\cdots & w_n \\\\\n",
        "        \\end{bmatrix}}_{\\underbrace{\\bar{w}^T}_{(1\\times n)}}\n",
        "        \\underbrace{\\begin{bmatrix}\n",
        "Cov(r_1,r_1) & Cov(r_1, r_2) & \\cdots & Cov(r_1, r_n)\\\\\n",
        "\\vdots & \\vdots & \\cdots & \\vdots \\\\\n",
        "Cov(r_n, r_1) & Cov(r_n, r_2) & \\vdots & Cov(r_n, r_n) \\\\\n",
        "            \\end{bmatrix}}_{\\underbrace{\\Sigma}_{(n\\times n)}}\n",
        "            \\underbrace{\\begin{bmatrix}\n",
        "        w_1 \\\\ w_2 \\\\ \\vdots \\\\ w_n \\\\\n",
        "        \\end{bmatrix}}_{\\underbrace{\\bar{w}}_{(n\\times 1)}}\\end{equation}</li>\n",
        "        <br>\n",
        "        $\\rule{800pt}{10pt}$\n",
        "        <br>\n",
        "        <li>This abstract formulation of the above problem leads to the following:</li>\n",
        "        <br>\n",
        "        <li>\\begin{align}\n",
        "        \\text{minimize: } & risk(\\bar{w}) = & (\\bar{w}^T \\Sigma \\bar{w})^{\\frac{1}{2}} \\\\\n",
        "        \\text{subject to: } & reward(\\bar{w}) = & \\bar{w}^T \\bar{\\mu} \\geq C_1 & \\text{ (required return)}\\\\\n",
        "        & \\bar{w}  & \\geq \\bar{0}  & \\text{ (no short-selling)}\\\\\n",
        "        & \\bar{w}  & \\leq \\bar{1} & \\text{ (no margin/leverage)}\\\\\n",
        "        & \\bar{w}^T \\bar{1}  &  = 1 & \\text{ (fully invested)}\\\\\n",
        "        &  w_j & \\geq C_2  & \\text{ (required exposure to security j)}\\\\\n",
        "        \\end{align}</li>\n",
        "        <br>\n",
        "        <li>Note the last condition can be represented in matrix form as well: \\begin{equation} \\begin{bmatrix}w_1 & \\cdots & w_{j-1} & w_{j} & w_{j+1} & \\cdots & w_n \\end{bmatrix} \\begin{bmatrix}0 \\\\ \\vdots \\\\ 0 \\\\ 1 \\\\ 0 \\\\ \\vdots \\\\ 0 \\end{bmatrix} = w_j \\end{equation}</li>\n",
        "        <br>\n",
        "    </ul>\n",
        "</font>\n",
        "\n",
        "$\\square$"
      ]
    },
    {
      "cell_type": "markdown",
      "id": "e839cf3f",
      "metadata": {
        "id": "e839cf3f"
      },
      "source": [
        "$\\rule{800pt}{20pt}$"
      ]
    },
    {
      "cell_type": "markdown",
      "id": "7d2b6387",
      "metadata": {
        "id": "7d2b6387"
      },
      "source": [
        "<br>\n",
        "<font size=\"+1\">\n",
        "    <ul>\n",
        "        <li>Many firms who feel they are able to <i>solve</i> the standard problem efficiently for their clients are looking for ways to improve their product and, hopefully, expand the potential client base. </li>\n",
        "        <br>\n",
        "        <li>A few areas for innovation on this problem include:</li>\n",
        "        <br>\n",
        "        <ul>\n",
        "            <li>thousands of securities, all of different types,</li>\n",
        "            <br>\n",
        "            <li>innovative forecasting methods for expected returns and risks,</li>\n",
        "            <br>\n",
        "            <li>inclusion of a good transaction cost model into the optimization framework - this is a huge problem,</li>\n",
        "            <br>\n",
        "            <li>customized constraints that are at the individual security level, at the <i>style</i> level, at the factor level, at the sector level, etc.,</li>\n",
        "            <br>\n",
        "            <li>incorporation of time dynamics on constraints and forecasts,</li>\n",
        "            <br>\n",
        "            <li>relying less on formal models, and using machine learning predictions to help inform us about what the correct objective should be, this is loosely known as reinforcement learning,</li>\n",
        "            <br>\n",
        "            <li>etc.</li>\n",
        "            <br>\n",
        "        </ul>\n",
        "    </ul>\n",
        "</font>"
      ]
    },
    {
      "cell_type": "markdown",
      "id": "ebc23151",
      "metadata": {
        "id": "ebc23151"
      },
      "source": [
        "### Portfolio optimization"
      ]
    },
    {
      "cell_type": "markdown",
      "id": "d70697ad",
      "metadata": {
        "id": "d70697ad"
      },
      "source": [
        "#### Portfolio allocation vector\n",
        "\n",
        "In this example we show how to do portfolio optimization using CVXPY.\n",
        "We begin with the basic definitions.\n",
        "In portfolio optimization we have some amount of money to invest in any of $n$ different assets.\n",
        "We choose what fraction $w_i$ of our money to invest in each asset $i$, $i=1, \\ldots, n$.\n",
        "\n",
        "We call $w\\in {\\bf R}^n$ the *portfolio allocation vector*.\n",
        "We of course have the constraint that ${\\mathbf 1}^T w =1$.\n",
        "The allocation $w_i<0$ means a *short position* in asset $i$, or that we borrow shares to sell now that we must replace later.\n",
        "The allocation $w \\geq 0$ is a *long only* portfolio.\n",
        "The quantity\n",
        "$$ \\|w \\|_1 = {\\mathbf 1}^T w_+ + {\\mathbf 1}^T w_- $$\n",
        "is known as *leverage*.\n",
        "\n",
        "$\\square$"
      ]
    },
    {
      "cell_type": "markdown",
      "id": "f22b9378",
      "metadata": {
        "id": "f22b9378"
      },
      "source": [
        "#### Asset returns\n",
        "\n",
        "We will only model investments held for one period. The initial prices are $p_i > 0$. The end of period prices are $p_i^+ >0$. The asset (fractional) returns are $r_i = (p_i^+-p_i)/p_i$. The porfolio (fractional) return is $R = r^Tw$.\n",
        "\n",
        "A common model is that $r$ is a random variable with mean ${\\bf E}r = \\mu$ and covariance ${\\bf E{(r-\\mu)(r-\\mu)^T}} = \\Sigma$.\n",
        "It follows that $R$ is a random variable with ${\\bf E}R = \\mu^T w$ and ${\\bf var}(R) = w^T\\Sigma w$.\n",
        "${\\bf E}R$ is the (mean) *return* of the portfolio. ${\\bf var}(R)$ is the *risk* of the portfolio.\n",
        "(Risk is also sometimes given as ${\\bf std}(R) = \\sqrt{{\\bf var}(R)}$.)\n",
        "\n",
        "Portfolio optimization has two competing objectives: high return and low risk."
      ]
    },
    {
      "cell_type": "markdown",
      "id": "fb0e96a1",
      "metadata": {
        "id": "fb0e96a1"
      },
      "source": [
        "#### Classical (Markowitz) portfolio optimization\n",
        "\n",
        "Classical (Markowitz) portfolio optimization solves the optimization problem\n",
        "\n",
        "\\begin{array}{ll} \\mbox{maximize} & \\mu^T w - \\gamma w^T\\Sigma w\\\\\n",
        "\\mbox{subject to} & {\\bf 1}^T w = 1, \\quad w \\in {\\cal W},\n",
        "\\end{array}\n",
        "\n",
        "where $w \\in {\\bf R}^n$ is the optimization variable, $\\cal W$ is a set of allowed portfolios (e.g., ${\\cal W} = {\\bf R}_+^n$ for a long only portfolio), and $\\gamma >0$ is the *risk aversion parameter*.\n",
        "\n",
        "The objective $\\mu^Tw - \\gamma w^T\\Sigma w$ is the *risk-adjusted return*. Varying $\\gamma$ gives the optimal *risk-return trade-off*.\n",
        "We can get the same risk-return trade-off by fixing return and minimizing risk."
      ]
    },
    {
      "cell_type": "markdown",
      "id": "729396d3",
      "metadata": {
        "id": "729396d3"
      },
      "source": [
        "#### Example 1\n",
        "\n",
        "In the following code we compute and plot the optimal risk-return trade-off for $10$ assets, restricting ourselves to a long only portfolio."
      ]
    },
    {
      "cell_type": "code",
      "execution_count": null,
      "id": "bb1b8438",
      "metadata": {
        "id": "bb1b8438",
        "pycharm": {
          "name": "#%%\n"
        }
      },
      "outputs": [],
      "source": [
        "# Generate data for long only portfolio optimization.\n",
        "import numpy as np\n",
        "import scipy.sparse as sp\n",
        "\n",
        "np.random.seed(1)\n",
        "n = 10\n",
        "mu = np.abs(np.random.randn(n, 1))\n",
        "Sigma = np.random.randn(n, n)\n",
        "Sigma = Sigma.T.dot(Sigma)"
      ]
    },
    {
      "cell_type": "code",
      "execution_count": null,
      "id": "e003d4e4",
      "metadata": {
        "id": "e003d4e4",
        "pycharm": {
          "name": "#%%\n"
        }
      },
      "outputs": [],
      "source": [
        "# Long only portfolio optimization.\n",
        "import cvxpy as cp\n",
        "\n",
        "\n",
        "w = cp.Variable(n)\n",
        "gamma = cp.Parameter(nonneg=True)\n",
        "ret = mu.T @ w\n",
        "risk = cp.quad_form(w, Sigma)\n",
        "prob = cp.Problem(cp.Maximize(ret - gamma * risk), [cp.sum(w) == 1, w >= 0])"
      ]
    },
    {
      "cell_type": "code",
      "execution_count": null,
      "id": "38fb86ff",
      "metadata": {
        "id": "38fb86ff",
        "pycharm": {
          "name": "#%%\n"
        }
      },
      "outputs": [],
      "source": [
        "# Compute trade-off curve.\n",
        "SAMPLES = 100\n",
        "risk_data = np.zeros(SAMPLES)\n",
        "ret_data = np.zeros(SAMPLES)\n",
        "gamma_vals = np.logspace(-2, 3, num=SAMPLES)\n",
        "for i in range(SAMPLES):\n",
        "    gamma.value = gamma_vals[i]\n",
        "    prob.solve()\n",
        "    risk_data[i] = cp.sqrt(risk).value\n",
        "    ret_data[i] = ret.value"
      ]
    },
    {
      "cell_type": "code",
      "execution_count": null,
      "id": "75fef31c",
      "metadata": {
        "id": "75fef31c",
        "outputId": "7ced9a54-dfd0-42d2-8bf1-46582286d521",
        "pycharm": {
          "name": "#%%\n"
        },
        "colab": {
          "base_uri": "https://localhost:8080/",
          "height": 436
        }
      },
      "outputs": [
        {
          "output_type": "display_data",
          "data": {
            "text/plain": [
              "<Figure size 640x480 with 1 Axes>"
            ],
            "image/svg+xml": "<?xml version=\"1.0\" encoding=\"utf-8\" standalone=\"no\"?>\n<!DOCTYPE svg PUBLIC \"-//W3C//DTD SVG 1.1//EN\"\n  \"http://www.w3.org/Graphics/SVG/1.1/DTD/svg11.dtd\">\n<svg xmlns:xlink=\"http://www.w3.org/1999/xlink\" width=\"408.10125pt\" height=\"310.86825pt\" viewBox=\"0 0 408.10125 310.86825\" xmlns=\"http://www.w3.org/2000/svg\" version=\"1.1\">\n <metadata>\n  <rdf:RDF xmlns:dc=\"http://purl.org/dc/elements/1.1/\" xmlns:cc=\"http://creativecommons.org/ns#\" xmlns:rdf=\"http://www.w3.org/1999/02/22-rdf-syntax-ns#\">\n   <cc:Work>\n    <dc:type rdf:resource=\"http://purl.org/dc/dcmitype/StillImage\"/>\n    <dc:date>2023-12-25T18:05:42.379745</dc:date>\n    <dc:format>image/svg+xml</dc:format>\n    <dc:creator>\n     <cc:Agent>\n      <dc:title>Matplotlib v3.7.1, https://matplotlib.org/</dc:title>\n     </cc:Agent>\n    </dc:creator>\n   </cc:Work>\n  </rdf:RDF>\n </metadata>\n <defs>\n  <style type=\"text/css\">*{stroke-linejoin: round; stroke-linecap: butt}</style>\n </defs>\n <g id=\"figure_1\">\n  <g id=\"patch_1\">\n   <path d=\"M 0 310.86825 \nL 408.10125 310.86825 \nL 408.10125 0 \nL 0 0 \nz\n\" style=\"fill: #ffffff\"/>\n  </g>\n  <g id=\"axes_1\">\n   <g id=\"patch_2\">\n    <path d=\"M 43.78125 273.312 \nL 400.90125 273.312 \nL 400.90125 7.2 \nL 43.78125 7.2 \nz\n\" style=\"fill: #ffffff\"/>\n   </g>\n   <g id=\"matplotlib.axis_1\">\n    <g id=\"xtick_1\">\n     <g id=\"line2d_1\">\n      <defs>\n       <path id=\"m25b46e3016\" d=\"M 0 0 \nL 0 3.5 \n\" style=\"stroke: #000000; stroke-width: 0.8\"/>\n      </defs>\n      <g>\n       <use xlink:href=\"#m25b46e3016\" x=\"75.422156\" y=\"273.312\" style=\"stroke: #000000; stroke-width: 0.8\"/>\n      </g>\n     </g>\n     <g id=\"text_1\">\n      <!-- 0.5 -->\n      <g transform=\"translate(67.470594 287.910437) scale(0.1 -0.1)\">\n       <defs>\n        <path id=\"DejaVuSans-30\" d=\"M 2034 4250 \nQ 1547 4250 1301 3770 \nQ 1056 3291 1056 2328 \nQ 1056 1369 1301 889 \nQ 1547 409 2034 409 \nQ 2525 409 2770 889 \nQ 3016 1369 3016 2328 \nQ 3016 3291 2770 3770 \nQ 2525 4250 2034 4250 \nz\nM 2034 4750 \nQ 2819 4750 3233 4129 \nQ 3647 3509 3647 2328 \nQ 3647 1150 3233 529 \nQ 2819 -91 2034 -91 \nQ 1250 -91 836 529 \nQ 422 1150 422 2328 \nQ 422 3509 836 4129 \nQ 1250 4750 2034 4750 \nz\n\" transform=\"scale(0.015625)\"/>\n        <path id=\"DejaVuSans-2e\" d=\"M 684 794 \nL 1344 794 \nL 1344 0 \nL 684 0 \nL 684 794 \nz\n\" transform=\"scale(0.015625)\"/>\n        <path id=\"DejaVuSans-35\" d=\"M 691 4666 \nL 3169 4666 \nL 3169 4134 \nL 1269 4134 \nL 1269 2991 \nQ 1406 3038 1543 3061 \nQ 1681 3084 1819 3084 \nQ 2600 3084 3056 2656 \nQ 3513 2228 3513 1497 \nQ 3513 744 3044 326 \nQ 2575 -91 1722 -91 \nQ 1428 -91 1123 -41 \nQ 819 9 494 109 \nL 494 744 \nQ 775 591 1075 516 \nQ 1375 441 1709 441 \nQ 2250 441 2565 725 \nQ 2881 1009 2881 1497 \nQ 2881 1984 2565 2268 \nQ 2250 2553 1709 2553 \nQ 1456 2553 1204 2497 \nQ 953 2441 691 2322 \nL 691 4666 \nz\n\" transform=\"scale(0.015625)\"/>\n       </defs>\n       <use xlink:href=\"#DejaVuSans-30\"/>\n       <use xlink:href=\"#DejaVuSans-2e\" x=\"63.623047\"/>\n       <use xlink:href=\"#DejaVuSans-35\" x=\"95.410156\"/>\n      </g>\n     </g>\n    </g>\n    <g id=\"xtick_2\">\n     <g id=\"line2d_2\">\n      <g>\n       <use xlink:href=\"#m25b46e3016\" x=\"130.234755\" y=\"273.312\" style=\"stroke: #000000; stroke-width: 0.8\"/>\n      </g>\n     </g>\n     <g id=\"text_2\">\n      <!-- 1.0 -->\n      <g transform=\"translate(122.283192 287.910437) scale(0.1 -0.1)\">\n       <defs>\n        <path id=\"DejaVuSans-31\" d=\"M 794 531 \nL 1825 531 \nL 1825 4091 \nL 703 3866 \nL 703 4441 \nL 1819 4666 \nL 2450 4666 \nL 2450 531 \nL 3481 531 \nL 3481 0 \nL 794 0 \nL 794 531 \nz\n\" transform=\"scale(0.015625)\"/>\n       </defs>\n       <use xlink:href=\"#DejaVuSans-31\"/>\n       <use xlink:href=\"#DejaVuSans-2e\" x=\"63.623047\"/>\n       <use xlink:href=\"#DejaVuSans-30\" x=\"95.410156\"/>\n      </g>\n     </g>\n    </g>\n    <g id=\"xtick_3\">\n     <g id=\"line2d_3\">\n      <g>\n       <use xlink:href=\"#m25b46e3016\" x=\"185.047354\" y=\"273.312\" style=\"stroke: #000000; stroke-width: 0.8\"/>\n      </g>\n     </g>\n     <g id=\"text_3\">\n      <!-- 1.5 -->\n      <g transform=\"translate(177.095791 287.910437) scale(0.1 -0.1)\">\n       <use xlink:href=\"#DejaVuSans-31\"/>\n       <use xlink:href=\"#DejaVuSans-2e\" x=\"63.623047\"/>\n       <use xlink:href=\"#DejaVuSans-35\" x=\"95.410156\"/>\n      </g>\n     </g>\n    </g>\n    <g id=\"xtick_4\">\n     <g id=\"line2d_4\">\n      <g>\n       <use xlink:href=\"#m25b46e3016\" x=\"239.859952\" y=\"273.312\" style=\"stroke: #000000; stroke-width: 0.8\"/>\n      </g>\n     </g>\n     <g id=\"text_4\">\n      <!-- 2.0 -->\n      <g transform=\"translate(231.90839 287.910437) scale(0.1 -0.1)\">\n       <defs>\n        <path id=\"DejaVuSans-32\" d=\"M 1228 531 \nL 3431 531 \nL 3431 0 \nL 469 0 \nL 469 531 \nQ 828 903 1448 1529 \nQ 2069 2156 2228 2338 \nQ 2531 2678 2651 2914 \nQ 2772 3150 2772 3378 \nQ 2772 3750 2511 3984 \nQ 2250 4219 1831 4219 \nQ 1534 4219 1204 4116 \nQ 875 4013 500 3803 \nL 500 4441 \nQ 881 4594 1212 4672 \nQ 1544 4750 1819 4750 \nQ 2544 4750 2975 4387 \nQ 3406 4025 3406 3419 \nQ 3406 3131 3298 2873 \nQ 3191 2616 2906 2266 \nQ 2828 2175 2409 1742 \nQ 1991 1309 1228 531 \nz\n\" transform=\"scale(0.015625)\"/>\n       </defs>\n       <use xlink:href=\"#DejaVuSans-32\"/>\n       <use xlink:href=\"#DejaVuSans-2e\" x=\"63.623047\"/>\n       <use xlink:href=\"#DejaVuSans-30\" x=\"95.410156\"/>\n      </g>\n     </g>\n    </g>\n    <g id=\"xtick_5\">\n     <g id=\"line2d_5\">\n      <g>\n       <use xlink:href=\"#m25b46e3016\" x=\"294.672551\" y=\"273.312\" style=\"stroke: #000000; stroke-width: 0.8\"/>\n      </g>\n     </g>\n     <g id=\"text_5\">\n      <!-- 2.5 -->\n      <g transform=\"translate(286.720988 287.910437) scale(0.1 -0.1)\">\n       <use xlink:href=\"#DejaVuSans-32\"/>\n       <use xlink:href=\"#DejaVuSans-2e\" x=\"63.623047\"/>\n       <use xlink:href=\"#DejaVuSans-35\" x=\"95.410156\"/>\n      </g>\n     </g>\n    </g>\n    <g id=\"xtick_6\">\n     <g id=\"line2d_6\">\n      <g>\n       <use xlink:href=\"#m25b46e3016\" x=\"349.48515\" y=\"273.312\" style=\"stroke: #000000; stroke-width: 0.8\"/>\n      </g>\n     </g>\n     <g id=\"text_6\">\n      <!-- 3.0 -->\n      <g transform=\"translate(341.533587 287.910437) scale(0.1 -0.1)\">\n       <defs>\n        <path id=\"DejaVuSans-33\" d=\"M 2597 2516 \nQ 3050 2419 3304 2112 \nQ 3559 1806 3559 1356 \nQ 3559 666 3084 287 \nQ 2609 -91 1734 -91 \nQ 1441 -91 1130 -33 \nQ 819 25 488 141 \nL 488 750 \nQ 750 597 1062 519 \nQ 1375 441 1716 441 \nQ 2309 441 2620 675 \nQ 2931 909 2931 1356 \nQ 2931 1769 2642 2001 \nQ 2353 2234 1838 2234 \nL 1294 2234 \nL 1294 2753 \nL 1863 2753 \nQ 2328 2753 2575 2939 \nQ 2822 3125 2822 3475 \nQ 2822 3834 2567 4026 \nQ 2313 4219 1838 4219 \nQ 1578 4219 1281 4162 \nQ 984 4106 628 3988 \nL 628 4550 \nQ 988 4650 1302 4700 \nQ 1616 4750 1894 4750 \nQ 2613 4750 3031 4423 \nQ 3450 4097 3450 3541 \nQ 3450 3153 3228 2886 \nQ 3006 2619 2597 2516 \nz\n\" transform=\"scale(0.015625)\"/>\n       </defs>\n       <use xlink:href=\"#DejaVuSans-33\"/>\n       <use xlink:href=\"#DejaVuSans-2e\" x=\"63.623047\"/>\n       <use xlink:href=\"#DejaVuSans-30\" x=\"95.410156\"/>\n      </g>\n     </g>\n    </g>\n    <g id=\"text_7\">\n     <!-- Standard deviation -->\n     <g transform=\"translate(174.763906 301.588562) scale(0.1 -0.1)\">\n      <defs>\n       <path id=\"DejaVuSans-53\" d=\"M 3425 4513 \nL 3425 3897 \nQ 3066 4069 2747 4153 \nQ 2428 4238 2131 4238 \nQ 1616 4238 1336 4038 \nQ 1056 3838 1056 3469 \nQ 1056 3159 1242 3001 \nQ 1428 2844 1947 2747 \nL 2328 2669 \nQ 3034 2534 3370 2195 \nQ 3706 1856 3706 1288 \nQ 3706 609 3251 259 \nQ 2797 -91 1919 -91 \nQ 1588 -91 1214 -16 \nQ 841 59 441 206 \nL 441 856 \nQ 825 641 1194 531 \nQ 1563 422 1919 422 \nQ 2459 422 2753 634 \nQ 3047 847 3047 1241 \nQ 3047 1584 2836 1778 \nQ 2625 1972 2144 2069 \nL 1759 2144 \nQ 1053 2284 737 2584 \nQ 422 2884 422 3419 \nQ 422 4038 858 4394 \nQ 1294 4750 2059 4750 \nQ 2388 4750 2728 4690 \nQ 3069 4631 3425 4513 \nz\n\" transform=\"scale(0.015625)\"/>\n       <path id=\"DejaVuSans-74\" d=\"M 1172 4494 \nL 1172 3500 \nL 2356 3500 \nL 2356 3053 \nL 1172 3053 \nL 1172 1153 \nQ 1172 725 1289 603 \nQ 1406 481 1766 481 \nL 2356 481 \nL 2356 0 \nL 1766 0 \nQ 1100 0 847 248 \nQ 594 497 594 1153 \nL 594 3053 \nL 172 3053 \nL 172 3500 \nL 594 3500 \nL 594 4494 \nL 1172 4494 \nz\n\" transform=\"scale(0.015625)\"/>\n       <path id=\"DejaVuSans-61\" d=\"M 2194 1759 \nQ 1497 1759 1228 1600 \nQ 959 1441 959 1056 \nQ 959 750 1161 570 \nQ 1363 391 1709 391 \nQ 2188 391 2477 730 \nQ 2766 1069 2766 1631 \nL 2766 1759 \nL 2194 1759 \nz\nM 3341 1997 \nL 3341 0 \nL 2766 0 \nL 2766 531 \nQ 2569 213 2275 61 \nQ 1981 -91 1556 -91 \nQ 1019 -91 701 211 \nQ 384 513 384 1019 \nQ 384 1609 779 1909 \nQ 1175 2209 1959 2209 \nL 2766 2209 \nL 2766 2266 \nQ 2766 2663 2505 2880 \nQ 2244 3097 1772 3097 \nQ 1472 3097 1187 3025 \nQ 903 2953 641 2809 \nL 641 3341 \nQ 956 3463 1253 3523 \nQ 1550 3584 1831 3584 \nQ 2591 3584 2966 3190 \nQ 3341 2797 3341 1997 \nz\n\" transform=\"scale(0.015625)\"/>\n       <path id=\"DejaVuSans-6e\" d=\"M 3513 2113 \nL 3513 0 \nL 2938 0 \nL 2938 2094 \nQ 2938 2591 2744 2837 \nQ 2550 3084 2163 3084 \nQ 1697 3084 1428 2787 \nQ 1159 2491 1159 1978 \nL 1159 0 \nL 581 0 \nL 581 3500 \nL 1159 3500 \nL 1159 2956 \nQ 1366 3272 1645 3428 \nQ 1925 3584 2291 3584 \nQ 2894 3584 3203 3211 \nQ 3513 2838 3513 2113 \nz\n\" transform=\"scale(0.015625)\"/>\n       <path id=\"DejaVuSans-64\" d=\"M 2906 2969 \nL 2906 4863 \nL 3481 4863 \nL 3481 0 \nL 2906 0 \nL 2906 525 \nQ 2725 213 2448 61 \nQ 2172 -91 1784 -91 \nQ 1150 -91 751 415 \nQ 353 922 353 1747 \nQ 353 2572 751 3078 \nQ 1150 3584 1784 3584 \nQ 2172 3584 2448 3432 \nQ 2725 3281 2906 2969 \nz\nM 947 1747 \nQ 947 1113 1208 752 \nQ 1469 391 1925 391 \nQ 2381 391 2643 752 \nQ 2906 1113 2906 1747 \nQ 2906 2381 2643 2742 \nQ 2381 3103 1925 3103 \nQ 1469 3103 1208 2742 \nQ 947 2381 947 1747 \nz\n\" transform=\"scale(0.015625)\"/>\n       <path id=\"DejaVuSans-72\" d=\"M 2631 2963 \nQ 2534 3019 2420 3045 \nQ 2306 3072 2169 3072 \nQ 1681 3072 1420 2755 \nQ 1159 2438 1159 1844 \nL 1159 0 \nL 581 0 \nL 581 3500 \nL 1159 3500 \nL 1159 2956 \nQ 1341 3275 1631 3429 \nQ 1922 3584 2338 3584 \nQ 2397 3584 2469 3576 \nQ 2541 3569 2628 3553 \nL 2631 2963 \nz\n\" transform=\"scale(0.015625)\"/>\n       <path id=\"DejaVuSans-20\" transform=\"scale(0.015625)\"/>\n       <path id=\"DejaVuSans-65\" d=\"M 3597 1894 \nL 3597 1613 \nL 953 1613 \nQ 991 1019 1311 708 \nQ 1631 397 2203 397 \nQ 2534 397 2845 478 \nQ 3156 559 3463 722 \nL 3463 178 \nQ 3153 47 2828 -22 \nQ 2503 -91 2169 -91 \nQ 1331 -91 842 396 \nQ 353 884 353 1716 \nQ 353 2575 817 3079 \nQ 1281 3584 2069 3584 \nQ 2775 3584 3186 3129 \nQ 3597 2675 3597 1894 \nz\nM 3022 2063 \nQ 3016 2534 2758 2815 \nQ 2500 3097 2075 3097 \nQ 1594 3097 1305 2825 \nQ 1016 2553 972 2059 \nL 3022 2063 \nz\n\" transform=\"scale(0.015625)\"/>\n       <path id=\"DejaVuSans-76\" d=\"M 191 3500 \nL 800 3500 \nL 1894 563 \nL 2988 3500 \nL 3597 3500 \nL 2284 0 \nL 1503 0 \nL 191 3500 \nz\n\" transform=\"scale(0.015625)\"/>\n       <path id=\"DejaVuSans-69\" d=\"M 603 3500 \nL 1178 3500 \nL 1178 0 \nL 603 0 \nL 603 3500 \nz\nM 603 4863 \nL 1178 4863 \nL 1178 4134 \nL 603 4134 \nL 603 4863 \nz\n\" transform=\"scale(0.015625)\"/>\n       <path id=\"DejaVuSans-6f\" d=\"M 1959 3097 \nQ 1497 3097 1228 2736 \nQ 959 2375 959 1747 \nQ 959 1119 1226 758 \nQ 1494 397 1959 397 \nQ 2419 397 2687 759 \nQ 2956 1122 2956 1747 \nQ 2956 2369 2687 2733 \nQ 2419 3097 1959 3097 \nz\nM 1959 3584 \nQ 2709 3584 3137 3096 \nQ 3566 2609 3566 1747 \nQ 3566 888 3137 398 \nQ 2709 -91 1959 -91 \nQ 1206 -91 779 398 \nQ 353 888 353 1747 \nQ 353 2609 779 3096 \nQ 1206 3584 1959 3584 \nz\n\" transform=\"scale(0.015625)\"/>\n      </defs>\n      <use xlink:href=\"#DejaVuSans-53\"/>\n      <use xlink:href=\"#DejaVuSans-74\" x=\"63.476562\"/>\n      <use xlink:href=\"#DejaVuSans-61\" x=\"102.685547\"/>\n      <use xlink:href=\"#DejaVuSans-6e\" x=\"163.964844\"/>\n      <use xlink:href=\"#DejaVuSans-64\" x=\"227.34375\"/>\n      <use xlink:href=\"#DejaVuSans-61\" x=\"290.820312\"/>\n      <use xlink:href=\"#DejaVuSans-72\" x=\"352.099609\"/>\n      <use xlink:href=\"#DejaVuSans-64\" x=\"391.462891\"/>\n      <use xlink:href=\"#DejaVuSans-20\" x=\"454.939453\"/>\n      <use xlink:href=\"#DejaVuSans-64\" x=\"486.726562\"/>\n      <use xlink:href=\"#DejaVuSans-65\" x=\"550.203125\"/>\n      <use xlink:href=\"#DejaVuSans-76\" x=\"611.726562\"/>\n      <use xlink:href=\"#DejaVuSans-69\" x=\"670.90625\"/>\n      <use xlink:href=\"#DejaVuSans-61\" x=\"698.689453\"/>\n      <use xlink:href=\"#DejaVuSans-74\" x=\"759.96875\"/>\n      <use xlink:href=\"#DejaVuSans-69\" x=\"799.177734\"/>\n      <use xlink:href=\"#DejaVuSans-6f\" x=\"826.960938\"/>\n      <use xlink:href=\"#DejaVuSans-6e\" x=\"888.142578\"/>\n     </g>\n    </g>\n   </g>\n   <g id=\"matplotlib.axis_2\">\n    <g id=\"ytick_1\">\n     <g id=\"line2d_7\">\n      <defs>\n       <path id=\"m3d663320f3\" d=\"M 0 0 \nL -3.5 0 \n\" style=\"stroke: #000000; stroke-width: 0.8\"/>\n      </defs>\n      <g>\n       <use xlink:href=\"#m3d663320f3\" x=\"43.78125\" y=\"231.67051\" style=\"stroke: #000000; stroke-width: 0.8\"/>\n      </g>\n     </g>\n     <g id=\"text_8\">\n      <!-- 0.5 -->\n      <g transform=\"translate(20.878125 235.469729) scale(0.1 -0.1)\">\n       <use xlink:href=\"#DejaVuSans-30\"/>\n       <use xlink:href=\"#DejaVuSans-2e\" x=\"63.623047\"/>\n       <use xlink:href=\"#DejaVuSans-35\" x=\"95.410156\"/>\n      </g>\n     </g>\n    </g>\n    <g id=\"ytick_2\">\n     <g id=\"line2d_8\">\n      <g>\n       <use xlink:href=\"#m3d663320f3\" x=\"43.78125\" y=\"172.727976\" style=\"stroke: #000000; stroke-width: 0.8\"/>\n      </g>\n     </g>\n     <g id=\"text_9\">\n      <!-- 1.0 -->\n      <g transform=\"translate(20.878125 176.527195) scale(0.1 -0.1)\">\n       <use xlink:href=\"#DejaVuSans-31\"/>\n       <use xlink:href=\"#DejaVuSans-2e\" x=\"63.623047\"/>\n       <use xlink:href=\"#DejaVuSans-30\" x=\"95.410156\"/>\n      </g>\n     </g>\n    </g>\n    <g id=\"ytick_3\">\n     <g id=\"line2d_9\">\n      <g>\n       <use xlink:href=\"#m3d663320f3\" x=\"43.78125\" y=\"113.785443\" style=\"stroke: #000000; stroke-width: 0.8\"/>\n      </g>\n     </g>\n     <g id=\"text_10\">\n      <!-- 1.5 -->\n      <g transform=\"translate(20.878125 117.584662) scale(0.1 -0.1)\">\n       <use xlink:href=\"#DejaVuSans-31\"/>\n       <use xlink:href=\"#DejaVuSans-2e\" x=\"63.623047\"/>\n       <use xlink:href=\"#DejaVuSans-35\" x=\"95.410156\"/>\n      </g>\n     </g>\n    </g>\n    <g id=\"ytick_4\">\n     <g id=\"line2d_10\">\n      <g>\n       <use xlink:href=\"#m3d663320f3\" x=\"43.78125\" y=\"54.842909\" style=\"stroke: #000000; stroke-width: 0.8\"/>\n      </g>\n     </g>\n     <g id=\"text_11\">\n      <!-- 2.0 -->\n      <g transform=\"translate(20.878125 58.642128) scale(0.1 -0.1)\">\n       <use xlink:href=\"#DejaVuSans-32\"/>\n       <use xlink:href=\"#DejaVuSans-2e\" x=\"63.623047\"/>\n       <use xlink:href=\"#DejaVuSans-30\" x=\"95.410156\"/>\n      </g>\n     </g>\n    </g>\n    <g id=\"text_12\">\n     <!-- Return -->\n     <g transform=\"translate(14.798438 156.847406) rotate(-90) scale(0.1 -0.1)\">\n      <defs>\n       <path id=\"DejaVuSans-52\" d=\"M 2841 2188 \nQ 3044 2119 3236 1894 \nQ 3428 1669 3622 1275 \nL 4263 0 \nL 3584 0 \nL 2988 1197 \nQ 2756 1666 2539 1819 \nQ 2322 1972 1947 1972 \nL 1259 1972 \nL 1259 0 \nL 628 0 \nL 628 4666 \nL 2053 4666 \nQ 2853 4666 3247 4331 \nQ 3641 3997 3641 3322 \nQ 3641 2881 3436 2590 \nQ 3231 2300 2841 2188 \nz\nM 1259 4147 \nL 1259 2491 \nL 2053 2491 \nQ 2509 2491 2742 2702 \nQ 2975 2913 2975 3322 \nQ 2975 3731 2742 3939 \nQ 2509 4147 2053 4147 \nL 1259 4147 \nz\n\" transform=\"scale(0.015625)\"/>\n       <path id=\"DejaVuSans-75\" d=\"M 544 1381 \nL 544 3500 \nL 1119 3500 \nL 1119 1403 \nQ 1119 906 1312 657 \nQ 1506 409 1894 409 \nQ 2359 409 2629 706 \nQ 2900 1003 2900 1516 \nL 2900 3500 \nL 3475 3500 \nL 3475 0 \nL 2900 0 \nL 2900 538 \nQ 2691 219 2414 64 \nQ 2138 -91 1772 -91 \nQ 1169 -91 856 284 \nQ 544 659 544 1381 \nz\nM 1991 3584 \nL 1991 3584 \nz\n\" transform=\"scale(0.015625)\"/>\n      </defs>\n      <use xlink:href=\"#DejaVuSans-52\"/>\n      <use xlink:href=\"#DejaVuSans-65\" x=\"64.982422\"/>\n      <use xlink:href=\"#DejaVuSans-74\" x=\"126.505859\"/>\n      <use xlink:href=\"#DejaVuSans-75\" x=\"165.714844\"/>\n      <use xlink:href=\"#DejaVuSans-72\" x=\"229.09375\"/>\n      <use xlink:href=\"#DejaVuSans-6e\" x=\"268.457031\"/>\n     </g>\n    </g>\n   </g>\n   <g id=\"line2d_11\">\n    <path d=\"M 301.625342 19.296 \nL 301.625342 19.296 \nL 301.625342 19.296 \nL 301.625342 19.296 \nL 301.625342 19.296 \nL 301.625342 19.296 \nL 301.625342 19.296 \nL 301.625342 19.296 \nL 301.625342 19.296 \nL 301.625342 19.296 \nL 301.625342 19.296 \nL 301.625342 19.296 \nL 301.625342 19.296 \nL 301.625342 19.296 \nL 301.625342 19.296 \nL 288.843079 23.045855 \nL 275.845204 27.086922 \nL 265.054219 30.68434 \nL 256.151678 33.886816 \nL 242.325669 39.259313 \nL 227.650596 45.209689 \nL 213.348853 51.300876 \nL 197.852038 58.168647 \nL 182.889245 64.978672 \nL 169.970615 71.041059 \nL 158.87818 76.437887 \nL 149.410895 81.242225 \nL 141.382274 85.519119 \nL 134.618868 89.326475 \nL 128.959539 92.71584 \nL 124.255371 95.733104 \nL 120.369971 98.419118 \nL 117.179891 100.810249 \nL 114.173128 103.279528 \nL 108.984751 107.827107 \nL 103.90432 112.551345 \nL 99.562541 116.833673 \nL 95.944237 120.645865 \nL 92.904656 124.090977 \nL 87.464207 130.614254 \nL 82.815708 136.421374 \nL 78.86901 141.59096 \nL 75.540284 146.193004 \nL 72.75161 150.289812 \nL 70.430892 153.936853 \nL 68.511974 157.183504 \nL 66.934843 160.073721 \nL 65.645783 162.646636 \nL 64.597403 164.937084 \nL 63.748487 166.976075 \nL 63.063681 168.791216 \nL 62.513036 170.407082 \nL 62.071466 171.84555 \nL 61.536235 173.790989 \nL 61.054521 175.723789 \nL 60.696939 177.312256 \nL 60.556168 178.013263 \nL 60.444256 178.637311 \nL 60.355344 179.192848 \nL 60.284741 179.687395 \nL 60.2287 180.127648 \nL 60.184232 180.519568 \nL 60.148956 180.868462 \nL 60.120979 181.179052 \nL 60.098793 181.455544 \nL 60.081202 181.701681 \nL 60.067256 181.920796 \nL 60.0562 182.115856 \nL 60.047437 182.2895 \nL 60.040491 182.444082 \nL 60.034985 182.581693 \nL 60.030621 182.704196 \nL 60.027163 182.81325 \nL 60.024422 182.910331 \nL 60.02225 182.996755 \nL 60.020528 183.07369 \nL 60.019163 183.14218 \nL 60.018082 183.20315 \nL 60.017225 183.257426 \nL 60.016546 183.305744 \nL 60.016008 183.348757 \nL 60.015581 183.387048 \nL 60.015243 183.421135 \nL 60.014976 183.45148 \nL 60.014763 183.478494 \nL 60.014595 183.502542 \nL 60.014462 183.523949 \nL 60.014356 183.543007 \nL 60.014272 183.559972 \nL 60.014206 183.575075 \nL 60.014153 183.58852 \nL 60.014112 183.600488 \nL 60.014079 183.611143 \nL 60.014052 183.620628 \nL 60.014032 183.629072 \nL 60.014015 183.636588 \nL 60.014002 183.64328 \nL 60.013992 183.649237 \nL 60.013984 183.65454 \nL 60.013977 183.65926 \n\" clip-path=\"url(#p0a4089e7b0)\" style=\"fill: none; stroke: #008000; stroke-width: 1.5; stroke-linecap: square\"/>\n   </g>\n   <g id=\"line2d_12\">\n    <defs>\n     <path id=\"m00144ba7d1\" d=\"M -3 3 \nL 3 3 \nL 3 -3 \nL -3 -3 \nz\n\" style=\"stroke: #0000ff; stroke-linejoin: miter\"/>\n    </defs>\n    <g clip-path=\"url(#p0a4089e7b0)\">\n     <use xlink:href=\"#m00144ba7d1\" x=\"128.959539\" y=\"92.71584\" style=\"fill: #0000ff; stroke: #0000ff; stroke-linejoin: miter\"/>\n    </g>\n   </g>\n   <g id=\"line2d_13\">\n    <g clip-path=\"url(#p0a4089e7b0)\">\n     <use xlink:href=\"#m00144ba7d1\" x=\"82.815708\" y=\"136.421374\" style=\"fill: #0000ff; stroke: #0000ff; stroke-linejoin: miter\"/>\n    </g>\n   </g>\n   <g id=\"line2d_14\">\n    <defs>\n     <path id=\"m47b4a8b4f1\" d=\"M 0 3 \nC 0.795609 3 1.55874 2.683901 2.12132 2.12132 \nC 2.683901 1.55874 3 0.795609 3 0 \nC 3 -0.795609 2.683901 -1.55874 2.12132 -2.12132 \nC 1.55874 -2.683901 0.795609 -3 0 -3 \nC -0.795609 -3 -1.55874 -2.683901 -2.12132 -2.12132 \nC -2.683901 -1.55874 -3 -0.795609 -3 0 \nC -3 0.795609 -2.683901 1.55874 -2.12132 2.12132 \nC -1.55874 2.683901 -0.795609 3 0 3 \nz\n\" style=\"stroke: #ff0000\"/>\n    </defs>\n    <g clip-path=\"url(#p0a4089e7b0)\">\n     <use xlink:href=\"#m47b4a8b4f1\" x=\"336.355983\" y=\"99.126981\" style=\"fill: #ff0000; stroke: #ff0000\"/>\n    </g>\n   </g>\n   <g id=\"line2d_15\">\n    <g clip-path=\"url(#p0a4089e7b0)\">\n     <use xlink:href=\"#m47b4a8b4f1\" x=\"367.658085\" y=\"218.496098\" style=\"fill: #ff0000; stroke: #ff0000\"/>\n    </g>\n   </g>\n   <g id=\"line2d_16\">\n    <g clip-path=\"url(#p0a4089e7b0)\">\n     <use xlink:href=\"#m47b4a8b4f1\" x=\"236.539939\" y=\"228.349481\" style=\"fill: #ff0000; stroke: #ff0000\"/>\n    </g>\n   </g>\n   <g id=\"line2d_17\">\n    <g clip-path=\"url(#p0a4089e7b0)\">\n     <use xlink:href=\"#m47b4a8b4f1\" x=\"286.567595\" y=\"164.126066\" style=\"fill: #ff0000; stroke: #ff0000\"/>\n    </g>\n   </g>\n   <g id=\"line2d_18\">\n    <g clip-path=\"url(#p0a4089e7b0)\">\n     <use xlink:href=\"#m47b4a8b4f1\" x=\"249.238992\" y=\"188.594407\" style=\"fill: #ff0000; stroke: #ff0000\"/>\n    </g>\n   </g>\n   <g id=\"line2d_19\">\n    <g clip-path=\"url(#p0a4089e7b0)\">\n     <use xlink:href=\"#m47b4a8b4f1\" x=\"301.625342\" y=\"19.296\" style=\"fill: #ff0000; stroke: #ff0000\"/>\n    </g>\n   </g>\n   <g id=\"line2d_20\">\n    <g clip-path=\"url(#p0a4089e7b0)\">\n     <use xlink:href=\"#m47b4a8b4f1\" x=\"253.78807\" y=\"84.925792\" style=\"fill: #ff0000; stroke: #ff0000\"/>\n    </g>\n   </g>\n   <g id=\"line2d_21\">\n    <g clip-path=\"url(#p0a4089e7b0)\">\n     <use xlink:href=\"#m47b4a8b4f1\" x=\"384.668523\" y=\"200.878117\" style=\"fill: #ff0000; stroke: #ff0000\"/>\n    </g>\n   </g>\n   <g id=\"line2d_22\">\n    <g clip-path=\"url(#p0a4089e7b0)\">\n     <use xlink:href=\"#m47b4a8b4f1\" x=\"334.99285\" y=\"253.003098\" style=\"fill: #ff0000; stroke: #ff0000\"/>\n    </g>\n   </g>\n   <g id=\"line2d_23\">\n    <g clip-path=\"url(#p0a4089e7b0)\">\n     <use xlink:href=\"#m47b4a8b4f1\" x=\"302.900379\" y=\"261.216\" style=\"fill: #ff0000; stroke: #ff0000\"/>\n    </g>\n   </g>\n   <g id=\"patch_3\">\n    <path d=\"M 43.78125 273.312 \nL 43.78125 7.2 \n\" style=\"fill: none; stroke: #000000; stroke-width: 0.8; stroke-linejoin: miter; stroke-linecap: square\"/>\n   </g>\n   <g id=\"patch_4\">\n    <path d=\"M 400.90125 273.312 \nL 400.90125 7.2 \n\" style=\"fill: none; stroke: #000000; stroke-width: 0.8; stroke-linejoin: miter; stroke-linecap: square\"/>\n   </g>\n   <g id=\"patch_5\">\n    <path d=\"M 43.78125 273.312 \nL 400.90125 273.312 \n\" style=\"fill: none; stroke: #000000; stroke-width: 0.8; stroke-linejoin: miter; stroke-linecap: square\"/>\n   </g>\n   <g id=\"patch_6\">\n    <path d=\"M 43.78125 7.2 \nL 400.90125 7.2 \n\" style=\"fill: none; stroke: #000000; stroke-width: 0.8; stroke-linejoin: miter; stroke-linecap: square\"/>\n   </g>\n   <g id=\"text_13\">\n    <!-- $\\gamma = 0.29$ -->\n    <g transform=\"translate(137.729555 96.252392) scale(0.1 -0.1)\">\n     <defs>\n      <path id=\"DejaVuSans-Oblique-3b3\" d=\"M 1491 2950 \nL 1838 788 \nL 3456 3500 \nL 4066 3500 \nL 1972 0 \nL 1713 -1331 \nL 1138 -1331 \nL 1397 0 \nL 988 2613 \nQ 925 3006 628 3006 \nL 475 3006 \nL 569 3500 \nL 788 3500 \nQ 1403 3500 1491 2950 \nz\n\" transform=\"scale(0.015625)\"/>\n      <path id=\"DejaVuSans-3d\" d=\"M 678 2906 \nL 4684 2906 \nL 4684 2381 \nL 678 2381 \nL 678 2906 \nz\nM 678 1631 \nL 4684 1631 \nL 4684 1100 \nL 678 1100 \nL 678 1631 \nz\n\" transform=\"scale(0.015625)\"/>\n      <path id=\"DejaVuSans-39\" d=\"M 703 97 \nL 703 672 \nQ 941 559 1184 500 \nQ 1428 441 1663 441 \nQ 2288 441 2617 861 \nQ 2947 1281 2994 2138 \nQ 2813 1869 2534 1725 \nQ 2256 1581 1919 1581 \nQ 1219 1581 811 2004 \nQ 403 2428 403 3163 \nQ 403 3881 828 4315 \nQ 1253 4750 1959 4750 \nQ 2769 4750 3195 4129 \nQ 3622 3509 3622 2328 \nQ 3622 1225 3098 567 \nQ 2575 -91 1691 -91 \nQ 1453 -91 1209 -44 \nQ 966 3 703 97 \nz\nM 1959 2075 \nQ 2384 2075 2632 2365 \nQ 2881 2656 2881 3163 \nQ 2881 3666 2632 3958 \nQ 2384 4250 1959 4250 \nQ 1534 4250 1286 3958 \nQ 1038 3666 1038 3163 \nQ 1038 2656 1286 2365 \nQ 1534 2075 1959 2075 \nz\n\" transform=\"scale(0.015625)\"/>\n     </defs>\n     <use xlink:href=\"#DejaVuSans-Oblique-3b3\" transform=\"translate(0 0.78125)\"/>\n     <use xlink:href=\"#DejaVuSans-3d\" transform=\"translate(78.662109 0.78125)\"/>\n     <use xlink:href=\"#DejaVuSans-30\" transform=\"translate(181.933594 0.78125)\"/>\n     <use xlink:href=\"#DejaVuSans-2e\" transform=\"translate(245.556641 0.78125)\"/>\n     <use xlink:href=\"#DejaVuSans-32\" transform=\"translate(271.84375 0.78125)\"/>\n     <use xlink:href=\"#DejaVuSans-39\" transform=\"translate(333.716797 0.78125)\"/>\n    </g>\n   </g>\n   <g id=\"text_14\">\n    <!-- $\\gamma = 1.05$ -->\n    <g transform=\"translate(91.585724 139.957926) scale(0.1 -0.1)\">\n     <use xlink:href=\"#DejaVuSans-Oblique-3b3\" transform=\"translate(0 0.78125)\"/>\n     <use xlink:href=\"#DejaVuSans-3d\" transform=\"translate(78.662109 0.78125)\"/>\n     <use xlink:href=\"#DejaVuSans-31\" transform=\"translate(181.933594 0.78125)\"/>\n     <use xlink:href=\"#DejaVuSans-2e\" transform=\"translate(245.556641 0.78125)\"/>\n     <use xlink:href=\"#DejaVuSans-30\" transform=\"translate(277.34375 0.78125)\"/>\n     <use xlink:href=\"#DejaVuSans-35\" transform=\"translate(340.966797 0.78125)\"/>\n    </g>\n   </g>\n  </g>\n </g>\n <defs>\n  <clipPath id=\"p0a4089e7b0\">\n   <rect x=\"43.78125\" y=\"7.2\" width=\"357.12\" height=\"266.112\"/>\n  </clipPath>\n </defs>\n</svg>\n"
          },
          "metadata": {}
        }
      ],
      "source": [
        "# Plot long only trade-off curve.\n",
        "import matplotlib.pyplot as plt\n",
        "\n",
        "%matplotlib inline\n",
        "%config InlineBackend.figure_format = 'svg'\n",
        "\n",
        "markers_on = [29, 40]\n",
        "fig = plt.figure()\n",
        "ax = fig.add_subplot(111)\n",
        "plt.plot(risk_data, ret_data, \"g-\")\n",
        "for marker in markers_on:\n",
        "    plt.plot(risk_data[marker], ret_data[marker], \"bs\")\n",
        "    ax.annotate(\n",
        "        r\"$\\gamma = %.2f$\" % gamma_vals[marker],\n",
        "        xy=(risk_data[marker] + 0.08, ret_data[marker] - 0.03),\n",
        "    )\n",
        "for i in range(n):\n",
        "    plt.plot(cp.sqrt(Sigma[i, i]).value, mu[i], \"ro\")\n",
        "plt.xlabel(\"Standard deviation\")\n",
        "plt.ylabel(\"Return\")\n",
        "plt.show()"
      ]
    },
    {
      "cell_type": "markdown",
      "id": "ff4518b8",
      "metadata": {
        "id": "ff4518b8",
        "pycharm": {
          "name": "#%% md\n"
        }
      },
      "source": [
        "We plot below the return distributions for the two risk aversion values marked on the trade-off curve.\n",
        "Notice that the probability of a loss is near 0 for the low risk value and far above 0 for the high risk value."
      ]
    },
    {
      "cell_type": "code",
      "execution_count": null,
      "id": "65aa8855",
      "metadata": {
        "id": "65aa8855",
        "outputId": "9fa48fbb-df15-498a-8847-78c94115f211",
        "pycharm": {
          "name": "#%%\n"
        },
        "colab": {
          "base_uri": "https://localhost:8080/",
          "height": 436
        }
      },
      "outputs": [
        {
          "output_type": "display_data",
          "data": {
            "text/plain": [
              "<Figure size 640x480 with 1 Axes>"
            ],
            "image/svg+xml": "<?xml version=\"1.0\" encoding=\"utf-8\" standalone=\"no\"?>\n<!DOCTYPE svg PUBLIC \"-//W3C//DTD SVG 1.1//EN\"\n  \"http://www.w3.org/Graphics/SVG/1.1/DTD/svg11.dtd\">\n<svg xmlns:xlink=\"http://www.w3.org/1999/xlink\" width=\"408.10125pt\" height=\"310.86825pt\" viewBox=\"0 0 408.10125 310.86825\" xmlns=\"http://www.w3.org/2000/svg\" version=\"1.1\">\n <metadata>\n  <rdf:RDF xmlns:dc=\"http://purl.org/dc/elements/1.1/\" xmlns:cc=\"http://creativecommons.org/ns#\" xmlns:rdf=\"http://www.w3.org/1999/02/22-rdf-syntax-ns#\">\n   <cc:Work>\n    <dc:type rdf:resource=\"http://purl.org/dc/dcmitype/StillImage\"/>\n    <dc:date>2023-12-25T18:05:45.937784</dc:date>\n    <dc:format>image/svg+xml</dc:format>\n    <dc:creator>\n     <cc:Agent>\n      <dc:title>Matplotlib v3.7.1, https://matplotlib.org/</dc:title>\n     </cc:Agent>\n    </dc:creator>\n   </cc:Work>\n  </rdf:RDF>\n </metadata>\n <defs>\n  <style type=\"text/css\">*{stroke-linejoin: round; stroke-linecap: butt}</style>\n </defs>\n <g id=\"figure_1\">\n  <g id=\"patch_1\">\n   <path d=\"M 0 310.86825 \nL 408.10125 310.86825 \nL 408.10125 0 \nL 0 0 \nz\n\" style=\"fill: #ffffff\"/>\n  </g>\n  <g id=\"axes_1\">\n   <g id=\"patch_2\">\n    <path d=\"M 43.78125 273.312 \nL 400.90125 273.312 \nL 400.90125 7.2 \nL 43.78125 7.2 \nz\n\" style=\"fill: #ffffff\"/>\n   </g>\n   <g id=\"matplotlib.axis_1\">\n    <g id=\"xtick_1\">\n     <g id=\"line2d_1\">\n      <defs>\n       <path id=\"m46ab1f5697\" d=\"M 0 0 \nL 0 3.5 \n\" style=\"stroke: #000000; stroke-width: 0.8\"/>\n      </defs>\n      <g>\n       <use xlink:href=\"#m46ab1f5697\" x=\"60.013977\" y=\"273.312\" style=\"stroke: #000000; stroke-width: 0.8\"/>\n      </g>\n     </g>\n     <g id=\"text_1\">\n      <!-- −2 -->\n      <g transform=\"translate(52.642884 287.910437) scale(0.1 -0.1)\">\n       <defs>\n        <path id=\"DejaVuSans-2212\" d=\"M 678 2272 \nL 4684 2272 \nL 4684 1741 \nL 678 1741 \nL 678 2272 \nz\n\" transform=\"scale(0.015625)\"/>\n        <path id=\"DejaVuSans-32\" d=\"M 1228 531 \nL 3431 531 \nL 3431 0 \nL 469 0 \nL 469 531 \nQ 828 903 1448 1529 \nQ 2069 2156 2228 2338 \nQ 2531 2678 2651 2914 \nQ 2772 3150 2772 3378 \nQ 2772 3750 2511 3984 \nQ 2250 4219 1831 4219 \nQ 1534 4219 1204 4116 \nQ 875 4013 500 3803 \nL 500 4441 \nQ 881 4594 1212 4672 \nQ 1544 4750 1819 4750 \nQ 2544 4750 2975 4387 \nQ 3406 4025 3406 3419 \nQ 3406 3131 3298 2873 \nQ 3191 2616 2906 2266 \nQ 2828 2175 2409 1742 \nQ 1991 1309 1228 531 \nz\n\" transform=\"scale(0.015625)\"/>\n       </defs>\n       <use xlink:href=\"#DejaVuSans-2212\"/>\n       <use xlink:href=\"#DejaVuSans-32\" x=\"83.789062\"/>\n      </g>\n     </g>\n    </g>\n    <g id=\"xtick_2\">\n     <g id=\"line2d_2\">\n      <g>\n       <use xlink:href=\"#m46ab1f5697\" x=\"106.393198\" y=\"273.312\" style=\"stroke: #000000; stroke-width: 0.8\"/>\n      </g>\n     </g>\n     <g id=\"text_2\">\n      <!-- −1 -->\n      <g transform=\"translate(99.022104 287.910437) scale(0.1 -0.1)\">\n       <defs>\n        <path id=\"DejaVuSans-31\" d=\"M 794 531 \nL 1825 531 \nL 1825 4091 \nL 703 3866 \nL 703 4441 \nL 1819 4666 \nL 2450 4666 \nL 2450 531 \nL 3481 531 \nL 3481 0 \nL 794 0 \nL 794 531 \nz\n\" transform=\"scale(0.015625)\"/>\n       </defs>\n       <use xlink:href=\"#DejaVuSans-2212\"/>\n       <use xlink:href=\"#DejaVuSans-31\" x=\"83.789062\"/>\n      </g>\n     </g>\n    </g>\n    <g id=\"xtick_3\">\n     <g id=\"line2d_3\">\n      <g>\n       <use xlink:href=\"#m46ab1f5697\" x=\"152.772419\" y=\"273.312\" style=\"stroke: #000000; stroke-width: 0.8\"/>\n      </g>\n     </g>\n     <g id=\"text_3\">\n      <!-- 0 -->\n      <g transform=\"translate(149.591169 287.910437) scale(0.1 -0.1)\">\n       <defs>\n        <path id=\"DejaVuSans-30\" d=\"M 2034 4250 \nQ 1547 4250 1301 3770 \nQ 1056 3291 1056 2328 \nQ 1056 1369 1301 889 \nQ 1547 409 2034 409 \nQ 2525 409 2770 889 \nQ 3016 1369 3016 2328 \nQ 3016 3291 2770 3770 \nQ 2525 4250 2034 4250 \nz\nM 2034 4750 \nQ 2819 4750 3233 4129 \nQ 3647 3509 3647 2328 \nQ 3647 1150 3233 529 \nQ 2819 -91 2034 -91 \nQ 1250 -91 836 529 \nQ 422 1150 422 2328 \nQ 422 3509 836 4129 \nQ 1250 4750 2034 4750 \nz\n\" transform=\"scale(0.015625)\"/>\n       </defs>\n       <use xlink:href=\"#DejaVuSans-30\"/>\n      </g>\n     </g>\n    </g>\n    <g id=\"xtick_4\">\n     <g id=\"line2d_4\">\n      <g>\n       <use xlink:href=\"#m46ab1f5697\" x=\"199.15164\" y=\"273.312\" style=\"stroke: #000000; stroke-width: 0.8\"/>\n      </g>\n     </g>\n     <g id=\"text_4\">\n      <!-- 1 -->\n      <g transform=\"translate(195.97039 287.910437) scale(0.1 -0.1)\">\n       <use xlink:href=\"#DejaVuSans-31\"/>\n      </g>\n     </g>\n    </g>\n    <g id=\"xtick_5\">\n     <g id=\"line2d_5\">\n      <g>\n       <use xlink:href=\"#m46ab1f5697\" x=\"245.53086\" y=\"273.312\" style=\"stroke: #000000; stroke-width: 0.8\"/>\n      </g>\n     </g>\n     <g id=\"text_5\">\n      <!-- 2 -->\n      <g transform=\"translate(242.34961 287.910437) scale(0.1 -0.1)\">\n       <use xlink:href=\"#DejaVuSans-32\"/>\n      </g>\n     </g>\n    </g>\n    <g id=\"xtick_6\">\n     <g id=\"line2d_6\">\n      <g>\n       <use xlink:href=\"#m46ab1f5697\" x=\"291.910081\" y=\"273.312\" style=\"stroke: #000000; stroke-width: 0.8\"/>\n      </g>\n     </g>\n     <g id=\"text_6\">\n      <!-- 3 -->\n      <g transform=\"translate(288.728831 287.910437) scale(0.1 -0.1)\">\n       <defs>\n        <path id=\"DejaVuSans-33\" d=\"M 2597 2516 \nQ 3050 2419 3304 2112 \nQ 3559 1806 3559 1356 \nQ 3559 666 3084 287 \nQ 2609 -91 1734 -91 \nQ 1441 -91 1130 -33 \nQ 819 25 488 141 \nL 488 750 \nQ 750 597 1062 519 \nQ 1375 441 1716 441 \nQ 2309 441 2620 675 \nQ 2931 909 2931 1356 \nQ 2931 1769 2642 2001 \nQ 2353 2234 1838 2234 \nL 1294 2234 \nL 1294 2753 \nL 1863 2753 \nQ 2328 2753 2575 2939 \nQ 2822 3125 2822 3475 \nQ 2822 3834 2567 4026 \nQ 2313 4219 1838 4219 \nQ 1578 4219 1281 4162 \nQ 984 4106 628 3988 \nL 628 4550 \nQ 988 4650 1302 4700 \nQ 1616 4750 1894 4750 \nQ 2613 4750 3031 4423 \nQ 3450 4097 3450 3541 \nQ 3450 3153 3228 2886 \nQ 3006 2619 2597 2516 \nz\n\" transform=\"scale(0.015625)\"/>\n       </defs>\n       <use xlink:href=\"#DejaVuSans-33\"/>\n      </g>\n     </g>\n    </g>\n    <g id=\"xtick_7\">\n     <g id=\"line2d_7\">\n      <g>\n       <use xlink:href=\"#m46ab1f5697\" x=\"338.289302\" y=\"273.312\" style=\"stroke: #000000; stroke-width: 0.8\"/>\n      </g>\n     </g>\n     <g id=\"text_7\">\n      <!-- 4 -->\n      <g transform=\"translate(335.108052 287.910437) scale(0.1 -0.1)\">\n       <defs>\n        <path id=\"DejaVuSans-34\" d=\"M 2419 4116 \nL 825 1625 \nL 2419 1625 \nL 2419 4116 \nz\nM 2253 4666 \nL 3047 4666 \nL 3047 1625 \nL 3713 1625 \nL 3713 1100 \nL 3047 1100 \nL 3047 0 \nL 2419 0 \nL 2419 1100 \nL 313 1100 \nL 313 1709 \nL 2253 4666 \nz\n\" transform=\"scale(0.015625)\"/>\n       </defs>\n       <use xlink:href=\"#DejaVuSans-34\"/>\n      </g>\n     </g>\n    </g>\n    <g id=\"xtick_8\">\n     <g id=\"line2d_8\">\n      <g>\n       <use xlink:href=\"#m46ab1f5697\" x=\"384.668523\" y=\"273.312\" style=\"stroke: #000000; stroke-width: 0.8\"/>\n      </g>\n     </g>\n     <g id=\"text_8\">\n      <!-- 5 -->\n      <g transform=\"translate(381.487273 287.910437) scale(0.1 -0.1)\">\n       <defs>\n        <path id=\"DejaVuSans-35\" d=\"M 691 4666 \nL 3169 4666 \nL 3169 4134 \nL 1269 4134 \nL 1269 2991 \nQ 1406 3038 1543 3061 \nQ 1681 3084 1819 3084 \nQ 2600 3084 3056 2656 \nQ 3513 2228 3513 1497 \nQ 3513 744 3044 326 \nQ 2575 -91 1722 -91 \nQ 1428 -91 1123 -41 \nQ 819 9 494 109 \nL 494 744 \nQ 775 591 1075 516 \nQ 1375 441 1709 441 \nQ 2250 441 2565 725 \nQ 2881 1009 2881 1497 \nQ 2881 1984 2565 2268 \nQ 2250 2553 1709 2553 \nQ 1456 2553 1204 2497 \nQ 953 2441 691 2322 \nL 691 4666 \nz\n\" transform=\"scale(0.015625)\"/>\n       </defs>\n       <use xlink:href=\"#DejaVuSans-35\"/>\n      </g>\n     </g>\n    </g>\n    <g id=\"text_9\">\n     <!-- Return -->\n     <g transform=\"translate(205.749844 301.588562) scale(0.1 -0.1)\">\n      <defs>\n       <path id=\"DejaVuSans-52\" d=\"M 2841 2188 \nQ 3044 2119 3236 1894 \nQ 3428 1669 3622 1275 \nL 4263 0 \nL 3584 0 \nL 2988 1197 \nQ 2756 1666 2539 1819 \nQ 2322 1972 1947 1972 \nL 1259 1972 \nL 1259 0 \nL 628 0 \nL 628 4666 \nL 2053 4666 \nQ 2853 4666 3247 4331 \nQ 3641 3997 3641 3322 \nQ 3641 2881 3436 2590 \nQ 3231 2300 2841 2188 \nz\nM 1259 4147 \nL 1259 2491 \nL 2053 2491 \nQ 2509 2491 2742 2702 \nQ 2975 2913 2975 3322 \nQ 2975 3731 2742 3939 \nQ 2509 4147 2053 4147 \nL 1259 4147 \nz\n\" transform=\"scale(0.015625)\"/>\n       <path id=\"DejaVuSans-65\" d=\"M 3597 1894 \nL 3597 1613 \nL 953 1613 \nQ 991 1019 1311 708 \nQ 1631 397 2203 397 \nQ 2534 397 2845 478 \nQ 3156 559 3463 722 \nL 3463 178 \nQ 3153 47 2828 -22 \nQ 2503 -91 2169 -91 \nQ 1331 -91 842 396 \nQ 353 884 353 1716 \nQ 353 2575 817 3079 \nQ 1281 3584 2069 3584 \nQ 2775 3584 3186 3129 \nQ 3597 2675 3597 1894 \nz\nM 3022 2063 \nQ 3016 2534 2758 2815 \nQ 2500 3097 2075 3097 \nQ 1594 3097 1305 2825 \nQ 1016 2553 972 2059 \nL 3022 2063 \nz\n\" transform=\"scale(0.015625)\"/>\n       <path id=\"DejaVuSans-74\" d=\"M 1172 4494 \nL 1172 3500 \nL 2356 3500 \nL 2356 3053 \nL 1172 3053 \nL 1172 1153 \nQ 1172 725 1289 603 \nQ 1406 481 1766 481 \nL 2356 481 \nL 2356 0 \nL 1766 0 \nQ 1100 0 847 248 \nQ 594 497 594 1153 \nL 594 3053 \nL 172 3053 \nL 172 3500 \nL 594 3500 \nL 594 4494 \nL 1172 4494 \nz\n\" transform=\"scale(0.015625)\"/>\n       <path id=\"DejaVuSans-75\" d=\"M 544 1381 \nL 544 3500 \nL 1119 3500 \nL 1119 1403 \nQ 1119 906 1312 657 \nQ 1506 409 1894 409 \nQ 2359 409 2629 706 \nQ 2900 1003 2900 1516 \nL 2900 3500 \nL 3475 3500 \nL 3475 0 \nL 2900 0 \nL 2900 538 \nQ 2691 219 2414 64 \nQ 2138 -91 1772 -91 \nQ 1169 -91 856 284 \nQ 544 659 544 1381 \nz\nM 1991 3584 \nL 1991 3584 \nz\n\" transform=\"scale(0.015625)\"/>\n       <path id=\"DejaVuSans-72\" d=\"M 2631 2963 \nQ 2534 3019 2420 3045 \nQ 2306 3072 2169 3072 \nQ 1681 3072 1420 2755 \nQ 1159 2438 1159 1844 \nL 1159 0 \nL 581 0 \nL 581 3500 \nL 1159 3500 \nL 1159 2956 \nQ 1341 3275 1631 3429 \nQ 1922 3584 2338 3584 \nQ 2397 3584 2469 3576 \nQ 2541 3569 2628 3553 \nL 2631 2963 \nz\n\" transform=\"scale(0.015625)\"/>\n       <path id=\"DejaVuSans-6e\" d=\"M 3513 2113 \nL 3513 0 \nL 2938 0 \nL 2938 2094 \nQ 2938 2591 2744 2837 \nQ 2550 3084 2163 3084 \nQ 1697 3084 1428 2787 \nQ 1159 2491 1159 1978 \nL 1159 0 \nL 581 0 \nL 581 3500 \nL 1159 3500 \nL 1159 2956 \nQ 1366 3272 1645 3428 \nQ 1925 3584 2291 3584 \nQ 2894 3584 3203 3211 \nQ 3513 2838 3513 2113 \nz\n\" transform=\"scale(0.015625)\"/>\n      </defs>\n      <use xlink:href=\"#DejaVuSans-52\"/>\n      <use xlink:href=\"#DejaVuSans-65\" x=\"64.982422\"/>\n      <use xlink:href=\"#DejaVuSans-74\" x=\"126.505859\"/>\n      <use xlink:href=\"#DejaVuSans-75\" x=\"165.714844\"/>\n      <use xlink:href=\"#DejaVuSans-72\" x=\"229.09375\"/>\n      <use xlink:href=\"#DejaVuSans-6e\" x=\"268.457031\"/>\n     </g>\n    </g>\n   </g>\n   <g id=\"matplotlib.axis_2\">\n    <g id=\"ytick_1\">\n     <g id=\"line2d_9\">\n      <defs>\n       <path id=\"m93d1549792\" d=\"M 0 0 \nL -3.5 0 \n\" style=\"stroke: #000000; stroke-width: 0.8\"/>\n      </defs>\n      <g>\n       <use xlink:href=\"#m93d1549792\" x=\"43.78125\" y=\"261.216\" style=\"stroke: #000000; stroke-width: 0.8\"/>\n      </g>\n     </g>\n     <g id=\"text_10\">\n      <!-- 0.0 -->\n      <g transform=\"translate(20.878125 265.015219) scale(0.1 -0.1)\">\n       <defs>\n        <path id=\"DejaVuSans-2e\" d=\"M 684 794 \nL 1344 794 \nL 1344 0 \nL 684 0 \nL 684 794 \nz\n\" transform=\"scale(0.015625)\"/>\n       </defs>\n       <use xlink:href=\"#DejaVuSans-30\"/>\n       <use xlink:href=\"#DejaVuSans-2e\" x=\"63.623047\"/>\n       <use xlink:href=\"#DejaVuSans-30\" x=\"95.410156\"/>\n      </g>\n     </g>\n    </g>\n    <g id=\"ytick_2\">\n     <g id=\"line2d_10\">\n      <g>\n       <use xlink:href=\"#m93d1549792\" x=\"43.78125\" y=\"222.164426\" style=\"stroke: #000000; stroke-width: 0.8\"/>\n      </g>\n     </g>\n     <g id=\"text_11\">\n      <!-- 0.2 -->\n      <g transform=\"translate(20.878125 225.963645) scale(0.1 -0.1)\">\n       <use xlink:href=\"#DejaVuSans-30\"/>\n       <use xlink:href=\"#DejaVuSans-2e\" x=\"63.623047\"/>\n       <use xlink:href=\"#DejaVuSans-32\" x=\"95.410156\"/>\n      </g>\n     </g>\n    </g>\n    <g id=\"ytick_3\">\n     <g id=\"line2d_11\">\n      <g>\n       <use xlink:href=\"#m93d1549792\" x=\"43.78125\" y=\"183.112853\" style=\"stroke: #000000; stroke-width: 0.8\"/>\n      </g>\n     </g>\n     <g id=\"text_12\">\n      <!-- 0.4 -->\n      <g transform=\"translate(20.878125 186.912072) scale(0.1 -0.1)\">\n       <use xlink:href=\"#DejaVuSans-30\"/>\n       <use xlink:href=\"#DejaVuSans-2e\" x=\"63.623047\"/>\n       <use xlink:href=\"#DejaVuSans-34\" x=\"95.410156\"/>\n      </g>\n     </g>\n    </g>\n    <g id=\"ytick_4\">\n     <g id=\"line2d_12\">\n      <g>\n       <use xlink:href=\"#m93d1549792\" x=\"43.78125\" y=\"144.061279\" style=\"stroke: #000000; stroke-width: 0.8\"/>\n      </g>\n     </g>\n     <g id=\"text_13\">\n      <!-- 0.6 -->\n      <g transform=\"translate(20.878125 147.860498) scale(0.1 -0.1)\">\n       <defs>\n        <path id=\"DejaVuSans-36\" d=\"M 2113 2584 \nQ 1688 2584 1439 2293 \nQ 1191 2003 1191 1497 \nQ 1191 994 1439 701 \nQ 1688 409 2113 409 \nQ 2538 409 2786 701 \nQ 3034 994 3034 1497 \nQ 3034 2003 2786 2293 \nQ 2538 2584 2113 2584 \nz\nM 3366 4563 \nL 3366 3988 \nQ 3128 4100 2886 4159 \nQ 2644 4219 2406 4219 \nQ 1781 4219 1451 3797 \nQ 1122 3375 1075 2522 \nQ 1259 2794 1537 2939 \nQ 1816 3084 2150 3084 \nQ 2853 3084 3261 2657 \nQ 3669 2231 3669 1497 \nQ 3669 778 3244 343 \nQ 2819 -91 2113 -91 \nQ 1303 -91 875 529 \nQ 447 1150 447 2328 \nQ 447 3434 972 4092 \nQ 1497 4750 2381 4750 \nQ 2619 4750 2861 4703 \nQ 3103 4656 3366 4563 \nz\n\" transform=\"scale(0.015625)\"/>\n       </defs>\n       <use xlink:href=\"#DejaVuSans-30\"/>\n       <use xlink:href=\"#DejaVuSans-2e\" x=\"63.623047\"/>\n       <use xlink:href=\"#DejaVuSans-36\" x=\"95.410156\"/>\n      </g>\n     </g>\n    </g>\n    <g id=\"ytick_5\">\n     <g id=\"line2d_13\">\n      <g>\n       <use xlink:href=\"#m93d1549792\" x=\"43.78125\" y=\"105.009706\" style=\"stroke: #000000; stroke-width: 0.8\"/>\n      </g>\n     </g>\n     <g id=\"text_14\">\n      <!-- 0.8 -->\n      <g transform=\"translate(20.878125 108.808925) scale(0.1 -0.1)\">\n       <defs>\n        <path id=\"DejaVuSans-38\" d=\"M 2034 2216 \nQ 1584 2216 1326 1975 \nQ 1069 1734 1069 1313 \nQ 1069 891 1326 650 \nQ 1584 409 2034 409 \nQ 2484 409 2743 651 \nQ 3003 894 3003 1313 \nQ 3003 1734 2745 1975 \nQ 2488 2216 2034 2216 \nz\nM 1403 2484 \nQ 997 2584 770 2862 \nQ 544 3141 544 3541 \nQ 544 4100 942 4425 \nQ 1341 4750 2034 4750 \nQ 2731 4750 3128 4425 \nQ 3525 4100 3525 3541 \nQ 3525 3141 3298 2862 \nQ 3072 2584 2669 2484 \nQ 3125 2378 3379 2068 \nQ 3634 1759 3634 1313 \nQ 3634 634 3220 271 \nQ 2806 -91 2034 -91 \nQ 1263 -91 848 271 \nQ 434 634 434 1313 \nQ 434 1759 690 2068 \nQ 947 2378 1403 2484 \nz\nM 1172 3481 \nQ 1172 3119 1398 2916 \nQ 1625 2713 2034 2713 \nQ 2441 2713 2670 2916 \nQ 2900 3119 2900 3481 \nQ 2900 3844 2670 4047 \nQ 2441 4250 2034 4250 \nQ 1625 4250 1398 4047 \nQ 1172 3844 1172 3481 \nz\n\" transform=\"scale(0.015625)\"/>\n       </defs>\n       <use xlink:href=\"#DejaVuSans-30\"/>\n       <use xlink:href=\"#DejaVuSans-2e\" x=\"63.623047\"/>\n       <use xlink:href=\"#DejaVuSans-38\" x=\"95.410156\"/>\n      </g>\n     </g>\n    </g>\n    <g id=\"ytick_6\">\n     <g id=\"line2d_14\">\n      <g>\n       <use xlink:href=\"#m93d1549792\" x=\"43.78125\" y=\"65.958132\" style=\"stroke: #000000; stroke-width: 0.8\"/>\n      </g>\n     </g>\n     <g id=\"text_15\">\n      <!-- 1.0 -->\n      <g transform=\"translate(20.878125 69.757351) scale(0.1 -0.1)\">\n       <use xlink:href=\"#DejaVuSans-31\"/>\n       <use xlink:href=\"#DejaVuSans-2e\" x=\"63.623047\"/>\n       <use xlink:href=\"#DejaVuSans-30\" x=\"95.410156\"/>\n      </g>\n     </g>\n    </g>\n    <g id=\"ytick_7\">\n     <g id=\"line2d_15\">\n      <g>\n       <use xlink:href=\"#m93d1549792\" x=\"43.78125\" y=\"26.906559\" style=\"stroke: #000000; stroke-width: 0.8\"/>\n      </g>\n     </g>\n     <g id=\"text_16\">\n      <!-- 1.2 -->\n      <g transform=\"translate(20.878125 30.705777) scale(0.1 -0.1)\">\n       <use xlink:href=\"#DejaVuSans-31\"/>\n       <use xlink:href=\"#DejaVuSans-2e\" x=\"63.623047\"/>\n       <use xlink:href=\"#DejaVuSans-32\" x=\"95.410156\"/>\n      </g>\n     </g>\n    </g>\n    <g id=\"text_17\">\n     <!-- Density -->\n     <g transform=\"translate(14.798438 159.264594) rotate(-90) scale(0.1 -0.1)\">\n      <defs>\n       <path id=\"DejaVuSans-44\" d=\"M 1259 4147 \nL 1259 519 \nL 2022 519 \nQ 2988 519 3436 956 \nQ 3884 1394 3884 2338 \nQ 3884 3275 3436 3711 \nQ 2988 4147 2022 4147 \nL 1259 4147 \nz\nM 628 4666 \nL 1925 4666 \nQ 3281 4666 3915 4102 \nQ 4550 3538 4550 2338 \nQ 4550 1131 3912 565 \nQ 3275 0 1925 0 \nL 628 0 \nL 628 4666 \nz\n\" transform=\"scale(0.015625)\"/>\n       <path id=\"DejaVuSans-73\" d=\"M 2834 3397 \nL 2834 2853 \nQ 2591 2978 2328 3040 \nQ 2066 3103 1784 3103 \nQ 1356 3103 1142 2972 \nQ 928 2841 928 2578 \nQ 928 2378 1081 2264 \nQ 1234 2150 1697 2047 \nL 1894 2003 \nQ 2506 1872 2764 1633 \nQ 3022 1394 3022 966 \nQ 3022 478 2636 193 \nQ 2250 -91 1575 -91 \nQ 1294 -91 989 -36 \nQ 684 19 347 128 \nL 347 722 \nQ 666 556 975 473 \nQ 1284 391 1588 391 \nQ 1994 391 2212 530 \nQ 2431 669 2431 922 \nQ 2431 1156 2273 1281 \nQ 2116 1406 1581 1522 \nL 1381 1569 \nQ 847 1681 609 1914 \nQ 372 2147 372 2553 \nQ 372 3047 722 3315 \nQ 1072 3584 1716 3584 \nQ 2034 3584 2315 3537 \nQ 2597 3491 2834 3397 \nz\n\" transform=\"scale(0.015625)\"/>\n       <path id=\"DejaVuSans-69\" d=\"M 603 3500 \nL 1178 3500 \nL 1178 0 \nL 603 0 \nL 603 3500 \nz\nM 603 4863 \nL 1178 4863 \nL 1178 4134 \nL 603 4134 \nL 603 4863 \nz\n\" transform=\"scale(0.015625)\"/>\n       <path id=\"DejaVuSans-79\" d=\"M 2059 -325 \nQ 1816 -950 1584 -1140 \nQ 1353 -1331 966 -1331 \nL 506 -1331 \nL 506 -850 \nL 844 -850 \nQ 1081 -850 1212 -737 \nQ 1344 -625 1503 -206 \nL 1606 56 \nL 191 3500 \nL 800 3500 \nL 1894 763 \nL 2988 3500 \nL 3597 3500 \nL 2059 -325 \nz\n\" transform=\"scale(0.015625)\"/>\n      </defs>\n      <use xlink:href=\"#DejaVuSans-44\"/>\n      <use xlink:href=\"#DejaVuSans-65\" x=\"77.001953\"/>\n      <use xlink:href=\"#DejaVuSans-6e\" x=\"138.525391\"/>\n      <use xlink:href=\"#DejaVuSans-73\" x=\"201.904297\"/>\n      <use xlink:href=\"#DejaVuSans-69\" x=\"254.003906\"/>\n      <use xlink:href=\"#DejaVuSans-74\" x=\"281.787109\"/>\n      <use xlink:href=\"#DejaVuSans-79\" x=\"320.996094\"/>\n     </g>\n    </g>\n   </g>\n   <g id=\"line2d_16\">\n    <path d=\"M 60.013977 261.149594 \nL 78.212831 260.937953 \nL 89.262135 260.60292 \nL 97.711602 260.137828 \nL 104.861152 259.524225 \nL 111.035763 258.769116 \nL 116.560415 257.864987 \nL 121.435107 256.847725 \nL 125.984821 255.67954 \nL 130.209555 254.378752 \nL 134.434288 252.845446 \nL 138.334043 251.204114 \nL 142.233797 249.329337 \nL 146.133551 247.207669 \nL 150.033306 244.829162 \nL 153.93306 242.1883 \nL 157.832814 239.284931 \nL 162.057548 235.8506 \nL 166.282282 232.132452 \nL 170.831995 227.84267 \nL 176.031668 222.639307 \nL 183.181217 215.136539 \nL 195.20546 202.477233 \nL 200.080153 197.690634 \nL 203.979907 194.143391 \nL 207.554682 191.175358 \nL 210.804477 188.755839 \nL 213.729293 186.834818 \nL 216.654108 185.180408 \nL 219.253945 183.949755 \nL 221.853781 182.957303 \nL 224.453617 182.212677 \nL 227.053453 181.723155 \nL 229.32831 181.507931 \nL 231.603166 181.493366 \nL 233.878023 181.679569 \nL 236.15288 182.065135 \nL 238.752716 182.746107 \nL 241.352552 183.676966 \nL 243.952388 184.848663 \nL 246.552225 186.249912 \nL 249.47704 188.084022 \nL 252.401856 190.169961 \nL 255.651651 192.753416 \nL 259.226426 195.876287 \nL 263.45116 199.878112 \nL 268.650832 205.141916 \nL 276.77532 213.745354 \nL 285.874747 223.299536 \nL 291.399399 228.780137 \nL 296.274092 233.301035 \nL 300.498826 236.934598 \nL 304.72356 240.278049 \nL 308.623314 243.094587 \nL 312.523068 245.648018 \nL 316.422822 247.940377 \nL 320.322577 249.978754 \nL 324.222331 251.774365 \nL 328.447065 253.462417 \nL 332.671799 254.903791 \nL 337.221512 256.206823 \nL 341.771225 257.280755 \nL 346.645918 258.211088 \nL 352.17057 259.033293 \nL 358.345181 259.715681 \nL 365.494731 260.266299 \nL 373.944198 260.680279 \nL 384.668523 260.969626 \nL 384.668523 260.969626 \n\" clip-path=\"url(#p27bc27e971)\" style=\"fill: none; stroke: #1f77b4; stroke-width: 1.5; stroke-linecap: square\"/>\n   </g>\n   <g id=\"line2d_17\">\n    <path d=\"M 60.013977 261.216 \nL 154.583019 261.113386 \nL 159.132732 260.890552 \nL 162.382528 260.514778 \nL 164.657384 260.049244 \nL 166.607261 259.443875 \nL 168.232159 258.738004 \nL 169.857057 257.791751 \nL 171.481954 256.539851 \nL 172.781872 255.266988 \nL 174.081791 253.704776 \nL 175.381709 251.803912 \nL 176.681627 249.511021 \nL 177.981545 246.769433 \nL 179.281463 243.520288 \nL 180.581381 239.703998 \nL 181.881299 235.262078 \nL 183.181217 230.139325 \nL 184.806115 222.703959 \nL 186.431012 214.051315 \nL 188.05591 204.134451 \nL 189.680808 192.945518 \nL 191.630685 177.899556 \nL 193.905542 158.346393 \nL 196.830357 130.840915 \nL 203.004968 71.660113 \nL 204.954845 55.322913 \nL 206.579743 43.491943 \nL 207.879661 35.472011 \nL 209.179579 28.923412 \nL 210.154518 25.064749 \nL 211.129456 22.163012 \nL 211.779415 20.778719 \nL 212.429374 19.844057 \nL 213.079334 19.36432 \nL 213.404313 19.296 \nL 213.729293 19.342229 \nL 214.379252 19.777909 \nL 215.029211 20.668889 \nL 215.67917 22.010121 \nL 216.329129 23.794034 \nL 217.304067 27.277344 \nL 218.279006 31.689882 \nL 219.578924 38.92273 \nL 220.878842 47.552716 \nL 222.50374 60.025743 \nL 224.453617 76.938421 \nL 227.378433 104.761332 \nL 232.903085 157.781094 \nL 235.177941 177.388128 \nL 237.127818 192.488794 \nL 239.077696 205.821705 \nL 240.702593 215.532828 \nL 242.327491 223.9849 \nL 243.952388 231.230321 \nL 245.577286 237.349963 \nL 246.877204 241.502147 \nL 248.177122 245.054856 \nL 249.47704 248.067323 \nL 250.776958 250.59901 \nL 252.076877 252.707948 \nL 253.376795 254.449436 \nL 254.676713 255.875085 \nL 256.30161 257.284597 \nL 257.926508 258.356185 \nL 259.551406 259.160173 \nL 261.501283 259.853996 \nL 263.776139 260.391462 \nL 266.375976 260.764388 \nL 269.95075 261.028161 \nL 275.475402 261.172744 \nL 288.474583 261.215204 \nL 384.668523 261.216 \nL 384.668523 261.216 \n\" clip-path=\"url(#p27bc27e971)\" style=\"fill: none; stroke: #ff7f0e; stroke-width: 1.5; stroke-linecap: square\"/>\n   </g>\n   <g id=\"patch_3\">\n    <path d=\"M 43.78125 273.312 \nL 43.78125 7.2 \n\" style=\"fill: none; stroke: #000000; stroke-width: 0.8; stroke-linejoin: miter; stroke-linecap: square\"/>\n   </g>\n   <g id=\"patch_4\">\n    <path d=\"M 400.90125 273.312 \nL 400.90125 7.2 \n\" style=\"fill: none; stroke: #000000; stroke-width: 0.8; stroke-linejoin: miter; stroke-linecap: square\"/>\n   </g>\n   <g id=\"patch_5\">\n    <path d=\"M 43.78125 273.312 \nL 400.90125 273.312 \n\" style=\"fill: none; stroke: #000000; stroke-width: 0.8; stroke-linejoin: miter; stroke-linecap: square\"/>\n   </g>\n   <g id=\"patch_6\">\n    <path d=\"M 43.78125 7.2 \nL 400.90125 7.2 \n\" style=\"fill: none; stroke: #000000; stroke-width: 0.8; stroke-linejoin: miter; stroke-linecap: square\"/>\n   </g>\n   <g id=\"legend_1\">\n    <g id=\"patch_7\">\n     <path d=\"M 321.40125 44.596875 \nL 393.90125 44.596875 \nQ 395.90125 44.596875 395.90125 42.596875 \nL 395.90125 14.2 \nQ 395.90125 12.2 393.90125 12.2 \nL 321.40125 12.2 \nQ 319.40125 12.2 319.40125 14.2 \nL 319.40125 42.596875 \nQ 319.40125 44.596875 321.40125 44.596875 \nz\n\" style=\"fill: #ffffff; opacity: 0.8; stroke: #cccccc; stroke-linejoin: miter\"/>\n    </g>\n    <g id=\"line2d_18\">\n     <path d=\"M 323.40125 20.298437 \nL 333.40125 20.298437 \nL 343.40125 20.298437 \n\" style=\"fill: none; stroke: #1f77b4; stroke-width: 1.5; stroke-linecap: square\"/>\n    </g>\n    <g id=\"text_18\">\n     <!-- $\\gamma = 0.29$ -->\n     <g transform=\"translate(351.40125 23.798437) scale(0.1 -0.1)\">\n      <defs>\n       <path id=\"DejaVuSans-Oblique-3b3\" d=\"M 1491 2950 \nL 1838 788 \nL 3456 3500 \nL 4066 3500 \nL 1972 0 \nL 1713 -1331 \nL 1138 -1331 \nL 1397 0 \nL 988 2613 \nQ 925 3006 628 3006 \nL 475 3006 \nL 569 3500 \nL 788 3500 \nQ 1403 3500 1491 2950 \nz\n\" transform=\"scale(0.015625)\"/>\n       <path id=\"DejaVuSans-3d\" d=\"M 678 2906 \nL 4684 2906 \nL 4684 2381 \nL 678 2381 \nL 678 2906 \nz\nM 678 1631 \nL 4684 1631 \nL 4684 1100 \nL 678 1100 \nL 678 1631 \nz\n\" transform=\"scale(0.015625)\"/>\n       <path id=\"DejaVuSans-39\" d=\"M 703 97 \nL 703 672 \nQ 941 559 1184 500 \nQ 1428 441 1663 441 \nQ 2288 441 2617 861 \nQ 2947 1281 2994 2138 \nQ 2813 1869 2534 1725 \nQ 2256 1581 1919 1581 \nQ 1219 1581 811 2004 \nQ 403 2428 403 3163 \nQ 403 3881 828 4315 \nQ 1253 4750 1959 4750 \nQ 2769 4750 3195 4129 \nQ 3622 3509 3622 2328 \nQ 3622 1225 3098 567 \nQ 2575 -91 1691 -91 \nQ 1453 -91 1209 -44 \nQ 966 3 703 97 \nz\nM 1959 2075 \nQ 2384 2075 2632 2365 \nQ 2881 2656 2881 3163 \nQ 2881 3666 2632 3958 \nQ 2384 4250 1959 4250 \nQ 1534 4250 1286 3958 \nQ 1038 3666 1038 3163 \nQ 1038 2656 1286 2365 \nQ 1534 2075 1959 2075 \nz\n\" transform=\"scale(0.015625)\"/>\n      </defs>\n      <use xlink:href=\"#DejaVuSans-Oblique-3b3\" transform=\"translate(0 0.78125)\"/>\n      <use xlink:href=\"#DejaVuSans-3d\" transform=\"translate(78.662109 0.78125)\"/>\n      <use xlink:href=\"#DejaVuSans-30\" transform=\"translate(181.933594 0.78125)\"/>\n      <use xlink:href=\"#DejaVuSans-2e\" transform=\"translate(245.556641 0.78125)\"/>\n      <use xlink:href=\"#DejaVuSans-32\" transform=\"translate(271.84375 0.78125)\"/>\n      <use xlink:href=\"#DejaVuSans-39\" transform=\"translate(333.716797 0.78125)\"/>\n     </g>\n    </g>\n    <g id=\"line2d_19\">\n     <path d=\"M 323.40125 34.996875 \nL 333.40125 34.996875 \nL 343.40125 34.996875 \n\" style=\"fill: none; stroke: #ff7f0e; stroke-width: 1.5; stroke-linecap: square\"/>\n    </g>\n    <g id=\"text_19\">\n     <!-- $\\gamma = 1.05$ -->\n     <g transform=\"translate(351.40125 38.496875) scale(0.1 -0.1)\">\n      <use xlink:href=\"#DejaVuSans-Oblique-3b3\" transform=\"translate(0 0.78125)\"/>\n      <use xlink:href=\"#DejaVuSans-3d\" transform=\"translate(78.662109 0.78125)\"/>\n      <use xlink:href=\"#DejaVuSans-31\" transform=\"translate(181.933594 0.78125)\"/>\n      <use xlink:href=\"#DejaVuSans-2e\" transform=\"translate(245.556641 0.78125)\"/>\n      <use xlink:href=\"#DejaVuSans-30\" transform=\"translate(277.34375 0.78125)\"/>\n      <use xlink:href=\"#DejaVuSans-35\" transform=\"translate(340.966797 0.78125)\"/>\n     </g>\n    </g>\n   </g>\n  </g>\n </g>\n <defs>\n  <clipPath id=\"p27bc27e971\">\n   <rect x=\"43.78125\" y=\"7.2\" width=\"357.12\" height=\"266.112\"/>\n  </clipPath>\n </defs>\n</svg>\n"
          },
          "metadata": {}
        }
      ],
      "source": [
        "# Plot return distributions for two points on the trade-off curve.\n",
        "import scipy.stats as spstats\n",
        "\n",
        "\n",
        "plt.figure()\n",
        "for midx, idx in enumerate(markers_on):\n",
        "    gamma.value = gamma_vals[idx]\n",
        "    prob.solve()\n",
        "    x = np.linspace(-2, 5, 1000)\n",
        "    plt.plot(\n",
        "        x,\n",
        "        spstats.norm.pdf(x, ret.value, risk.value),\n",
        "        label=r\"$\\gamma = %.2f$\" % gamma.value,\n",
        "    )\n",
        "\n",
        "plt.xlabel(\"Return\")\n",
        "plt.ylabel(\"Density\")\n",
        "plt.legend(loc=\"upper right\")\n",
        "plt.show()"
      ]
    },
    {
      "cell_type": "markdown",
      "id": "798a5b66",
      "metadata": {
        "id": "798a5b66",
        "pycharm": {
          "name": "#%% md\n"
        }
      },
      "source": [
        "#### Portfolio constraints\n",
        "\n",
        "There are many other possible portfolio constraints besides the long only constraint. With no constraint (${\\cal W} = {\\bf R}^n$), the optimization problem has a simple analytical solution. We will look in detail at a *leverage limit*, or the constraint that $\\|w \\|_1 \\leq L^\\mathrm{max}$.\n",
        "\n",
        "\n",
        "Another interesting constraint is the *market neutral* constraint $m^T \\Sigma w =0$, where $m_i$ is the capitalization of asset $i$.\n",
        "$M = m^Tr$ is the *market return*, and $m^T \\Sigma w = {\\bf cov}(M,R)$.\n",
        "The market neutral constraint ensures that the portfolio return is uncorrelated with the market return."
      ]
    },
    {
      "cell_type": "markdown",
      "id": "67cd6572",
      "metadata": {
        "id": "67cd6572",
        "pycharm": {
          "name": "#%% md\n"
        }
      },
      "source": [
        "#### Example 2\n",
        "\n",
        "In the following code we compute and plot optimal risk-return trade-off curves for leverage limits of 1, 2, and 4.\n",
        "Notice that more leverage increases returns and allows greater risk."
      ]
    },
    {
      "cell_type": "code",
      "execution_count": null,
      "id": "c035c38b",
      "metadata": {
        "id": "c035c38b",
        "pycharm": {
          "name": "#%%\n"
        }
      },
      "outputs": [],
      "source": [
        "# Portfolio optimization with leverage limit.\n",
        "Lmax = cp.Parameter()\n",
        "prob = cp.Problem(\n",
        "    cp.Maximize(ret - gamma * risk), [cp.sum(w) == 1, cp.norm(w, 1) <= Lmax]\n",
        ")"
      ]
    },
    {
      "cell_type": "code",
      "execution_count": null,
      "id": "32cf95d9",
      "metadata": {
        "id": "32cf95d9",
        "pycharm": {
          "name": "#%%\n"
        }
      },
      "outputs": [],
      "source": [
        "# Compute trade-off curve for each leverage limit.\n",
        "L_vals = [1, 2, 4]\n",
        "SAMPLES = 100\n",
        "risk_data = np.zeros((len(L_vals), SAMPLES))\n",
        "ret_data = np.zeros((len(L_vals), SAMPLES))\n",
        "gamma_vals = np.logspace(-2, 3, num=SAMPLES)\n",
        "w_vals = []\n",
        "for k, L_val in enumerate(L_vals):\n",
        "    for i in range(SAMPLES):\n",
        "        Lmax.value = L_val\n",
        "        gamma.value = gamma_vals[i]\n",
        "        prob.solve(solver=cp.SCS)\n",
        "        risk_data[k, i] = cp.sqrt(risk).value\n",
        "        ret_data[k, i] = ret.value"
      ]
    },
    {
      "cell_type": "code",
      "execution_count": null,
      "id": "e397ead9",
      "metadata": {
        "id": "e397ead9",
        "outputId": "237ce502-9c8b-4538-da60-ad1932708da5",
        "pycharm": {
          "name": "#%%\n"
        },
        "colab": {
          "base_uri": "https://localhost:8080/",
          "height": 436
        }
      },
      "outputs": [
        {
          "output_type": "display_data",
          "data": {
            "text/plain": [
              "<Figure size 640x480 with 1 Axes>"
            ],
            "image/svg+xml": "<?xml version=\"1.0\" encoding=\"utf-8\" standalone=\"no\"?>\n<!DOCTYPE svg PUBLIC \"-//W3C//DTD SVG 1.1//EN\"\n  \"http://www.w3.org/Graphics/SVG/1.1/DTD/svg11.dtd\">\n<svg xmlns:xlink=\"http://www.w3.org/1999/xlink\" width=\"398.560625pt\" height=\"310.86825pt\" viewBox=\"0 0 398.560625 310.86825\" xmlns=\"http://www.w3.org/2000/svg\" version=\"1.1\">\n <metadata>\n  <rdf:RDF xmlns:dc=\"http://purl.org/dc/elements/1.1/\" xmlns:cc=\"http://creativecommons.org/ns#\" xmlns:rdf=\"http://www.w3.org/1999/02/22-rdf-syntax-ns#\">\n   <cc:Work>\n    <dc:type rdf:resource=\"http://purl.org/dc/dcmitype/StillImage\"/>\n    <dc:date>2023-12-25T18:05:53.380761</dc:date>\n    <dc:format>image/svg+xml</dc:format>\n    <dc:creator>\n     <cc:Agent>\n      <dc:title>Matplotlib v3.7.1, https://matplotlib.org/</dc:title>\n     </cc:Agent>\n    </dc:creator>\n   </cc:Work>\n  </rdf:RDF>\n </metadata>\n <defs>\n  <style type=\"text/css\">*{stroke-linejoin: round; stroke-linecap: butt}</style>\n </defs>\n <g id=\"figure_1\">\n  <g id=\"patch_1\">\n   <path d=\"M 0 310.86825 \nL 398.560625 310.86825 \nL 398.560625 0 \nL 0 0 \nz\n\" style=\"fill: #ffffff\"/>\n  </g>\n  <g id=\"axes_1\">\n   <g id=\"patch_2\">\n    <path d=\"M 34.240625 273.312 \nL 391.360625 273.312 \nL 391.360625 7.2 \nL 34.240625 7.2 \nz\n\" style=\"fill: #ffffff\"/>\n   </g>\n   <g id=\"matplotlib.axis_1\">\n    <g id=\"xtick_1\">\n     <g id=\"line2d_1\">\n      <defs>\n       <path id=\"m4c3ff7d144\" d=\"M 0 0 \nL 0 3.5 \n\" style=\"stroke: #000000; stroke-width: 0.8\"/>\n      </defs>\n      <g>\n       <use xlink:href=\"#m4c3ff7d144\" x=\"34.632413\" y=\"273.312\" style=\"stroke: #000000; stroke-width: 0.8\"/>\n      </g>\n     </g>\n     <g id=\"text_1\">\n      <!-- 0 -->\n      <g transform=\"translate(31.451163 287.910437) scale(0.1 -0.1)\">\n       <defs>\n        <path id=\"DejaVuSans-30\" d=\"M 2034 4250 \nQ 1547 4250 1301 3770 \nQ 1056 3291 1056 2328 \nQ 1056 1369 1301 889 \nQ 1547 409 2034 409 \nQ 2525 409 2770 889 \nQ 3016 1369 3016 2328 \nQ 3016 3291 2770 3770 \nQ 2525 4250 2034 4250 \nz\nM 2034 4750 \nQ 2819 4750 3233 4129 \nQ 3647 3509 3647 2328 \nQ 3647 1150 3233 529 \nQ 2819 -91 2034 -91 \nQ 1250 -91 836 529 \nQ 422 1150 422 2328 \nQ 422 3509 836 4129 \nQ 1250 4750 2034 4750 \nz\n\" transform=\"scale(0.015625)\"/>\n       </defs>\n       <use xlink:href=\"#DejaVuSans-30\"/>\n      </g>\n     </g>\n    </g>\n    <g id=\"xtick_2\">\n     <g id=\"line2d_2\">\n      <g>\n       <use xlink:href=\"#m4c3ff7d144\" x=\"80.395855\" y=\"273.312\" style=\"stroke: #000000; stroke-width: 0.8\"/>\n      </g>\n     </g>\n     <g id=\"text_2\">\n      <!-- 1 -->\n      <g transform=\"translate(77.214605 287.910437) scale(0.1 -0.1)\">\n       <defs>\n        <path id=\"DejaVuSans-31\" d=\"M 794 531 \nL 1825 531 \nL 1825 4091 \nL 703 3866 \nL 703 4441 \nL 1819 4666 \nL 2450 4666 \nL 2450 531 \nL 3481 531 \nL 3481 0 \nL 794 0 \nL 794 531 \nz\n\" transform=\"scale(0.015625)\"/>\n       </defs>\n       <use xlink:href=\"#DejaVuSans-31\"/>\n      </g>\n     </g>\n    </g>\n    <g id=\"xtick_3\">\n     <g id=\"line2d_3\">\n      <g>\n       <use xlink:href=\"#m4c3ff7d144\" x=\"126.159297\" y=\"273.312\" style=\"stroke: #000000; stroke-width: 0.8\"/>\n      </g>\n     </g>\n     <g id=\"text_3\">\n      <!-- 2 -->\n      <g transform=\"translate(122.978047 287.910437) scale(0.1 -0.1)\">\n       <defs>\n        <path id=\"DejaVuSans-32\" d=\"M 1228 531 \nL 3431 531 \nL 3431 0 \nL 469 0 \nL 469 531 \nQ 828 903 1448 1529 \nQ 2069 2156 2228 2338 \nQ 2531 2678 2651 2914 \nQ 2772 3150 2772 3378 \nQ 2772 3750 2511 3984 \nQ 2250 4219 1831 4219 \nQ 1534 4219 1204 4116 \nQ 875 4013 500 3803 \nL 500 4441 \nQ 881 4594 1212 4672 \nQ 1544 4750 1819 4750 \nQ 2544 4750 2975 4387 \nQ 3406 4025 3406 3419 \nQ 3406 3131 3298 2873 \nQ 3191 2616 2906 2266 \nQ 2828 2175 2409 1742 \nQ 1991 1309 1228 531 \nz\n\" transform=\"scale(0.015625)\"/>\n       </defs>\n       <use xlink:href=\"#DejaVuSans-32\"/>\n      </g>\n     </g>\n    </g>\n    <g id=\"xtick_4\">\n     <g id=\"line2d_4\">\n      <g>\n       <use xlink:href=\"#m4c3ff7d144\" x=\"171.922739\" y=\"273.312\" style=\"stroke: #000000; stroke-width: 0.8\"/>\n      </g>\n     </g>\n     <g id=\"text_4\">\n      <!-- 3 -->\n      <g transform=\"translate(168.741489 287.910437) scale(0.1 -0.1)\">\n       <defs>\n        <path id=\"DejaVuSans-33\" d=\"M 2597 2516 \nQ 3050 2419 3304 2112 \nQ 3559 1806 3559 1356 \nQ 3559 666 3084 287 \nQ 2609 -91 1734 -91 \nQ 1441 -91 1130 -33 \nQ 819 25 488 141 \nL 488 750 \nQ 750 597 1062 519 \nQ 1375 441 1716 441 \nQ 2309 441 2620 675 \nQ 2931 909 2931 1356 \nQ 2931 1769 2642 2001 \nQ 2353 2234 1838 2234 \nL 1294 2234 \nL 1294 2753 \nL 1863 2753 \nQ 2328 2753 2575 2939 \nQ 2822 3125 2822 3475 \nQ 2822 3834 2567 4026 \nQ 2313 4219 1838 4219 \nQ 1578 4219 1281 4162 \nQ 984 4106 628 3988 \nL 628 4550 \nQ 988 4650 1302 4700 \nQ 1616 4750 1894 4750 \nQ 2613 4750 3031 4423 \nQ 3450 4097 3450 3541 \nQ 3450 3153 3228 2886 \nQ 3006 2619 2597 2516 \nz\n\" transform=\"scale(0.015625)\"/>\n       </defs>\n       <use xlink:href=\"#DejaVuSans-33\"/>\n      </g>\n     </g>\n    </g>\n    <g id=\"xtick_5\">\n     <g id=\"line2d_5\">\n      <g>\n       <use xlink:href=\"#m4c3ff7d144\" x=\"217.686181\" y=\"273.312\" style=\"stroke: #000000; stroke-width: 0.8\"/>\n      </g>\n     </g>\n     <g id=\"text_5\">\n      <!-- 4 -->\n      <g transform=\"translate(214.504931 287.910437) scale(0.1 -0.1)\">\n       <defs>\n        <path id=\"DejaVuSans-34\" d=\"M 2419 4116 \nL 825 1625 \nL 2419 1625 \nL 2419 4116 \nz\nM 2253 4666 \nL 3047 4666 \nL 3047 1625 \nL 3713 1625 \nL 3713 1100 \nL 3047 1100 \nL 3047 0 \nL 2419 0 \nL 2419 1100 \nL 313 1100 \nL 313 1709 \nL 2253 4666 \nz\n\" transform=\"scale(0.015625)\"/>\n       </defs>\n       <use xlink:href=\"#DejaVuSans-34\"/>\n      </g>\n     </g>\n    </g>\n    <g id=\"xtick_6\">\n     <g id=\"line2d_6\">\n      <g>\n       <use xlink:href=\"#m4c3ff7d144\" x=\"263.449623\" y=\"273.312\" style=\"stroke: #000000; stroke-width: 0.8\"/>\n      </g>\n     </g>\n     <g id=\"text_6\">\n      <!-- 5 -->\n      <g transform=\"translate(260.268373 287.910437) scale(0.1 -0.1)\">\n       <defs>\n        <path id=\"DejaVuSans-35\" d=\"M 691 4666 \nL 3169 4666 \nL 3169 4134 \nL 1269 4134 \nL 1269 2991 \nQ 1406 3038 1543 3061 \nQ 1681 3084 1819 3084 \nQ 2600 3084 3056 2656 \nQ 3513 2228 3513 1497 \nQ 3513 744 3044 326 \nQ 2575 -91 1722 -91 \nQ 1428 -91 1123 -41 \nQ 819 9 494 109 \nL 494 744 \nQ 775 591 1075 516 \nQ 1375 441 1709 441 \nQ 2250 441 2565 725 \nQ 2881 1009 2881 1497 \nQ 2881 1984 2565 2268 \nQ 2250 2553 1709 2553 \nQ 1456 2553 1204 2497 \nQ 953 2441 691 2322 \nL 691 4666 \nz\n\" transform=\"scale(0.015625)\"/>\n       </defs>\n       <use xlink:href=\"#DejaVuSans-35\"/>\n      </g>\n     </g>\n    </g>\n    <g id=\"xtick_7\">\n     <g id=\"line2d_7\">\n      <g>\n       <use xlink:href=\"#m4c3ff7d144\" x=\"309.213064\" y=\"273.312\" style=\"stroke: #000000; stroke-width: 0.8\"/>\n      </g>\n     </g>\n     <g id=\"text_7\">\n      <!-- 6 -->\n      <g transform=\"translate(306.031814 287.910437) scale(0.1 -0.1)\">\n       <defs>\n        <path id=\"DejaVuSans-36\" d=\"M 2113 2584 \nQ 1688 2584 1439 2293 \nQ 1191 2003 1191 1497 \nQ 1191 994 1439 701 \nQ 1688 409 2113 409 \nQ 2538 409 2786 701 \nQ 3034 994 3034 1497 \nQ 3034 2003 2786 2293 \nQ 2538 2584 2113 2584 \nz\nM 3366 4563 \nL 3366 3988 \nQ 3128 4100 2886 4159 \nQ 2644 4219 2406 4219 \nQ 1781 4219 1451 3797 \nQ 1122 3375 1075 2522 \nQ 1259 2794 1537 2939 \nQ 1816 3084 2150 3084 \nQ 2853 3084 3261 2657 \nQ 3669 2231 3669 1497 \nQ 3669 778 3244 343 \nQ 2819 -91 2113 -91 \nQ 1303 -91 875 529 \nQ 447 1150 447 2328 \nQ 447 3434 972 4092 \nQ 1497 4750 2381 4750 \nQ 2619 4750 2861 4703 \nQ 3103 4656 3366 4563 \nz\n\" transform=\"scale(0.015625)\"/>\n       </defs>\n       <use xlink:href=\"#DejaVuSans-36\"/>\n      </g>\n     </g>\n    </g>\n    <g id=\"xtick_8\">\n     <g id=\"line2d_8\">\n      <g>\n       <use xlink:href=\"#m4c3ff7d144\" x=\"354.976506\" y=\"273.312\" style=\"stroke: #000000; stroke-width: 0.8\"/>\n      </g>\n     </g>\n     <g id=\"text_8\">\n      <!-- 7 -->\n      <g transform=\"translate(351.795256 287.910437) scale(0.1 -0.1)\">\n       <defs>\n        <path id=\"DejaVuSans-37\" d=\"M 525 4666 \nL 3525 4666 \nL 3525 4397 \nL 1831 0 \nL 1172 0 \nL 2766 4134 \nL 525 4134 \nL 525 4666 \nz\n\" transform=\"scale(0.015625)\"/>\n       </defs>\n       <use xlink:href=\"#DejaVuSans-37\"/>\n      </g>\n     </g>\n    </g>\n    <g id=\"text_9\">\n     <!-- Standard deviation -->\n     <g transform=\"translate(165.223281 301.588562) scale(0.1 -0.1)\">\n      <defs>\n       <path id=\"DejaVuSans-53\" d=\"M 3425 4513 \nL 3425 3897 \nQ 3066 4069 2747 4153 \nQ 2428 4238 2131 4238 \nQ 1616 4238 1336 4038 \nQ 1056 3838 1056 3469 \nQ 1056 3159 1242 3001 \nQ 1428 2844 1947 2747 \nL 2328 2669 \nQ 3034 2534 3370 2195 \nQ 3706 1856 3706 1288 \nQ 3706 609 3251 259 \nQ 2797 -91 1919 -91 \nQ 1588 -91 1214 -16 \nQ 841 59 441 206 \nL 441 856 \nQ 825 641 1194 531 \nQ 1563 422 1919 422 \nQ 2459 422 2753 634 \nQ 3047 847 3047 1241 \nQ 3047 1584 2836 1778 \nQ 2625 1972 2144 2069 \nL 1759 2144 \nQ 1053 2284 737 2584 \nQ 422 2884 422 3419 \nQ 422 4038 858 4394 \nQ 1294 4750 2059 4750 \nQ 2388 4750 2728 4690 \nQ 3069 4631 3425 4513 \nz\n\" transform=\"scale(0.015625)\"/>\n       <path id=\"DejaVuSans-74\" d=\"M 1172 4494 \nL 1172 3500 \nL 2356 3500 \nL 2356 3053 \nL 1172 3053 \nL 1172 1153 \nQ 1172 725 1289 603 \nQ 1406 481 1766 481 \nL 2356 481 \nL 2356 0 \nL 1766 0 \nQ 1100 0 847 248 \nQ 594 497 594 1153 \nL 594 3053 \nL 172 3053 \nL 172 3500 \nL 594 3500 \nL 594 4494 \nL 1172 4494 \nz\n\" transform=\"scale(0.015625)\"/>\n       <path id=\"DejaVuSans-61\" d=\"M 2194 1759 \nQ 1497 1759 1228 1600 \nQ 959 1441 959 1056 \nQ 959 750 1161 570 \nQ 1363 391 1709 391 \nQ 2188 391 2477 730 \nQ 2766 1069 2766 1631 \nL 2766 1759 \nL 2194 1759 \nz\nM 3341 1997 \nL 3341 0 \nL 2766 0 \nL 2766 531 \nQ 2569 213 2275 61 \nQ 1981 -91 1556 -91 \nQ 1019 -91 701 211 \nQ 384 513 384 1019 \nQ 384 1609 779 1909 \nQ 1175 2209 1959 2209 \nL 2766 2209 \nL 2766 2266 \nQ 2766 2663 2505 2880 \nQ 2244 3097 1772 3097 \nQ 1472 3097 1187 3025 \nQ 903 2953 641 2809 \nL 641 3341 \nQ 956 3463 1253 3523 \nQ 1550 3584 1831 3584 \nQ 2591 3584 2966 3190 \nQ 3341 2797 3341 1997 \nz\n\" transform=\"scale(0.015625)\"/>\n       <path id=\"DejaVuSans-6e\" d=\"M 3513 2113 \nL 3513 0 \nL 2938 0 \nL 2938 2094 \nQ 2938 2591 2744 2837 \nQ 2550 3084 2163 3084 \nQ 1697 3084 1428 2787 \nQ 1159 2491 1159 1978 \nL 1159 0 \nL 581 0 \nL 581 3500 \nL 1159 3500 \nL 1159 2956 \nQ 1366 3272 1645 3428 \nQ 1925 3584 2291 3584 \nQ 2894 3584 3203 3211 \nQ 3513 2838 3513 2113 \nz\n\" transform=\"scale(0.015625)\"/>\n       <path id=\"DejaVuSans-64\" d=\"M 2906 2969 \nL 2906 4863 \nL 3481 4863 \nL 3481 0 \nL 2906 0 \nL 2906 525 \nQ 2725 213 2448 61 \nQ 2172 -91 1784 -91 \nQ 1150 -91 751 415 \nQ 353 922 353 1747 \nQ 353 2572 751 3078 \nQ 1150 3584 1784 3584 \nQ 2172 3584 2448 3432 \nQ 2725 3281 2906 2969 \nz\nM 947 1747 \nQ 947 1113 1208 752 \nQ 1469 391 1925 391 \nQ 2381 391 2643 752 \nQ 2906 1113 2906 1747 \nQ 2906 2381 2643 2742 \nQ 2381 3103 1925 3103 \nQ 1469 3103 1208 2742 \nQ 947 2381 947 1747 \nz\n\" transform=\"scale(0.015625)\"/>\n       <path id=\"DejaVuSans-72\" d=\"M 2631 2963 \nQ 2534 3019 2420 3045 \nQ 2306 3072 2169 3072 \nQ 1681 3072 1420 2755 \nQ 1159 2438 1159 1844 \nL 1159 0 \nL 581 0 \nL 581 3500 \nL 1159 3500 \nL 1159 2956 \nQ 1341 3275 1631 3429 \nQ 1922 3584 2338 3584 \nQ 2397 3584 2469 3576 \nQ 2541 3569 2628 3553 \nL 2631 2963 \nz\n\" transform=\"scale(0.015625)\"/>\n       <path id=\"DejaVuSans-20\" transform=\"scale(0.015625)\"/>\n       <path id=\"DejaVuSans-65\" d=\"M 3597 1894 \nL 3597 1613 \nL 953 1613 \nQ 991 1019 1311 708 \nQ 1631 397 2203 397 \nQ 2534 397 2845 478 \nQ 3156 559 3463 722 \nL 3463 178 \nQ 3153 47 2828 -22 \nQ 2503 -91 2169 -91 \nQ 1331 -91 842 396 \nQ 353 884 353 1716 \nQ 353 2575 817 3079 \nQ 1281 3584 2069 3584 \nQ 2775 3584 3186 3129 \nQ 3597 2675 3597 1894 \nz\nM 3022 2063 \nQ 3016 2534 2758 2815 \nQ 2500 3097 2075 3097 \nQ 1594 3097 1305 2825 \nQ 1016 2553 972 2059 \nL 3022 2063 \nz\n\" transform=\"scale(0.015625)\"/>\n       <path id=\"DejaVuSans-76\" d=\"M 191 3500 \nL 800 3500 \nL 1894 563 \nL 2988 3500 \nL 3597 3500 \nL 2284 0 \nL 1503 0 \nL 191 3500 \nz\n\" transform=\"scale(0.015625)\"/>\n       <path id=\"DejaVuSans-69\" d=\"M 603 3500 \nL 1178 3500 \nL 1178 0 \nL 603 0 \nL 603 3500 \nz\nM 603 4863 \nL 1178 4863 \nL 1178 4134 \nL 603 4134 \nL 603 4863 \nz\n\" transform=\"scale(0.015625)\"/>\n       <path id=\"DejaVuSans-6f\" d=\"M 1959 3097 \nQ 1497 3097 1228 2736 \nQ 959 2375 959 1747 \nQ 959 1119 1226 758 \nQ 1494 397 1959 397 \nQ 2419 397 2687 759 \nQ 2956 1122 2956 1747 \nQ 2956 2369 2687 2733 \nQ 2419 3097 1959 3097 \nz\nM 1959 3584 \nQ 2709 3584 3137 3096 \nQ 3566 2609 3566 1747 \nQ 3566 888 3137 398 \nQ 2709 -91 1959 -91 \nQ 1206 -91 779 398 \nQ 353 888 353 1747 \nQ 353 2609 779 3096 \nQ 1206 3584 1959 3584 \nz\n\" transform=\"scale(0.015625)\"/>\n      </defs>\n      <use xlink:href=\"#DejaVuSans-53\"/>\n      <use xlink:href=\"#DejaVuSans-74\" x=\"63.476562\"/>\n      <use xlink:href=\"#DejaVuSans-61\" x=\"102.685547\"/>\n      <use xlink:href=\"#DejaVuSans-6e\" x=\"163.964844\"/>\n      <use xlink:href=\"#DejaVuSans-64\" x=\"227.34375\"/>\n      <use xlink:href=\"#DejaVuSans-61\" x=\"290.820312\"/>\n      <use xlink:href=\"#DejaVuSans-72\" x=\"352.099609\"/>\n      <use xlink:href=\"#DejaVuSans-64\" x=\"391.462891\"/>\n      <use xlink:href=\"#DejaVuSans-20\" x=\"454.939453\"/>\n      <use xlink:href=\"#DejaVuSans-64\" x=\"486.726562\"/>\n      <use xlink:href=\"#DejaVuSans-65\" x=\"550.203125\"/>\n      <use xlink:href=\"#DejaVuSans-76\" x=\"611.726562\"/>\n      <use xlink:href=\"#DejaVuSans-69\" x=\"670.90625\"/>\n      <use xlink:href=\"#DejaVuSans-61\" x=\"698.689453\"/>\n      <use xlink:href=\"#DejaVuSans-74\" x=\"759.96875\"/>\n      <use xlink:href=\"#DejaVuSans-69\" x=\"799.177734\"/>\n      <use xlink:href=\"#DejaVuSans-6f\" x=\"826.960938\"/>\n      <use xlink:href=\"#DejaVuSans-6e\" x=\"888.142578\"/>\n     </g>\n    </g>\n   </g>\n   <g id=\"matplotlib.axis_2\">\n    <g id=\"ytick_1\">\n     <g id=\"line2d_9\">\n      <defs>\n       <path id=\"mc7f64a4af1\" d=\"M 0 0 \nL -3.5 0 \n\" style=\"stroke: #000000; stroke-width: 0.8\"/>\n      </defs>\n      <g>\n       <use xlink:href=\"#mc7f64a4af1\" x=\"34.240625\" y=\"253.565732\" style=\"stroke: #000000; stroke-width: 0.8\"/>\n      </g>\n     </g>\n     <g id=\"text_10\">\n      <!-- 1 -->\n      <g transform=\"translate(20.878125 257.36495) scale(0.1 -0.1)\">\n       <use xlink:href=\"#DejaVuSans-31\"/>\n      </g>\n     </g>\n    </g>\n    <g id=\"ytick_2\">\n     <g id=\"line2d_10\">\n      <g>\n       <use xlink:href=\"#mc7f64a4af1\" x=\"34.240625\" y=\"199.194192\" style=\"stroke: #000000; stroke-width: 0.8\"/>\n      </g>\n     </g>\n     <g id=\"text_11\">\n      <!-- 2 -->\n      <g transform=\"translate(20.878125 202.993411) scale(0.1 -0.1)\">\n       <use xlink:href=\"#DejaVuSans-32\"/>\n      </g>\n     </g>\n    </g>\n    <g id=\"ytick_3\">\n     <g id=\"line2d_11\">\n      <g>\n       <use xlink:href=\"#mc7f64a4af1\" x=\"34.240625\" y=\"144.822653\" style=\"stroke: #000000; stroke-width: 0.8\"/>\n      </g>\n     </g>\n     <g id=\"text_12\">\n      <!-- 3 -->\n      <g transform=\"translate(20.878125 148.621872) scale(0.1 -0.1)\">\n       <use xlink:href=\"#DejaVuSans-33\"/>\n      </g>\n     </g>\n    </g>\n    <g id=\"ytick_4\">\n     <g id=\"line2d_12\">\n      <g>\n       <use xlink:href=\"#mc7f64a4af1\" x=\"34.240625\" y=\"90.451113\" style=\"stroke: #000000; stroke-width: 0.8\"/>\n      </g>\n     </g>\n     <g id=\"text_13\">\n      <!-- 4 -->\n      <g transform=\"translate(20.878125 94.250332) scale(0.1 -0.1)\">\n       <use xlink:href=\"#DejaVuSans-34\"/>\n      </g>\n     </g>\n    </g>\n    <g id=\"ytick_5\">\n     <g id=\"line2d_13\">\n      <g>\n       <use xlink:href=\"#mc7f64a4af1\" x=\"34.240625\" y=\"36.079574\" style=\"stroke: #000000; stroke-width: 0.8\"/>\n      </g>\n     </g>\n     <g id=\"text_14\">\n      <!-- 5 -->\n      <g transform=\"translate(20.878125 39.878793) scale(0.1 -0.1)\">\n       <use xlink:href=\"#DejaVuSans-35\"/>\n      </g>\n     </g>\n    </g>\n    <g id=\"text_15\">\n     <!-- Return -->\n     <g transform=\"translate(14.798438 156.847406) rotate(-90) scale(0.1 -0.1)\">\n      <defs>\n       <path id=\"DejaVuSans-52\" d=\"M 2841 2188 \nQ 3044 2119 3236 1894 \nQ 3428 1669 3622 1275 \nL 4263 0 \nL 3584 0 \nL 2988 1197 \nQ 2756 1666 2539 1819 \nQ 2322 1972 1947 1972 \nL 1259 1972 \nL 1259 0 \nL 628 0 \nL 628 4666 \nL 2053 4666 \nQ 2853 4666 3247 4331 \nQ 3641 3997 3641 3322 \nQ 3641 2881 3436 2590 \nQ 3231 2300 2841 2188 \nz\nM 1259 4147 \nL 1259 2491 \nL 2053 2491 \nQ 2509 2491 2742 2702 \nQ 2975 2913 2975 3322 \nQ 2975 3731 2742 3939 \nQ 2509 4147 2053 4147 \nL 1259 4147 \nz\n\" transform=\"scale(0.015625)\"/>\n       <path id=\"DejaVuSans-75\" d=\"M 544 1381 \nL 544 3500 \nL 1119 3500 \nL 1119 1403 \nQ 1119 906 1312 657 \nQ 1506 409 1894 409 \nQ 2359 409 2629 706 \nQ 2900 1003 2900 1516 \nL 2900 3500 \nL 3475 3500 \nL 3475 0 \nL 2900 0 \nL 2900 538 \nQ 2691 219 2414 64 \nQ 2138 -91 1772 -91 \nQ 1169 -91 856 284 \nQ 544 659 544 1381 \nz\nM 1991 3584 \nL 1991 3584 \nz\n\" transform=\"scale(0.015625)\"/>\n      </defs>\n      <use xlink:href=\"#DejaVuSans-52\"/>\n      <use xlink:href=\"#DejaVuSans-65\" x=\"64.982422\"/>\n      <use xlink:href=\"#DejaVuSans-74\" x=\"126.505859\"/>\n      <use xlink:href=\"#DejaVuSans-75\" x=\"165.714844\"/>\n      <use xlink:href=\"#DejaVuSans-72\" x=\"229.09375\"/>\n      <use xlink:href=\"#DejaVuSans-6e\" x=\"268.457031\"/>\n     </g>\n    </g>\n   </g>\n   <g id=\"line2d_14\">\n    <path d=\"M 151.943459 182.799091 \nL 151.94457 182.798708 \nL 151.943216 182.799291 \nL 151.940796 182.800165 \nL 151.943478 182.799072 \nL 151.943427 182.79909 \nL 151.943173 182.799186 \nL 151.942152 182.799581 \nL 151.938767 182.80093 \nL 151.942933 182.799293 \nL 151.941152 182.800041 \nL 151.935242 182.802597 \nL 151.94011 182.800556 \nL 151.943484 182.799071 \nL 151.943461 182.799083 \nL 146.605969 184.529335 \nL 141.181382 186.392392 \nL 136.676616 188.05156 \nL 132.960003 189.528596 \nL 127.188484 192.00648 \nL 121.062252 194.750901 \nL 115.092143 197.560518 \nL 108.622938 200.728106 \nL 102.376666 203.869059 \nL 96.983738 206.665181 \nL 92.353162 209.154329 \nL 88.401013 211.370202 \nL 85.049439 213.342801 \nL 82.226024 215.098842 \nL 79.86346 216.662033 \nL 77.899577 218.0535 \nL 76.27744 219.292058 \nL 74.945563 220.394554 \nL 73.690825 221.53446 \nL 71.524965 223.631834 \nL 69.404126 225.810762 \nL 67.59164 227.785872 \nL 66.081168 229.544146 \nL 64.812344 231.13303 \nL 62.541066 234.142455 \nL 60.600446 236.821587 \nL 58.952968 239.205135 \nL 57.563293 241.328378 \nL 56.399305 243.216689 \nL 55.430513 244.898795 \nL 54.629454 246.396232 \nL 53.971075 247.729273 \nL 53.432952 248.91597 \nL 52.995299 249.972398 \nL 52.640909 250.912879 \nL 52.355017 251.750181 \nL 52.125117 252.495665 \nL 51.94073 253.15946 \nL 51.717405 254.05602 \nL 51.51619 254.94729 \nL 51.367038 255.680111 \nL 51.308273 256.00343 \nL 51.261555 256.291253 \nL 51.224438 256.547479 \nL 51.194965 256.775575 \nL 51.171571 256.978632 \nL 51.153008 257.159398 \nL 51.138283 257.320317 \nL 51.126604 257.46357 \nL 51.117343 257.591097 \nL 51.109999 257.704622 \nL 51.104174 257.80567 \nL 51.099558 257.89569 \nL 51.095902 257.975726 \nL 51.092999 258.047037 \nL 51.0907 258.110505 \nL 51.088879 258.167003 \nL 51.087436 258.217296 \nL 51.086292 258.262065 \nL 51.085387 258.301916 \nL 51.08467 258.337389 \nL 51.084105 258.368957 \nL 51.083659 258.397054 \nL 51.083307 258.422078 \nL 51.083035 258.444368 \nL 51.082805 258.464323 \nL 51.082604 258.482184 \nL 51.082418 258.49822 \nL 51.082249 258.512607 \nL 51.082261 258.524139 \nL 51.08219 258.53524 \nL 51.082132 258.54513 \nL 51.082084 258.553946 \nL 51.082043 258.561812 \nL 51.082006 258.568836 \nL 51.081972 258.575116 \nL 51.081938 258.580741 \nL 51.081904 258.585788 \nL 51.081867 258.590326 \nL 51.081827 258.594416 \nL 51.081784 258.598111 \nL 51.081929 258.600236 \nL 51.081917 258.603032 \nL 51.081906 258.605525 \nL 51.081894 258.607758 \n\" clip-path=\"url(#p190c2421db)\" style=\"fill: none; stroke: #1f77b4; stroke-width: 1.5; stroke-linecap: square\"/>\n   </g>\n   <g id=\"line2d_15\">\n    <path d=\"M 228.270308 127.658437 \nL 227.525833 127.737352 \nL 226.932684 127.808309 \nL 226.45636 127.873537 \nL 226.090961 127.925973 \nL 225.794154 127.975729 \nL 223.263416 128.463202 \nL 218.37988 129.467254 \nL 214.411563 130.362908 \nL 211.213638 131.155341 \nL 208.629394 131.86484 \nL 203.146551 133.556463 \nL 192.252371 137.063996 \nL 183.051624 140.186875 \nL 175.332171 142.968109 \nL 168.903315 145.440698 \nL 163.578237 147.644489 \nL 159.010538 149.692082 \nL 151.187359 153.430761 \nL 144.592433 156.759533 \nL 139.069098 159.724227 \nL 132.627743 163.417044 \nL 125.874701 167.455652 \nL 118.764923 171.879745 \nL 112.916396 175.658442 \nL 108.53711 178.641349 \nL 103.058948 182.568639 \nL 98.234629 186.166922 \nL 94.133766 189.370496 \nL 90.671022 192.22246 \nL 87.766543 194.761515 \nL 85.499738 196.878111 \nL 82.418916 199.956757 \nL 79.699544 202.822842 \nL 77.422501 205.373576 \nL 75.527693 207.644693 \nL 73.711308 209.991427 \nL 71.964829 212.405289 \nL 70.4223 214.6952 \nL 68.543486 217.722097 \nL 65.671057 222.501533 \nL 63.190235 226.756255 \nL 61.059331 230.543872 \nL 59.239912 233.915666 \nL 57.696337 236.917289 \nL 56.39546 239.589378 \nL 55.30648 241.968112 \nL 54.400921 244.085697 \nL 53.652684 245.970803 \nL 53.038127 247.648953 \nL 52.536125 249.142868 \nL 52.128069 250.472773 \nL 51.797804 251.656674 \nL 51.53149 252.710601 \nL 51.317422 253.648823 \nL 51.145806 254.484042 \nL 51.008526 255.227567 \nL 50.898911 255.889464 \nL 50.811516 256.478695 \nL 50.74192 257.003237 \nL 50.686552 257.470192 \nL 50.642538 257.885882 \nL 50.607571 258.255936 \nL 50.579806 258.585364 \nL 50.557769 258.878625 \nL 50.540283 259.139691 \nL 50.526411 259.372096 \nL 50.51541 259.578986 \nL 50.506687 259.763163 \nL 50.49977 259.92712 \nL 50.494286 260.073077 \nL 50.489939 260.20301 \nL 50.486493 260.318678 \nL 50.483762 260.421648 \nL 50.481597 260.513313 \nL 50.479882 260.594915 \nL 50.478522 260.667558 \nL 50.477444 260.732226 \nL 50.47659 260.789794 \nL 50.475913 260.841043 \nL 50.475376 260.886665 \nL 50.474951 260.927278 \nL 50.474614 260.963433 \nL 50.474347 260.995618 \nL 50.474136 261.02427 \nL 50.473968 261.049776 \nL 50.473835 261.072482 \nL 50.47373 261.092696 \nL 50.473646 261.11069 \nL 50.47358 261.126709 \nL 50.473528 261.140969 \nL 50.473486 261.153664 \nL 50.473453 261.164964 \nL 50.473427 261.175025 \nL 50.473407 261.18398 \nL 50.47339 261.191953 \nL 50.473377 261.19905 \nL 50.473367 261.205369 \nL 50.473359 261.210993 \nL 50.473352 261.216 \n\" clip-path=\"url(#p190c2421db)\" style=\"fill: none; stroke: #ff7f0e; stroke-width: 1.5; stroke-linecap: square\"/>\n   </g>\n   <g id=\"line2d_16\">\n    <path d=\"M 375.127898 19.296 \nL 364.173206 21.312794 \nL 355.223043 23.109693 \nL 347.956729 24.704598 \nL 342.072086 26.127054 \nL 337.325972 27.394114 \nL 333.505394 28.525316 \nL 319.863289 32.992735 \nL 303.613252 38.573935 \nL 289.998669 43.545832 \nL 278.669929 47.972377 \nL 269.301641 51.914975 \nL 261.60861 55.419652 \nL 248.58067 61.80608 \nL 237.102905 67.761128 \nL 227.52662 73.058081 \nL 219.582633 77.776749 \nL 207.481578 85.497048 \nL 191.281071 96.084538 \nL 177.139091 105.511067 \nL 164.845329 113.902922 \nL 154.208267 121.373589 \nL 145.053161 128.024042 \nL 137.219285 133.944221 \nL 130.55762 139.214673 \nL 124.929242 143.907728 \nL 119.599183 148.620994 \nL 115.417163 152.535664 \nL 111.965598 155.999243 \nL 109.118729 159.079952 \nL 104.725192 164.185491 \nL 100.739215 169.068729 \nL 97.400305 173.416751 \nL 94.622789 177.286784 \nL 90.553423 183.38864 \nL 84.934436 191.937367 \nL 79.989745 199.547573 \nL 75.649951 206.322294 \nL 71.853065 212.353252 \nL 68.543484 217.722102 \nL 65.671057 222.501533 \nL 63.190235 226.756255 \nL 61.059331 230.543872 \nL 59.239912 233.915666 \nL 57.696337 236.917289 \nL 56.39546 239.589378 \nL 55.30648 241.968112 \nL 54.400921 244.085697 \nL 53.652684 245.970803 \nL 53.038127 247.648953 \nL 52.536125 249.142868 \nL 52.128069 250.472773 \nL 51.797804 251.656674 \nL 51.53149 252.710601 \nL 51.317422 253.648823 \nL 51.145806 254.484042 \nL 51.008526 255.227567 \nL 50.898911 255.889464 \nL 50.811516 256.478695 \nL 50.74192 257.003237 \nL 50.686552 257.470192 \nL 50.642538 257.885882 \nL 50.607571 258.255936 \nL 50.579806 258.585364 \nL 50.557769 258.878625 \nL 50.540283 259.139691 \nL 50.526411 259.372096 \nL 50.51541 259.578986 \nL 50.506687 259.763163 \nL 50.49977 259.92712 \nL 50.494286 260.073077 \nL 50.489939 260.20301 \nL 50.486493 260.318678 \nL 50.483762 260.421648 \nL 50.481597 260.513313 \nL 50.479882 260.594915 \nL 50.478522 260.667558 \nL 50.477444 260.732226 \nL 50.47659 260.789794 \nL 50.475913 260.841043 \nL 50.475376 260.886665 \nL 50.474951 260.927278 \nL 50.474614 260.963433 \nL 50.474347 260.995618 \nL 50.474136 261.02427 \nL 50.473968 261.049776 \nL 50.473835 261.072482 \nL 50.47373 261.092696 \nL 50.473646 261.11069 \nL 50.47358 261.126709 \nL 50.473528 261.140969 \nL 50.473486 261.153664 \nL 50.473453 261.164964 \nL 50.473427 261.175025 \nL 50.473407 261.18398 \nL 50.47339 261.191953 \nL 50.473377 261.19905 \nL 50.473367 261.205369 \nL 50.473359 261.210993 \nL 50.473352 261.216 \n\" clip-path=\"url(#p190c2421db)\" style=\"fill: none; stroke: #2ca02c; stroke-width: 1.5; stroke-linecap: square\"/>\n   </g>\n   <g id=\"patch_3\">\n    <path d=\"M 34.240625 273.312 \nL 34.240625 7.2 \n\" style=\"fill: none; stroke: #000000; stroke-width: 0.8; stroke-linejoin: miter; stroke-linecap: square\"/>\n   </g>\n   <g id=\"patch_4\">\n    <path d=\"M 391.360625 273.312 \nL 391.360625 7.2 \n\" style=\"fill: none; stroke: #000000; stroke-width: 0.8; stroke-linejoin: miter; stroke-linecap: square\"/>\n   </g>\n   <g id=\"patch_5\">\n    <path d=\"M 34.240625 273.312 \nL 391.360625 273.312 \n\" style=\"fill: none; stroke: #000000; stroke-width: 0.8; stroke-linejoin: miter; stroke-linecap: square\"/>\n   </g>\n   <g id=\"patch_6\">\n    <path d=\"M 34.240625 7.2 \nL 391.360625 7.2 \n\" style=\"fill: none; stroke: #000000; stroke-width: 0.8; stroke-linejoin: miter; stroke-linecap: square\"/>\n   </g>\n   <g id=\"legend_1\">\n    <g id=\"patch_7\">\n     <path d=\"M 309.460625 268.312 \nL 384.360625 268.312 \nQ 386.360625 268.312 386.360625 266.312 \nL 386.360625 223.277625 \nQ 386.360625 221.277625 384.360625 221.277625 \nL 309.460625 221.277625 \nQ 307.460625 221.277625 307.460625 223.277625 \nL 307.460625 266.312 \nQ 307.460625 268.312 309.460625 268.312 \nz\n\" style=\"fill: #ffffff; opacity: 0.8; stroke: #cccccc; stroke-linejoin: miter\"/>\n    </g>\n    <g id=\"line2d_17\">\n     <path d=\"M 311.460625 229.376062 \nL 321.460625 229.376062 \nL 331.460625 229.376062 \n\" style=\"fill: none; stroke: #1f77b4; stroke-width: 1.5; stroke-linecap: square\"/>\n    </g>\n    <g id=\"text_16\">\n     <!-- $L^{\\max}$ = 1 -->\n     <g transform=\"translate(339.460625 232.876062) scale(0.1 -0.1)\">\n      <defs>\n       <path id=\"DejaVuSans-Oblique-4c\" d=\"M 1075 4666 \nL 1709 4666 \nL 909 525 \nL 3181 525 \nL 3078 0 \nL 172 0 \nL 1075 4666 \nz\n\" transform=\"scale(0.015625)\"/>\n       <path id=\"DejaVuSans-6d\" d=\"M 3328 2828 \nQ 3544 3216 3844 3400 \nQ 4144 3584 4550 3584 \nQ 5097 3584 5394 3201 \nQ 5691 2819 5691 2113 \nL 5691 0 \nL 5113 0 \nL 5113 2094 \nQ 5113 2597 4934 2840 \nQ 4756 3084 4391 3084 \nQ 3944 3084 3684 2787 \nQ 3425 2491 3425 1978 \nL 3425 0 \nL 2847 0 \nL 2847 2094 \nQ 2847 2600 2669 2842 \nQ 2491 3084 2119 3084 \nQ 1678 3084 1418 2786 \nQ 1159 2488 1159 1978 \nL 1159 0 \nL 581 0 \nL 581 3500 \nL 1159 3500 \nL 1159 2956 \nQ 1356 3278 1631 3431 \nQ 1906 3584 2284 3584 \nQ 2666 3584 2933 3390 \nQ 3200 3197 3328 2828 \nz\n\" transform=\"scale(0.015625)\"/>\n       <path id=\"DejaVuSans-78\" d=\"M 3513 3500 \nL 2247 1797 \nL 3578 0 \nL 2900 0 \nL 1881 1375 \nL 863 0 \nL 184 0 \nL 1544 1831 \nL 300 3500 \nL 978 3500 \nL 1906 2253 \nL 2834 3500 \nL 3513 3500 \nz\n\" transform=\"scale(0.015625)\"/>\n       <path id=\"DejaVuSans-3d\" d=\"M 678 2906 \nL 4684 2906 \nL 4684 2381 \nL 678 2381 \nL 678 2906 \nz\nM 678 1631 \nL 4684 1631 \nL 4684 1100 \nL 678 1100 \nL 678 1631 \nz\n\" transform=\"scale(0.015625)\"/>\n      </defs>\n      <use xlink:href=\"#DejaVuSans-Oblique-4c\" transform=\"translate(0 0.51875)\"/>\n      <use xlink:href=\"#DejaVuSans-6d\" transform=\"translate(62.729661 38.8) scale(0.7)\"/>\n      <use xlink:href=\"#DejaVuSans-61\" transform=\"translate(130.918138 38.8) scale(0.7)\"/>\n      <use xlink:href=\"#DejaVuSans-78\" transform=\"translate(173.813646 38.8) scale(0.7)\"/>\n      <use xlink:href=\"#DejaVuSans-20\" transform=\"translate(217.973802 0.51875)\"/>\n      <use xlink:href=\"#DejaVuSans-3d\" transform=\"translate(249.760911 0.51875)\"/>\n      <use xlink:href=\"#DejaVuSans-20\" transform=\"translate(333.549974 0.51875)\"/>\n      <use xlink:href=\"#DejaVuSans-31\" transform=\"translate(365.337083 0.51875)\"/>\n     </g>\n    </g>\n    <g id=\"line2d_18\">\n     <path d=\"M 311.460625 244.054187 \nL 321.460625 244.054187 \nL 331.460625 244.054187 \n\" style=\"fill: none; stroke: #ff7f0e; stroke-width: 1.5; stroke-linecap: square\"/>\n    </g>\n    <g id=\"text_17\">\n     <!-- $L^{\\max}$ = 2 -->\n     <g transform=\"translate(339.460625 247.554187) scale(0.1 -0.1)\">\n      <use xlink:href=\"#DejaVuSans-Oblique-4c\" transform=\"translate(0 0.51875)\"/>\n      <use xlink:href=\"#DejaVuSans-6d\" transform=\"translate(62.729661 38.8) scale(0.7)\"/>\n      <use xlink:href=\"#DejaVuSans-61\" transform=\"translate(130.918138 38.8) scale(0.7)\"/>\n      <use xlink:href=\"#DejaVuSans-78\" transform=\"translate(173.813646 38.8) scale(0.7)\"/>\n      <use xlink:href=\"#DejaVuSans-20\" transform=\"translate(217.973802 0.51875)\"/>\n      <use xlink:href=\"#DejaVuSans-3d\" transform=\"translate(249.760911 0.51875)\"/>\n      <use xlink:href=\"#DejaVuSans-20\" transform=\"translate(333.549974 0.51875)\"/>\n      <use xlink:href=\"#DejaVuSans-32\" transform=\"translate(365.337083 0.51875)\"/>\n     </g>\n    </g>\n    <g id=\"line2d_19\">\n     <path d=\"M 311.460625 258.732312 \nL 321.460625 258.732312 \nL 331.460625 258.732312 \n\" style=\"fill: none; stroke: #2ca02c; stroke-width: 1.5; stroke-linecap: square\"/>\n    </g>\n    <g id=\"text_18\">\n     <!-- $L^{\\max}$ = 4 -->\n     <g transform=\"translate(339.460625 262.232312) scale(0.1 -0.1)\">\n      <use xlink:href=\"#DejaVuSans-Oblique-4c\" transform=\"translate(0 0.51875)\"/>\n      <use xlink:href=\"#DejaVuSans-6d\" transform=\"translate(62.729661 38.8) scale(0.7)\"/>\n      <use xlink:href=\"#DejaVuSans-61\" transform=\"translate(130.918138 38.8) scale(0.7)\"/>\n      <use xlink:href=\"#DejaVuSans-78\" transform=\"translate(173.813646 38.8) scale(0.7)\"/>\n      <use xlink:href=\"#DejaVuSans-20\" transform=\"translate(217.973802 0.51875)\"/>\n      <use xlink:href=\"#DejaVuSans-3d\" transform=\"translate(249.760911 0.51875)\"/>\n      <use xlink:href=\"#DejaVuSans-20\" transform=\"translate(333.549974 0.51875)\"/>\n      <use xlink:href=\"#DejaVuSans-34\" transform=\"translate(365.337083 0.51875)\"/>\n     </g>\n    </g>\n   </g>\n  </g>\n </g>\n <defs>\n  <clipPath id=\"p190c2421db\">\n   <rect x=\"34.240625\" y=\"7.2\" width=\"357.12\" height=\"266.112\"/>\n  </clipPath>\n </defs>\n</svg>\n"
          },
          "metadata": {}
        }
      ],
      "source": [
        "# Plot trade-off curves for each leverage limit.\n",
        "for idx, L_val in enumerate(L_vals):\n",
        "    plt.plot(risk_data[idx, :], ret_data[idx, :], label=r\"$L^{\\max}$ = %d\" % L_val)\n",
        "for w_val in w_vals:\n",
        "    w.value = w_val\n",
        "    plt.plot(cp.sqrt(risk).value, ret.value, \"bs\")\n",
        "plt.xlabel(\"Standard deviation\")\n",
        "plt.ylabel(\"Return\")\n",
        "plt.legend(loc=\"lower right\")\n",
        "plt.show()"
      ]
    },
    {
      "cell_type": "markdown",
      "id": "ffdf6b64",
      "metadata": {
        "id": "ffdf6b64",
        "pycharm": {
          "name": "#%% md\n"
        }
      },
      "source": [
        "We next examine the points on each trade-off curve where $w^T\\Sigma w = 2$.\n",
        "We plot the amount of each asset held in each portfolio as bar graphs. (Negative holdings indicate a short position.)\n",
        "Notice that some assets are held in a long position for the low leverage portfolio but in a short position in the higher leverage portfolios."
      ]
    },
    {
      "cell_type": "code",
      "execution_count": null,
      "id": "89427565",
      "metadata": {
        "id": "89427565",
        "pycharm": {
          "name": "#%%\n"
        }
      },
      "outputs": [],
      "source": [
        "# Portfolio optimization with a leverage limit and a bound on risk.\n",
        "prob = cp.Problem(cp.Maximize(ret), [cp.sum(w) == 1, cp.norm(w, 1) <= Lmax, risk <= 2])"
      ]
    },
    {
      "cell_type": "code",
      "execution_count": null,
      "id": "f9b2fa40",
      "metadata": {
        "id": "f9b2fa40",
        "pycharm": {
          "name": "#%%\n"
        }
      },
      "outputs": [],
      "source": [
        "# Compute solution for different leverage limits.\n",
        "for k, L_val in enumerate(L_vals):\n",
        "    Lmax.value = L_val\n",
        "    prob.solve()\n",
        "    w_vals.append(w.value)"
      ]
    },
    {
      "cell_type": "code",
      "execution_count": null,
      "id": "27d0f733",
      "metadata": {
        "id": "27d0f733",
        "outputId": "26e6e45d-75de-45a1-a9a4-bd073dc985b7",
        "pycharm": {
          "name": "#%%\n"
        },
        "colab": {
          "base_uri": "https://localhost:8080/",
          "height": 443
        }
      },
      "outputs": [
        {
          "output_type": "display_data",
          "data": {
            "text/plain": [
              "<Figure size 640x480 with 1 Axes>"
            ],
            "image/svg+xml": "<?xml version=\"1.0\" encoding=\"utf-8\" standalone=\"no\"?>\n<!DOCTYPE svg PUBLIC \"-//W3C//DTD SVG 1.1//EN\"\n  \"http://www.w3.org/Graphics/SVG/1.1/DTD/svg11.dtd\">\n<svg xmlns:xlink=\"http://www.w3.org/1999/xlink\" width=\"422.287812pt\" height=\"316.675125pt\" viewBox=\"0 0 422.287812 316.675125\" xmlns=\"http://www.w3.org/2000/svg\" version=\"1.1\">\n <metadata>\n  <rdf:RDF xmlns:dc=\"http://purl.org/dc/elements/1.1/\" xmlns:cc=\"http://creativecommons.org/ns#\" xmlns:rdf=\"http://www.w3.org/1999/02/22-rdf-syntax-ns#\">\n   <cc:Work>\n    <dc:type rdf:resource=\"http://purl.org/dc/dcmitype/StillImage\"/>\n    <dc:date>2023-12-25T18:05:57.610727</dc:date>\n    <dc:format>image/svg+xml</dc:format>\n    <dc:creator>\n     <cc:Agent>\n      <dc:title>Matplotlib v3.7.1, https://matplotlib.org/</dc:title>\n     </cc:Agent>\n    </dc:creator>\n   </cc:Work>\n  </rdf:RDF>\n </metadata>\n <defs>\n  <style type=\"text/css\">*{stroke-linejoin: round; stroke-linecap: butt}</style>\n </defs>\n <g id=\"figure_1\">\n  <g id=\"patch_1\">\n   <path d=\"M 0 316.675125 \nL 422.287812 316.675125 \nL 422.287812 0 \nL 0 0 \nz\n\" style=\"fill: #ffffff\"/>\n  </g>\n  <g id=\"axes_1\">\n   <g id=\"patch_2\">\n    <path d=\"M 57.967813 273.312 \nL 415.087813 273.312 \nL 415.087813 7.2 \nL 57.967813 7.2 \nz\n\" style=\"fill: #ffffff\"/>\n   </g>\n   <g id=\"patch_3\">\n    <path d=\"M 53.389351 189.316391 \nL 62.546274 189.316391 \nL 62.546274 189.316391 \nL 53.389351 189.316391 \nz\n\" clip-path=\"url(#pcc66ba4c3e)\" style=\"fill: #0000ff\"/>\n   </g>\n   <g id=\"patch_4\">\n    <path d=\"M 90.017043 189.316391 \nL 99.173966 189.316391 \nL 99.173966 189.316391 \nL 90.017043 189.316391 \nz\n\" clip-path=\"url(#pcc66ba4c3e)\" style=\"fill: #0000ff\"/>\n   </g>\n   <g id=\"patch_5\">\n    <path d=\"M 126.644736 189.316391 \nL 135.801659 189.316391 \nL 135.801659 189.316391 \nL 126.644736 189.316391 \nz\n\" clip-path=\"url(#pcc66ba4c3e)\" style=\"fill: #0000ff\"/>\n   </g>\n   <g id=\"patch_6\">\n    <path d=\"M 163.272428 189.316391 \nL 172.429351 189.316391 \nL 172.429351 189.316391 \nL 163.272428 189.316391 \nz\n\" clip-path=\"url(#pcc66ba4c3e)\" style=\"fill: #0000ff\"/>\n   </g>\n   <g id=\"patch_7\">\n    <path d=\"M 199.90012 189.316391 \nL 209.057043 189.316391 \nL 209.057043 189.316391 \nL 199.90012 189.316391 \nz\n\" clip-path=\"url(#pcc66ba4c3e)\" style=\"fill: #0000ff\"/>\n   </g>\n   <g id=\"patch_8\">\n    <path d=\"M 236.527813 189.316391 \nL 245.684736 189.316391 \nL 245.684736 175.804406 \nL 236.527813 175.804406 \nz\n\" clip-path=\"url(#pcc66ba4c3e)\" style=\"fill: #0000ff\"/>\n   </g>\n   <g id=\"patch_9\">\n    <path d=\"M 273.155505 189.316391 \nL 282.312428 189.316391 \nL 282.312428 160.853988 \nL 273.155505 160.853988 \nz\n\" clip-path=\"url(#pcc66ba4c3e)\" style=\"fill: #0000ff\"/>\n   </g>\n   <g id=\"patch_10\">\n    <path d=\"M 309.783197 189.316391 \nL 318.94012 189.316391 \nL 318.94012 184.883427 \nL 309.783197 184.883427 \nz\n\" clip-path=\"url(#pcc66ba4c3e)\" style=\"fill: #0000ff\"/>\n   </g>\n   <g id=\"patch_11\">\n    <path d=\"M 346.410889 189.316391 \nL 355.567813 189.316391 \nL 355.567813 159.279891 \nL 346.410889 159.279891 \nz\n\" clip-path=\"url(#pcc66ba4c3e)\" style=\"fill: #0000ff\"/>\n   </g>\n   <g id=\"patch_12\">\n    <path d=\"M 383.038582 189.316391 \nL 392.195505 189.316391 \nL 392.195505 87.707352 \nL 383.038582 87.707352 \nz\n\" clip-path=\"url(#pcc66ba4c3e)\" style=\"fill: #0000ff\"/>\n   </g>\n   <g id=\"patch_13\">\n    <path d=\"M 62.546274 189.316391 \nL 71.703197 189.316391 \nL 71.703197 200.424891 \nL 62.546274 200.424891 \nz\n\" clip-path=\"url(#pcc66ba4c3e)\" style=\"fill: #008000\"/>\n   </g>\n   <g id=\"patch_14\">\n    <path d=\"M 99.173966 189.316391 \nL 108.330889 189.316391 \nL 108.330889 189.316392 \nL 99.173966 189.316392 \nz\n\" clip-path=\"url(#pcc66ba4c3e)\" style=\"fill: #008000\"/>\n   </g>\n   <g id=\"patch_15\">\n    <path d=\"M 135.801659 189.316391 \nL 144.958582 189.316391 \nL 144.958582 189.316392 \nL 135.801659 189.316392 \nz\n\" clip-path=\"url(#pcc66ba4c3e)\" style=\"fill: #008000\"/>\n   </g>\n   <g id=\"patch_16\">\n    <path d=\"M 172.429351 189.316391 \nL 181.586274 189.316391 \nL 181.586274 244.496068 \nL 172.429351 244.496068 \nz\n\" clip-path=\"url(#pcc66ba4c3e)\" style=\"fill: #008000\"/>\n   </g>\n   <g id=\"patch_17\">\n    <path d=\"M 209.057043 189.316391 \nL 218.213966 189.316391 \nL 218.213966 203.001171 \nL 209.057043 203.001171 \nz\n\" clip-path=\"url(#pcc66ba4c3e)\" style=\"fill: #008000\"/>\n   </g>\n   <g id=\"patch_18\">\n    <path d=\"M 245.684736 189.316391 \nL 254.841659 189.316391 \nL 254.841659 148.438046 \nL 245.684736 148.438046 \nz\n\" clip-path=\"url(#pcc66ba4c3e)\" style=\"fill: #008000\"/>\n   </g>\n   <g id=\"patch_19\">\n    <path d=\"M 282.312428 189.316391 \nL 291.469351 189.316391 \nL 291.469351 134.199566 \nL 282.312428 134.199566 \nz\n\" clip-path=\"url(#pcc66ba4c3e)\" style=\"fill: #008000\"/>\n   </g>\n   <g id=\"patch_20\">\n    <path d=\"M 318.94012 189.316391 \nL 328.097043 189.316391 \nL 328.097043 198.369883 \nL 318.94012 198.369883 \nz\n\" clip-path=\"url(#pcc66ba4c3e)\" style=\"fill: #008000\"/>\n   </g>\n   <g id=\"patch_21\">\n    <path d=\"M 355.567813 189.316391 \nL 364.724736 189.316391 \nL 364.724736 144.266424 \nL 355.567813 144.266424 \nz\n\" clip-path=\"url(#pcc66ba4c3e)\" style=\"fill: #008000\"/>\n   </g>\n   <g id=\"patch_22\">\n    <path d=\"M 392.195505 189.316391 \nL 401.352428 189.316391 \nL 401.352428 63.28219 \nL 392.195505 63.28219 \nz\n\" clip-path=\"url(#pcc66ba4c3e)\" style=\"fill: #008000\"/>\n   </g>\n   <g id=\"patch_23\">\n    <path d=\"M 71.703197 189.316391 \nL 80.86012 189.316391 \nL 80.86012 206.732437 \nL 71.703197 206.732437 \nz\n\" clip-path=\"url(#pcc66ba4c3e)\" style=\"fill: #ff0000\"/>\n   </g>\n   <g id=\"patch_24\">\n    <path d=\"M 108.330889 189.316391 \nL 117.487813 189.316391 \nL 117.487813 169.95072 \nL 108.330889 169.95072 \nz\n\" clip-path=\"url(#pcc66ba4c3e)\" style=\"fill: #ff0000\"/>\n   </g>\n   <g id=\"patch_25\">\n    <path d=\"M 144.958582 189.316391 \nL 154.115505 189.316391 \nL 154.115505 239.894703 \nL 144.958582 239.894703 \nz\n\" clip-path=\"url(#pcc66ba4c3e)\" style=\"fill: #ff0000\"/>\n   </g>\n   <g id=\"patch_26\">\n    <path d=\"M 181.586274 189.316391 \nL 190.743197 189.316391 \nL 190.743197 261.216 \nL 181.586274 261.216 \nz\n\" clip-path=\"url(#pcc66ba4c3e)\" style=\"fill: #ff0000\"/>\n   </g>\n   <g id=\"patch_27\">\n    <path d=\"M 218.213966 189.316391 \nL 227.370889 189.316391 \nL 227.370889 247.764124 \nL 218.213966 247.764124 \nz\n\" clip-path=\"url(#pcc66ba4c3e)\" style=\"fill: #ff0000\"/>\n   </g>\n   <g id=\"patch_28\">\n    <path d=\"M 254.841659 189.316391 \nL 263.998582 189.316391 \nL 263.998582 73.334535 \nL 254.841659 73.334535 \nz\n\" clip-path=\"url(#pcc66ba4c3e)\" style=\"fill: #ff0000\"/>\n   </g>\n   <g id=\"patch_29\">\n    <path d=\"M 291.469351 189.316391 \nL 300.626274 189.316391 \nL 300.626274 97.654817 \nL 291.469351 97.654817 \nz\n\" clip-path=\"url(#pcc66ba4c3e)\" style=\"fill: #ff0000\"/>\n   </g>\n   <g id=\"patch_30\">\n    <path d=\"M 328.097043 189.316391 \nL 337.253966 189.316391 \nL 337.253966 258.05403 \nL 328.097043 258.05403 \nz\n\" clip-path=\"url(#pcc66ba4c3e)\" style=\"fill: #ff0000\"/>\n   </g>\n   <g id=\"patch_31\">\n    <path d=\"M 364.724736 189.316391 \nL 373.881659 189.316391 \nL 373.881659 141.213656 \nL 364.724736 141.213656 \nz\n\" clip-path=\"url(#pcc66ba4c3e)\" style=\"fill: #ff0000\"/>\n   </g>\n   <g id=\"patch_32\">\n    <path d=\"M 401.352428 189.316391 \nL 410.509351 189.316391 \nL 410.509351 19.296 \nL 401.352428 19.296 \nz\n\" clip-path=\"url(#pcc66ba4c3e)\" style=\"fill: #ff0000\"/>\n   </g>\n   <g id=\"matplotlib.axis_1\">\n    <g id=\"xtick_1\">\n     <g id=\"line2d_1\">\n      <defs>\n       <path id=\"mbd6346b347\" d=\"M 0 0 \nL 0 3.5 \n\" style=\"stroke: #000000; stroke-width: 0.8\"/>\n      </defs>\n      <g>\n       <use xlink:href=\"#mbd6346b347\" x=\"71.703197\" y=\"273.312\" style=\"stroke: #000000; stroke-width: 0.8\"/>\n      </g>\n     </g>\n     <g id=\"text_1\">\n      <!-- 1 -->\n      <g transform=\"translate(68.521947 287.910437) scale(0.1 -0.1)\">\n       <defs>\n        <path id=\"DejaVuSans-31\" d=\"M 794 531 \nL 1825 531 \nL 1825 4091 \nL 703 3866 \nL 703 4441 \nL 1819 4666 \nL 2450 4666 \nL 2450 531 \nL 3481 531 \nL 3481 0 \nL 794 0 \nL 794 531 \nz\n\" transform=\"scale(0.015625)\"/>\n       </defs>\n       <use xlink:href=\"#DejaVuSans-31\"/>\n      </g>\n     </g>\n    </g>\n    <g id=\"xtick_2\">\n     <g id=\"line2d_2\">\n      <g>\n       <use xlink:href=\"#mbd6346b347\" x=\"108.330889\" y=\"273.312\" style=\"stroke: #000000; stroke-width: 0.8\"/>\n      </g>\n     </g>\n     <g id=\"text_2\">\n      <!-- 2 -->\n      <g transform=\"translate(105.149639 287.910437) scale(0.1 -0.1)\">\n       <defs>\n        <path id=\"DejaVuSans-32\" d=\"M 1228 531 \nL 3431 531 \nL 3431 0 \nL 469 0 \nL 469 531 \nQ 828 903 1448 1529 \nQ 2069 2156 2228 2338 \nQ 2531 2678 2651 2914 \nQ 2772 3150 2772 3378 \nQ 2772 3750 2511 3984 \nQ 2250 4219 1831 4219 \nQ 1534 4219 1204 4116 \nQ 875 4013 500 3803 \nL 500 4441 \nQ 881 4594 1212 4672 \nQ 1544 4750 1819 4750 \nQ 2544 4750 2975 4387 \nQ 3406 4025 3406 3419 \nQ 3406 3131 3298 2873 \nQ 3191 2616 2906 2266 \nQ 2828 2175 2409 1742 \nQ 1991 1309 1228 531 \nz\n\" transform=\"scale(0.015625)\"/>\n       </defs>\n       <use xlink:href=\"#DejaVuSans-32\"/>\n      </g>\n     </g>\n    </g>\n    <g id=\"xtick_3\">\n     <g id=\"line2d_3\">\n      <g>\n       <use xlink:href=\"#mbd6346b347\" x=\"144.958582\" y=\"273.312\" style=\"stroke: #000000; stroke-width: 0.8\"/>\n      </g>\n     </g>\n     <g id=\"text_3\">\n      <!-- 3 -->\n      <g transform=\"translate(141.777332 287.910437) scale(0.1 -0.1)\">\n       <defs>\n        <path id=\"DejaVuSans-33\" d=\"M 2597 2516 \nQ 3050 2419 3304 2112 \nQ 3559 1806 3559 1356 \nQ 3559 666 3084 287 \nQ 2609 -91 1734 -91 \nQ 1441 -91 1130 -33 \nQ 819 25 488 141 \nL 488 750 \nQ 750 597 1062 519 \nQ 1375 441 1716 441 \nQ 2309 441 2620 675 \nQ 2931 909 2931 1356 \nQ 2931 1769 2642 2001 \nQ 2353 2234 1838 2234 \nL 1294 2234 \nL 1294 2753 \nL 1863 2753 \nQ 2328 2753 2575 2939 \nQ 2822 3125 2822 3475 \nQ 2822 3834 2567 4026 \nQ 2313 4219 1838 4219 \nQ 1578 4219 1281 4162 \nQ 984 4106 628 3988 \nL 628 4550 \nQ 988 4650 1302 4700 \nQ 1616 4750 1894 4750 \nQ 2613 4750 3031 4423 \nQ 3450 4097 3450 3541 \nQ 3450 3153 3228 2886 \nQ 3006 2619 2597 2516 \nz\n\" transform=\"scale(0.015625)\"/>\n       </defs>\n       <use xlink:href=\"#DejaVuSans-33\"/>\n      </g>\n     </g>\n    </g>\n    <g id=\"xtick_4\">\n     <g id=\"line2d_4\">\n      <g>\n       <use xlink:href=\"#mbd6346b347\" x=\"181.586274\" y=\"273.312\" style=\"stroke: #000000; stroke-width: 0.8\"/>\n      </g>\n     </g>\n     <g id=\"text_4\">\n      <!-- 4 -->\n      <g transform=\"translate(178.405024 287.910437) scale(0.1 -0.1)\">\n       <defs>\n        <path id=\"DejaVuSans-34\" d=\"M 2419 4116 \nL 825 1625 \nL 2419 1625 \nL 2419 4116 \nz\nM 2253 4666 \nL 3047 4666 \nL 3047 1625 \nL 3713 1625 \nL 3713 1100 \nL 3047 1100 \nL 3047 0 \nL 2419 0 \nL 2419 1100 \nL 313 1100 \nL 313 1709 \nL 2253 4666 \nz\n\" transform=\"scale(0.015625)\"/>\n       </defs>\n       <use xlink:href=\"#DejaVuSans-34\"/>\n      </g>\n     </g>\n    </g>\n    <g id=\"xtick_5\">\n     <g id=\"line2d_5\">\n      <g>\n       <use xlink:href=\"#mbd6346b347\" x=\"218.213966\" y=\"273.312\" style=\"stroke: #000000; stroke-width: 0.8\"/>\n      </g>\n     </g>\n     <g id=\"text_5\">\n      <!-- 5 -->\n      <g transform=\"translate(215.032716 287.910437) scale(0.1 -0.1)\">\n       <defs>\n        <path id=\"DejaVuSans-35\" d=\"M 691 4666 \nL 3169 4666 \nL 3169 4134 \nL 1269 4134 \nL 1269 2991 \nQ 1406 3038 1543 3061 \nQ 1681 3084 1819 3084 \nQ 2600 3084 3056 2656 \nQ 3513 2228 3513 1497 \nQ 3513 744 3044 326 \nQ 2575 -91 1722 -91 \nQ 1428 -91 1123 -41 \nQ 819 9 494 109 \nL 494 744 \nQ 775 591 1075 516 \nQ 1375 441 1709 441 \nQ 2250 441 2565 725 \nQ 2881 1009 2881 1497 \nQ 2881 1984 2565 2268 \nQ 2250 2553 1709 2553 \nQ 1456 2553 1204 2497 \nQ 953 2441 691 2322 \nL 691 4666 \nz\n\" transform=\"scale(0.015625)\"/>\n       </defs>\n       <use xlink:href=\"#DejaVuSans-35\"/>\n      </g>\n     </g>\n    </g>\n    <g id=\"xtick_6\">\n     <g id=\"line2d_6\">\n      <g>\n       <use xlink:href=\"#mbd6346b347\" x=\"254.841659\" y=\"273.312\" style=\"stroke: #000000; stroke-width: 0.8\"/>\n      </g>\n     </g>\n     <g id=\"text_6\">\n      <!-- 6 -->\n      <g transform=\"translate(251.660409 287.910437) scale(0.1 -0.1)\">\n       <defs>\n        <path id=\"DejaVuSans-36\" d=\"M 2113 2584 \nQ 1688 2584 1439 2293 \nQ 1191 2003 1191 1497 \nQ 1191 994 1439 701 \nQ 1688 409 2113 409 \nQ 2538 409 2786 701 \nQ 3034 994 3034 1497 \nQ 3034 2003 2786 2293 \nQ 2538 2584 2113 2584 \nz\nM 3366 4563 \nL 3366 3988 \nQ 3128 4100 2886 4159 \nQ 2644 4219 2406 4219 \nQ 1781 4219 1451 3797 \nQ 1122 3375 1075 2522 \nQ 1259 2794 1537 2939 \nQ 1816 3084 2150 3084 \nQ 2853 3084 3261 2657 \nQ 3669 2231 3669 1497 \nQ 3669 778 3244 343 \nQ 2819 -91 2113 -91 \nQ 1303 -91 875 529 \nQ 447 1150 447 2328 \nQ 447 3434 972 4092 \nQ 1497 4750 2381 4750 \nQ 2619 4750 2861 4703 \nQ 3103 4656 3366 4563 \nz\n\" transform=\"scale(0.015625)\"/>\n       </defs>\n       <use xlink:href=\"#DejaVuSans-36\"/>\n      </g>\n     </g>\n    </g>\n    <g id=\"xtick_7\">\n     <g id=\"line2d_7\">\n      <g>\n       <use xlink:href=\"#mbd6346b347\" x=\"291.469351\" y=\"273.312\" style=\"stroke: #000000; stroke-width: 0.8\"/>\n      </g>\n     </g>\n     <g id=\"text_7\">\n      <!-- 7 -->\n      <g transform=\"translate(288.288101 287.910437) scale(0.1 -0.1)\">\n       <defs>\n        <path id=\"DejaVuSans-37\" d=\"M 525 4666 \nL 3525 4666 \nL 3525 4397 \nL 1831 0 \nL 1172 0 \nL 2766 4134 \nL 525 4134 \nL 525 4666 \nz\n\" transform=\"scale(0.015625)\"/>\n       </defs>\n       <use xlink:href=\"#DejaVuSans-37\"/>\n      </g>\n     </g>\n    </g>\n    <g id=\"xtick_8\">\n     <g id=\"line2d_8\">\n      <g>\n       <use xlink:href=\"#mbd6346b347\" x=\"328.097043\" y=\"273.312\" style=\"stroke: #000000; stroke-width: 0.8\"/>\n      </g>\n     </g>\n     <g id=\"text_8\">\n      <!-- 8 -->\n      <g transform=\"translate(324.915793 287.910437) scale(0.1 -0.1)\">\n       <defs>\n        <path id=\"DejaVuSans-38\" d=\"M 2034 2216 \nQ 1584 2216 1326 1975 \nQ 1069 1734 1069 1313 \nQ 1069 891 1326 650 \nQ 1584 409 2034 409 \nQ 2484 409 2743 651 \nQ 3003 894 3003 1313 \nQ 3003 1734 2745 1975 \nQ 2488 2216 2034 2216 \nz\nM 1403 2484 \nQ 997 2584 770 2862 \nQ 544 3141 544 3541 \nQ 544 4100 942 4425 \nQ 1341 4750 2034 4750 \nQ 2731 4750 3128 4425 \nQ 3525 4100 3525 3541 \nQ 3525 3141 3298 2862 \nQ 3072 2584 2669 2484 \nQ 3125 2378 3379 2068 \nQ 3634 1759 3634 1313 \nQ 3634 634 3220 271 \nQ 2806 -91 2034 -91 \nQ 1263 -91 848 271 \nQ 434 634 434 1313 \nQ 434 1759 690 2068 \nQ 947 2378 1403 2484 \nz\nM 1172 3481 \nQ 1172 3119 1398 2916 \nQ 1625 2713 2034 2713 \nQ 2441 2713 2670 2916 \nQ 2900 3119 2900 3481 \nQ 2900 3844 2670 4047 \nQ 2441 4250 2034 4250 \nQ 1625 4250 1398 4047 \nQ 1172 3844 1172 3481 \nz\n\" transform=\"scale(0.015625)\"/>\n       </defs>\n       <use xlink:href=\"#DejaVuSans-38\"/>\n      </g>\n     </g>\n    </g>\n    <g id=\"xtick_9\">\n     <g id=\"line2d_9\">\n      <g>\n       <use xlink:href=\"#mbd6346b347\" x=\"364.724736\" y=\"273.312\" style=\"stroke: #000000; stroke-width: 0.8\"/>\n      </g>\n     </g>\n     <g id=\"text_9\">\n      <!-- 9 -->\n      <g transform=\"translate(361.543486 287.910437) scale(0.1 -0.1)\">\n       <defs>\n        <path id=\"DejaVuSans-39\" d=\"M 703 97 \nL 703 672 \nQ 941 559 1184 500 \nQ 1428 441 1663 441 \nQ 2288 441 2617 861 \nQ 2947 1281 2994 2138 \nQ 2813 1869 2534 1725 \nQ 2256 1581 1919 1581 \nQ 1219 1581 811 2004 \nQ 403 2428 403 3163 \nQ 403 3881 828 4315 \nQ 1253 4750 1959 4750 \nQ 2769 4750 3195 4129 \nQ 3622 3509 3622 2328 \nQ 3622 1225 3098 567 \nQ 2575 -91 1691 -91 \nQ 1453 -91 1209 -44 \nQ 966 3 703 97 \nz\nM 1959 2075 \nQ 2384 2075 2632 2365 \nQ 2881 2656 2881 3163 \nQ 2881 3666 2632 3958 \nQ 2384 4250 1959 4250 \nQ 1534 4250 1286 3958 \nQ 1038 3666 1038 3163 \nQ 1038 2656 1286 2365 \nQ 1534 2075 1959 2075 \nz\n\" transform=\"scale(0.015625)\"/>\n       </defs>\n       <use xlink:href=\"#DejaVuSans-39\"/>\n      </g>\n     </g>\n    </g>\n    <g id=\"xtick_10\">\n     <g id=\"line2d_10\">\n      <g>\n       <use xlink:href=\"#mbd6346b347\" x=\"401.352428\" y=\"273.312\" style=\"stroke: #000000; stroke-width: 0.8\"/>\n      </g>\n     </g>\n     <g id=\"text_10\">\n      <!-- 10 -->\n      <g transform=\"translate(394.989928 287.910437) scale(0.1 -0.1)\">\n       <defs>\n        <path id=\"DejaVuSans-30\" d=\"M 2034 4250 \nQ 1547 4250 1301 3770 \nQ 1056 3291 1056 2328 \nQ 1056 1369 1301 889 \nQ 1547 409 2034 409 \nQ 2525 409 2770 889 \nQ 3016 1369 3016 2328 \nQ 3016 3291 2770 3770 \nQ 2525 4250 2034 4250 \nz\nM 2034 4750 \nQ 2819 4750 3233 4129 \nQ 3647 3509 3647 2328 \nQ 3647 1150 3233 529 \nQ 2819 -91 2034 -91 \nQ 1250 -91 836 529 \nQ 422 1150 422 2328 \nQ 422 3509 836 4129 \nQ 1250 4750 2034 4750 \nz\n\" transform=\"scale(0.015625)\"/>\n       </defs>\n       <use xlink:href=\"#DejaVuSans-31\"/>\n       <use xlink:href=\"#DejaVuSans-30\" x=\"63.623047\"/>\n      </g>\n     </g>\n    </g>\n    <g id=\"text_11\">\n     <!-- $i$ -->\n     <g transform=\"translate(234.287813 306.147625) scale(0.16 -0.16)\">\n      <defs>\n       <path id=\"DejaVuSans-Oblique-69\" d=\"M 1172 4863 \nL 1747 4863 \nL 1606 4134 \nL 1031 4134 \nL 1172 4863 \nz\nM 909 3500 \nL 1484 3500 \nL 800 0 \nL 225 0 \nL 909 3500 \nz\n\" transform=\"scale(0.015625)\"/>\n      </defs>\n      <use xlink:href=\"#DejaVuSans-Oblique-69\" transform=\"translate(0 0.015625)\"/>\n     </g>\n    </g>\n   </g>\n   <g id=\"matplotlib.axis_2\">\n    <g id=\"ytick_1\">\n     <g id=\"line2d_11\">\n      <defs>\n       <path id=\"mf61439402b\" d=\"M 0 0 \nL -3.5 0 \n\" style=\"stroke: #000000; stroke-width: 0.8\"/>\n      </defs>\n      <g>\n       <use xlink:href=\"#mf61439402b\" x=\"57.967813\" y=\"260.537549\" style=\"stroke: #000000; stroke-width: 0.8\"/>\n      </g>\n     </g>\n     <g id=\"text_12\">\n      <!-- −0.4 -->\n      <g transform=\"translate(26.685 264.336768) scale(0.1 -0.1)\">\n       <defs>\n        <path id=\"DejaVuSans-2212\" d=\"M 678 2272 \nL 4684 2272 \nL 4684 1741 \nL 678 1741 \nL 678 2272 \nz\n\" transform=\"scale(0.015625)\"/>\n        <path id=\"DejaVuSans-2e\" d=\"M 684 794 \nL 1344 794 \nL 1344 0 \nL 684 0 \nL 684 794 \nz\n\" transform=\"scale(0.015625)\"/>\n       </defs>\n       <use xlink:href=\"#DejaVuSans-2212\"/>\n       <use xlink:href=\"#DejaVuSans-30\" x=\"83.789062\"/>\n       <use xlink:href=\"#DejaVuSans-2e\" x=\"147.412109\"/>\n       <use xlink:href=\"#DejaVuSans-34\" x=\"179.199219\"/>\n      </g>\n     </g>\n    </g>\n    <g id=\"ytick_2\">\n     <g id=\"line2d_12\">\n      <g>\n       <use xlink:href=\"#mf61439402b\" x=\"57.967813\" y=\"224.92697\" style=\"stroke: #000000; stroke-width: 0.8\"/>\n      </g>\n     </g>\n     <g id=\"text_13\">\n      <!-- −0.2 -->\n      <g transform=\"translate(26.685 228.726189) scale(0.1 -0.1)\">\n       <use xlink:href=\"#DejaVuSans-2212\"/>\n       <use xlink:href=\"#DejaVuSans-30\" x=\"83.789062\"/>\n       <use xlink:href=\"#DejaVuSans-2e\" x=\"147.412109\"/>\n       <use xlink:href=\"#DejaVuSans-32\" x=\"179.199219\"/>\n      </g>\n     </g>\n    </g>\n    <g id=\"ytick_3\">\n     <g id=\"line2d_13\">\n      <g>\n       <use xlink:href=\"#mf61439402b\" x=\"57.967813\" y=\"189.316391\" style=\"stroke: #000000; stroke-width: 0.8\"/>\n      </g>\n     </g>\n     <g id=\"text_14\">\n      <!-- 0.0 -->\n      <g transform=\"translate(35.064687 193.11561) scale(0.1 -0.1)\">\n       <use xlink:href=\"#DejaVuSans-30\"/>\n       <use xlink:href=\"#DejaVuSans-2e\" x=\"63.623047\"/>\n       <use xlink:href=\"#DejaVuSans-30\" x=\"95.410156\"/>\n      </g>\n     </g>\n    </g>\n    <g id=\"ytick_4\">\n     <g id=\"line2d_14\">\n      <g>\n       <use xlink:href=\"#mf61439402b\" x=\"57.967813\" y=\"153.705813\" style=\"stroke: #000000; stroke-width: 0.8\"/>\n      </g>\n     </g>\n     <g id=\"text_15\">\n      <!-- 0.2 -->\n      <g transform=\"translate(35.064687 157.505032) scale(0.1 -0.1)\">\n       <use xlink:href=\"#DejaVuSans-30\"/>\n       <use xlink:href=\"#DejaVuSans-2e\" x=\"63.623047\"/>\n       <use xlink:href=\"#DejaVuSans-32\" x=\"95.410156\"/>\n      </g>\n     </g>\n    </g>\n    <g id=\"ytick_5\">\n     <g id=\"line2d_15\">\n      <g>\n       <use xlink:href=\"#mf61439402b\" x=\"57.967813\" y=\"118.095234\" style=\"stroke: #000000; stroke-width: 0.8\"/>\n      </g>\n     </g>\n     <g id=\"text_16\">\n      <!-- 0.4 -->\n      <g transform=\"translate(35.064687 121.894453) scale(0.1 -0.1)\">\n       <use xlink:href=\"#DejaVuSans-30\"/>\n       <use xlink:href=\"#DejaVuSans-2e\" x=\"63.623047\"/>\n       <use xlink:href=\"#DejaVuSans-34\" x=\"95.410156\"/>\n      </g>\n     </g>\n    </g>\n    <g id=\"ytick_6\">\n     <g id=\"line2d_16\">\n      <g>\n       <use xlink:href=\"#mf61439402b\" x=\"57.967813\" y=\"82.484655\" style=\"stroke: #000000; stroke-width: 0.8\"/>\n      </g>\n     </g>\n     <g id=\"text_17\">\n      <!-- 0.6 -->\n      <g transform=\"translate(35.064687 86.283874) scale(0.1 -0.1)\">\n       <use xlink:href=\"#DejaVuSans-30\"/>\n       <use xlink:href=\"#DejaVuSans-2e\" x=\"63.623047\"/>\n       <use xlink:href=\"#DejaVuSans-36\" x=\"95.410156\"/>\n      </g>\n     </g>\n    </g>\n    <g id=\"ytick_7\">\n     <g id=\"line2d_17\">\n      <g>\n       <use xlink:href=\"#mf61439402b\" x=\"57.967813\" y=\"46.874077\" style=\"stroke: #000000; stroke-width: 0.8\"/>\n      </g>\n     </g>\n     <g id=\"text_18\">\n      <!-- 0.8 -->\n      <g transform=\"translate(35.064687 50.673295) scale(0.1 -0.1)\">\n       <use xlink:href=\"#DejaVuSans-30\"/>\n       <use xlink:href=\"#DejaVuSans-2e\" x=\"63.623047\"/>\n       <use xlink:href=\"#DejaVuSans-38\" x=\"95.410156\"/>\n      </g>\n     </g>\n    </g>\n    <g id=\"ytick_8\">\n     <g id=\"line2d_18\">\n      <g>\n       <use xlink:href=\"#mf61439402b\" x=\"57.967813\" y=\"11.263498\" style=\"stroke: #000000; stroke-width: 0.8\"/>\n      </g>\n     </g>\n     <g id=\"text_19\">\n      <!-- 1.0 -->\n      <g transform=\"translate(35.064687 15.062717) scale(0.1 -0.1)\">\n       <use xlink:href=\"#DejaVuSans-31\"/>\n       <use xlink:href=\"#DejaVuSans-2e\" x=\"63.623047\"/>\n       <use xlink:href=\"#DejaVuSans-30\" x=\"95.410156\"/>\n      </g>\n     </g>\n    </g>\n    <g id=\"text_20\">\n     <!-- $w_i$ -->\n     <g transform=\"translate(19.3575 148.576) rotate(-90) scale(0.16 -0.16)\">\n      <defs>\n       <path id=\"DejaVuSans-Oblique-77\" d=\"M 544 3500 \nL 1113 3500 \nL 1259 684 \nL 2566 3500 \nL 3231 3500 \nL 3425 684 \nL 4666 3500 \nL 5241 3500 \nL 3641 0 \nL 2969 0 \nL 2797 2900 \nL 1459 0 \nL 781 0 \nL 544 3500 \nz\n\" transform=\"scale(0.015625)\"/>\n      </defs>\n      <use xlink:href=\"#DejaVuSans-Oblique-77\" transform=\"translate(0 0.3125)\"/>\n      <use xlink:href=\"#DejaVuSans-Oblique-69\" transform=\"translate(81.787109 -16.09375) scale(0.7)\"/>\n     </g>\n    </g>\n   </g>\n   <g id=\"patch_33\">\n    <path d=\"M 57.967813 273.312 \nL 57.967813 7.2 \n\" style=\"fill: none; stroke: #000000; stroke-width: 0.8; stroke-linejoin: miter; stroke-linecap: square\"/>\n   </g>\n   <g id=\"patch_34\">\n    <path d=\"M 415.087813 273.312 \nL 415.087813 7.2 \n\" style=\"fill: none; stroke: #000000; stroke-width: 0.8; stroke-linejoin: miter; stroke-linecap: square\"/>\n   </g>\n   <g id=\"patch_35\">\n    <path d=\"M 57.967813 273.312 \nL 415.087813 273.312 \n\" style=\"fill: none; stroke: #000000; stroke-width: 0.8; stroke-linejoin: miter; stroke-linecap: square\"/>\n   </g>\n   <g id=\"patch_36\">\n    <path d=\"M 57.967813 7.2 \nL 415.087813 7.2 \n\" style=\"fill: none; stroke: #000000; stroke-width: 0.8; stroke-linejoin: miter; stroke-linecap: square\"/>\n   </g>\n  </g>\n </g>\n <defs>\n  <clipPath id=\"pcc66ba4c3e\">\n   <rect x=\"57.967813\" y=\"7.2\" width=\"357.12\" height=\"266.112\"/>\n  </clipPath>\n </defs>\n</svg>\n"
          },
          "metadata": {}
        }
      ],
      "source": [
        "# Plot bar graph of holdings for different leverage limits.\n",
        "colors = [\"b\", \"g\", \"r\"]\n",
        "indices = np.argsort(mu.flatten())\n",
        "for idx, L_val in enumerate(L_vals):\n",
        "    plt.bar(\n",
        "        np.arange(1, n + 1) + 0.25 * idx - 0.375,\n",
        "        w_vals[idx][indices],\n",
        "        color=colors[idx],\n",
        "        label=r\"$L^{\\max}$ = %d\" % L_val,\n",
        "        width=0.25,\n",
        "    )\n",
        "plt.ylabel(r\"$w_i$\", fontsize=16)\n",
        "plt.xlabel(r\"$i$\", fontsize=16)\n",
        "plt.xlim([1 - 0.375, 10 + 0.375])\n",
        "plt.xticks(np.arange(1, n + 1))\n",
        "plt.show()"
      ]
    },
    {
      "cell_type": "markdown",
      "id": "cc4bb526",
      "metadata": {
        "id": "cc4bb526",
        "pycharm": {
          "name": "#%% md\n"
        }
      },
      "source": [
        "#### Variations\n",
        "\n",
        "There are many more variations of classical portfolio optimization. We might require that $\\mu^T w \\geq R^\\mathrm{min}$ and minimize $w^T \\Sigma w$ or $\\|\\Sigma ^{1/2} w\\|_2$.\n",
        "We could include the (broker) cost of short positions as the penalty $s^T (w)_-$ for some $s \\geq 0$.\n",
        "We could include transaction costs (from a previous portfolio $w^\\mathrm{prev}$) as the penalty\n",
        "\n",
        "$$\n",
        "\\kappa ^T |w-w^\\mathrm{prev}|^\\eta, \\quad\n",
        "\\kappa \\geq 0.\n",
        "$$\n",
        "\n",
        "\n",
        "Common values of $\\eta$ are $\\eta =1, ~ 3/2, ~2$.\n"
      ]
    },
    {
      "cell_type": "markdown",
      "id": "ae59a309",
      "metadata": {
        "id": "ae59a309",
        "pycharm": {
          "name": "#%% md\n"
        }
      },
      "source": [
        "#### Factor covariance model\n",
        "\n",
        "A particularly common and useful variation is to model the covariance matrix $\\Sigma$ as a factor model\n",
        "\n",
        "$$\n",
        "\\Sigma  =  F \\tilde \\Sigma F^T + D,\n",
        "$$\n",
        "\n",
        "where  $F \\in {\\bf R}^{n \\times k}$, $k \\ll n$ is the *factor loading matrix*. $k$ is the number of factors (or sectors) (typically 10s). $F_{ij}$ is the loading of asset $i$ to factor $j$.\n",
        "$D$ is a diagonal matrix; $D_{ii}>0$ is the *idiosyncratic risk*. $\\tilde \\Sigma > 0$ is the *factor covariance matrix*.\n",
        "\n",
        "$F^Tw \\in {\\bf R}^k$ gives the portfolio *factor exposures*. A portfolio is *factor $j$ neutral* if $(F^Tw)_j=0$.\n"
      ]
    },
    {
      "cell_type": "markdown",
      "id": "565fd705",
      "metadata": {
        "id": "565fd705",
        "pycharm": {
          "name": "#%% md\n"
        }
      },
      "source": [
        "#### Portfolio optimization with factor covariance model\n",
        "\n",
        "Using the factor covariance model, we frame the portfolio optimization problem as\n",
        "\n",
        "\\begin{array}{ll} \\mbox{maximize} & \\mu^T w - \\gamma \\left(f^T \\tilde \\Sigma f  + w^TDw \\right) \\\\\n",
        "\\mbox{subject to} & {\\bf 1}^T w = 1, \\quad f=F^Tw\\\\\n",
        "& w \\in {\\cal W}, \\quad f \\in {\\cal F},\n",
        "\\end{array}\n",
        "\n",
        "where the variables are the allocations $w \\in {\\bf R}^n$ and factor exposures $f\\in {\\bf R}^k$ and $\\cal F$ gives the factor exposure constraints.\n",
        "\n",
        "Using the factor covariance model in the optimization problem has a computational advantage. The solve time is $O(nk^2)$ versus $O(n^3)$ for the standard problem."
      ]
    },
    {
      "cell_type": "markdown",
      "id": "0f69091b",
      "metadata": {
        "id": "0f69091b",
        "pycharm": {
          "name": "#%% md\n"
        }
      },
      "source": [
        "#### Example 3\n",
        "\n",
        "In the following code we generate and solve a portfolio optimization problem with 50 factors and 3000 assets.\n",
        "We set the leverage limit $=2$ and $\\gamma=0.1$.\n",
        "\n",
        "We solve the problem both with the covariance given as a single matrix and as a factor model.\n",
        "Using CVXPY with the OSQP solver running in a single thread, the solve time was 173.30 seconds for the single matrix formulation and 0.85 seconds for the factor model formulation.\n",
        "We collected the timings on a MacBook Air with an Intel Core i7 processor."
      ]
    },
    {
      "cell_type": "code",
      "execution_count": null,
      "id": "4095c104",
      "metadata": {
        "id": "4095c104",
        "pycharm": {
          "name": "#%%\n"
        }
      },
      "outputs": [],
      "source": [
        "# Generate data for factor model.\n",
        "n = 3000\n",
        "m = 50\n",
        "np.random.seed(1)\n",
        "mu = np.abs(np.random.randn(n, 1))\n",
        "Sigma_tilde = np.random.randn(m, m)\n",
        "Sigma_tilde = Sigma_tilde.T.dot(Sigma_tilde)\n",
        "D = sp.diags(np.random.uniform(0, 0.9, size=n))\n",
        "F = np.random.randn(n, m)"
      ]
    },
    {
      "cell_type": "code",
      "execution_count": null,
      "id": "b4baacbd",
      "metadata": {
        "id": "b4baacbd",
        "outputId": "68792cee-2cee-475f-f0b5-88bd58329d1b",
        "pycharm": {
          "name": "#%%\n"
        },
        "colab": {
          "base_uri": "https://localhost:8080/"
        }
      },
      "outputs": [
        {
          "output_type": "stream",
          "name": "stdout",
          "text": [
            "===============================================================================\n",
            "                                     CVXPY                                     \n",
            "                                     v1.3.2                                    \n",
            "===============================================================================\n",
            "(CVXPY) Dec 25 06:06:04 PM: Your problem has 3050 variables, 3 constraints, and 2 parameters.\n",
            "(CVXPY) Dec 25 06:06:04 PM: It is compliant with the following grammars: DCP, DQCP\n",
            "(CVXPY) Dec 25 06:06:04 PM: CVXPY will first compile your problem; then, it will invoke a numerical solver to obtain a solution.\n",
            "-------------------------------------------------------------------------------\n",
            "                                  Compilation                                  \n",
            "-------------------------------------------------------------------------------\n",
            "(CVXPY) Dec 25 06:06:04 PM: Compiling problem (target solver=OSQP).\n",
            "(CVXPY) Dec 25 06:06:04 PM: Reduction chain: FlipObjective -> CvxAttr2Constr -> Qp2SymbolicQp -> QpMatrixStuffing -> OSQP\n",
            "(CVXPY) Dec 25 06:06:04 PM: Applying reduction FlipObjective\n",
            "(CVXPY) Dec 25 06:06:04 PM: Applying reduction CvxAttr2Constr\n",
            "(CVXPY) Dec 25 06:06:04 PM: Applying reduction Qp2SymbolicQp\n",
            "(CVXPY) Dec 25 06:06:04 PM: Applying reduction QpMatrixStuffing\n",
            "(CVXPY) Dec 25 06:06:04 PM: Applying reduction OSQP\n",
            "(CVXPY) Dec 25 06:06:04 PM: Finished problem compilation (took 1.266e-01 seconds).\n",
            "(CVXPY) Dec 25 06:06:04 PM: (Subsequent compilations of this problem, using the same arguments, should take less time.)\n",
            "-------------------------------------------------------------------------------\n",
            "                                Numerical solver                               \n",
            "-------------------------------------------------------------------------------\n",
            "(CVXPY) Dec 25 06:06:04 PM: Invoking solver OSQP  to obtain a solution.\n",
            "-----------------------------------------------------------------\n",
            "           OSQP v0.6.2  -  Operator Splitting QP Solver\n",
            "              (c) Bartolomeo Stellato,  Goran Banjac\n",
            "        University of Oxford  -  Stanford University 2021\n",
            "-----------------------------------------------------------------\n",
            "problem:  variables n = 9050, constraints m = 9052\n",
            "          nnz(P) + nnz(A) = 178325\n",
            "settings: linear system solver = qdldl,\n",
            "          eps_abs = 1.0e-05, eps_rel = 1.0e-05,\n",
            "          eps_prim_inf = 1.0e-04, eps_dual_inf = 1.0e-04,\n",
            "          rho = 1.00e-01 (adaptive),\n",
            "          sigma = 1.00e-06, alpha = 1.60, max_iter = 10000\n",
            "          check_termination: on (interval 25),\n",
            "          scaling: on, scaled_termination: off\n",
            "          warm start: on, polish: on, time_limit: off\n",
            "\n",
            "iter   objective    pri res    dua res    rho        time\n",
            "   1  -2.1363e+03   7.63e+00   3.73e+02   1.00e-01   7.10e-02s\n",
            " 200  -4.2091e+00   2.19e-03   7.84e-03   3.56e-01   4.38e-01s\n",
            " 400  -4.6228e+00   3.07e-04   5.76e-04   3.56e-01   7.54e-01s\n",
            " 600  -4.6427e+00   2.23e-04   8.76e-04   3.56e-01   1.07e+00s\n",
            " 800  -4.6215e+00   1.14e-04   4.97e-04   3.56e-01   1.38e+00s\n",
            "1000  -4.6214e+00   8.78e-05   1.06e-04   3.56e-01   1.70e+00s\n",
            "1200  -4.6204e+00   8.58e-05   9.26e-06   3.56e-01   2.02e+00s\n",
            "1400  -4.6138e+00   6.70e-05   2.37e-04   3.56e-01   2.34e+00s\n",
            "1600  -4.6067e+00   2.86e-05   1.19e-04   3.56e-01   2.65e+00s\n",
            "1675  -4.6051e+00   1.91e-05   3.72e-05   3.56e-01   2.77e+00s\n",
            "\n",
            "status:               solved\n",
            "solution polish:      unsuccessful\n",
            "number of iterations: 1675\n",
            "optimal objective:    -4.6051\n",
            "run time:             2.82e+00s\n",
            "optimal rho estimate: 3.20e-01\n",
            "\n",
            "-------------------------------------------------------------------------------\n",
            "                                    Summary                                    \n",
            "-------------------------------------------------------------------------------\n",
            "(CVXPY) Dec 25 06:06:07 PM: Problem status: optimal\n",
            "(CVXPY) Dec 25 06:06:07 PM: Optimal value: 4.605e+00\n",
            "(CVXPY) Dec 25 06:06:07 PM: Compilation took 1.266e-01 seconds\n",
            "(CVXPY) Dec 25 06:06:07 PM: Solver (including time spent in interface) took 2.843e+00 seconds\n"
          ]
        },
        {
          "output_type": "execute_result",
          "data": {
            "text/plain": [
              "4.605102865930337"
            ]
          },
          "metadata": {},
          "execution_count": 60
        }
      ],
      "source": [
        "# Factor model portfolio optimization.\n",
        "w = cp.Variable(n)\n",
        "f = cp.Variable(m)\n",
        "gamma = cp.Parameter(nonneg=True)\n",
        "Lmax = cp.Parameter()\n",
        "ret = mu.T @ w\n",
        "risk = cp.quad_form(f, Sigma_tilde) + cp.sum_squares(np.sqrt(D) @ w)\n",
        "prob_factor = cp.Problem(\n",
        "    cp.Maximize(ret - gamma * risk),\n",
        "    [cp.sum(w) == 1, f == F.T @ w, cp.norm(w, 1) <= Lmax],\n",
        ")\n",
        "\n",
        "# Solve the factor model problem.\n",
        "Lmax.value = 2\n",
        "gamma.value = 0.1\n",
        "prob_factor.solve(verbose=True)"
      ]
    }
  ],
  "metadata": {
    "hide_input": false,
    "kernelspec": {
      "display_name": "Python 3 (ipykernel)",
      "language": "python",
      "name": "python3"
    },
    "language_info": {
      "codemirror_mode": {
        "name": "ipython",
        "version": 3
      },
      "file_extension": ".py",
      "mimetype": "text/x-python",
      "name": "python",
      "nbconvert_exporter": "python",
      "pygments_lexer": "ipython3",
      "version": "3.8.8"
    },
    "toc": {
      "base_numbering": 1,
      "nav_menu": {},
      "number_sections": true,
      "sideBar": true,
      "skip_h1_title": false,
      "title_cell": "Table of Contents",
      "title_sidebar": "Contents",
      "toc_cell": true,
      "toc_position": {
        "height": "calc(100% - 180px)",
        "left": "10px",
        "top": "150px",
        "width": "301.016px"
      },
      "toc_section_display": true,
      "toc_window_display": true
    },
    "colab": {
      "provenance": []
    }
  },
  "nbformat": 4,
  "nbformat_minor": 5
}