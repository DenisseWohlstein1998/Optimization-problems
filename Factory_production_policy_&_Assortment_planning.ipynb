{
  "cells": [
    {
      "cell_type": "markdown",
      "metadata": {
        "id": "9e3bd4d6"
      },
      "source": [
        "# Imports"
      ],
      "id": "9e3bd4d6"
    },
    {
      "cell_type": "code",
      "execution_count": null,
      "metadata": {
        "colab": {
          "base_uri": "https://localhost:8080/"
        },
        "id": "528b2e2d",
        "outputId": "526e48b6-f286-4791-879b-2641dcb8dce5"
      },
      "outputs": [
        {
          "output_type": "stream",
          "name": "stdout",
          "text": [
            "Mounted at /content/drive\n"
          ]
        }
      ],
      "source": [
        "import os\n",
        "import os.path\n",
        "import time\n",
        "\n",
        "import numpy as np\n",
        "import pandas as pd\n",
        "import seaborn as sns\n",
        "import matplotlib.pyplot as plt\n",
        "\n",
        "import tensorflow as tf\n",
        "import cvxpy as cp\n",
        "\n",
        "from google.colab import drive\n",
        "drive.mount('/content/drive')"
      ],
      "id": "528b2e2d"
    },
    {
      "cell_type": "code",
      "execution_count": null,
      "metadata": {
        "colab": {
          "base_uri": "https://localhost:8080/",
          "height": 35
        },
        "id": "4acc2627",
        "outputId": "3add04b9-e1b9-4d76-b528-2038bd43f506"
      },
      "outputs": [
        {
          "output_type": "execute_result",
          "data": {
            "text/plain": [
              "'/content'"
            ],
            "application/vnd.google.colaboratory.intrinsic+json": {
              "type": "string"
            }
          },
          "metadata": {},
          "execution_count": 2
        }
      ],
      "source": [
        "os.getcwd()"
      ],
      "id": "4acc2627"
    },
    {
      "cell_type": "markdown",
      "id": "d6520f35",
      "metadata": {
        "id": "d6520f35"
      },
      "source": [
        "# <a href=\"https://www.sciencedirect.com/science/article/pii/S2405896316308916\">Factory Production Policy</a>\n",
        "<br>\n",
        "<font size=\"+1\">\n",
        "    <ul>\n",
        "        <li>Assume a small factory can make two products. The following table summarizes the required inputs to produce each product, and the associated profit per unit sold.</li>\n",
        "        <br>\n",
        "        <li><table>\n",
        "  <tr>\n",
        "    <th></th>\n",
        "    <th>Product 1</th>\n",
        "    <th>Product 2</th>\n",
        "  </tr>\n",
        "  <tr>\n",
        "    <td>Steel</td>\n",
        "    <td>4 kg</td>\n",
        "    <td>1 kg</td>\n",
        "  </tr>\n",
        "  <tr>\n",
        "    <td>Plastic</td>\n",
        "    <td>0 kg</td>\n",
        "    <td>2 kg</td>\n",
        "  </tr>\n",
        "  <tr>\n",
        "    <td>Labor</td>\n",
        "    <td>1 hour</td>\n",
        "    <td>1 hour</td>\n",
        "  </tr>\n",
        "            <tr>\n",
        "    <td>Profit</td>\n",
        "    <td>\\$100</td>\n",
        "    <td>\\$200</td>\n",
        "  </tr>\n",
        "            </table></li>\n",
        "        <br>\n",
        "        <li>The daily supply of steel is $60 kg$, of plastic is $48 kg$, and of labor is $30 hours$.</li>\n",
        "        <br>\n",
        "        <font color=\"red\"><li style=\"color:red\">How should the factory optimize its production to maximize profit?</li></font>\n",
        "        <br>\n",
        "    </ul>\n",
        "</font>\n",
        "\n",
        "$\\square$"
      ]
    },
    {
      "cell_type": "markdown",
      "id": "a8c5b9d6",
      "metadata": {
        "id": "a8c5b9d6"
      },
      "source": [
        "## Problem Formulation\n",
        "<br>\n",
        "<font size=\"+1\">\n",
        "    <ul>\n",
        "        <li>This consists of determining the decision variables, objective function, and constraint functions.</li>\n",
        "        <br>\n",
        "    </ul>\n",
        "</font>"
      ]
    },
    {
      "cell_type": "markdown",
      "id": "143861af",
      "metadata": {
        "id": "143861af"
      },
      "source": [
        "### Decision Variables\n",
        "<br>\n",
        "<font size=\"+1\">\n",
        "    <ul>\n",
        "        <li>What decisions does the factory have to make, i.e. what is in their control?</li>\n",
        "        <br>\n",
        "        <ul>\n",
        "            <li>$x_1 = $ the number of units (can be fractional) of product $1$ to produce per day</li>\n",
        "            <br>\n",
        "            <ul>\n",
        "                <li>note this is a <b>continuous variable</b>, if we assumed the number of units cannot be fractional, then this variable would be a <b>discrete variable</b>.</li>\n",
        "                <br>\n",
        "            </ul>\n",
        "            <li>$x_2 = $ the number of units (can be fractional) of product $2$ to produce per day</li>\n",
        "            <br>\n",
        "            <ul>\n",
        "                <li>note this is a <b>continuous variable</b>, if we assumed the number of units cannot be fractional, then this variable would be a <b>discrete variable</b>.</li>\n",
        "            <br>\n",
        "            </ul>\n",
        "        </ul>\n",
        "        <li>Now, we can instantiate a CVXPY variable object to represent the decision variables.</li>\n",
        "        <br>\n",
        "    </ul>\n",
        "</font>\n",
        "\n",
        "$\\square$"
      ]
    },
    {
      "cell_type": "code",
      "execution_count": null,
      "id": "44ae8e0c",
      "metadata": {
        "id": "44ae8e0c"
      },
      "outputs": [],
      "source": [
        "x_1 = cp.Variable(nonneg=True)\n",
        "\n",
        "x_2 = cp.Variable(nonneg=True)"
      ]
    },
    {
      "cell_type": "markdown",
      "id": "ae7a0109",
      "metadata": {
        "id": "ae7a0109"
      },
      "source": [
        "### Objective Function\n",
        "<br>\n",
        "<font size=\"+1\">\n",
        "    <ul>\n",
        "        <li>The goal is to choose the number of units to produce of each product that maximizes the factory's profit, $$\\text{maximize: } p(x_1, x_2),$$ where the profit is $$p(x_1, x_2) = 100 x_1 + 200 x_2.$$</li>\n",
        "        <br>\n",
        "        <li>Now, we can instantiate a CVXPY objective function.</li>\n",
        "        <br>\n",
        "    </ul>\n",
        "</font>\n",
        "\n",
        "$\\square$"
      ]
    },
    {
      "cell_type": "code",
      "execution_count": null,
      "id": "77d0b61d",
      "metadata": {
        "id": "77d0b61d"
      },
      "outputs": [],
      "source": [
        "profit = (100*x_1 + 200*x_2)"
      ]
    },
    {
      "cell_type": "code",
      "execution_count": null,
      "id": "53f89076",
      "metadata": {
        "id": "53f89076"
      },
      "outputs": [],
      "source": [
        "objective_function = cp.Maximize(profit)"
      ]
    },
    {
      "cell_type": "markdown",
      "id": "71bbece6",
      "metadata": {
        "id": "71bbece6"
      },
      "source": [
        "### Constraint Functions\n",
        "<br>\n",
        "<font size=\"+1\">\n",
        "    <ul>\n",
        "        <li>Recall the total daily supply of steel is $60 kg$, of plastic is $48 kg$, and of labor is $30 hours$.</li>\n",
        "        <br>\n",
        "        <li>Recall the following costs per production of a unit of product 1 and 2 are:<br> <br><table>\n",
        "  <tr>\n",
        "    <th></th>\n",
        "    <th>Product 1</th>\n",
        "    <th>Product 2</th>\n",
        "  </tr>\n",
        "  <tr>\n",
        "    <td>Steel</td>\n",
        "    <td>4 kg</td>\n",
        "    <td>1 kg</td>\n",
        "  </tr>\n",
        "  <tr>\n",
        "    <td>Plastic</td>\n",
        "    <td>0 kg</td>\n",
        "    <td>2 kg</td>\n",
        "  </tr>\n",
        "  <tr>\n",
        "    <td>Labor</td>\n",
        "    <td>1 hour</td>\n",
        "    <td>1 hour</td>\n",
        "  </tr>\n",
        "            </table></li>\n",
        "        <br>\n",
        "        <br>\n",
        "        <li>\\begin{align}\\text{maximize: } & 100x_1 + 200x_2 \\\\ \\\\\n",
        "        \\text{subject to: } & 4x_1 + x_2 & \\leq 60 \\text{ (steel)}\\\\\n",
        "        & 2x_2 & \\leq 48 \\text{ (plastic)}\\\\\n",
        "        & x_1 + x_2 & \\leq 30 \\text{ (labor)}\\\\\n",
        "        & x_1, x_2 & \\geq 0 \\text{ (non-negativity)}\\\\\n",
        "        \\end{align}</li>\n",
        "        <br>\n",
        "    </ul>\n",
        "</font>\n",
        "\n",
        "$\\square$"
      ]
    },
    {
      "cell_type": "code",
      "execution_count": null,
      "id": "aa43a11b",
      "metadata": {
        "id": "aa43a11b"
      },
      "outputs": [],
      "source": [
        "steel = (4*x_1 + x_2 <= 60)\n",
        "\n",
        "plastic = (2*x_2 <= 48)\n",
        "\n",
        "labor = (x_1 + x_2 <= 30)"
      ]
    },
    {
      "cell_type": "code",
      "execution_count": null,
      "id": "4a75ab3c",
      "metadata": {
        "id": "4a75ab3c"
      },
      "outputs": [],
      "source": [
        "constraints = [steel, plastic, labor, x_1>=0, x_2>=0]"
      ]
    },
    {
      "cell_type": "code",
      "execution_count": null,
      "id": "30a1e696",
      "metadata": {
        "id": "30a1e696"
      },
      "outputs": [],
      "source": [
        "problem = cp.Problem(objective_function, constraints)"
      ]
    },
    {
      "cell_type": "code",
      "execution_count": null,
      "id": "25febe4d",
      "metadata": {
        "colab": {
          "base_uri": "https://localhost:8080/"
        },
        "id": "25febe4d",
        "outputId": "94b9121d-3660-4dfd-ef44-96aa40e6fdcd"
      },
      "outputs": [
        {
          "output_type": "stream",
          "name": "stdout",
          "text": [
            "===============================================================================\n",
            "                                     CVXPY                                     \n",
            "                                     v1.3.2                                    \n",
            "===============================================================================\n",
            "(CVXPY) Dec 25 05:41:47 PM: Your problem has 2 variables, 5 constraints, and 0 parameters.\n",
            "(CVXPY) Dec 25 05:41:47 PM: It is compliant with the following grammars: DCP, DQCP\n",
            "(CVXPY) Dec 25 05:41:47 PM: (If you need to solve this problem multiple times, but with different data, consider using parameters.)\n",
            "(CVXPY) Dec 25 05:41:47 PM: CVXPY will first compile your problem; then, it will invoke a numerical solver to obtain a solution.\n",
            "-------------------------------------------------------------------------------\n",
            "                                  Compilation                                  \n",
            "-------------------------------------------------------------------------------\n",
            "(CVXPY) Dec 25 05:41:47 PM: Compiling problem (target solver=ECOS).\n",
            "(CVXPY) Dec 25 05:41:47 PM: Reduction chain: FlipObjective -> Dcp2Cone -> CvxAttr2Constr -> ConeMatrixStuffing -> ECOS\n",
            "(CVXPY) Dec 25 05:41:47 PM: Applying reduction FlipObjective\n",
            "(CVXPY) Dec 25 05:41:47 PM: Applying reduction Dcp2Cone\n",
            "(CVXPY) Dec 25 05:41:47 PM: Applying reduction CvxAttr2Constr\n",
            "(CVXPY) Dec 25 05:41:47 PM: Applying reduction ConeMatrixStuffing\n",
            "(CVXPY) Dec 25 05:41:47 PM: Applying reduction ECOS\n",
            "(CVXPY) Dec 25 05:41:47 PM: Finished problem compilation (took 6.647e-02 seconds).\n",
            "-------------------------------------------------------------------------------\n",
            "                                Numerical solver                               \n",
            "-------------------------------------------------------------------------------\n",
            "(CVXPY) Dec 25 05:41:47 PM: Invoking solver ECOS  to obtain a solution.\n",
            "-------------------------------------------------------------------------------\n",
            "                                    Summary                                    \n",
            "-------------------------------------------------------------------------------\n",
            "(CVXPY) Dec 25 05:41:47 PM: Problem status: optimal\n",
            "(CVXPY) Dec 25 05:41:47 PM: Optimal value: 5.400e+03\n",
            "(CVXPY) Dec 25 05:41:47 PM: Compilation took 6.647e-02 seconds\n",
            "(CVXPY) Dec 25 05:41:47 PM: Solver (including time spent in interface) took 2.480e-04 seconds\n"
          ]
        },
        {
          "output_type": "execute_result",
          "data": {
            "text/plain": [
              "5399.999997730404"
            ]
          },
          "metadata": {},
          "execution_count": 9
        }
      ],
      "source": [
        "problem.solve(verbose=True)"
      ]
    },
    {
      "cell_type": "code",
      "execution_count": null,
      "id": "ede39479",
      "metadata": {
        "colab": {
          "base_uri": "https://localhost:8080/"
        },
        "id": "ede39479",
        "outputId": "60eff06b-a801-4581-c6a4-a422788c1537"
      },
      "outputs": [
        {
          "output_type": "execute_result",
          "data": {
            "text/plain": [
              "5399.999997730404"
            ]
          },
          "metadata": {},
          "execution_count": 10
        }
      ],
      "source": [
        "problem.value"
      ]
    },
    {
      "cell_type": "code",
      "execution_count": null,
      "id": "f436b6d5",
      "metadata": {
        "colab": {
          "base_uri": "https://localhost:8080/"
        },
        "id": "f436b6d5",
        "outputId": "7b290f96-5261-4b7c-b2ee-d6b528a79b23"
      },
      "outputs": [
        {
          "output_type": "execute_result",
          "data": {
            "text/plain": [
              "6.000000005620597"
            ]
          },
          "metadata": {},
          "execution_count": 11
        }
      ],
      "source": [
        "x_1.value"
      ]
    },
    {
      "cell_type": "code",
      "execution_count": null,
      "id": "beb863d8",
      "metadata": {
        "colab": {
          "base_uri": "https://localhost:8080/"
        },
        "id": "beb863d8",
        "outputId": "c4de0b04-ffe1-410c-f8e9-280270afc380"
      },
      "outputs": [
        {
          "output_type": "execute_result",
          "data": {
            "text/plain": [
              "23.999999985841722"
            ]
          },
          "metadata": {},
          "execution_count": 12
        }
      ],
      "source": [
        "x_2.value"
      ]
    },
    {
      "cell_type": "markdown",
      "id": "85404962",
      "metadata": {
        "id": "85404962"
      },
      "source": [
        "<br>\n",
        "<font size=\"+1\">\n",
        "    <ul>\n",
        "        <li>This tells us the optimal profit is $5400$ dollars, and the factory can achieve this profit if they produce $6$ units of product $1$ and $24$ units of product $2$.</li>\n",
        "        <br>\n",
        "    </ul>\n",
        "</font>\n",
        "\n",
        "$\\square$"
      ]
    },
    {
      "cell_type": "markdown",
      "id": "66105a62",
      "metadata": {
        "id": "66105a62"
      },
      "source": [
        "## Reformulation Using Mixed Integer Optimization\n",
        "<br>\n",
        "<font size=\"+1\">\n",
        "    <ul>\n",
        "        <li>Above, we made a clear distinction about what values the decision variable is allowed to take.</li>\n",
        "        <br>\n",
        "        <li>In other words, we assumed $x_i \\geq 0$, for $i = 1, 2$, but we could have assumed $x_i = 0, 1, 2, 3, \\dots$, for $i = 1, 2$.</li>\n",
        "        <br>\n",
        "        <li>For simplification, let's assume the factory can only produce in batches, that is  the products must be produced in units of $10$, that is, $x_1, x_2$ must be an integer multiple of $10$.</li>\n",
        "        <br>\n",
        "        <ul>\n",
        "            <li>This can be expressed as \\begin{align} x_1 & = 10z_1 \\\\\n",
        "            x_2 & = 10 z_2,\\end{align} for some integers \\begin{align}z_1, z_2 \\geq 0.\\end{align}</li>\n",
        "            <br>\n",
        "            <li>This means we now have a slightly more constrained optimization problem:\n",
        "                \\begin{align}\\text{maximize: } & 100x_1 + 200x_2 \\\\ \\\\\n",
        "        \\text{subject to: } & 4x_1 + x_2 & \\leq 60 & \\text{ (steel)}\\\\\n",
        "        & 2x_2 & \\leq 48 & \\text{ (plastic)}\\\\\n",
        "        & x_1 + x_2 & \\leq 30 & \\text{ (labor)}\\\\\n",
        "        & x_1 & = 10z_1 & \\text{ (multiple of 10)}\\\\\n",
        "        & x_2 & = 10 z_2 & \\text{ (multiple of 10)}\\\\\n",
        "        & z_1, z_2 & \\geq 0 & \\text{ (non-negativity)}\\\\\n",
        "        & z_1, z_2 & \\text{are integers}\\\\\n",
        "        \\end{align}</li>\n",
        "            <br>\n",
        "        </ul>\n",
        "        <li>This simple distinction changes the problem in a drastic way, in terms of the algorithms used for finding optimal decision variables.</li>\n",
        "        <br>\n",
        "        <li>In fact, a problem where the decision variables are constrained to be discrete, binary, or integer values is called a <b><a href=\"https://en.wikipedia.org/wiki/Integer_programming\">mixed integer optimization</a></b> problem.</li>\n",
        "        <br>\n",
        "        <li>For us, it will be a relatively small change of a keyword in the <i>.solve()</i> method.</li>\n",
        "        <br>\n",
        "        <ul>\n",
        "            <li>In particular, you use <i>.solve(solver=\"ECOS_BB\")</i> to implement the <a href=\"https://web.stanford.edu/~boyd/papers/pdf/ecos_ecc.pdf\">ECOS - embedded conic solver</a>, which can solve mixed integer optimization problems.</li>\n",
        "            <br>\n",
        "        </ul>\n",
        "    </ul>\n",
        "</font>\n",
        "\n",
        "$\\square$"
      ]
    },
    {
      "cell_type": "code",
      "execution_count": null,
      "id": "e14a40c9",
      "metadata": {
        "id": "e14a40c9"
      },
      "outputs": [],
      "source": [
        "z_1 = cp.Variable(integer=True)\n",
        "\n",
        "z_2 = cp.Variable(integer=True)\n",
        "\n",
        "# x_1 = cp.Variable()\n",
        "\n",
        "# x_2 = cp.Variable()\n",
        "\n",
        "x_1 = 10*z_1\n",
        "x_2 = 10*z_2"
      ]
    },
    {
      "cell_type": "code",
      "execution_count": null,
      "id": "e2b1f713",
      "metadata": {
        "id": "e2b1f713"
      },
      "outputs": [],
      "source": [
        "profit = (100*x_1 + 200*x_2)\n",
        "\n",
        "objective_function = cp.Maximize(profit)"
      ]
    },
    {
      "cell_type": "code",
      "execution_count": null,
      "id": "e7bb18fa",
      "metadata": {
        "id": "e7bb18fa"
      },
      "outputs": [],
      "source": [
        "steel = (4*x_1 + x_2 <= 60)\n",
        "\n",
        "plastic = (2*x_2 <= 48)\n",
        "\n",
        "labor = (x_1 + x_2 <= 30)"
      ]
    },
    {
      "cell_type": "code",
      "execution_count": null,
      "id": "e215ed1a",
      "metadata": {
        "id": "e215ed1a"
      },
      "outputs": [],
      "source": [
        "constraints = [steel, plastic, labor, z_1>=0, z_2>=0]"
      ]
    },
    {
      "cell_type": "code",
      "execution_count": null,
      "id": "119c3602",
      "metadata": {
        "id": "119c3602"
      },
      "outputs": [],
      "source": [
        "problem = cp.Problem(objective_function, constraints)"
      ]
    },
    {
      "cell_type": "code",
      "execution_count": null,
      "id": "a888adfe",
      "metadata": {
        "scrolled": true,
        "colab": {
          "base_uri": "https://localhost:8080/"
        },
        "id": "a888adfe",
        "outputId": "02f87d5a-cbcf-43af-ff0e-690b8a73e254"
      },
      "outputs": [
        {
          "output_type": "stream",
          "name": "stdout",
          "text": [
            "===============================================================================\n",
            "                                     CVXPY                                     \n",
            "                                     v1.3.2                                    \n",
            "===============================================================================\n",
            "(CVXPY) Dec 25 05:42:09 PM: Your problem has 2 variables, 5 constraints, and 0 parameters.\n",
            "(CVXPY) Dec 25 05:42:09 PM: It is compliant with the following grammars: DCP, DQCP\n",
            "(CVXPY) Dec 25 05:42:09 PM: (If you need to solve this problem multiple times, but with different data, consider using parameters.)\n",
            "(CVXPY) Dec 25 05:42:09 PM: CVXPY will first compile your problem; then, it will invoke a numerical solver to obtain a solution.\n",
            "-------------------------------------------------------------------------------\n",
            "                                  Compilation                                  \n",
            "-------------------------------------------------------------------------------\n",
            "(CVXPY) Dec 25 05:42:09 PM: Compiling problem (target solver=ECOS_BB).\n",
            "(CVXPY) Dec 25 05:42:09 PM: Reduction chain: FlipObjective -> Dcp2Cone -> CvxAttr2Constr -> ConeMatrixStuffing -> ECOS_BB\n",
            "(CVXPY) Dec 25 05:42:09 PM: Applying reduction FlipObjective\n",
            "(CVXPY) Dec 25 05:42:09 PM: Applying reduction Dcp2Cone\n",
            "(CVXPY) Dec 25 05:42:09 PM: Applying reduction CvxAttr2Constr\n",
            "(CVXPY) Dec 25 05:42:09 PM: Applying reduction ConeMatrixStuffing\n",
            "(CVXPY) Dec 25 05:42:10 PM: Applying reduction ECOS_BB\n",
            "(CVXPY) Dec 25 05:42:10 PM: Finished problem compilation (took 3.841e-01 seconds).\n",
            "-------------------------------------------------------------------------------\n",
            "                                Numerical solver                               \n",
            "-------------------------------------------------------------------------------\n",
            "(CVXPY) Dec 25 05:42:10 PM: Invoking solver ECOS_BB  to obtain a solution.\n",
            "-------------------------------------------------------------------------------\n",
            "                                    Summary                                    \n",
            "-------------------------------------------------------------------------------\n",
            "(CVXPY) Dec 25 05:42:10 PM: Problem status: optimal\n",
            "(CVXPY) Dec 25 05:42:10 PM: Optimal value: 5.000e+03\n",
            "(CVXPY) Dec 25 05:42:10 PM: Compilation took 3.841e-01 seconds\n",
            "(CVXPY) Dec 25 05:42:10 PM: Solver (including time spent in interface) took 1.223e-03 seconds\n"
          ]
        },
        {
          "output_type": "execute_result",
          "data": {
            "text/plain": [
              "5000.00000110047"
            ]
          },
          "metadata": {},
          "execution_count": 18
        }
      ],
      "source": [
        "problem.solve(verbose=True, solver='ECOS_BB')"
      ]
    },
    {
      "cell_type": "code",
      "execution_count": null,
      "id": "3fb77e0b",
      "metadata": {
        "colab": {
          "base_uri": "https://localhost:8080/"
        },
        "id": "3fb77e0b",
        "outputId": "06904f01-0225-4845-cba4-fe6f8dad5a60"
      },
      "outputs": [
        {
          "output_type": "execute_result",
          "data": {
            "text/plain": [
              "5000.00000110047"
            ]
          },
          "metadata": {},
          "execution_count": 19
        }
      ],
      "source": [
        "problem.value"
      ]
    },
    {
      "cell_type": "code",
      "execution_count": null,
      "id": "0eef2540",
      "metadata": {
        "colab": {
          "base_uri": "https://localhost:8080/"
        },
        "id": "0eef2540",
        "outputId": "f733ec48-cb7f-47ea-be31-758630436df6"
      },
      "outputs": [
        {
          "output_type": "execute_result",
          "data": {
            "text/plain": [
              "array(1.)"
            ]
          },
          "metadata": {},
          "execution_count": 20
        }
      ],
      "source": [
        "z_1.value"
      ]
    },
    {
      "cell_type": "code",
      "execution_count": null,
      "id": "bec6382c",
      "metadata": {
        "scrolled": true,
        "colab": {
          "base_uri": "https://localhost:8080/"
        },
        "id": "bec6382c",
        "outputId": "2bc65f5a-0b7e-4781-de8e-d15513221613"
      },
      "outputs": [
        {
          "output_type": "execute_result",
          "data": {
            "text/plain": [
              "10.000000001227235"
            ]
          },
          "metadata": {},
          "execution_count": 21
        }
      ],
      "source": [
        "x_1.value"
      ]
    },
    {
      "cell_type": "code",
      "execution_count": null,
      "id": "f1e73934",
      "metadata": {
        "colab": {
          "base_uri": "https://localhost:8080/"
        },
        "id": "f1e73934",
        "outputId": "a80e347f-1461-4865-c83c-8094a8e06ccf"
      },
      "outputs": [
        {
          "output_type": "execute_result",
          "data": {
            "text/plain": [
              "array(2.)"
            ]
          },
          "metadata": {},
          "execution_count": 22
        }
      ],
      "source": [
        "z_2.value"
      ]
    },
    {
      "cell_type": "code",
      "execution_count": null,
      "id": "ed3276e7",
      "metadata": {
        "scrolled": true,
        "colab": {
          "base_uri": "https://localhost:8080/"
        },
        "id": "ed3276e7",
        "outputId": "f14f43fc-3565-401f-a5fa-dfc578d44b1b"
      },
      "outputs": [
        {
          "output_type": "execute_result",
          "data": {
            "text/plain": [
              "20.000000004888733"
            ]
          },
          "metadata": {},
          "execution_count": 23
        }
      ],
      "source": [
        "x_2.value"
      ]
    },
    {
      "cell_type": "markdown",
      "id": "00d7486d",
      "metadata": {
        "id": "00d7486d"
      },
      "source": [
        "<br>\n",
        "<font size=\"+1\">\n",
        "    <ul>\n",
        "        <li>This tells us when the factory has the additional constraint of only being able to produce in batches of $10$ units, the optimal profit is $5000$ dollars, and the factory can achieve this profit if they produce $10$ units of product $1$ (1 batch) and $20$ units of product $2$ (2 batches).</li>\n",
        "        <br>\n",
        "    </ul>\n",
        "</font>\n",
        "\n",
        "$\\square$"
      ]
    },
    {
      "cell_type": "markdown",
      "id": "64365296",
      "metadata": {
        "id": "64365296"
      },
      "source": [
        "# <a href=\"https://www.amazon.science/latest-news/3-questions-with-huseyin-topaloglu-a-customer-centric-approach-to-assortment-optimization\">Assortment Planning</a>\n",
        "<br>\n",
        "<font size=\"+1\">\n",
        "    <ul>\n",
        "        <li>Assume Amazon is expanding its business by launching a physical store in West LA.</li>\n",
        "        <br>\n",
        "        <li>Management needs to select which bestsellers to carry at the store's grand opening.</li>\n",
        "        <br>\n",
        "        <li>The following table provides the list of Top 10 Bestsellers and their associated genres.</li>\n",
        "        <br>\n",
        "        <li><table>\n",
        "  <tr>\n",
        "    <th>Rank \\ Genre:</th>\n",
        "    <th>Literary</th>\n",
        "    <th>Sci-Fi</th>\n",
        "      <th>Romance</th>\n",
        "      <th>Thriller</th>\n",
        "  </tr>\n",
        "  <tr>\n",
        "    <td>1</td>\n",
        "    <td>$\\times$</td>\n",
        "    <td></td>\n",
        "      <td></td>\n",
        "      <td></td>\n",
        "  </tr>\n",
        "            <tr>\n",
        "    <td>2</td>\n",
        "    <td></td>\n",
        "    <td>$\\times$</td>\n",
        "      <td></td>\n",
        "      <td>$\\times$</td>\n",
        "  </tr>\n",
        "  <tr>\n",
        "    <td>3</td>\n",
        "    <td></td>\n",
        "    <td></td>\n",
        "      <td>$\\times$</td>\n",
        "      <td>$\\times$</td>\n",
        "  </tr>\n",
        "            <tr>\n",
        "    <td>4</td>\n",
        "    <td>$\\times$</td>\n",
        "    <td></td>\n",
        "      <td>$\\times$</td>\n",
        "      <td></td>\n",
        "  </tr>\n",
        "            <tr>\n",
        "    <td>5</td>\n",
        "    <td>$\\times$</td>\n",
        "    <td></td>\n",
        "      <td></td>\n",
        "      <td></td>\n",
        "  </tr>\n",
        "            <tr>\n",
        "    <td>6</td>\n",
        "    <td></td>\n",
        "    <td></td>\n",
        "      <td>$\\times$</td>\n",
        "      <td></td>\n",
        "  </tr>\n",
        "            <tr>\n",
        "    <td>7</td>\n",
        "    <td></td>\n",
        "    <td>$\\times$</td>\n",
        "      <td></td>\n",
        "      <td></td>\n",
        "  </tr>\n",
        "            <tr>\n",
        "    <td>8</td>\n",
        "    <td></td>\n",
        "    <td></td>\n",
        "      <td></td>\n",
        "      <td>$\\times$</td>\n",
        "  </tr>\n",
        "            <tr>\n",
        "    <td>9</td>\n",
        "    <td>$\\times$</td>\n",
        "    <td>$\\times$</td>\n",
        "      <td></td>\n",
        "      <td></td>\n",
        "  </tr>\n",
        "            <tr>\n",
        "    <td>10</td>\n",
        "    <td></td>\n",
        "    <td></td>\n",
        "      <td>$\\times$</td>\n",
        "      <td></td>\n",
        "  </tr></table></li>\n",
        "        <br>\n",
        "        <li>Note that some bestsellers belong to more than one genre.</li>\n",
        "        <br>\n",
        "        <li>Management wants to carry the minimum number of bestsellers, while ensuring there are at least two bestsellers in each genre.</li>\n",
        "        <br>\n",
        "        <font color=\"red\"><li style=\"color:red\">Which bestsellers should Amazon's new physical store carry on its grand opening in order to minimize the total number of bestsellers carried while still carrying at least two bestsellers for every genre?</li></font>\n",
        "        <br>\n",
        "    </ul>\n",
        "</font>\n",
        "\n",
        "$\\square$"
      ]
    },
    {
      "cell_type": "markdown",
      "id": "dd7c28a6",
      "metadata": {
        "id": "dd7c28a6"
      },
      "source": [
        "## Problem Formulation\n",
        "<br>\n",
        "<font size=\"+1\">\n",
        "    <ul>\n",
        "        <li>This consists of determining the decision variables, objective function, and constraint functions.</li>\n",
        "        <br>\n",
        "    </ul>\n",
        "</font>"
      ]
    },
    {
      "cell_type": "markdown",
      "id": "766a1089",
      "metadata": {
        "id": "766a1089"
      },
      "source": [
        "### Decision Variables\n",
        "<br>\n",
        "<font size=\"+1\">\n",
        "    <ul>\n",
        "        <li>What decisions does the manager of Amazon's new physical store have to make, i.e. what is in their control?</li>\n",
        "        <br>\n",
        "        <li>They have to decide if they want to carry book $i$ or not, that is, <b>to carry or not to carry book $i$</b>.</li>\n",
        "        <br>\n",
        "        <ul>\n",
        "            <li>$x_i = \\mathbb{1}_{\\{\\text{carry book i}\\}} = $ whether to carry book $i$ or not, for $i = 1, 2, \\dots, 10$.</li>\n",
        "            <br>\n",
        "            <ul>\n",
        "                <li>note this is a <b>binary (boolean) variable</b> that is $1$ if the manager decides to carry book $i$, and $0$ otherwise </li>\n",
        "                <br>\n",
        "            </ul>\n",
        "        </ul>\n",
        "        <li>Now, we can instantiate a CVXPY variable object to represent the decision variables.</li>\n",
        "        <br>\n",
        "    </ul>\n",
        "</font>\n",
        "\n",
        "$\\square$"
      ]
    },
    {
      "cell_type": "code",
      "execution_count": null,
      "id": "0e4ae2c5",
      "metadata": {
        "id": "0e4ae2c5"
      },
      "outputs": [],
      "source": [
        "import cvxpy as cp"
      ]
    },
    {
      "cell_type": "code",
      "execution_count": null,
      "id": "f4e00b6a",
      "metadata": {
        "id": "f4e00b6a"
      },
      "outputs": [],
      "source": [
        "x = cp.Variable(10, boolean=True)"
      ]
    },
    {
      "cell_type": "markdown",
      "id": "16ccbf86",
      "metadata": {
        "id": "16ccbf86"
      },
      "source": [
        "### Objective Function\n",
        "<br>\n",
        "<font size=\"+1\">\n",
        "    <ul>\n",
        "        <li>The goal is to minimize the total number of bestsellers carried, $$\\text{minimize: } \\#(x_1, x_2, \\dots, x_{10}),$$ where the total number of bestsellers carried is $$\\#(x_1, x_2, \\dots, x_{10}) =  x_1 + x_2 + \\cdots + x_{10} = \\sum_{i=1}^{10}x_i .$$</li>\n",
        "        <br>\n",
        "        <li>Now, we can instantiate a CVXPY objective function.</li>\n",
        "        <br>\n",
        "    </ul>\n",
        "</font>\n",
        "\n",
        "$\\square$"
      ]
    },
    {
      "cell_type": "code",
      "execution_count": null,
      "id": "3c27a3c1",
      "metadata": {
        "id": "3c27a3c1"
      },
      "outputs": [],
      "source": [
        "num_bestsellers_carried = sum([x[i] for i in range(x.size)])\n",
        "# x[0]+x[1]+x[2]+x[3]+x[4]+x[5]+x[6]+x[7]+x[8]+x[9]"
      ]
    },
    {
      "cell_type": "code",
      "execution_count": null,
      "id": "830f02b5",
      "metadata": {
        "id": "830f02b5"
      },
      "outputs": [],
      "source": [
        "objective_function = cp.Minimize(num_bestsellers_carried)"
      ]
    },
    {
      "cell_type": "markdown",
      "id": "ef001e82",
      "metadata": {
        "id": "ef001e82"
      },
      "source": [
        "### Constraint Functions\n",
        "<br>\n",
        "<font size=\"+1\">\n",
        "    <ul>\n",
        "        <li>Recall, management wants to carry the minimum number of bestsellers, while ensuring there are at least two bestsellers in each genre (Literary, Sci-Fi, Romance, Thriller).</li>\n",
        "        <br>\n",
        "        <li>That is, the total number of books in a given genre has to be at least two.</li>\n",
        "        <br>\n",
        "        <li>The literary genre only contains bestsellers $1, 4, 5,$ and $9$, therefore the manager must choose at least two of them to have on the day of the grand opening.</li>\n",
        "        <br>\n",
        "        <li>Continuing with this logic for the other bestsellers, we can determine the constraints that the problem must satisfy: \\begin{align} & x_1 + x_4 + x_5 + x_9 & \\geq 2 \\text{ (literary)}\\\\\n",
        "        & x_2 + x_7 + x_9 & \\geq 2 \\text{ (sci-fi)}\\\\\n",
        "        & x_3 + x_4 + x_6 + x_{10} & \\geq 2 \\text{ (romance)}\\\\\n",
        "        & x_2 + x_3 + x_8 & \\geq 2 \\text{ (thriller)}\\\\ \\end{align}</li>\n",
        "        <br>\n",
        "        <li>These yield the following problem:\n",
        "            \\begin{align}\\text{minimize: } &  \\sum_{i=1}^{10}x_i  \\\\ \\\\\n",
        "            \\text{subject to: } & x_1 + x_4 + x_5 + x_9 & \\geq 2 \\text{ (literary)}\\\\\n",
        "        & x_2 + x_7 + x_9 & \\geq 2 \\text{ (sci-fi)}\\\\\n",
        "        & x_3 + x_4 + x_6 + x_{10} & \\geq 2 \\text{ (romance)}\\\\\n",
        "        & x_2 + x_3 + x_8 & \\geq 2 \\text{ (thriller)}\\\\ \\end{align}</li>\n",
        "        <br>\n",
        "    </ul>\n",
        "</font>\n",
        "\n",
        "$\\square$"
      ]
    },
    {
      "cell_type": "code",
      "source": [
        "literary_indices = np.array([1, 4, 5, 9])-1\n",
        "\n",
        "sci_fi_indices = np.array([2, 7, 9])-1\n",
        "\n",
        "romance_indices = np.array([3, 4, 6, 10])-1\n",
        "\n",
        "thriller_indices = np.array([2, 3, 8])-1"
      ],
      "metadata": {
        "id": "LoZ4BPDx2OhS"
      },
      "id": "LoZ4BPDx2OhS",
      "execution_count": null,
      "outputs": []
    },
    {
      "cell_type": "code",
      "execution_count": null,
      "id": "97f35770",
      "metadata": {
        "id": "97f35770"
      },
      "outputs": [],
      "source": [
        "literary = (sum(x[i] for i in literary_indices) >= 2)\n",
        "\n",
        "sci_fi = (sum(x[i] for i in sci_fi_indices) >= 2)\n",
        "\n",
        "romance = (sum(x[i] for i in romance_indices) >= 2)\n",
        "\n",
        "thriller = (sum(x[i] for i in thriller_indices) >= 2)"
      ]
    },
    {
      "cell_type": "code",
      "execution_count": null,
      "id": "898394e0",
      "metadata": {
        "id": "898394e0"
      },
      "outputs": [],
      "source": [
        "constraints = [literary, sci_fi, romance, thriller, (x>=0)]"
      ]
    },
    {
      "cell_type": "code",
      "execution_count": null,
      "id": "88ca7c2d",
      "metadata": {
        "id": "88ca7c2d"
      },
      "outputs": [],
      "source": [
        "problem = cp.Problem(objective_function, constraints)"
      ]
    },
    {
      "cell_type": "code",
      "execution_count": null,
      "id": "5c26f460",
      "metadata": {
        "scrolled": false,
        "colab": {
          "base_uri": "https://localhost:8080/"
        },
        "id": "5c26f460",
        "outputId": "a68dfbff-7661-4866-80fc-40c6f00c7ffc"
      },
      "outputs": [
        {
          "output_type": "stream",
          "name": "stdout",
          "text": [
            "===============================================================================\n",
            "                                     CVXPY                                     \n",
            "                                     v1.3.2                                    \n",
            "===============================================================================\n",
            "(CVXPY) Dec 25 05:42:49 PM: Your problem has 10 variables, 5 constraints, and 0 parameters.\n",
            "(CVXPY) Dec 25 05:42:49 PM: It is compliant with the following grammars: DCP, DQCP\n",
            "(CVXPY) Dec 25 05:42:49 PM: (If you need to solve this problem multiple times, but with different data, consider using parameters.)\n",
            "(CVXPY) Dec 25 05:42:49 PM: CVXPY will first compile your problem; then, it will invoke a numerical solver to obtain a solution.\n",
            "-------------------------------------------------------------------------------\n",
            "                                  Compilation                                  \n",
            "-------------------------------------------------------------------------------\n",
            "(CVXPY) Dec 25 05:42:49 PM: Compiling problem (target solver=ECOS_BB).\n",
            "(CVXPY) Dec 25 05:42:49 PM: Reduction chain: Dcp2Cone -> CvxAttr2Constr -> ConeMatrixStuffing -> ECOS_BB\n",
            "(CVXPY) Dec 25 05:42:49 PM: Applying reduction Dcp2Cone\n",
            "(CVXPY) Dec 25 05:42:49 PM: Applying reduction CvxAttr2Constr\n",
            "(CVXPY) Dec 25 05:42:50 PM: Applying reduction ConeMatrixStuffing\n",
            "(CVXPY) Dec 25 05:42:50 PM: Applying reduction ECOS_BB\n",
            "(CVXPY) Dec 25 05:42:50 PM: Finished problem compilation (took 4.244e-02 seconds).\n",
            "-------------------------------------------------------------------------------\n",
            "                                Numerical solver                               \n",
            "-------------------------------------------------------------------------------\n",
            "(CVXPY) Dec 25 05:42:50 PM: Invoking solver ECOS_BB  to obtain a solution.\n",
            "-------------------------------------------------------------------------------\n",
            "                                    Summary                                    \n",
            "-------------------------------------------------------------------------------\n",
            "(CVXPY) Dec 25 05:42:50 PM: Problem status: optimal\n",
            "(CVXPY) Dec 25 05:42:50 PM: Optimal value: 4.000e+00\n",
            "(CVXPY) Dec 25 05:42:50 PM: Compilation took 4.244e-02 seconds\n",
            "(CVXPY) Dec 25 05:42:50 PM: Solver (including time spent in interface) took 4.580e-04 seconds\n"
          ]
        },
        {
          "output_type": "execute_result",
          "data": {
            "text/plain": [
              "4.000000000219703"
            ]
          },
          "metadata": {},
          "execution_count": 32
        }
      ],
      "source": [
        "problem.solve(verbose=True, solver='ECOS_BB')"
      ]
    },
    {
      "cell_type": "code",
      "execution_count": null,
      "id": "f33a6c3f",
      "metadata": {
        "colab": {
          "base_uri": "https://localhost:8080/"
        },
        "id": "f33a6c3f",
        "outputId": "06e47eae-a393-4858-a877-d514ea6f5383"
      },
      "outputs": [
        {
          "output_type": "execute_result",
          "data": {
            "text/plain": [
              "4.000000000219703"
            ]
          },
          "metadata": {},
          "execution_count": 33
        }
      ],
      "source": [
        "problem.value"
      ]
    },
    {
      "cell_type": "code",
      "execution_count": null,
      "id": "59a318e0",
      "metadata": {
        "colab": {
          "base_uri": "https://localhost:8080/"
        },
        "id": "59a318e0",
        "outputId": "14957a60-7357-4cd9-c479-b60c98a9bcf0"
      },
      "outputs": [
        {
          "output_type": "execute_result",
          "data": {
            "text/plain": [
              "array([5.31820345e-11, 1.00000000e+00, 1.00000000e+00, 1.00000000e+00,\n",
              "       5.31820345e-11, 5.31819904e-11, 8.77827387e-11, 8.77827180e-11,\n",
              "       1.00000000e+00, 5.31819904e-11])"
            ]
          },
          "metadata": {},
          "execution_count": 34
        }
      ],
      "source": [
        "x.value"
      ]
    },
    {
      "cell_type": "code",
      "execution_count": null,
      "id": "009d7580",
      "metadata": {
        "colab": {
          "base_uri": "https://localhost:8080/"
        },
        "id": "009d7580",
        "outputId": "5273f4d2-8642-4d59-9734-0ab685f4c72a"
      },
      "outputs": [
        {
          "output_type": "execute_result",
          "data": {
            "text/plain": [
              "array([0., 1., 1., 1., 0., 0., 0., 0., 1., 0.])"
            ]
          },
          "metadata": {},
          "execution_count": 35
        }
      ],
      "source": [
        "np.round(x.value, 2)"
      ]
    },
    {
      "cell_type": "markdown",
      "id": "bd60b16b",
      "metadata": {
        "id": "bd60b16b"
      },
      "source": [
        "<br>\n",
        "<font size=\"+1\">\n",
        "    <ul>\n",
        "        <li>This tells us the optimal number of bestseller books to have on the grand opening is $4$, and they are bestseller $\\#: 2, 3, 4, 9$ .</li>\n",
        "        <br>\n",
        "    </ul>\n",
        "</font>\n",
        "\n",
        "$\\square$"
      ]
    }
  ],
  "metadata": {
    "hide_input": false,
    "kernelspec": {
      "display_name": "Python 3 (ipykernel)",
      "language": "python",
      "name": "python3"
    },
    "language_info": {
      "codemirror_mode": {
        "name": "ipython",
        "version": 3
      },
      "file_extension": ".py",
      "mimetype": "text/x-python",
      "name": "python",
      "nbconvert_exporter": "python",
      "pygments_lexer": "ipython3",
      "version": "3.8.8"
    },
    "toc": {
      "base_numbering": 1,
      "nav_menu": {},
      "number_sections": true,
      "sideBar": true,
      "skip_h1_title": false,
      "title_cell": "Table of Contents",
      "title_sidebar": "Contents",
      "toc_cell": false,
      "toc_position": {
        "height": "calc(100% - 180px)",
        "left": "10px",
        "top": "150px",
        "width": "316.471px"
      },
      "toc_section_display": true,
      "toc_window_display": true
    },
    "colab": {
      "provenance": [],
      "toc_visible": true
    }
  },
  "nbformat": 4,
  "nbformat_minor": 5
}